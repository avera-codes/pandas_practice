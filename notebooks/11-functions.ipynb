{
 "cells": [
  {
   "cell_type": "markdown",
   "id": "c94c316c",
   "metadata": {},
   "source": [
    "<a target=\"_blank\" href=\"https://colab.research.google.com/github/victorlymarev/pandas/blob/main/notebooks/11-functions.ipynb\">\n",
    "  <img src=\"https://colab.research.google.com/assets/colab-badge.svg\" alt=\"Open In Colab\"/>\n",
    "</a>"
   ]
  },
  {
   "cell_type": "markdown",
   "id": "6e2fef42",
   "metadata": {},
   "source": [
    "# Функции в Pandas\n",
    "#### [Ссылка на видео](https://youtu.be/cq2aQ0bwFB8)"
   ]
  },
  {
   "cell_type": "code",
   "execution_count": 1,
   "id": "36508634",
   "metadata": {},
   "outputs": [],
   "source": [
    "import pandas as pd\n",
    "import numpy as np"
   ]
  },
  {
   "cell_type": "markdown",
   "id": "a6d789d5",
   "metadata": {},
   "source": [
    "Создаем таблицу"
   ]
  },
  {
   "cell_type": "code",
   "execution_count": 2,
   "id": "64465a4d",
   "metadata": {},
   "outputs": [],
   "source": [
    "df = pd.DataFrame({'Колонка 1': [111, 222, 333, 444, 555, 666],\n",
    "              'Колонка 2': [6, 5, 4, 3, 2, 1],\n",
    "              'Колонка 3': [np.nan, -3, 5, 0, 9, -11],\n",
    "              'Имя': ['Миша', 'Саша', 'Юля',\n",
    "                            'Настя', 'Андрей', 'Катя'],\n",
    "              'Увлечение': ['Баскетбол', 'Хоккей', 'Волейбол',\n",
    "                            'Футбол', 'Counter-Strike', 'Баскетбол']\n",
    "             })"
   ]
  },
  {
   "cell_type": "code",
   "execution_count": 3,
   "id": "c830c302",
   "metadata": {},
   "outputs": [
    {
     "data": {
      "text/html": [
       "<div>\n",
       "<style scoped>\n",
       "    .dataframe tbody tr th:only-of-type {\n",
       "        vertical-align: middle;\n",
       "    }\n",
       "\n",
       "    .dataframe tbody tr th {\n",
       "        vertical-align: top;\n",
       "    }\n",
       "\n",
       "    .dataframe thead th {\n",
       "        text-align: right;\n",
       "    }\n",
       "</style>\n",
       "<table border=\"1\" class=\"dataframe\">\n",
       "  <thead>\n",
       "    <tr style=\"text-align: right;\">\n",
       "      <th></th>\n",
       "      <th>Колонка 1</th>\n",
       "      <th>Колонка 2</th>\n",
       "      <th>Колонка 3</th>\n",
       "      <th>Имя</th>\n",
       "      <th>Увлечение</th>\n",
       "    </tr>\n",
       "  </thead>\n",
       "  <tbody>\n",
       "    <tr>\n",
       "      <th>0</th>\n",
       "      <td>111</td>\n",
       "      <td>6</td>\n",
       "      <td>NaN</td>\n",
       "      <td>Миша</td>\n",
       "      <td>Баскетбол</td>\n",
       "    </tr>\n",
       "    <tr>\n",
       "      <th>1</th>\n",
       "      <td>222</td>\n",
       "      <td>5</td>\n",
       "      <td>-3.0</td>\n",
       "      <td>Саша</td>\n",
       "      <td>Хоккей</td>\n",
       "    </tr>\n",
       "    <tr>\n",
       "      <th>2</th>\n",
       "      <td>333</td>\n",
       "      <td>4</td>\n",
       "      <td>5.0</td>\n",
       "      <td>Юля</td>\n",
       "      <td>Волейбол</td>\n",
       "    </tr>\n",
       "    <tr>\n",
       "      <th>3</th>\n",
       "      <td>444</td>\n",
       "      <td>3</td>\n",
       "      <td>0.0</td>\n",
       "      <td>Настя</td>\n",
       "      <td>Футбол</td>\n",
       "    </tr>\n",
       "    <tr>\n",
       "      <th>4</th>\n",
       "      <td>555</td>\n",
       "      <td>2</td>\n",
       "      <td>9.0</td>\n",
       "      <td>Андрей</td>\n",
       "      <td>Counter-Strike</td>\n",
       "    </tr>\n",
       "    <tr>\n",
       "      <th>5</th>\n",
       "      <td>666</td>\n",
       "      <td>1</td>\n",
       "      <td>-11.0</td>\n",
       "      <td>Катя</td>\n",
       "      <td>Баскетбол</td>\n",
       "    </tr>\n",
       "  </tbody>\n",
       "</table>\n",
       "</div>"
      ],
      "text/plain": [
       "   Колонка 1  Колонка 2  Колонка 3     Имя       Увлечение\n",
       "0        111          6        NaN    Миша       Баскетбол\n",
       "1        222          5       -3.0    Саша          Хоккей\n",
       "2        333          4        5.0     Юля        Волейбол\n",
       "3        444          3        0.0   Настя          Футбол\n",
       "4        555          2        9.0  Андрей  Counter-Strike\n",
       "5        666          1      -11.0    Катя       Баскетбол"
      ]
     },
     "execution_count": 3,
     "metadata": {},
     "output_type": "execute_result"
    }
   ],
   "source": [
    "df"
   ]
  },
  {
   "cell_type": "markdown",
   "id": "5828d414",
   "metadata": {},
   "source": [
    "## Функции из numpy"
   ]
  },
  {
   "cell_type": "markdown",
   "id": "73f655b8",
   "metadata": {},
   "source": [
    "#### Извлечение натурального лагарифма"
   ]
  },
  {
   "cell_type": "code",
   "execution_count": 4,
   "id": "d59d647d",
   "metadata": {},
   "outputs": [
    {
     "data": {
      "text/plain": [
       "0    111\n",
       "1    222\n",
       "2    333\n",
       "3    444\n",
       "4    555\n",
       "5    666\n",
       "Name: Колонка 1, dtype: int64"
      ]
     },
     "execution_count": 4,
     "metadata": {},
     "output_type": "execute_result"
    }
   ],
   "source": [
    "df['Колонка 1']"
   ]
  },
  {
   "cell_type": "code",
   "execution_count": 5,
   "id": "edd8624d",
   "metadata": {},
   "outputs": [
    {
     "data": {
      "text/plain": [
       "0    4.709530\n",
       "1    5.402677\n",
       "2    5.808142\n",
       "3    6.095825\n",
       "4    6.318968\n",
       "5    6.501290\n",
       "Name: Колонка 1, dtype: float64"
      ]
     },
     "execution_count": 5,
     "metadata": {},
     "output_type": "execute_result"
    }
   ],
   "source": [
    "np.log(df['Колонка 1'])"
   ]
  },
  {
   "cell_type": "code",
   "execution_count": 6,
   "id": "71539a54",
   "metadata": {},
   "outputs": [
    {
     "name": "stderr",
     "output_type": "stream",
     "text": [
      "/home/artemiy/miniforge-pypy3/envs/artemiy/lib/python3.11/site-packages/pandas/core/arraylike.py:399: RuntimeWarning: divide by zero encountered in log\n",
      "  result = getattr(ufunc, method)(*inputs, **kwargs)\n",
      "/home/artemiy/miniforge-pypy3/envs/artemiy/lib/python3.11/site-packages/pandas/core/arraylike.py:399: RuntimeWarning: invalid value encountered in log\n",
      "  result = getattr(ufunc, method)(*inputs, **kwargs)\n"
     ]
    },
    {
     "data": {
      "text/plain": [
       "0         NaN\n",
       "1         NaN\n",
       "2        -inf\n",
       "3    4.709530\n",
       "4    5.402677\n",
       "5    5.808142\n",
       "Name: Колонка 1, dtype: float64"
      ]
     },
     "execution_count": 6,
     "metadata": {},
     "output_type": "execute_result"
    }
   ],
   "source": [
    "np.log(df['Колонка 1'] - 333)"
   ]
  },
  {
   "cell_type": "markdown",
   "id": "c79c37d4",
   "metadata": {},
   "source": [
    "#### Извлечение логарифма по произвольному основанию"
   ]
  },
  {
   "cell_type": "code",
   "execution_count": 7,
   "id": "36f92768",
   "metadata": {},
   "outputs": [
    {
     "data": {
      "text/plain": [
       "array([4.28679913, 4.91772888, 5.28679913, 5.54865864, 5.75177265,\n",
       "       5.91772888])"
      ]
     },
     "execution_count": 7,
     "metadata": {},
     "output_type": "execute_result"
    }
   ],
   "source": [
    "# Логарифм по основанию 3\n",
    "np.emath.logn(3, df['Колонка 1'])"
   ]
  },
  {
   "cell_type": "markdown",
   "id": "7267b362",
   "metadata": {},
   "source": [
    "#### Синус"
   ]
  },
  {
   "cell_type": "code",
   "execution_count": 8,
   "id": "f53e96e5",
   "metadata": {},
   "outputs": [
    {
     "data": {
      "text/plain": [
       "0   -0.864551\n",
       "1    0.868951\n",
       "2   -0.008821\n",
       "3   -0.860085\n",
       "4    0.873283\n",
       "5   -0.017642\n",
       "Name: Колонка 1, dtype: float64"
      ]
     },
     "execution_count": 8,
     "metadata": {},
     "output_type": "execute_result"
    }
   ],
   "source": [
    "np.sin(df['Колонка 1'])"
   ]
  },
  {
   "cell_type": "markdown",
   "id": "23935c63",
   "metadata": {},
   "source": [
    "#### Косинус"
   ]
  },
  {
   "cell_type": "code",
   "execution_count": 9,
   "id": "affb7c27",
   "metadata": {},
   "outputs": [
    {
     "data": {
      "text/plain": [
       "0   -0.502544\n",
       "1   -0.494898\n",
       "2    0.999961\n",
       "3   -0.510151\n",
       "4   -0.487214\n",
       "5    0.999844\n",
       "Name: Колонка 1, dtype: float64"
      ]
     },
     "execution_count": 9,
     "metadata": {},
     "output_type": "execute_result"
    }
   ],
   "source": [
    "np.cos(df['Колонка 1'])"
   ]
  },
  {
   "cell_type": "code",
   "execution_count": 10,
   "id": "8d31c67a",
   "metadata": {},
   "outputs": [
    {
     "data": {
      "text/html": [
       "<div>\n",
       "<style scoped>\n",
       "    .dataframe tbody tr th:only-of-type {\n",
       "        vertical-align: middle;\n",
       "    }\n",
       "\n",
       "    .dataframe tbody tr th {\n",
       "        vertical-align: top;\n",
       "    }\n",
       "\n",
       "    .dataframe thead th {\n",
       "        text-align: right;\n",
       "    }\n",
       "</style>\n",
       "<table border=\"1\" class=\"dataframe\">\n",
       "  <thead>\n",
       "    <tr style=\"text-align: right;\">\n",
       "      <th></th>\n",
       "      <th>Колонка 1</th>\n",
       "      <th>Колонка 2</th>\n",
       "      <th>Колонка 3</th>\n",
       "      <th>Имя</th>\n",
       "      <th>Увлечение</th>\n",
       "      <th>col_1_natural_log</th>\n",
       "    </tr>\n",
       "  </thead>\n",
       "  <tbody>\n",
       "    <tr>\n",
       "      <th>0</th>\n",
       "      <td>111</td>\n",
       "      <td>6</td>\n",
       "      <td>NaN</td>\n",
       "      <td>Миша</td>\n",
       "      <td>Баскетбол</td>\n",
       "      <td>4.709530</td>\n",
       "    </tr>\n",
       "    <tr>\n",
       "      <th>1</th>\n",
       "      <td>222</td>\n",
       "      <td>5</td>\n",
       "      <td>-3.0</td>\n",
       "      <td>Саша</td>\n",
       "      <td>Хоккей</td>\n",
       "      <td>5.402677</td>\n",
       "    </tr>\n",
       "    <tr>\n",
       "      <th>2</th>\n",
       "      <td>333</td>\n",
       "      <td>4</td>\n",
       "      <td>5.0</td>\n",
       "      <td>Юля</td>\n",
       "      <td>Волейбол</td>\n",
       "      <td>5.808142</td>\n",
       "    </tr>\n",
       "    <tr>\n",
       "      <th>3</th>\n",
       "      <td>444</td>\n",
       "      <td>3</td>\n",
       "      <td>0.0</td>\n",
       "      <td>Настя</td>\n",
       "      <td>Футбол</td>\n",
       "      <td>6.095825</td>\n",
       "    </tr>\n",
       "    <tr>\n",
       "      <th>4</th>\n",
       "      <td>555</td>\n",
       "      <td>2</td>\n",
       "      <td>9.0</td>\n",
       "      <td>Андрей</td>\n",
       "      <td>Counter-Strike</td>\n",
       "      <td>6.318968</td>\n",
       "    </tr>\n",
       "    <tr>\n",
       "      <th>5</th>\n",
       "      <td>666</td>\n",
       "      <td>1</td>\n",
       "      <td>-11.0</td>\n",
       "      <td>Катя</td>\n",
       "      <td>Баскетбол</td>\n",
       "      <td>6.501290</td>\n",
       "    </tr>\n",
       "  </tbody>\n",
       "</table>\n",
       "</div>"
      ],
      "text/plain": [
       "   Колонка 1  Колонка 2  Колонка 3     Имя       Увлечение  col_1_natural_log\n",
       "0        111          6        NaN    Миша       Баскетбол           4.709530\n",
       "1        222          5       -3.0    Саша          Хоккей           5.402677\n",
       "2        333          4        5.0     Юля        Волейбол           5.808142\n",
       "3        444          3        0.0   Настя          Футбол           6.095825\n",
       "4        555          2        9.0  Андрей  Counter-Strike           6.318968\n",
       "5        666          1      -11.0    Катя       Баскетбол           6.501290"
      ]
     },
     "execution_count": 10,
     "metadata": {},
     "output_type": "execute_result"
    }
   ],
   "source": [
    "df = df.assign(col_1_natural_log = lambda x: np.log(x['Колонка 1']))\n",
    "df"
   ]
  },
  {
   "cell_type": "markdown",
   "id": "08c18b02",
   "metadata": {},
   "source": [
    "## Методы из пандаса"
   ]
  },
  {
   "cell_type": "markdown",
   "id": "bb6ef79c",
   "metadata": {},
   "source": [
    "#### Извлечение модуля числа"
   ]
  },
  {
   "cell_type": "code",
   "execution_count": 11,
   "id": "39059974",
   "metadata": {},
   "outputs": [
    {
     "data": {
      "text/plain": [
       "0     NaN\n",
       "1    -3.0\n",
       "2     5.0\n",
       "3     0.0\n",
       "4     9.0\n",
       "5   -11.0\n",
       "Name: Колонка 3, dtype: float64"
      ]
     },
     "execution_count": 11,
     "metadata": {},
     "output_type": "execute_result"
    }
   ],
   "source": [
    "df['Колонка 3']"
   ]
  },
  {
   "cell_type": "code",
   "execution_count": 12,
   "id": "a3a61ea5",
   "metadata": {},
   "outputs": [
    {
     "data": {
      "text/plain": [
       "0     NaN\n",
       "1     3.0\n",
       "2     5.0\n",
       "3     0.0\n",
       "4     9.0\n",
       "5    11.0\n",
       "Name: Колонка 3, dtype: float64"
      ]
     },
     "execution_count": 12,
     "metadata": {},
     "output_type": "execute_result"
    }
   ],
   "source": [
    "df['Колонка 3'].abs()"
   ]
  },
  {
   "cell_type": "markdown",
   "id": "d284e4b1",
   "metadata": {},
   "source": [
    "### Округление"
   ]
  },
  {
   "cell_type": "code",
   "execution_count": 13,
   "id": "a7e780f5",
   "metadata": {},
   "outputs": [
    {
     "data": {
      "text/plain": [
       "0    4.709530\n",
       "1    5.402677\n",
       "2    5.808142\n",
       "3    6.095825\n",
       "4    6.318968\n",
       "5    6.501290\n",
       "Name: col_1_natural_log, dtype: float64"
      ]
     },
     "execution_count": 13,
     "metadata": {},
     "output_type": "execute_result"
    }
   ],
   "source": [
    "df['col_1_natural_log']"
   ]
  },
  {
   "cell_type": "code",
   "execution_count": 14,
   "id": "3753431e",
   "metadata": {},
   "outputs": [
    {
     "data": {
      "text/plain": [
       "0    5.0\n",
       "1    5.0\n",
       "2    6.0\n",
       "3    6.0\n",
       "4    6.0\n",
       "5    7.0\n",
       "Name: col_1_natural_log, dtype: float64"
      ]
     },
     "execution_count": 14,
     "metadata": {},
     "output_type": "execute_result"
    }
   ],
   "source": [
    "df['col_1_natural_log'].round()"
   ]
  },
  {
   "cell_type": "code",
   "execution_count": 15,
   "id": "f7e51feb",
   "metadata": {},
   "outputs": [
    {
     "data": {
      "text/plain": [
       "0    2.0\n",
       "1    2.3\n",
       "2    2.5\n",
       "3    2.6\n",
       "4    2.7\n",
       "5    2.8\n",
       "Name: Колонка 1, dtype: float64"
      ]
     },
     "execution_count": 15,
     "metadata": {},
     "output_type": "execute_result"
    }
   ],
   "source": [
    "np.log10(df['Колонка 1']).round(1)"
   ]
  },
  {
   "cell_type": "code",
   "execution_count": 16,
   "id": "d6e1bc70",
   "metadata": {},
   "outputs": [
    {
     "data": {
      "text/plain": [
       "0    2.04532\n",
       "1    2.34635\n",
       "2    2.52244\n",
       "3    2.64738\n",
       "4    2.74429\n",
       "5    2.82347\n",
       "Name: Колонка 1, dtype: float64"
      ]
     },
     "execution_count": 16,
     "metadata": {},
     "output_type": "execute_result"
    }
   ],
   "source": [
    "np.log10(df['Колонка 1']).round(5)"
   ]
  },
  {
   "cell_type": "markdown",
   "id": "d6e458c3",
   "metadata": {},
   "source": [
    "#### Округление до десятков и до сотен"
   ]
  },
  {
   "cell_type": "code",
   "execution_count": 17,
   "id": "76eccffe",
   "metadata": {},
   "outputs": [
    {
     "data": {
      "text/plain": [
       "0    111\n",
       "1    222\n",
       "2    333\n",
       "3    444\n",
       "4    555\n",
       "5    666\n",
       "Name: Колонка 1, dtype: int64"
      ]
     },
     "execution_count": 17,
     "metadata": {},
     "output_type": "execute_result"
    }
   ],
   "source": [
    "df['Колонка 1']"
   ]
  },
  {
   "cell_type": "code",
   "execution_count": 18,
   "id": "ae04e13f",
   "metadata": {},
   "outputs": [
    {
     "data": {
      "text/plain": [
       "0    110\n",
       "1    220\n",
       "2    330\n",
       "3    440\n",
       "4    560\n",
       "5    670\n",
       "Name: Колонка 1, dtype: int64"
      ]
     },
     "execution_count": 18,
     "metadata": {},
     "output_type": "execute_result"
    }
   ],
   "source": [
    "df['Колонка 1'].round(-1)"
   ]
  },
  {
   "cell_type": "code",
   "execution_count": 19,
   "id": "0d26a89d",
   "metadata": {},
   "outputs": [
    {
     "data": {
      "text/plain": [
       "0    100\n",
       "1    200\n",
       "2    300\n",
       "3    400\n",
       "4    600\n",
       "5    700\n",
       "Name: Колонка 1, dtype: int64"
      ]
     },
     "execution_count": 19,
     "metadata": {},
     "output_type": "execute_result"
    }
   ],
   "source": [
    "df['Колонка 1'].round(-2)"
   ]
  },
  {
   "cell_type": "markdown",
   "id": "db47a731",
   "metadata": {},
   "source": [
    "#### Огругление вверх"
   ]
  },
  {
   "cell_type": "code",
   "execution_count": 20,
   "id": "954a67c7",
   "metadata": {},
   "outputs": [
    {
     "data": {
      "text/plain": [
       "0    4.709530\n",
       "1    5.402677\n",
       "2    5.808142\n",
       "3    6.095825\n",
       "4    6.318968\n",
       "5    6.501290\n",
       "Name: col_1_natural_log, dtype: float64"
      ]
     },
     "execution_count": 20,
     "metadata": {},
     "output_type": "execute_result"
    }
   ],
   "source": [
    "df['col_1_natural_log']"
   ]
  },
  {
   "cell_type": "code",
   "execution_count": 21,
   "id": "cb521947",
   "metadata": {},
   "outputs": [
    {
     "data": {
      "text/plain": [
       "0    5.0\n",
       "1    6.0\n",
       "2    6.0\n",
       "3    7.0\n",
       "4    7.0\n",
       "5    7.0\n",
       "Name: col_1_natural_log, dtype: float64"
      ]
     },
     "execution_count": 21,
     "metadata": {},
     "output_type": "execute_result"
    }
   ],
   "source": [
    "np.ceil(df['col_1_natural_log'])"
   ]
  },
  {
   "cell_type": "markdown",
   "id": "f5fc9da9",
   "metadata": {},
   "source": [
    "#### Огругление вниз"
   ]
  },
  {
   "cell_type": "code",
   "execution_count": 22,
   "id": "5402436a",
   "metadata": {},
   "outputs": [
    {
     "data": {
      "text/plain": [
       "0    4.0\n",
       "1    5.0\n",
       "2    5.0\n",
       "3    6.0\n",
       "4    6.0\n",
       "5    6.0\n",
       "Name: col_1_natural_log, dtype: float64"
      ]
     },
     "execution_count": 22,
     "metadata": {},
     "output_type": "execute_result"
    }
   ],
   "source": [
    "np.floor(df['col_1_natural_log'])"
   ]
  },
  {
   "cell_type": "code",
   "execution_count": null,
   "id": "6d2dd271",
   "metadata": {},
   "outputs": [],
   "source": []
  },
  {
   "cell_type": "code",
   "execution_count": null,
   "id": "87e654de",
   "metadata": {},
   "outputs": [],
   "source": []
  },
  {
   "cell_type": "code",
   "execution_count": null,
   "id": "7ac6acef",
   "metadata": {},
   "outputs": [],
   "source": []
  },
  {
   "cell_type": "code",
   "execution_count": null,
   "id": "81bd1235",
   "metadata": {},
   "outputs": [],
   "source": []
  },
  {
   "cell_type": "code",
   "execution_count": null,
   "id": "cae91311",
   "metadata": {},
   "outputs": [],
   "source": []
  },
  {
   "cell_type": "code",
   "execution_count": null,
   "id": "538afb92",
   "metadata": {},
   "outputs": [],
   "source": []
  },
  {
   "cell_type": "code",
   "execution_count": null,
   "id": "eee25490",
   "metadata": {},
   "outputs": [],
   "source": []
  },
  {
   "cell_type": "code",
   "execution_count": null,
   "id": "140d975b",
   "metadata": {},
   "outputs": [],
   "source": []
  },
  {
   "cell_type": "code",
   "execution_count": null,
   "id": "a7bb9628",
   "metadata": {},
   "outputs": [],
   "source": []
  },
  {
   "cell_type": "code",
   "execution_count": null,
   "id": "a02eb2fb",
   "metadata": {},
   "outputs": [],
   "source": []
  },
  {
   "cell_type": "code",
   "execution_count": null,
   "id": "1ef39090",
   "metadata": {},
   "outputs": [],
   "source": []
  },
  {
   "cell_type": "code",
   "execution_count": null,
   "id": "2ac95172",
   "metadata": {},
   "outputs": [],
   "source": []
  },
  {
   "cell_type": "code",
   "execution_count": null,
   "id": "44fc6886",
   "metadata": {},
   "outputs": [],
   "source": []
  },
  {
   "cell_type": "code",
   "execution_count": null,
   "id": "0c92dceb",
   "metadata": {},
   "outputs": [],
   "source": []
  },
  {
   "cell_type": "code",
   "execution_count": null,
   "id": "d4167f4a",
   "metadata": {},
   "outputs": [],
   "source": []
  },
  {
   "cell_type": "code",
   "execution_count": null,
   "id": "8b00672b",
   "metadata": {},
   "outputs": [],
   "source": []
  },
  {
   "cell_type": "markdown",
   "id": "efcf4ff1",
   "metadata": {},
   "source": [
    "#### Накопленная сумма"
   ]
  },
  {
   "cell_type": "code",
   "execution_count": 23,
   "id": "4906a334",
   "metadata": {},
   "outputs": [
    {
     "data": {
      "text/plain": [
       "0    6\n",
       "1    5\n",
       "2    4\n",
       "3    3\n",
       "4    2\n",
       "5    1\n",
       "Name: Колонка 2, dtype: int64"
      ]
     },
     "execution_count": 23,
     "metadata": {},
     "output_type": "execute_result"
    }
   ],
   "source": [
    "df['Колонка 2']"
   ]
  },
  {
   "cell_type": "code",
   "execution_count": 24,
   "id": "071e5cd9",
   "metadata": {},
   "outputs": [
    {
     "data": {
      "text/plain": [
       "0     6\n",
       "1    11\n",
       "2    15\n",
       "3    18\n",
       "4    20\n",
       "5    21\n",
       "Name: Колонка 2, dtype: int64"
      ]
     },
     "execution_count": 24,
     "metadata": {},
     "output_type": "execute_result"
    }
   ],
   "source": [
    "df['Колонка 2'].cumsum()"
   ]
  },
  {
   "cell_type": "markdown",
   "id": "6192d5be",
   "metadata": {},
   "source": [
    "#### Накопленное произведение"
   ]
  },
  {
   "cell_type": "code",
   "execution_count": 25,
   "id": "49a77732",
   "metadata": {},
   "outputs": [
    {
     "data": {
      "text/plain": [
       "0      6\n",
       "1     30\n",
       "2    120\n",
       "3    360\n",
       "4    720\n",
       "5    720\n",
       "Name: Колонка 2, dtype: int64"
      ]
     },
     "execution_count": 25,
     "metadata": {},
     "output_type": "execute_result"
    }
   ],
   "source": [
    "df['Колонка 2'].cumprod()"
   ]
  },
  {
   "cell_type": "markdown",
   "id": "32b2ea85",
   "metadata": {},
   "source": [
    "#### Накопленный минимум и максимум"
   ]
  },
  {
   "cell_type": "code",
   "execution_count": 26,
   "id": "d5d9fcf3",
   "metadata": {},
   "outputs": [
    {
     "data": {
      "text/plain": [
       "0    6\n",
       "1    5\n",
       "2    4\n",
       "3    3\n",
       "4    2\n",
       "5    1\n",
       "Name: Колонка 2, dtype: int64"
      ]
     },
     "execution_count": 26,
     "metadata": {},
     "output_type": "execute_result"
    }
   ],
   "source": [
    "df['Колонка 2'].cummin()\n",
    "# df['Колонка 1'].cummax()"
   ]
  },
  {
   "cell_type": "markdown",
   "id": "6861a1d0",
   "metadata": {},
   "source": [
    "#### Пропущенные значения просто игнорируются"
   ]
  },
  {
   "cell_type": "code",
   "execution_count": 27,
   "id": "3a51309f",
   "metadata": {},
   "outputs": [
    {
     "data": {
      "text/plain": [
       "0     NaN\n",
       "1    -3.0\n",
       "2     5.0\n",
       "3     0.0\n",
       "4     9.0\n",
       "5   -11.0\n",
       "Name: Колонка 3, dtype: float64"
      ]
     },
     "execution_count": 27,
     "metadata": {},
     "output_type": "execute_result"
    }
   ],
   "source": [
    "df['Колонка 3']"
   ]
  },
  {
   "cell_type": "code",
   "execution_count": 28,
   "id": "f0402017",
   "metadata": {},
   "outputs": [
    {
     "data": {
      "text/plain": [
       "0     NaN\n",
       "1    -3.0\n",
       "2   -15.0\n",
       "3    -0.0\n",
       "4    -0.0\n",
       "5     0.0\n",
       "Name: Колонка 3, dtype: float64"
      ]
     },
     "execution_count": 28,
     "metadata": {},
     "output_type": "execute_result"
    }
   ],
   "source": [
    "df['Колонка 3'].cumprod()"
   ]
  },
  {
   "cell_type": "markdown",
   "id": "767d6c8b",
   "metadata": {},
   "source": [
    "#### Те же операции можно выполнять и для датафреймов если они опеределены"
   ]
  },
  {
   "cell_type": "code",
   "execution_count": 29,
   "id": "2f364f02",
   "metadata": {},
   "outputs": [
    {
     "data": {
      "text/html": [
       "<div>\n",
       "<style scoped>\n",
       "    .dataframe tbody tr th:only-of-type {\n",
       "        vertical-align: middle;\n",
       "    }\n",
       "\n",
       "    .dataframe tbody tr th {\n",
       "        vertical-align: top;\n",
       "    }\n",
       "\n",
       "    .dataframe thead th {\n",
       "        text-align: right;\n",
       "    }\n",
       "</style>\n",
       "<table border=\"1\" class=\"dataframe\">\n",
       "  <thead>\n",
       "    <tr style=\"text-align: right;\">\n",
       "      <th></th>\n",
       "      <th>Колонка 1</th>\n",
       "      <th>Колонка 2</th>\n",
       "      <th>Колонка 3</th>\n",
       "    </tr>\n",
       "  </thead>\n",
       "  <tbody>\n",
       "    <tr>\n",
       "      <th>0</th>\n",
       "      <td>111</td>\n",
       "      <td>6</td>\n",
       "      <td>NaN</td>\n",
       "    </tr>\n",
       "    <tr>\n",
       "      <th>1</th>\n",
       "      <td>222</td>\n",
       "      <td>5</td>\n",
       "      <td>-3.0</td>\n",
       "    </tr>\n",
       "    <tr>\n",
       "      <th>2</th>\n",
       "      <td>333</td>\n",
       "      <td>4</td>\n",
       "      <td>5.0</td>\n",
       "    </tr>\n",
       "    <tr>\n",
       "      <th>3</th>\n",
       "      <td>444</td>\n",
       "      <td>3</td>\n",
       "      <td>0.0</td>\n",
       "    </tr>\n",
       "    <tr>\n",
       "      <th>4</th>\n",
       "      <td>555</td>\n",
       "      <td>2</td>\n",
       "      <td>9.0</td>\n",
       "    </tr>\n",
       "    <tr>\n",
       "      <th>5</th>\n",
       "      <td>666</td>\n",
       "      <td>1</td>\n",
       "      <td>-11.0</td>\n",
       "    </tr>\n",
       "  </tbody>\n",
       "</table>\n",
       "</div>"
      ],
      "text/plain": [
       "   Колонка 1  Колонка 2  Колонка 3\n",
       "0        111          6        NaN\n",
       "1        222          5       -3.0\n",
       "2        333          4        5.0\n",
       "3        444          3        0.0\n",
       "4        555          2        9.0\n",
       "5        666          1      -11.0"
      ]
     },
     "execution_count": 29,
     "metadata": {},
     "output_type": "execute_result"
    }
   ],
   "source": [
    "df.iloc[:, :3]"
   ]
  },
  {
   "cell_type": "code",
   "execution_count": 30,
   "id": "2be54afd",
   "metadata": {},
   "outputs": [
    {
     "data": {
      "text/html": [
       "<div>\n",
       "<style scoped>\n",
       "    .dataframe tbody tr th:only-of-type {\n",
       "        vertical-align: middle;\n",
       "    }\n",
       "\n",
       "    .dataframe tbody tr th {\n",
       "        vertical-align: top;\n",
       "    }\n",
       "\n",
       "    .dataframe thead th {\n",
       "        text-align: right;\n",
       "    }\n",
       "</style>\n",
       "<table border=\"1\" class=\"dataframe\">\n",
       "  <thead>\n",
       "    <tr style=\"text-align: right;\">\n",
       "      <th></th>\n",
       "      <th>Колонка 1</th>\n",
       "      <th>Колонка 2</th>\n",
       "      <th>Колонка 3</th>\n",
       "    </tr>\n",
       "  </thead>\n",
       "  <tbody>\n",
       "    <tr>\n",
       "      <th>0</th>\n",
       "      <td>111</td>\n",
       "      <td>6</td>\n",
       "      <td>NaN</td>\n",
       "    </tr>\n",
       "    <tr>\n",
       "      <th>1</th>\n",
       "      <td>24642</td>\n",
       "      <td>30</td>\n",
       "      <td>-3.0</td>\n",
       "    </tr>\n",
       "    <tr>\n",
       "      <th>2</th>\n",
       "      <td>8205786</td>\n",
       "      <td>120</td>\n",
       "      <td>-15.0</td>\n",
       "    </tr>\n",
       "    <tr>\n",
       "      <th>3</th>\n",
       "      <td>3643368984</td>\n",
       "      <td>360</td>\n",
       "      <td>-0.0</td>\n",
       "    </tr>\n",
       "    <tr>\n",
       "      <th>4</th>\n",
       "      <td>2022069786120</td>\n",
       "      <td>720</td>\n",
       "      <td>-0.0</td>\n",
       "    </tr>\n",
       "    <tr>\n",
       "      <th>5</th>\n",
       "      <td>1346698477555920</td>\n",
       "      <td>720</td>\n",
       "      <td>0.0</td>\n",
       "    </tr>\n",
       "  </tbody>\n",
       "</table>\n",
       "</div>"
      ],
      "text/plain": [
       "          Колонка 1  Колонка 2  Колонка 3\n",
       "0               111          6        NaN\n",
       "1             24642         30       -3.0\n",
       "2           8205786        120      -15.0\n",
       "3        3643368984        360       -0.0\n",
       "4     2022069786120        720       -0.0\n",
       "5  1346698477555920        720        0.0"
      ]
     },
     "execution_count": 30,
     "metadata": {},
     "output_type": "execute_result"
    }
   ],
   "source": [
    "df.iloc[:, :3].cumprod()"
   ]
  },
  {
   "cell_type": "markdown",
   "id": "ac009911",
   "metadata": {},
   "source": [
    "#### Можно настраивать ось, вдоль которой будет действовать метод"
   ]
  },
  {
   "cell_type": "code",
   "execution_count": 31,
   "id": "97e15693",
   "metadata": {},
   "outputs": [
    {
     "data": {
      "text/html": [
       "<div>\n",
       "<style scoped>\n",
       "    .dataframe tbody tr th:only-of-type {\n",
       "        vertical-align: middle;\n",
       "    }\n",
       "\n",
       "    .dataframe tbody tr th {\n",
       "        vertical-align: top;\n",
       "    }\n",
       "\n",
       "    .dataframe thead th {\n",
       "        text-align: right;\n",
       "    }\n",
       "</style>\n",
       "<table border=\"1\" class=\"dataframe\">\n",
       "  <thead>\n",
       "    <tr style=\"text-align: right;\">\n",
       "      <th></th>\n",
       "      <th>Колонка 1</th>\n",
       "      <th>Колонка 2</th>\n",
       "      <th>Колонка 3</th>\n",
       "    </tr>\n",
       "  </thead>\n",
       "  <tbody>\n",
       "    <tr>\n",
       "      <th>0</th>\n",
       "      <td>111.0</td>\n",
       "      <td>666.0</td>\n",
       "      <td>NaN</td>\n",
       "    </tr>\n",
       "    <tr>\n",
       "      <th>1</th>\n",
       "      <td>222.0</td>\n",
       "      <td>1110.0</td>\n",
       "      <td>-3330.0</td>\n",
       "    </tr>\n",
       "    <tr>\n",
       "      <th>2</th>\n",
       "      <td>333.0</td>\n",
       "      <td>1332.0</td>\n",
       "      <td>6660.0</td>\n",
       "    </tr>\n",
       "    <tr>\n",
       "      <th>3</th>\n",
       "      <td>444.0</td>\n",
       "      <td>1332.0</td>\n",
       "      <td>0.0</td>\n",
       "    </tr>\n",
       "    <tr>\n",
       "      <th>4</th>\n",
       "      <td>555.0</td>\n",
       "      <td>1110.0</td>\n",
       "      <td>9990.0</td>\n",
       "    </tr>\n",
       "    <tr>\n",
       "      <th>5</th>\n",
       "      <td>666.0</td>\n",
       "      <td>666.0</td>\n",
       "      <td>-7326.0</td>\n",
       "    </tr>\n",
       "  </tbody>\n",
       "</table>\n",
       "</div>"
      ],
      "text/plain": [
       "   Колонка 1  Колонка 2  Колонка 3\n",
       "0      111.0      666.0        NaN\n",
       "1      222.0     1110.0    -3330.0\n",
       "2      333.0     1332.0     6660.0\n",
       "3      444.0     1332.0        0.0\n",
       "4      555.0     1110.0     9990.0\n",
       "5      666.0      666.0    -7326.0"
      ]
     },
     "execution_count": 31,
     "metadata": {},
     "output_type": "execute_result"
    }
   ],
   "source": [
    "df.iloc[:, :3].cumprod(axis=1)"
   ]
  },
  {
   "cell_type": "code",
   "execution_count": null,
   "id": "1e60bddd",
   "metadata": {},
   "outputs": [],
   "source": []
  },
  {
   "cell_type": "markdown",
   "id": "3b74efd7",
   "metadata": {},
   "source": [
    "#### is_monotonic_increasing\n",
    "\n",
    "Проверяет возрастает ли ряд"
   ]
  },
  {
   "cell_type": "code",
   "execution_count": 32,
   "id": "c971465e",
   "metadata": {},
   "outputs": [
    {
     "data": {
      "text/plain": [
       "True"
      ]
     },
     "execution_count": 32,
     "metadata": {},
     "output_type": "execute_result"
    }
   ],
   "source": [
    "df['Колонка 1'].is_monotonic_increasing"
   ]
  },
  {
   "cell_type": "markdown",
   "id": "810fe369",
   "metadata": {},
   "source": [
    "#### is_monotonic_decreasing\n",
    "Проверяет убывает ли ряд"
   ]
  },
  {
   "cell_type": "code",
   "execution_count": 33,
   "id": "1e1f64e2",
   "metadata": {},
   "outputs": [
    {
     "data": {
      "text/plain": [
       "False"
      ]
     },
     "execution_count": 33,
     "metadata": {},
     "output_type": "execute_result"
    }
   ],
   "source": [
    "df['Колонка 1'].is_monotonic_decreasing"
   ]
  },
  {
   "cell_type": "code",
   "execution_count": null,
   "id": "b0cf1b83",
   "metadata": {},
   "outputs": [],
   "source": []
  },
  {
   "cell_type": "code",
   "execution_count": null,
   "id": "f0d52540",
   "metadata": {},
   "outputs": [],
   "source": []
  },
  {
   "cell_type": "code",
   "execution_count": null,
   "id": "28b6ea12",
   "metadata": {},
   "outputs": [],
   "source": []
  },
  {
   "cell_type": "code",
   "execution_count": null,
   "id": "f178ea48",
   "metadata": {},
   "outputs": [],
   "source": []
  },
  {
   "cell_type": "code",
   "execution_count": null,
   "id": "997d4a78",
   "metadata": {},
   "outputs": [],
   "source": []
  },
  {
   "cell_type": "markdown",
   "id": "adb06d2e",
   "metadata": {},
   "source": [
    "#### Стандартные функции"
   ]
  },
  {
   "cell_type": "code",
   "execution_count": 34,
   "id": "cfb7cf42",
   "metadata": {},
   "outputs": [
    {
     "data": {
      "text/plain": [
       "6"
      ]
     },
     "execution_count": 34,
     "metadata": {},
     "output_type": "execute_result"
    }
   ],
   "source": [
    "len(df['Колонка 1'])"
   ]
  },
  {
   "cell_type": "code",
   "execution_count": 35,
   "id": "d66ef309",
   "metadata": {},
   "outputs": [
    {
     "data": {
      "text/plain": [
       "2331"
      ]
     },
     "execution_count": 35,
     "metadata": {},
     "output_type": "execute_result"
    }
   ],
   "source": [
    "sum(df['Колонка 1'])"
   ]
  },
  {
   "cell_type": "code",
   "execution_count": 36,
   "id": "018535f5",
   "metadata": {},
   "outputs": [
    {
     "data": {
      "text/plain": [
       "0     NaN\n",
       "1     3.0\n",
       "2     5.0\n",
       "3     0.0\n",
       "4     9.0\n",
       "5    11.0\n",
       "Name: Колонка 3, dtype: float64"
      ]
     },
     "execution_count": 36,
     "metadata": {},
     "output_type": "execute_result"
    }
   ],
   "source": [
    "abs(df['Колонка 3'])"
   ]
  },
  {
   "cell_type": "code",
   "execution_count": 37,
   "id": "15d036ce",
   "metadata": {},
   "outputs": [
    {
     "data": {
      "text/plain": [
       "111"
      ]
     },
     "execution_count": 37,
     "metadata": {},
     "output_type": "execute_result"
    }
   ],
   "source": [
    "min(df['Колонка 1'])"
   ]
  },
  {
   "cell_type": "code",
   "execution_count": null,
   "id": "3865145d",
   "metadata": {},
   "outputs": [],
   "source": [
    "max(df['Колонка 1'])"
   ]
  },
  {
   "cell_type": "code",
   "execution_count": null,
   "id": "ec803d79",
   "metadata": {},
   "outputs": [],
   "source": [
    "max(df['Колонка 3'])"
   ]
  },
  {
   "cell_type": "code",
   "execution_count": null,
   "id": "a2204f22",
   "metadata": {},
   "outputs": [],
   "source": [
    "sum(df['Колонка 3'])"
   ]
  },
  {
   "cell_type": "code",
   "execution_count": null,
   "id": "f83d7ca6",
   "metadata": {},
   "outputs": [],
   "source": []
  },
  {
   "cell_type": "code",
   "execution_count": null,
   "id": "33fcec9e",
   "metadata": {},
   "outputs": [],
   "source": []
  },
  {
   "cell_type": "code",
   "execution_count": null,
   "id": "f3636140",
   "metadata": {},
   "outputs": [],
   "source": []
  },
  {
   "cell_type": "markdown",
   "id": "55d9bf57",
   "metadata": {},
   "source": [
    "## replace\n",
    "\n",
    "Ипользуется для замены одних значений другими"
   ]
  },
  {
   "cell_type": "code",
   "execution_count": 38,
   "id": "d07d2d64",
   "metadata": {},
   "outputs": [
    {
     "data": {
      "text/plain": [
       "0         Баскетбол\n",
       "1            Хоккей\n",
       "2          Волейбол\n",
       "3            Футбол\n",
       "4    Counter-Strike\n",
       "5         Баскетбол\n",
       "Name: Увлечение, dtype: object"
      ]
     },
     "execution_count": 38,
     "metadata": {},
     "output_type": "execute_result"
    }
   ],
   "source": [
    "df['Увлечение']"
   ]
  },
  {
   "cell_type": "markdown",
   "id": "bdc01eaa",
   "metadata": {},
   "source": [
    "#### Чаще всего в него передается словарь, в котором сначала указывается старое значение, а затем новое"
   ]
  },
  {
   "cell_type": "code",
   "execution_count": 39,
   "id": "b0222abb",
   "metadata": {},
   "outputs": [
    {
     "data": {
      "text/plain": [
       "0              Dota\n",
       "1            Хоккей\n",
       "2          Волейбол\n",
       "3            Футбол\n",
       "4    Counter-Strike\n",
       "5              Dota\n",
       "Name: Увлечение, dtype: object"
      ]
     },
     "execution_count": 39,
     "metadata": {},
     "output_type": "execute_result"
    }
   ],
   "source": [
    "df['Увлечение'].replace({'Баскетбол': 'Dota'})"
   ]
  },
  {
   "cell_type": "markdown",
   "id": "7b9714c8",
   "metadata": {},
   "source": [
    "#### В метод можно передать сначала список из старых значений, а затем список из новых"
   ]
  },
  {
   "cell_type": "code",
   "execution_count": 40,
   "id": "6c7459c8",
   "metadata": {},
   "outputs": [
    {
     "data": {
      "text/plain": [
       "0         Баскетбол\n",
       "1           Бильярд\n",
       "2          Волейбол\n",
       "3           Боулинг\n",
       "4    Counter-Strike\n",
       "5         Баскетбол\n",
       "Name: Увлечение, dtype: object"
      ]
     },
     "execution_count": 40,
     "metadata": {},
     "output_type": "execute_result"
    }
   ],
   "source": [
    "# Поменяем хоккей на футбол, а футбол на хоккей\n",
    "df['Увлечение'].replace(['Хоккей', 'Футбол'], ['Бильярд', 'Боулинг'])"
   ]
  },
  {
   "cell_type": "markdown",
   "id": "a5635101",
   "metadata": {},
   "source": [
    "#### Можно сначала указать список из старых, а затем новое название"
   ]
  },
  {
   "cell_type": "code",
   "execution_count": 41,
   "id": "67e785cf",
   "metadata": {},
   "outputs": [
    {
     "data": {
      "text/plain": [
       "0         Баскетбол\n",
       "1             Дартс\n",
       "2          Волейбол\n",
       "3             Дартс\n",
       "4    Counter-Strike\n",
       "5         Баскетбол\n",
       "Name: Увлечение, dtype: object"
      ]
     },
     "execution_count": 41,
     "metadata": {},
     "output_type": "execute_result"
    }
   ],
   "source": [
    "df['Увлечение'].replace(['Хоккей', 'Футбол'], 'Дартс')"
   ]
  },
  {
   "cell_type": "code",
   "execution_count": 42,
   "id": "92c40ab7",
   "metadata": {},
   "outputs": [
    {
     "data": {
      "text/html": [
       "<div>\n",
       "<style scoped>\n",
       "    .dataframe tbody tr th:only-of-type {\n",
       "        vertical-align: middle;\n",
       "    }\n",
       "\n",
       "    .dataframe tbody tr th {\n",
       "        vertical-align: top;\n",
       "    }\n",
       "\n",
       "    .dataframe thead th {\n",
       "        text-align: right;\n",
       "    }\n",
       "</style>\n",
       "<table border=\"1\" class=\"dataframe\">\n",
       "  <thead>\n",
       "    <tr style=\"text-align: right;\">\n",
       "      <th></th>\n",
       "      <th>Колонка 1</th>\n",
       "      <th>Колонка 2</th>\n",
       "      <th>Колонка 3</th>\n",
       "      <th>Имя</th>\n",
       "      <th>Увлечение</th>\n",
       "      <th>col_1_natural_log</th>\n",
       "    </tr>\n",
       "  </thead>\n",
       "  <tbody>\n",
       "    <tr>\n",
       "      <th>0</th>\n",
       "      <td>111</td>\n",
       "      <td>6</td>\n",
       "      <td>NaN</td>\n",
       "      <td>Миша</td>\n",
       "      <td>Баскетбол</td>\n",
       "      <td>4.709530</td>\n",
       "    </tr>\n",
       "    <tr>\n",
       "      <th>1</th>\n",
       "      <td>222</td>\n",
       "      <td>5</td>\n",
       "      <td>-3.0</td>\n",
       "      <td>Саша</td>\n",
       "      <td>Хоккей</td>\n",
       "      <td>5.402677</td>\n",
       "    </tr>\n",
       "    <tr>\n",
       "      <th>2</th>\n",
       "      <td>333</td>\n",
       "      <td>4</td>\n",
       "      <td>5.0</td>\n",
       "      <td>Юля</td>\n",
       "      <td>Волейбол</td>\n",
       "      <td>5.808142</td>\n",
       "    </tr>\n",
       "    <tr>\n",
       "      <th>3</th>\n",
       "      <td>444</td>\n",
       "      <td>3</td>\n",
       "      <td>0.0</td>\n",
       "      <td>Настя</td>\n",
       "      <td>Футбол</td>\n",
       "      <td>6.095825</td>\n",
       "    </tr>\n",
       "    <tr>\n",
       "      <th>4</th>\n",
       "      <td>555</td>\n",
       "      <td>2</td>\n",
       "      <td>9.0</td>\n",
       "      <td>Андрей</td>\n",
       "      <td>Counter-Strike</td>\n",
       "      <td>6.318968</td>\n",
       "    </tr>\n",
       "    <tr>\n",
       "      <th>5</th>\n",
       "      <td>666</td>\n",
       "      <td>1</td>\n",
       "      <td>-11.0</td>\n",
       "      <td>Катя</td>\n",
       "      <td>Баскетбол</td>\n",
       "      <td>6.501290</td>\n",
       "    </tr>\n",
       "  </tbody>\n",
       "</table>\n",
       "</div>"
      ],
      "text/plain": [
       "   Колонка 1  Колонка 2  Колонка 3     Имя       Увлечение  col_1_natural_log\n",
       "0        111          6        NaN    Миша       Баскетбол           4.709530\n",
       "1        222          5       -3.0    Саша          Хоккей           5.402677\n",
       "2        333          4        5.0     Юля        Волейбол           5.808142\n",
       "3        444          3        0.0   Настя          Футбол           6.095825\n",
       "4        555          2        9.0  Андрей  Counter-Strike           6.318968\n",
       "5        666          1      -11.0    Катя       Баскетбол           6.501290"
      ]
     },
     "execution_count": 42,
     "metadata": {},
     "output_type": "execute_result"
    }
   ],
   "source": [
    "df"
   ]
  },
  {
   "cell_type": "code",
   "execution_count": 48,
   "id": "b792ca9e",
   "metadata": {},
   "outputs": [
    {
     "data": {
      "text/html": [
       "<div>\n",
       "<style scoped>\n",
       "    .dataframe tbody tr th:only-of-type {\n",
       "        vertical-align: middle;\n",
       "    }\n",
       "\n",
       "    .dataframe tbody tr th {\n",
       "        vertical-align: top;\n",
       "    }\n",
       "\n",
       "    .dataframe thead th {\n",
       "        text-align: right;\n",
       "    }\n",
       "</style>\n",
       "<table border=\"1\" class=\"dataframe\">\n",
       "  <thead>\n",
       "    <tr style=\"text-align: right;\">\n",
       "      <th></th>\n",
       "      <th>Колонка 1</th>\n",
       "      <th>Колонка 2</th>\n",
       "      <th>Колонка 3</th>\n",
       "      <th>Имя</th>\n",
       "      <th>Увлечение</th>\n",
       "      <th>col_1_natural_log</th>\n",
       "    </tr>\n",
       "  </thead>\n",
       "  <tbody>\n",
       "    <tr>\n",
       "      <th>0</th>\n",
       "      <td>111</td>\n",
       "      <td>6</td>\n",
       "      <td>NaN</td>\n",
       "      <td>Миша</td>\n",
       "      <td>Баскетбол</td>\n",
       "      <td>4.709530</td>\n",
       "    </tr>\n",
       "    <tr>\n",
       "      <th>1</th>\n",
       "      <td>222</td>\n",
       "      <td>5</td>\n",
       "      <td>-3.0</td>\n",
       "      <td>Саша</td>\n",
       "      <td>Хоккей</td>\n",
       "      <td>5.402677</td>\n",
       "    </tr>\n",
       "    <tr>\n",
       "      <th>2</th>\n",
       "      <td>333</td>\n",
       "      <td>4</td>\n",
       "      <td>5.0</td>\n",
       "      <td>Юля</td>\n",
       "      <td>Волейбол</td>\n",
       "      <td>5.808142</td>\n",
       "    </tr>\n",
       "    <tr>\n",
       "      <th>3</th>\n",
       "      <td>444</td>\n",
       "      <td>3</td>\n",
       "      <td>0.0</td>\n",
       "      <td>Настя</td>\n",
       "      <td>Футбол</td>\n",
       "      <td>6.095825</td>\n",
       "    </tr>\n",
       "    <tr>\n",
       "      <th>4</th>\n",
       "      <td>555</td>\n",
       "      <td>2</td>\n",
       "      <td>9.0</td>\n",
       "      <td>Андрей</td>\n",
       "      <td>Counter-Strike</td>\n",
       "      <td>6.318968</td>\n",
       "    </tr>\n",
       "    <tr>\n",
       "      <th>5</th>\n",
       "      <td>666</td>\n",
       "      <td>1</td>\n",
       "      <td>-11.0</td>\n",
       "      <td>Катя</td>\n",
       "      <td>Баскетбол</td>\n",
       "      <td>6.501290</td>\n",
       "    </tr>\n",
       "  </tbody>\n",
       "</table>\n",
       "</div>"
      ],
      "text/plain": [
       "   Колонка 1  Колонка 2  Колонка 3     Имя       Увлечение  col_1_natural_log\n",
       "0        111          6        NaN    Миша       Баскетбол           4.709530\n",
       "1        222          5       -3.0    Саша          Хоккей           5.402677\n",
       "2        333          4        5.0     Юля        Волейбол           5.808142\n",
       "3        444          3        0.0   Настя          Футбол           6.095825\n",
       "4        555          2        9.0  Андрей  Counter-Strike           6.318968\n",
       "5        666          1      -11.0    Катя       Баскетбол           6.501290"
      ]
     },
     "execution_count": 48,
     "metadata": {},
     "output_type": "execute_result"
    }
   ],
   "source": [
    "df = df.rename({'Увлечение1':'Увлечение'}, axis=1)\n",
    "df"
   ]
  },
  {
   "cell_type": "code",
   "execution_count": null,
   "id": "41e7caf9",
   "metadata": {},
   "outputs": [],
   "source": []
  },
  {
   "cell_type": "code",
   "execution_count": null,
   "id": "01695c0a",
   "metadata": {},
   "outputs": [],
   "source": []
  },
  {
   "cell_type": "markdown",
   "id": "6c219d1c",
   "metadata": {},
   "source": [
    "### Метод repalace для датафреймов"
   ]
  },
  {
   "cell_type": "code",
   "execution_count": 49,
   "id": "bc393940",
   "metadata": {},
   "outputs": [
    {
     "data": {
      "text/html": [
       "<div>\n",
       "<style scoped>\n",
       "    .dataframe tbody tr th:only-of-type {\n",
       "        vertical-align: middle;\n",
       "    }\n",
       "\n",
       "    .dataframe tbody tr th {\n",
       "        vertical-align: top;\n",
       "    }\n",
       "\n",
       "    .dataframe thead th {\n",
       "        text-align: right;\n",
       "    }\n",
       "</style>\n",
       "<table border=\"1\" class=\"dataframe\">\n",
       "  <thead>\n",
       "    <tr style=\"text-align: right;\">\n",
       "      <th></th>\n",
       "      <th>Колонка 1</th>\n",
       "      <th>Колонка 2</th>\n",
       "      <th>Колонка 3</th>\n",
       "      <th>Имя</th>\n",
       "      <th>Увлечение</th>\n",
       "      <th>col_1_natural_log</th>\n",
       "    </tr>\n",
       "  </thead>\n",
       "  <tbody>\n",
       "    <tr>\n",
       "      <th>0</th>\n",
       "      <td>111</td>\n",
       "      <td>6</td>\n",
       "      <td>NaN</td>\n",
       "      <td>Миша</td>\n",
       "      <td>Баскетбол</td>\n",
       "      <td>4.709530</td>\n",
       "    </tr>\n",
       "    <tr>\n",
       "      <th>1</th>\n",
       "      <td>222</td>\n",
       "      <td>5</td>\n",
       "      <td>-3.0</td>\n",
       "      <td>Саша</td>\n",
       "      <td>Хоккей</td>\n",
       "      <td>5.402677</td>\n",
       "    </tr>\n",
       "    <tr>\n",
       "      <th>2</th>\n",
       "      <td>333</td>\n",
       "      <td>4</td>\n",
       "      <td>5.0</td>\n",
       "      <td>Юля</td>\n",
       "      <td>Волейбол</td>\n",
       "      <td>5.808142</td>\n",
       "    </tr>\n",
       "    <tr>\n",
       "      <th>3</th>\n",
       "      <td>444</td>\n",
       "      <td>3</td>\n",
       "      <td>0.0</td>\n",
       "      <td>Настя</td>\n",
       "      <td>Футбол</td>\n",
       "      <td>6.095825</td>\n",
       "    </tr>\n",
       "    <tr>\n",
       "      <th>4</th>\n",
       "      <td>555</td>\n",
       "      <td>2</td>\n",
       "      <td>9.0</td>\n",
       "      <td>Андрей</td>\n",
       "      <td>Counter-Strike</td>\n",
       "      <td>6.318968</td>\n",
       "    </tr>\n",
       "    <tr>\n",
       "      <th>5</th>\n",
       "      <td>666</td>\n",
       "      <td>1</td>\n",
       "      <td>-11.0</td>\n",
       "      <td>Катя</td>\n",
       "      <td>Баскетбол</td>\n",
       "      <td>6.501290</td>\n",
       "    </tr>\n",
       "  </tbody>\n",
       "</table>\n",
       "</div>"
      ],
      "text/plain": [
       "   Колонка 1  Колонка 2  Колонка 3     Имя       Увлечение  col_1_natural_log\n",
       "0        111          6        NaN    Миша       Баскетбол           4.709530\n",
       "1        222          5       -3.0    Саша          Хоккей           5.402677\n",
       "2        333          4        5.0     Юля        Волейбол           5.808142\n",
       "3        444          3        0.0   Настя          Футбол           6.095825\n",
       "4        555          2        9.0  Андрей  Counter-Strike           6.318968\n",
       "5        666          1      -11.0    Катя       Баскетбол           6.501290"
      ]
     },
     "execution_count": 49,
     "metadata": {},
     "output_type": "execute_result"
    }
   ],
   "source": [
    "df"
   ]
  },
  {
   "cell_type": "markdown",
   "id": "5de4c889",
   "metadata": {},
   "source": [
    "#### Метод можно применить сразу ко всему датафрейму"
   ]
  },
  {
   "cell_type": "code",
   "execution_count": 50,
   "id": "5122ac25",
   "metadata": {},
   "outputs": [
    {
     "data": {
      "text/html": [
       "<div>\n",
       "<style scoped>\n",
       "    .dataframe tbody tr th:only-of-type {\n",
       "        vertical-align: middle;\n",
       "    }\n",
       "\n",
       "    .dataframe tbody tr th {\n",
       "        vertical-align: top;\n",
       "    }\n",
       "\n",
       "    .dataframe thead th {\n",
       "        text-align: right;\n",
       "    }\n",
       "</style>\n",
       "<table border=\"1\" class=\"dataframe\">\n",
       "  <thead>\n",
       "    <tr style=\"text-align: right;\">\n",
       "      <th></th>\n",
       "      <th>Колонка 1</th>\n",
       "      <th>Колонка 2</th>\n",
       "      <th>Колонка 3</th>\n",
       "      <th>Имя</th>\n",
       "      <th>Увлечение</th>\n",
       "      <th>col_1_natural_log</th>\n",
       "    </tr>\n",
       "  </thead>\n",
       "  <tbody>\n",
       "    <tr>\n",
       "      <th>0</th>\n",
       "      <td>111</td>\n",
       "      <td>6</td>\n",
       "      <td>NaN</td>\n",
       "      <td>Миша</td>\n",
       "      <td>Dota</td>\n",
       "      <td>4.709530</td>\n",
       "    </tr>\n",
       "    <tr>\n",
       "      <th>1</th>\n",
       "      <td>222</td>\n",
       "      <td>1000</td>\n",
       "      <td>-3.0</td>\n",
       "      <td>Саша</td>\n",
       "      <td>Хоккей</td>\n",
       "      <td>5.402677</td>\n",
       "    </tr>\n",
       "    <tr>\n",
       "      <th>2</th>\n",
       "      <td>333</td>\n",
       "      <td>4</td>\n",
       "      <td>1000.0</td>\n",
       "      <td>Юля</td>\n",
       "      <td>Волейбол</td>\n",
       "      <td>5.808142</td>\n",
       "    </tr>\n",
       "    <tr>\n",
       "      <th>3</th>\n",
       "      <td>444</td>\n",
       "      <td>3</td>\n",
       "      <td>0.0</td>\n",
       "      <td>Настя</td>\n",
       "      <td>Футбол</td>\n",
       "      <td>6.095825</td>\n",
       "    </tr>\n",
       "    <tr>\n",
       "      <th>4</th>\n",
       "      <td>555</td>\n",
       "      <td>2</td>\n",
       "      <td>9.0</td>\n",
       "      <td>Андрей</td>\n",
       "      <td>Counter-Strike</td>\n",
       "      <td>6.318968</td>\n",
       "    </tr>\n",
       "    <tr>\n",
       "      <th>5</th>\n",
       "      <td>666</td>\n",
       "      <td>1</td>\n",
       "      <td>-11.0</td>\n",
       "      <td>Катя</td>\n",
       "      <td>Dota</td>\n",
       "      <td>6.501290</td>\n",
       "    </tr>\n",
       "  </tbody>\n",
       "</table>\n",
       "</div>"
      ],
      "text/plain": [
       "   Колонка 1  Колонка 2  Колонка 3     Имя       Увлечение  col_1_natural_log\n",
       "0        111          6        NaN    Миша            Dota           4.709530\n",
       "1        222       1000       -3.0    Саша          Хоккей           5.402677\n",
       "2        333          4     1000.0     Юля        Волейбол           5.808142\n",
       "3        444          3        0.0   Настя          Футбол           6.095825\n",
       "4        555          2        9.0  Андрей  Counter-Strike           6.318968\n",
       "5        666          1      -11.0    Катя            Dota           6.501290"
      ]
     },
     "execution_count": 50,
     "metadata": {},
     "output_type": "execute_result"
    }
   ],
   "source": [
    "df.replace({'Баскетбол': 'Dota', 5: 1000})"
   ]
  },
  {
   "cell_type": "markdown",
   "id": "d566afff",
   "metadata": {},
   "source": [
    "#### А можно к каждой отдельной колонке"
   ]
  },
  {
   "cell_type": "code",
   "execution_count": 51,
   "id": "6fd68dcd",
   "metadata": {},
   "outputs": [
    {
     "data": {
      "text/html": [
       "<div>\n",
       "<style scoped>\n",
       "    .dataframe tbody tr th:only-of-type {\n",
       "        vertical-align: middle;\n",
       "    }\n",
       "\n",
       "    .dataframe tbody tr th {\n",
       "        vertical-align: top;\n",
       "    }\n",
       "\n",
       "    .dataframe thead th {\n",
       "        text-align: right;\n",
       "    }\n",
       "</style>\n",
       "<table border=\"1\" class=\"dataframe\">\n",
       "  <thead>\n",
       "    <tr style=\"text-align: right;\">\n",
       "      <th></th>\n",
       "      <th>Колонка 1</th>\n",
       "      <th>Колонка 2</th>\n",
       "      <th>Колонка 3</th>\n",
       "      <th>Имя</th>\n",
       "      <th>Увлечение</th>\n",
       "      <th>col_1_natural_log</th>\n",
       "    </tr>\n",
       "  </thead>\n",
       "  <tbody>\n",
       "    <tr>\n",
       "      <th>0</th>\n",
       "      <td>111</td>\n",
       "      <td>6</td>\n",
       "      <td>NaN</td>\n",
       "      <td>Миша</td>\n",
       "      <td>Баскетбол</td>\n",
       "      <td>4.709530</td>\n",
       "    </tr>\n",
       "    <tr>\n",
       "      <th>1</th>\n",
       "      <td>222</td>\n",
       "      <td>5</td>\n",
       "      <td>-3.0</td>\n",
       "      <td>Саша</td>\n",
       "      <td>Хоккей</td>\n",
       "      <td>5.402677</td>\n",
       "    </tr>\n",
       "    <tr>\n",
       "      <th>2</th>\n",
       "      <td>333</td>\n",
       "      <td>4</td>\n",
       "      <td>5.0</td>\n",
       "      <td>Юля</td>\n",
       "      <td>Волейбол</td>\n",
       "      <td>5.808142</td>\n",
       "    </tr>\n",
       "    <tr>\n",
       "      <th>3</th>\n",
       "      <td>444</td>\n",
       "      <td>3</td>\n",
       "      <td>0.0</td>\n",
       "      <td>Настя</td>\n",
       "      <td>Футбол</td>\n",
       "      <td>6.095825</td>\n",
       "    </tr>\n",
       "    <tr>\n",
       "      <th>4</th>\n",
       "      <td>555</td>\n",
       "      <td>2</td>\n",
       "      <td>9.0</td>\n",
       "      <td>Сергей</td>\n",
       "      <td>Counter-Strike</td>\n",
       "      <td>6.318968</td>\n",
       "    </tr>\n",
       "    <tr>\n",
       "      <th>5</th>\n",
       "      <td>666</td>\n",
       "      <td>1</td>\n",
       "      <td>-11.0</td>\n",
       "      <td>Катя</td>\n",
       "      <td>Баскетбол</td>\n",
       "      <td>6.501290</td>\n",
       "    </tr>\n",
       "  </tbody>\n",
       "</table>\n",
       "</div>"
      ],
      "text/plain": [
       "   Колонка 1  Колонка 2  Колонка 3     Имя       Увлечение  col_1_natural_log\n",
       "0        111          6        NaN    Миша       Баскетбол           4.709530\n",
       "1        222          5       -3.0    Саша          Хоккей           5.402677\n",
       "2        333          4        5.0     Юля        Волейбол           5.808142\n",
       "3        444          3        0.0   Настя          Футбол           6.095825\n",
       "4        555          2        9.0  Сергей  Counter-Strike           6.318968\n",
       "5        666          1      -11.0    Катя       Баскетбол           6.501290"
      ]
     },
     "execution_count": 51,
     "metadata": {},
     "output_type": "execute_result"
    }
   ],
   "source": [
    "df.replace({'Имя': {'Андрей': 'Сергей'}})"
   ]
  },
  {
   "cell_type": "code",
   "execution_count": null,
   "id": "19928e73",
   "metadata": {},
   "outputs": [],
   "source": []
  },
  {
   "cell_type": "code",
   "execution_count": null,
   "id": "da79ec75",
   "metadata": {},
   "outputs": [],
   "source": []
  },
  {
   "cell_type": "code",
   "execution_count": null,
   "id": "8e245d1b",
   "metadata": {},
   "outputs": [],
   "source": []
  },
  {
   "cell_type": "code",
   "execution_count": null,
   "id": "4196ba1e",
   "metadata": {},
   "outputs": [],
   "source": []
  },
  {
   "cell_type": "code",
   "execution_count": null,
   "id": "0058553e",
   "metadata": {},
   "outputs": [],
   "source": []
  },
  {
   "cell_type": "code",
   "execution_count": null,
   "id": "3804fc7a",
   "metadata": {},
   "outputs": [],
   "source": []
  },
  {
   "cell_type": "code",
   "execution_count": null,
   "id": "8dc33433",
   "metadata": {},
   "outputs": [],
   "source": []
  },
  {
   "cell_type": "code",
   "execution_count": null,
   "id": "13accd38",
   "metadata": {},
   "outputs": [],
   "source": []
  },
  {
   "cell_type": "code",
   "execution_count": null,
   "id": "ae5e1424",
   "metadata": {},
   "outputs": [],
   "source": []
  },
  {
   "cell_type": "code",
   "execution_count": null,
   "id": "b403cc4b",
   "metadata": {},
   "outputs": [],
   "source": []
  },
  {
   "cell_type": "code",
   "execution_count": null,
   "id": "0e300572",
   "metadata": {},
   "outputs": [],
   "source": []
  },
  {
   "cell_type": "code",
   "execution_count": null,
   "id": "5e51c686",
   "metadata": {},
   "outputs": [],
   "source": []
  },
  {
   "cell_type": "code",
   "execution_count": null,
   "id": "49440442",
   "metadata": {},
   "outputs": [],
   "source": []
  },
  {
   "cell_type": "code",
   "execution_count": null,
   "id": "fcffc35e",
   "metadata": {},
   "outputs": [],
   "source": []
  },
  {
   "cell_type": "code",
   "execution_count": null,
   "id": "6a7b93c0",
   "metadata": {},
   "outputs": [],
   "source": []
  },
  {
   "cell_type": "code",
   "execution_count": null,
   "id": "1902279e",
   "metadata": {},
   "outputs": [],
   "source": []
  },
  {
   "cell_type": "code",
   "execution_count": null,
   "id": "1cb7264c",
   "metadata": {},
   "outputs": [],
   "source": []
  },
  {
   "cell_type": "markdown",
   "id": "7e13fde5",
   "metadata": {},
   "source": [
    "## map"
   ]
  },
  {
   "cell_type": "markdown",
   "id": "841eccec",
   "metadata": {},
   "source": [
    "#### Заменяет значения указанные в словаре, но для остальных значений проставляет пропуск"
   ]
  },
  {
   "cell_type": "code",
   "execution_count": 52,
   "id": "226044b8",
   "metadata": {},
   "outputs": [
    {
     "data": {
      "text/plain": [
       "0    Dota\n",
       "1     NaN\n",
       "2     NaN\n",
       "3     NaN\n",
       "4     NaN\n",
       "5    Dota\n",
       "Name: Увлечение, dtype: object"
      ]
     },
     "execution_count": 52,
     "metadata": {},
     "output_type": "execute_result"
    }
   ],
   "source": [
    "df['Увлечение'].map({'Баскетбол': 'Dota'})"
   ]
  },
  {
   "cell_type": "code",
   "execution_count": 53,
   "id": "d2002c29",
   "metadata": {},
   "outputs": [
    {
     "data": {
      "text/plain": [
       "0              Dota\n",
       "1            Хоккей\n",
       "2          Волейбол\n",
       "3            Футбол\n",
       "4    Counter-Strike\n",
       "5              Dota\n",
       "Name: Увлечение, dtype: object"
      ]
     },
     "execution_count": 53,
     "metadata": {},
     "output_type": "execute_result"
    }
   ],
   "source": [
    "df['Увлечение'].map(lambda x: {'Баскетбол': 'Dota'}.get(x, x))"
   ]
  },
  {
   "cell_type": "code",
   "execution_count": null,
   "id": "f9026d40",
   "metadata": {},
   "outputs": [],
   "source": []
  },
  {
   "cell_type": "code",
   "execution_count": null,
   "id": "caa0cd80",
   "metadata": {},
   "outputs": [],
   "source": []
  },
  {
   "cell_type": "code",
   "execution_count": null,
   "id": "49f2baca",
   "metadata": {},
   "outputs": [],
   "source": []
  },
  {
   "cell_type": "code",
   "execution_count": null,
   "id": "9cfa4dc1",
   "metadata": {},
   "outputs": [],
   "source": []
  },
  {
   "cell_type": "code",
   "execution_count": null,
   "id": "f3626a75",
   "metadata": {},
   "outputs": [],
   "source": []
  },
  {
   "cell_type": "code",
   "execution_count": null,
   "id": "eb4d1ddc",
   "metadata": {},
   "outputs": [],
   "source": []
  },
  {
   "cell_type": "code",
   "execution_count": null,
   "id": "556e0866",
   "metadata": {},
   "outputs": [],
   "source": []
  },
  {
   "cell_type": "code",
   "execution_count": null,
   "id": "2f31e3e4",
   "metadata": {},
   "outputs": [],
   "source": []
  },
  {
   "cell_type": "code",
   "execution_count": null,
   "id": "6fb92fde",
   "metadata": {},
   "outputs": [],
   "source": []
  },
  {
   "cell_type": "code",
   "execution_count": null,
   "id": "623fd4dc",
   "metadata": {},
   "outputs": [],
   "source": []
  },
  {
   "cell_type": "code",
   "execution_count": null,
   "id": "71cab244",
   "metadata": {},
   "outputs": [],
   "source": []
  },
  {
   "cell_type": "code",
   "execution_count": null,
   "id": "f5e0a6b2",
   "metadata": {},
   "outputs": [],
   "source": []
  },
  {
   "cell_type": "code",
   "execution_count": null,
   "id": "ec422a5e",
   "metadata": {},
   "outputs": [],
   "source": []
  },
  {
   "cell_type": "code",
   "execution_count": null,
   "id": "4a048f43",
   "metadata": {},
   "outputs": [],
   "source": []
  },
  {
   "cell_type": "markdown",
   "id": "032d14bb",
   "metadata": {},
   "source": [
    "## Методы для работы с функциями"
   ]
  },
  {
   "cell_type": "markdown",
   "id": "872f49e8",
   "metadata": {},
   "source": [
    "Векторизованные и невекторизованные функции\n",
    "\n",
    "Векторизованные функции - это функции, которые на вход принимают колонку таблицы, таблицу или ndarray\n",
    "\n",
    "Большинство функций и методов в numpy и pandas - векторизованные "
   ]
  },
  {
   "cell_type": "code",
   "execution_count": 54,
   "id": "8644ac25",
   "metadata": {},
   "outputs": [
    {
     "data": {
      "text/plain": [
       "0    111\n",
       "1    222\n",
       "2    333\n",
       "3    444\n",
       "4    555\n",
       "5    666\n",
       "Name: Колонка 1, dtype: int64"
      ]
     },
     "execution_count": 54,
     "metadata": {},
     "output_type": "execute_result"
    }
   ],
   "source": [
    "df['Колонка 1']"
   ]
  },
  {
   "cell_type": "code",
   "execution_count": 55,
   "id": "270302de",
   "metadata": {},
   "outputs": [
    {
     "data": {
      "text/plain": [
       "0    4.709530\n",
       "1    5.402677\n",
       "2    5.808142\n",
       "3    6.095825\n",
       "4    6.318968\n",
       "5    6.501290\n",
       "Name: Колонка 1, dtype: float64"
      ]
     },
     "execution_count": 55,
     "metadata": {},
     "output_type": "execute_result"
    }
   ],
   "source": [
    "np.log(df['Колонка 1'])"
   ]
  },
  {
   "cell_type": "code",
   "execution_count": 56,
   "id": "ce286603",
   "metadata": {},
   "outputs": [],
   "source": [
    "from math import log"
   ]
  },
  {
   "cell_type": "code",
   "execution_count": 57,
   "id": "f22b0111",
   "metadata": {},
   "outputs": [
    {
     "ename": "TypeError",
     "evalue": "cannot convert the series to <class 'float'>",
     "output_type": "error",
     "traceback": [
      "\u001b[0;31m---------------------------------------------------------------------------\u001b[0m",
      "\u001b[0;31mTypeError\u001b[0m                                 Traceback (most recent call last)",
      "Cell \u001b[0;32mIn[57], line 1\u001b[0m\n\u001b[0;32m----> 1\u001b[0m \u001b[43mlog\u001b[49m\u001b[43m(\u001b[49m\u001b[43mdf\u001b[49m\u001b[43m[\u001b[49m\u001b[38;5;124;43m'\u001b[39;49m\u001b[38;5;124;43mКолонка 1\u001b[39;49m\u001b[38;5;124;43m'\u001b[39;49m\u001b[43m]\u001b[49m\u001b[43m)\u001b[49m\n",
      "File \u001b[0;32m~/miniforge-pypy3/envs/artemiy/lib/python3.11/site-packages/pandas/core/series.py:248\u001b[0m, in \u001b[0;36m_coerce_method.<locals>.wrapper\u001b[0;34m(self)\u001b[0m\n\u001b[1;32m    240\u001b[0m     warnings\u001b[38;5;241m.\u001b[39mwarn(\n\u001b[1;32m    241\u001b[0m         \u001b[38;5;124mf\u001b[39m\u001b[38;5;124m\"\u001b[39m\u001b[38;5;124mCalling \u001b[39m\u001b[38;5;132;01m{\u001b[39;00mconverter\u001b[38;5;241m.\u001b[39m\u001b[38;5;18m__name__\u001b[39m\u001b[38;5;132;01m}\u001b[39;00m\u001b[38;5;124m on a single element Series is \u001b[39m\u001b[38;5;124m\"\u001b[39m\n\u001b[1;32m    242\u001b[0m         \u001b[38;5;124m\"\u001b[39m\u001b[38;5;124mdeprecated and will raise a TypeError in the future. \u001b[39m\u001b[38;5;124m\"\u001b[39m\n\u001b[0;32m   (...)\u001b[0m\n\u001b[1;32m    245\u001b[0m         stacklevel\u001b[38;5;241m=\u001b[39mfind_stack_level(),\n\u001b[1;32m    246\u001b[0m     )\n\u001b[1;32m    247\u001b[0m     \u001b[38;5;28;01mreturn\u001b[39;00m converter(\u001b[38;5;28mself\u001b[39m\u001b[38;5;241m.\u001b[39miloc[\u001b[38;5;241m0\u001b[39m])\n\u001b[0;32m--> 248\u001b[0m \u001b[38;5;28;01mraise\u001b[39;00m \u001b[38;5;167;01mTypeError\u001b[39;00m(\u001b[38;5;124mf\u001b[39m\u001b[38;5;124m\"\u001b[39m\u001b[38;5;124mcannot convert the series to \u001b[39m\u001b[38;5;132;01m{\u001b[39;00mconverter\u001b[38;5;132;01m}\u001b[39;00m\u001b[38;5;124m\"\u001b[39m)\n",
      "\u001b[0;31mTypeError\u001b[0m: cannot convert the series to <class 'float'>"
     ]
    }
   ],
   "source": [
    "log(df['Колонка 1'])"
   ]
  },
  {
   "cell_type": "code",
   "execution_count": 58,
   "id": "8254f0f6",
   "metadata": {},
   "outputs": [
    {
     "data": {
      "text/plain": [
       "0    4.709530\n",
       "1    5.402677\n",
       "2    5.808142\n",
       "3    6.095825\n",
       "4    6.318968\n",
       "5    6.501290\n",
       "dtype: float64"
      ]
     },
     "execution_count": 58,
     "metadata": {},
     "output_type": "execute_result"
    }
   ],
   "source": [
    "pd.Series([log(i) for i in df['Колонка 1']])"
   ]
  },
  {
   "cell_type": "markdown",
   "id": "414e85a3",
   "metadata": {},
   "source": [
    "## apply"
   ]
  },
  {
   "cell_type": "markdown",
   "id": "1e43a9b1",
   "metadata": {},
   "source": [
    "В случае если функция не векторизованная, то метод применяет ее к каждой строке"
   ]
  },
  {
   "cell_type": "code",
   "execution_count": 59,
   "id": "e52b920b",
   "metadata": {},
   "outputs": [
    {
     "data": {
      "text/plain": [
       "0    4.709530\n",
       "1    5.402677\n",
       "2    5.808142\n",
       "3    6.095825\n",
       "4    6.318968\n",
       "5    6.501290\n",
       "Name: Колонка 1, dtype: float64"
      ]
     },
     "execution_count": 59,
     "metadata": {},
     "output_type": "execute_result"
    }
   ],
   "source": [
    "df['Колонка 1'].apply(np.log)"
   ]
  },
  {
   "cell_type": "code",
   "execution_count": 60,
   "id": "0be48bfd",
   "metadata": {},
   "outputs": [
    {
     "data": {
      "text/plain": [
       "0    4.709530\n",
       "1    5.402677\n",
       "2    5.808142\n",
       "3    6.095825\n",
       "4    6.318968\n",
       "5    6.501290\n",
       "Name: Колонка 1, dtype: float64"
      ]
     },
     "execution_count": 60,
     "metadata": {},
     "output_type": "execute_result"
    }
   ],
   "source": [
    "np.log(df['Колонка 1'])"
   ]
  },
  {
   "cell_type": "code",
   "execution_count": 61,
   "id": "deab0471",
   "metadata": {},
   "outputs": [
    {
     "data": {
      "text/plain": [
       "0    4.709530\n",
       "1    5.402677\n",
       "2    5.808142\n",
       "3    6.095825\n",
       "4    6.318968\n",
       "5    6.501290\n",
       "Name: Колонка 1, dtype: float64"
      ]
     },
     "execution_count": 61,
     "metadata": {},
     "output_type": "execute_result"
    }
   ],
   "source": [
    "df['Колонка 1'].apply(log)"
   ]
  },
  {
   "cell_type": "markdown",
   "id": "374f17b3",
   "metadata": {},
   "source": [
    "#### По умолчанию метод apply применяет функцию к каждому столбцу по очереди. Но чаще нужно применить фунцию к каждой строке. Чтобы это сделать необходимо в параметр axis передать значение 1"
   ]
  },
  {
   "cell_type": "code",
   "execution_count": 62,
   "id": "12652b01",
   "metadata": {},
   "outputs": [
    {
     "data": {
      "text/plain": [
       "0           Миша любит играть в Баскетбол\n",
       "1              Саша любит играть в Хоккей\n",
       "2             Юля любит играть в Волейбол\n",
       "3             Настя любит играть в Футбол\n",
       "4    Андрей любит играть в Counter-Strike\n",
       "5           Катя любит играть в Баскетбол\n",
       "dtype: object"
      ]
     },
     "execution_count": 62,
     "metadata": {},
     "output_type": "execute_result"
    }
   ],
   "source": [
    "df.apply(lambda x: x['Имя'] + ' любит играть в ' + x['Увлечение'], axis=1)"
   ]
  },
  {
   "cell_type": "code",
   "execution_count": null,
   "id": "8a8645e6",
   "metadata": {},
   "outputs": [],
   "source": []
  },
  {
   "cell_type": "code",
   "execution_count": null,
   "id": "bd808fe7",
   "metadata": {},
   "outputs": [],
   "source": []
  },
  {
   "cell_type": "code",
   "execution_count": null,
   "id": "a8d6b127",
   "metadata": {},
   "outputs": [],
   "source": []
  },
  {
   "cell_type": "code",
   "execution_count": null,
   "id": "6b7e62bd",
   "metadata": {},
   "outputs": [],
   "source": []
  },
  {
   "cell_type": "code",
   "execution_count": null,
   "id": "6001b042",
   "metadata": {},
   "outputs": [],
   "source": []
  },
  {
   "cell_type": "code",
   "execution_count": null,
   "id": "25a56ba7",
   "metadata": {},
   "outputs": [],
   "source": []
  },
  {
   "cell_type": "markdown",
   "id": "fa95e32a",
   "metadata": {},
   "source": [
    "### applymap"
   ]
  },
  {
   "cell_type": "markdown",
   "id": "1a9b213e",
   "metadata": {},
   "source": [
    "Применяет какую-то функцию к каждой ячеке таблицы"
   ]
  },
  {
   "cell_type": "code",
   "execution_count": 63,
   "id": "78481b40",
   "metadata": {},
   "outputs": [
    {
     "data": {
      "text/html": [
       "<div>\n",
       "<style scoped>\n",
       "    .dataframe tbody tr th:only-of-type {\n",
       "        vertical-align: middle;\n",
       "    }\n",
       "\n",
       "    .dataframe tbody tr th {\n",
       "        vertical-align: top;\n",
       "    }\n",
       "\n",
       "    .dataframe thead th {\n",
       "        text-align: right;\n",
       "    }\n",
       "</style>\n",
       "<table border=\"1\" class=\"dataframe\">\n",
       "  <thead>\n",
       "    <tr style=\"text-align: right;\">\n",
       "      <th></th>\n",
       "      <th>Колонка 1</th>\n",
       "      <th>Колонка 2</th>\n",
       "      <th>Колонка 3</th>\n",
       "    </tr>\n",
       "  </thead>\n",
       "  <tbody>\n",
       "    <tr>\n",
       "      <th>0</th>\n",
       "      <td>111</td>\n",
       "      <td>6</td>\n",
       "      <td>NaN</td>\n",
       "    </tr>\n",
       "    <tr>\n",
       "      <th>1</th>\n",
       "      <td>222</td>\n",
       "      <td>5</td>\n",
       "      <td>-3.0</td>\n",
       "    </tr>\n",
       "    <tr>\n",
       "      <th>2</th>\n",
       "      <td>333</td>\n",
       "      <td>4</td>\n",
       "      <td>5.0</td>\n",
       "    </tr>\n",
       "    <tr>\n",
       "      <th>3</th>\n",
       "      <td>444</td>\n",
       "      <td>3</td>\n",
       "      <td>0.0</td>\n",
       "    </tr>\n",
       "    <tr>\n",
       "      <th>4</th>\n",
       "      <td>555</td>\n",
       "      <td>2</td>\n",
       "      <td>9.0</td>\n",
       "    </tr>\n",
       "    <tr>\n",
       "      <th>5</th>\n",
       "      <td>666</td>\n",
       "      <td>1</td>\n",
       "      <td>-11.0</td>\n",
       "    </tr>\n",
       "  </tbody>\n",
       "</table>\n",
       "</div>"
      ],
      "text/plain": [
       "   Колонка 1  Колонка 2  Колонка 3\n",
       "0        111          6        NaN\n",
       "1        222          5       -3.0\n",
       "2        333          4        5.0\n",
       "3        444          3        0.0\n",
       "4        555          2        9.0\n",
       "5        666          1      -11.0"
      ]
     },
     "execution_count": 63,
     "metadata": {},
     "output_type": "execute_result"
    }
   ],
   "source": [
    "df.iloc[:, :3]"
   ]
  },
  {
   "cell_type": "code",
   "execution_count": 66,
   "id": "bce3a2db",
   "metadata": {},
   "outputs": [
    {
     "data": {
      "text/html": [
       "<div>\n",
       "<style scoped>\n",
       "    .dataframe tbody tr th:only-of-type {\n",
       "        vertical-align: middle;\n",
       "    }\n",
       "\n",
       "    .dataframe tbody tr th {\n",
       "        vertical-align: top;\n",
       "    }\n",
       "\n",
       "    .dataframe thead th {\n",
       "        text-align: right;\n",
       "    }\n",
       "</style>\n",
       "<table border=\"1\" class=\"dataframe\">\n",
       "  <thead>\n",
       "    <tr style=\"text-align: right;\">\n",
       "      <th></th>\n",
       "      <th>Колонка 1</th>\n",
       "      <th>Колонка 2</th>\n",
       "      <th>Колонка 3</th>\n",
       "    </tr>\n",
       "  </thead>\n",
       "  <tbody>\n",
       "    <tr>\n",
       "      <th>0</th>\n",
       "      <td>111</td>\n",
       "      <td>6</td>\n",
       "      <td>NaN</td>\n",
       "    </tr>\n",
       "    <tr>\n",
       "      <th>1</th>\n",
       "      <td>222</td>\n",
       "      <td>5</td>\n",
       "      <td>-3.0</td>\n",
       "    </tr>\n",
       "    <tr>\n",
       "      <th>2</th>\n",
       "      <td>333</td>\n",
       "      <td>4</td>\n",
       "      <td>5.0</td>\n",
       "    </tr>\n",
       "    <tr>\n",
       "      <th>3</th>\n",
       "      <td>444</td>\n",
       "      <td>3</td>\n",
       "      <td>0.0</td>\n",
       "    </tr>\n",
       "    <tr>\n",
       "      <th>4</th>\n",
       "      <td>555</td>\n",
       "      <td>2</td>\n",
       "      <td>9.0</td>\n",
       "    </tr>\n",
       "    <tr>\n",
       "      <th>5</th>\n",
       "      <td>666</td>\n",
       "      <td>1</td>\n",
       "      <td>-11.0</td>\n",
       "    </tr>\n",
       "  </tbody>\n",
       "</table>\n",
       "</div>"
      ],
      "text/plain": [
       "   Колонка 1  Колонка 2  Колонка 3\n",
       "0        111          6        NaN\n",
       "1        222          5       -3.0\n",
       "2        333          4        5.0\n",
       "3        444          3        0.0\n",
       "4        555          2        9.0\n",
       "5        666          1      -11.0"
      ]
     },
     "execution_count": 66,
     "metadata": {},
     "output_type": "execute_result"
    }
   ],
   "source": [
    "df.iloc[:, :3]"
   ]
  },
  {
   "cell_type": "code",
   "execution_count": 64,
   "id": "78aa1e9f",
   "metadata": {},
   "outputs": [
    {
     "name": "stderr",
     "output_type": "stream",
     "text": [
      "/tmp/ipykernel_215518/2831871443.py:1: FutureWarning: DataFrame.applymap has been deprecated. Use DataFrame.map instead.\n",
      "  df.iloc[:, :3].applymap(lambda x: x ** 2)\n"
     ]
    },
    {
     "data": {
      "text/html": [
       "<div>\n",
       "<style scoped>\n",
       "    .dataframe tbody tr th:only-of-type {\n",
       "        vertical-align: middle;\n",
       "    }\n",
       "\n",
       "    .dataframe tbody tr th {\n",
       "        vertical-align: top;\n",
       "    }\n",
       "\n",
       "    .dataframe thead th {\n",
       "        text-align: right;\n",
       "    }\n",
       "</style>\n",
       "<table border=\"1\" class=\"dataframe\">\n",
       "  <thead>\n",
       "    <tr style=\"text-align: right;\">\n",
       "      <th></th>\n",
       "      <th>Колонка 1</th>\n",
       "      <th>Колонка 2</th>\n",
       "      <th>Колонка 3</th>\n",
       "    </tr>\n",
       "  </thead>\n",
       "  <tbody>\n",
       "    <tr>\n",
       "      <th>0</th>\n",
       "      <td>12321</td>\n",
       "      <td>36</td>\n",
       "      <td>NaN</td>\n",
       "    </tr>\n",
       "    <tr>\n",
       "      <th>1</th>\n",
       "      <td>49284</td>\n",
       "      <td>25</td>\n",
       "      <td>9.0</td>\n",
       "    </tr>\n",
       "    <tr>\n",
       "      <th>2</th>\n",
       "      <td>110889</td>\n",
       "      <td>16</td>\n",
       "      <td>25.0</td>\n",
       "    </tr>\n",
       "    <tr>\n",
       "      <th>3</th>\n",
       "      <td>197136</td>\n",
       "      <td>9</td>\n",
       "      <td>0.0</td>\n",
       "    </tr>\n",
       "    <tr>\n",
       "      <th>4</th>\n",
       "      <td>308025</td>\n",
       "      <td>4</td>\n",
       "      <td>81.0</td>\n",
       "    </tr>\n",
       "    <tr>\n",
       "      <th>5</th>\n",
       "      <td>443556</td>\n",
       "      <td>1</td>\n",
       "      <td>121.0</td>\n",
       "    </tr>\n",
       "  </tbody>\n",
       "</table>\n",
       "</div>"
      ],
      "text/plain": [
       "   Колонка 1  Колонка 2  Колонка 3\n",
       "0      12321         36        NaN\n",
       "1      49284         25        9.0\n",
       "2     110889         16       25.0\n",
       "3     197136          9        0.0\n",
       "4     308025          4       81.0\n",
       "5     443556          1      121.0"
      ]
     },
     "execution_count": 64,
     "metadata": {},
     "output_type": "execute_result"
    }
   ],
   "source": [
    "df.iloc[:, :3].applymap(lambda x: x ** 2)"
   ]
  },
  {
   "cell_type": "code",
   "execution_count": 67,
   "id": "bf09d329",
   "metadata": {},
   "outputs": [
    {
     "name": "stderr",
     "output_type": "stream",
     "text": [
      "/tmp/ipykernel_215518/2732378487.py:1: FutureWarning: DataFrame.applymap has been deprecated. Use DataFrame.map instead.\n",
      "  df.iloc[:, :3].applymap(lambda x: x / 100)\n"
     ]
    },
    {
     "data": {
      "text/html": [
       "<div>\n",
       "<style scoped>\n",
       "    .dataframe tbody tr th:only-of-type {\n",
       "        vertical-align: middle;\n",
       "    }\n",
       "\n",
       "    .dataframe tbody tr th {\n",
       "        vertical-align: top;\n",
       "    }\n",
       "\n",
       "    .dataframe thead th {\n",
       "        text-align: right;\n",
       "    }\n",
       "</style>\n",
       "<table border=\"1\" class=\"dataframe\">\n",
       "  <thead>\n",
       "    <tr style=\"text-align: right;\">\n",
       "      <th></th>\n",
       "      <th>Колонка 1</th>\n",
       "      <th>Колонка 2</th>\n",
       "      <th>Колонка 3</th>\n",
       "    </tr>\n",
       "  </thead>\n",
       "  <tbody>\n",
       "    <tr>\n",
       "      <th>0</th>\n",
       "      <td>1.11</td>\n",
       "      <td>0.06</td>\n",
       "      <td>NaN</td>\n",
       "    </tr>\n",
       "    <tr>\n",
       "      <th>1</th>\n",
       "      <td>2.22</td>\n",
       "      <td>0.05</td>\n",
       "      <td>-0.03</td>\n",
       "    </tr>\n",
       "    <tr>\n",
       "      <th>2</th>\n",
       "      <td>3.33</td>\n",
       "      <td>0.04</td>\n",
       "      <td>0.05</td>\n",
       "    </tr>\n",
       "    <tr>\n",
       "      <th>3</th>\n",
       "      <td>4.44</td>\n",
       "      <td>0.03</td>\n",
       "      <td>0.00</td>\n",
       "    </tr>\n",
       "    <tr>\n",
       "      <th>4</th>\n",
       "      <td>5.55</td>\n",
       "      <td>0.02</td>\n",
       "      <td>0.09</td>\n",
       "    </tr>\n",
       "    <tr>\n",
       "      <th>5</th>\n",
       "      <td>6.66</td>\n",
       "      <td>0.01</td>\n",
       "      <td>-0.11</td>\n",
       "    </tr>\n",
       "  </tbody>\n",
       "</table>\n",
       "</div>"
      ],
      "text/plain": [
       "   Колонка 1  Колонка 2  Колонка 3\n",
       "0       1.11       0.06        NaN\n",
       "1       2.22       0.05      -0.03\n",
       "2       3.33       0.04       0.05\n",
       "3       4.44       0.03       0.00\n",
       "4       5.55       0.02       0.09\n",
       "5       6.66       0.01      -0.11"
      ]
     },
     "execution_count": 67,
     "metadata": {},
     "output_type": "execute_result"
    }
   ],
   "source": [
    "df.iloc[:, :3].applymap(lambda x: x / 100)"
   ]
  },
  {
   "cell_type": "code",
   "execution_count": null,
   "id": "1a6ec57b",
   "metadata": {},
   "outputs": [],
   "source": []
  },
  {
   "cell_type": "code",
   "execution_count": null,
   "id": "5c811a46",
   "metadata": {},
   "outputs": [],
   "source": []
  },
  {
   "cell_type": "code",
   "execution_count": null,
   "id": "03887dde",
   "metadata": {},
   "outputs": [],
   "source": []
  },
  {
   "cell_type": "code",
   "execution_count": null,
   "id": "73b55ff2",
   "metadata": {},
   "outputs": [],
   "source": []
  },
  {
   "cell_type": "code",
   "execution_count": null,
   "id": "98d9b052",
   "metadata": {},
   "outputs": [],
   "source": []
  },
  {
   "cell_type": "code",
   "execution_count": null,
   "id": "b7e58055",
   "metadata": {},
   "outputs": [],
   "source": []
  },
  {
   "cell_type": "code",
   "execution_count": null,
   "id": "a48cbb2e",
   "metadata": {},
   "outputs": [],
   "source": []
  },
  {
   "cell_type": "markdown",
   "id": "97f72f09",
   "metadata": {},
   "source": [
    "### transform"
   ]
  },
  {
   "cell_type": "markdown",
   "id": "9c2cb4de",
   "metadata": {},
   "source": [
    "Модифицирует колонку или датафрейм при помощи векторной функции. Возвращает тоже колонку или датафрейм"
   ]
  },
  {
   "cell_type": "code",
   "execution_count": 68,
   "id": "674c5a13",
   "metadata": {},
   "outputs": [
    {
     "data": {
      "text/plain": [
       "0    111\n",
       "1    222\n",
       "2    333\n",
       "3    444\n",
       "4    555\n",
       "5    666\n",
       "Name: Колонка 1, dtype: int64"
      ]
     },
     "execution_count": 68,
     "metadata": {},
     "output_type": "execute_result"
    }
   ],
   "source": [
    "df['Колонка 1']"
   ]
  },
  {
   "cell_type": "code",
   "execution_count": 69,
   "id": "2c96ae4b",
   "metadata": {},
   "outputs": [
    {
     "data": {
      "text/plain": [
       "0    10.1\n",
       "1    21.2\n",
       "2    32.3\n",
       "3    43.4\n",
       "4    54.5\n",
       "5    65.6\n",
       "Name: Колонка 1, dtype: float64"
      ]
     },
     "execution_count": 69,
     "metadata": {},
     "output_type": "execute_result"
    }
   ],
   "source": [
    "df['Колонка 1'].transform(lambda x: (x - 10) / 10)"
   ]
  },
  {
   "cell_type": "code",
   "execution_count": 71,
   "id": "71dbbe22",
   "metadata": {},
   "outputs": [
    {
     "data": {
      "text/html": [
       "<div>\n",
       "<style scoped>\n",
       "    .dataframe tbody tr th:only-of-type {\n",
       "        vertical-align: middle;\n",
       "    }\n",
       "\n",
       "    .dataframe tbody tr th {\n",
       "        vertical-align: top;\n",
       "    }\n",
       "\n",
       "    .dataframe thead th {\n",
       "        text-align: right;\n",
       "    }\n",
       "</style>\n",
       "<table border=\"1\" class=\"dataframe\">\n",
       "  <thead>\n",
       "    <tr style=\"text-align: right;\">\n",
       "      <th></th>\n",
       "      <th>Колонка 1</th>\n",
       "      <th>Колонка 2</th>\n",
       "      <th>Колонка 3</th>\n",
       "      <th>Имя</th>\n",
       "      <th>Увлечение</th>\n",
       "      <th>col_1_natural_log</th>\n",
       "    </tr>\n",
       "  </thead>\n",
       "  <tbody>\n",
       "    <tr>\n",
       "      <th>0</th>\n",
       "      <td>111</td>\n",
       "      <td>6</td>\n",
       "      <td>NaN</td>\n",
       "      <td>Миша</td>\n",
       "      <td>Баскетбол</td>\n",
       "      <td>4.709530</td>\n",
       "    </tr>\n",
       "    <tr>\n",
       "      <th>1</th>\n",
       "      <td>222</td>\n",
       "      <td>5</td>\n",
       "      <td>-3.0</td>\n",
       "      <td>Саша</td>\n",
       "      <td>Хоккей</td>\n",
       "      <td>5.402677</td>\n",
       "    </tr>\n",
       "    <tr>\n",
       "      <th>2</th>\n",
       "      <td>333</td>\n",
       "      <td>4</td>\n",
       "      <td>5.0</td>\n",
       "      <td>Юля</td>\n",
       "      <td>Волейбол</td>\n",
       "      <td>5.808142</td>\n",
       "    </tr>\n",
       "    <tr>\n",
       "      <th>3</th>\n",
       "      <td>444</td>\n",
       "      <td>3</td>\n",
       "      <td>0.0</td>\n",
       "      <td>Настя</td>\n",
       "      <td>Футбол</td>\n",
       "      <td>6.095825</td>\n",
       "    </tr>\n",
       "    <tr>\n",
       "      <th>4</th>\n",
       "      <td>555</td>\n",
       "      <td>2</td>\n",
       "      <td>9.0</td>\n",
       "      <td>Андрей</td>\n",
       "      <td>Counter-Strike</td>\n",
       "      <td>6.318968</td>\n",
       "    </tr>\n",
       "    <tr>\n",
       "      <th>5</th>\n",
       "      <td>666</td>\n",
       "      <td>1</td>\n",
       "      <td>-11.0</td>\n",
       "      <td>Катя</td>\n",
       "      <td>Баскетбол</td>\n",
       "      <td>6.501290</td>\n",
       "    </tr>\n",
       "  </tbody>\n",
       "</table>\n",
       "</div>"
      ],
      "text/plain": [
       "   Колонка 1  Колонка 2  Колонка 3     Имя       Увлечение  col_1_natural_log\n",
       "0        111          6        NaN    Миша       Баскетбол           4.709530\n",
       "1        222          5       -3.0    Саша          Хоккей           5.402677\n",
       "2        333          4        5.0     Юля        Волейбол           5.808142\n",
       "3        444          3        0.0   Настя          Футбол           6.095825\n",
       "4        555          2        9.0  Андрей  Counter-Strike           6.318968\n",
       "5        666          1      -11.0    Катя       Баскетбол           6.501290"
      ]
     },
     "execution_count": 71,
     "metadata": {},
     "output_type": "execute_result"
    }
   ],
   "source": [
    "df"
   ]
  },
  {
   "cell_type": "markdown",
   "id": "077e4115",
   "metadata": {},
   "source": [
    "Применяем к датафрейму и дополнительно указываем ось если это необходимо"
   ]
  },
  {
   "cell_type": "code",
   "execution_count": 70,
   "id": "1c279d31",
   "metadata": {},
   "outputs": [
    {
     "data": {
      "text/html": [
       "<div>\n",
       "<style scoped>\n",
       "    .dataframe tbody tr th:only-of-type {\n",
       "        vertical-align: middle;\n",
       "    }\n",
       "\n",
       "    .dataframe tbody tr th {\n",
       "        vertical-align: top;\n",
       "    }\n",
       "\n",
       "    .dataframe thead th {\n",
       "        text-align: right;\n",
       "    }\n",
       "</style>\n",
       "<table border=\"1\" class=\"dataframe\">\n",
       "  <thead>\n",
       "    <tr style=\"text-align: right;\">\n",
       "      <th></th>\n",
       "      <th>Колонка 1</th>\n",
       "      <th>Колонка 2</th>\n",
       "      <th>Колонка 3</th>\n",
       "    </tr>\n",
       "  </thead>\n",
       "  <tbody>\n",
       "    <tr>\n",
       "      <th>0</th>\n",
       "      <td>37.0</td>\n",
       "      <td>2.000000</td>\n",
       "      <td>NaN</td>\n",
       "    </tr>\n",
       "    <tr>\n",
       "      <th>1</th>\n",
       "      <td>74.0</td>\n",
       "      <td>1.666667</td>\n",
       "      <td>-1.000000</td>\n",
       "    </tr>\n",
       "    <tr>\n",
       "      <th>2</th>\n",
       "      <td>111.0</td>\n",
       "      <td>1.333333</td>\n",
       "      <td>1.666667</td>\n",
       "    </tr>\n",
       "    <tr>\n",
       "      <th>3</th>\n",
       "      <td>148.0</td>\n",
       "      <td>1.000000</td>\n",
       "      <td>0.000000</td>\n",
       "    </tr>\n",
       "    <tr>\n",
       "      <th>4</th>\n",
       "      <td>185.0</td>\n",
       "      <td>0.666667</td>\n",
       "      <td>3.000000</td>\n",
       "    </tr>\n",
       "    <tr>\n",
       "      <th>5</th>\n",
       "      <td>222.0</td>\n",
       "      <td>0.333333</td>\n",
       "      <td>-3.666667</td>\n",
       "    </tr>\n",
       "  </tbody>\n",
       "</table>\n",
       "</div>"
      ],
      "text/plain": [
       "   Колонка 1  Колонка 2  Колонка 3\n",
       "0       37.0   2.000000        NaN\n",
       "1       74.0   1.666667  -1.000000\n",
       "2      111.0   1.333333   1.666667\n",
       "3      148.0   1.000000   0.000000\n",
       "4      185.0   0.666667   3.000000\n",
       "5      222.0   0.333333  -3.666667"
      ]
     },
     "execution_count": 70,
     "metadata": {},
     "output_type": "execute_result"
    }
   ],
   "source": [
    "df.iloc[:, :3].transform(lambda x: x / len(x), axis=1)"
   ]
  },
  {
   "cell_type": "code",
   "execution_count": null,
   "id": "96290522",
   "metadata": {},
   "outputs": [],
   "source": []
  },
  {
   "cell_type": "code",
   "execution_count": null,
   "id": "8e9df9d6",
   "metadata": {},
   "outputs": [],
   "source": []
  },
  {
   "cell_type": "code",
   "execution_count": null,
   "id": "24a8c9fc",
   "metadata": {},
   "outputs": [],
   "source": []
  },
  {
   "cell_type": "code",
   "execution_count": null,
   "id": "d4b338b9",
   "metadata": {},
   "outputs": [],
   "source": []
  },
  {
   "cell_type": "code",
   "execution_count": null,
   "id": "79c332c5",
   "metadata": {},
   "outputs": [],
   "source": []
  },
  {
   "cell_type": "code",
   "execution_count": null,
   "id": "085511d2",
   "metadata": {},
   "outputs": [],
   "source": []
  },
  {
   "cell_type": "code",
   "execution_count": null,
   "id": "a7406322",
   "metadata": {},
   "outputs": [],
   "source": []
  },
  {
   "cell_type": "markdown",
   "id": "b11cf152",
   "metadata": {},
   "source": [
    "### pipe\n",
    "\n",
    "Применяет функцию, которая на вход принимает датафрейм целиком"
   ]
  },
  {
   "cell_type": "code",
   "execution_count": 72,
   "id": "22b8a6ea",
   "metadata": {},
   "outputs": [
    {
     "data": {
      "text/plain": [
       "(6, 6)"
      ]
     },
     "execution_count": 72,
     "metadata": {},
     "output_type": "execute_result"
    }
   ],
   "source": [
    "df.pipe(lambda x: x.shape)"
   ]
  },
  {
   "cell_type": "code",
   "execution_count": 73,
   "id": "8a6a23fb",
   "metadata": {},
   "outputs": [],
   "source": [
    "def create_columns(df, n_cols):\n",
    "    df = df.copy()\n",
    "    for i in range(n_cols):\n",
    "        df[f'Колонка {i + 1}'] = i + 1\n",
    "    return df"
   ]
  },
  {
   "cell_type": "code",
   "execution_count": 74,
   "id": "1559bef2",
   "metadata": {},
   "outputs": [
    {
     "data": {
      "text/html": [
       "<div>\n",
       "<style scoped>\n",
       "    .dataframe tbody tr th:only-of-type {\n",
       "        vertical-align: middle;\n",
       "    }\n",
       "\n",
       "    .dataframe tbody tr th {\n",
       "        vertical-align: top;\n",
       "    }\n",
       "\n",
       "    .dataframe thead th {\n",
       "        text-align: right;\n",
       "    }\n",
       "</style>\n",
       "<table border=\"1\" class=\"dataframe\">\n",
       "  <thead>\n",
       "    <tr style=\"text-align: right;\">\n",
       "      <th></th>\n",
       "      <th>Колонка 1</th>\n",
       "      <th>Колонка 2</th>\n",
       "      <th>Колонка 3</th>\n",
       "      <th>Имя</th>\n",
       "      <th>Увлечение</th>\n",
       "      <th>col_1_natural_log</th>\n",
       "      <th>Колонка 4</th>\n",
       "      <th>Колонка 5</th>\n",
       "      <th>Колонка 6</th>\n",
       "      <th>Колонка 7</th>\n",
       "      <th>Колонка 8</th>\n",
       "      <th>Колонка 9</th>\n",
       "    </tr>\n",
       "  </thead>\n",
       "  <tbody>\n",
       "    <tr>\n",
       "      <th>0</th>\n",
       "      <td>1</td>\n",
       "      <td>2</td>\n",
       "      <td>3</td>\n",
       "      <td>Миша</td>\n",
       "      <td>Баскетбол</td>\n",
       "      <td>4.709530</td>\n",
       "      <td>4</td>\n",
       "      <td>5</td>\n",
       "      <td>6</td>\n",
       "      <td>7</td>\n",
       "      <td>8</td>\n",
       "      <td>9</td>\n",
       "    </tr>\n",
       "    <tr>\n",
       "      <th>1</th>\n",
       "      <td>1</td>\n",
       "      <td>2</td>\n",
       "      <td>3</td>\n",
       "      <td>Саша</td>\n",
       "      <td>Хоккей</td>\n",
       "      <td>5.402677</td>\n",
       "      <td>4</td>\n",
       "      <td>5</td>\n",
       "      <td>6</td>\n",
       "      <td>7</td>\n",
       "      <td>8</td>\n",
       "      <td>9</td>\n",
       "    </tr>\n",
       "    <tr>\n",
       "      <th>2</th>\n",
       "      <td>1</td>\n",
       "      <td>2</td>\n",
       "      <td>3</td>\n",
       "      <td>Юля</td>\n",
       "      <td>Волейбол</td>\n",
       "      <td>5.808142</td>\n",
       "      <td>4</td>\n",
       "      <td>5</td>\n",
       "      <td>6</td>\n",
       "      <td>7</td>\n",
       "      <td>8</td>\n",
       "      <td>9</td>\n",
       "    </tr>\n",
       "    <tr>\n",
       "      <th>3</th>\n",
       "      <td>1</td>\n",
       "      <td>2</td>\n",
       "      <td>3</td>\n",
       "      <td>Настя</td>\n",
       "      <td>Футбол</td>\n",
       "      <td>6.095825</td>\n",
       "      <td>4</td>\n",
       "      <td>5</td>\n",
       "      <td>6</td>\n",
       "      <td>7</td>\n",
       "      <td>8</td>\n",
       "      <td>9</td>\n",
       "    </tr>\n",
       "    <tr>\n",
       "      <th>4</th>\n",
       "      <td>1</td>\n",
       "      <td>2</td>\n",
       "      <td>3</td>\n",
       "      <td>Андрей</td>\n",
       "      <td>Counter-Strike</td>\n",
       "      <td>6.318968</td>\n",
       "      <td>4</td>\n",
       "      <td>5</td>\n",
       "      <td>6</td>\n",
       "      <td>7</td>\n",
       "      <td>8</td>\n",
       "      <td>9</td>\n",
       "    </tr>\n",
       "    <tr>\n",
       "      <th>5</th>\n",
       "      <td>1</td>\n",
       "      <td>2</td>\n",
       "      <td>3</td>\n",
       "      <td>Катя</td>\n",
       "      <td>Баскетбол</td>\n",
       "      <td>6.501290</td>\n",
       "      <td>4</td>\n",
       "      <td>5</td>\n",
       "      <td>6</td>\n",
       "      <td>7</td>\n",
       "      <td>8</td>\n",
       "      <td>9</td>\n",
       "    </tr>\n",
       "  </tbody>\n",
       "</table>\n",
       "</div>"
      ],
      "text/plain": [
       "   Колонка 1  Колонка 2  Колонка 3     Имя       Увлечение  col_1_natural_log  \\\n",
       "0          1          2          3    Миша       Баскетбол           4.709530   \n",
       "1          1          2          3    Саша          Хоккей           5.402677   \n",
       "2          1          2          3     Юля        Волейбол           5.808142   \n",
       "3          1          2          3   Настя          Футбол           6.095825   \n",
       "4          1          2          3  Андрей  Counter-Strike           6.318968   \n",
       "5          1          2          3    Катя       Баскетбол           6.501290   \n",
       "\n",
       "   Колонка 4  Колонка 5  Колонка 6  Колонка 7  Колонка 8  Колонка 9  \n",
       "0          4          5          6          7          8          9  \n",
       "1          4          5          6          7          8          9  \n",
       "2          4          5          6          7          8          9  \n",
       "3          4          5          6          7          8          9  \n",
       "4          4          5          6          7          8          9  \n",
       "5          4          5          6          7          8          9  "
      ]
     },
     "execution_count": 74,
     "metadata": {},
     "output_type": "execute_result"
    }
   ],
   "source": [
    "df.pipe(create_columns, 9)"
   ]
  },
  {
   "cell_type": "markdown",
   "id": "dff694c6",
   "metadata": {},
   "source": [
    "| Название метода   | Что принимает на вход      | Особенности                                          |\n",
    "|:-----------------:|:--------------------------:|:----------------------------------------------------:|\n",
    "| apply             | Колонку или строку таблицы | Может работать с невекторизованными функциями        |\n",
    "| applymap          | Ячеку таблицы              | Применяет функцию к каждой чеке                      |\n",
    "| transform         | Колонку или строку         | Работает только с векторизованными функциями         |\n",
    "| pipe              | Таблицу целиком            | -                                                    |"
   ]
  },
  {
   "cell_type": "code",
   "execution_count": null,
   "id": "9413b960",
   "metadata": {},
   "outputs": [],
   "source": []
  },
  {
   "cell_type": "code",
   "execution_count": null,
   "id": "c11abf92",
   "metadata": {},
   "outputs": [],
   "source": []
  },
  {
   "cell_type": "code",
   "execution_count": null,
   "id": "42cf7d09",
   "metadata": {},
   "outputs": [],
   "source": []
  },
  {
   "cell_type": "code",
   "execution_count": null,
   "id": "48525528",
   "metadata": {},
   "outputs": [],
   "source": []
  },
  {
   "cell_type": "code",
   "execution_count": null,
   "id": "26ed4f17",
   "metadata": {},
   "outputs": [],
   "source": []
  },
  {
   "cell_type": "code",
   "execution_count": null,
   "id": "94d738cb",
   "metadata": {},
   "outputs": [],
   "source": []
  },
  {
   "cell_type": "code",
   "execution_count": null,
   "id": "98bbc013",
   "metadata": {},
   "outputs": [],
   "source": []
  },
  {
   "cell_type": "code",
   "execution_count": null,
   "id": "04c3f0dd",
   "metadata": {},
   "outputs": [],
   "source": []
  },
  {
   "cell_type": "code",
   "execution_count": null,
   "id": "55ec8dc8",
   "metadata": {},
   "outputs": [],
   "source": []
  },
  {
   "cell_type": "code",
   "execution_count": null,
   "id": "c7f15429",
   "metadata": {},
   "outputs": [],
   "source": []
  },
  {
   "cell_type": "markdown",
   "id": "abd71ca0",
   "metadata": {},
   "source": [
    "# Задания"
   ]
  },
  {
   "cell_type": "markdown",
   "id": "ef9ded57",
   "metadata": {},
   "source": [
    "#### Описание таблиц лежит [здесь](https://github.com/victorlymarev/pandas/tree/main/tables#%D0%BE%D0%BF%D0%B8%D1%81%D0%B0%D0%BD%D0%B8%D0%B5-%D1%82%D0%B0%D0%B1%D0%BB%D0%B8%D1%86)"
   ]
  },
  {
   "cell_type": "markdown",
   "id": "7cf7dcfe",
   "metadata": {},
   "source": [
    "Некоторые таблицы занимают много памяти, поэтому каждые 5-10 заданий лучше перезапускайте ноутбук.\n",
    "\n",
    "В формулировке некоторых заданий может содержаться вариативность. Если у вас есть сомнения, что требуется в задании, попробуйте решить несколько вариантов. Если вы не понимаете задание, можете написать об этом в комментариях под видео.\n",
    "\n",
    "В большинстве случаев внешний вид итоговой таблицы не определен. Выведите на экран наиболее адекватный вариант. То есть таблицу, из которой можно будет сделать выводы.\n",
    "\n",
    "Курс пока находится в разработке. Вы можете помочь другим людям добавив свое решение [сюда](https://docs.google.com/forms/d/1HYTBz_KfssY3Jps2dC3n0YnEqa6WBb5OIhLo1d32Xzw/edit).\n",
    "\n",
    "Посмотреть решения других людей можно [здесь](https://docs.google.com/spreadsheets/d/1pMDYO-9UneLbPPnEuQ2shig0TOJdQTU-zipifyAnZMk/edit?resourcekey#gid=1998648012)"
   ]
  },
  {
   "cell_type": "markdown",
   "id": "f06d13b3",
   "metadata": {},
   "source": [
    "### Задание 1\n",
    "\n",
    "В таблице df представлены платежи по кредиту. Необходимо для каждой даты посчитать, сколько денег было заплачено."
   ]
  },
  {
   "cell_type": "code",
   "execution_count": 75,
   "id": "5f463fd0",
   "metadata": {},
   "outputs": [
    {
     "name": "stderr",
     "output_type": "stream",
     "text": [
      "/tmp/ipykernel_215518/3640865844.py:3: FutureWarning: 'M' is deprecated and will be removed in a future version, please use 'ME' instead.\n",
      "  df = pd.DataFrame({'Дата': pd.date_range('2022-01-31', '2022-12-31', freq='M'),\n"
     ]
    },
    {
     "data": {
      "text/html": [
       "<div>\n",
       "<style scoped>\n",
       "    .dataframe tbody tr th:only-of-type {\n",
       "        vertical-align: middle;\n",
       "    }\n",
       "\n",
       "    .dataframe tbody tr th {\n",
       "        vertical-align: top;\n",
       "    }\n",
       "\n",
       "    .dataframe thead th {\n",
       "        text-align: right;\n",
       "    }\n",
       "</style>\n",
       "<table border=\"1\" class=\"dataframe\">\n",
       "  <thead>\n",
       "    <tr style=\"text-align: right;\">\n",
       "      <th></th>\n",
       "      <th>Дата</th>\n",
       "      <th>Сумма</th>\n",
       "    </tr>\n",
       "  </thead>\n",
       "  <tbody>\n",
       "    <tr>\n",
       "      <th>0</th>\n",
       "      <td>2022-01-31</td>\n",
       "      <td>50000.0</td>\n",
       "    </tr>\n",
       "    <tr>\n",
       "      <th>1</th>\n",
       "      <td>2022-02-28</td>\n",
       "      <td>50474.0</td>\n",
       "    </tr>\n",
       "    <tr>\n",
       "      <th>2</th>\n",
       "      <td>2022-03-31</td>\n",
       "      <td>50953.0</td>\n",
       "    </tr>\n",
       "    <tr>\n",
       "      <th>3</th>\n",
       "      <td>2022-04-30</td>\n",
       "      <td>51436.0</td>\n",
       "    </tr>\n",
       "    <tr>\n",
       "      <th>4</th>\n",
       "      <td>2022-05-31</td>\n",
       "      <td>51924.0</td>\n",
       "    </tr>\n",
       "    <tr>\n",
       "      <th>5</th>\n",
       "      <td>2022-06-30</td>\n",
       "      <td>52417.0</td>\n",
       "    </tr>\n",
       "    <tr>\n",
       "      <th>6</th>\n",
       "      <td>2022-07-31</td>\n",
       "      <td>52915.0</td>\n",
       "    </tr>\n",
       "    <tr>\n",
       "      <th>7</th>\n",
       "      <td>2022-08-31</td>\n",
       "      <td>53417.0</td>\n",
       "    </tr>\n",
       "    <tr>\n",
       "      <th>8</th>\n",
       "      <td>2022-09-30</td>\n",
       "      <td>53923.0</td>\n",
       "    </tr>\n",
       "    <tr>\n",
       "      <th>9</th>\n",
       "      <td>2022-10-31</td>\n",
       "      <td>54435.0</td>\n",
       "    </tr>\n",
       "    <tr>\n",
       "      <th>10</th>\n",
       "      <td>2022-11-30</td>\n",
       "      <td>54952.0</td>\n",
       "    </tr>\n",
       "    <tr>\n",
       "      <th>11</th>\n",
       "      <td>2022-12-31</td>\n",
       "      <td>55473.0</td>\n",
       "    </tr>\n",
       "  </tbody>\n",
       "</table>\n",
       "</div>"
      ],
      "text/plain": [
       "         Дата    Сумма\n",
       "0  2022-01-31  50000.0\n",
       "1  2022-02-28  50474.0\n",
       "2  2022-03-31  50953.0\n",
       "3  2022-04-30  51436.0\n",
       "4  2022-05-31  51924.0\n",
       "5  2022-06-30  52417.0\n",
       "6  2022-07-31  52915.0\n",
       "7  2022-08-31  53417.0\n",
       "8  2022-09-30  53923.0\n",
       "9  2022-10-31  54435.0\n",
       "10 2022-11-30  54952.0\n",
       "11 2022-12-31  55473.0"
      ]
     },
     "execution_count": 75,
     "metadata": {},
     "output_type": "execute_result"
    }
   ],
   "source": [
    "import pandas as pd\n",
    "\n",
    "df = pd.DataFrame({'Дата': pd.date_range('2022-01-31', '2022-12-31', freq='M'),\n",
    "              'Сумма': [(50000 * (1.12 ** (i / 12))) // 1 for i in range(12)]})\n",
    "df"
   ]
  },
  {
   "cell_type": "code",
   "execution_count": 84,
   "id": "1def26d9",
   "metadata": {},
   "outputs": [
    {
     "data": {
      "text/html": [
       "<div>\n",
       "<style scoped>\n",
       "    .dataframe tbody tr th:only-of-type {\n",
       "        vertical-align: middle;\n",
       "    }\n",
       "\n",
       "    .dataframe tbody tr th {\n",
       "        vertical-align: top;\n",
       "    }\n",
       "\n",
       "    .dataframe thead th {\n",
       "        text-align: right;\n",
       "    }\n",
       "</style>\n",
       "<table border=\"1\" class=\"dataframe\">\n",
       "  <thead>\n",
       "    <tr style=\"text-align: right;\">\n",
       "      <th></th>\n",
       "      <th>Дата</th>\n",
       "      <th>Сумма</th>\n",
       "      <th>cumsum</th>\n",
       "    </tr>\n",
       "  </thead>\n",
       "  <tbody>\n",
       "    <tr>\n",
       "      <th>0</th>\n",
       "      <td>2022-01-31</td>\n",
       "      <td>50000.0</td>\n",
       "      <td>50000.0</td>\n",
       "    </tr>\n",
       "    <tr>\n",
       "      <th>1</th>\n",
       "      <td>2022-02-28</td>\n",
       "      <td>50474.0</td>\n",
       "      <td>100474.0</td>\n",
       "    </tr>\n",
       "    <tr>\n",
       "      <th>2</th>\n",
       "      <td>2022-03-31</td>\n",
       "      <td>50953.0</td>\n",
       "      <td>151427.0</td>\n",
       "    </tr>\n",
       "    <tr>\n",
       "      <th>3</th>\n",
       "      <td>2022-04-30</td>\n",
       "      <td>51436.0</td>\n",
       "      <td>202863.0</td>\n",
       "    </tr>\n",
       "    <tr>\n",
       "      <th>4</th>\n",
       "      <td>2022-05-31</td>\n",
       "      <td>51924.0</td>\n",
       "      <td>254787.0</td>\n",
       "    </tr>\n",
       "    <tr>\n",
       "      <th>5</th>\n",
       "      <td>2022-06-30</td>\n",
       "      <td>52417.0</td>\n",
       "      <td>307204.0</td>\n",
       "    </tr>\n",
       "    <tr>\n",
       "      <th>6</th>\n",
       "      <td>2022-07-31</td>\n",
       "      <td>52915.0</td>\n",
       "      <td>360119.0</td>\n",
       "    </tr>\n",
       "    <tr>\n",
       "      <th>7</th>\n",
       "      <td>2022-08-31</td>\n",
       "      <td>53417.0</td>\n",
       "      <td>413536.0</td>\n",
       "    </tr>\n",
       "    <tr>\n",
       "      <th>8</th>\n",
       "      <td>2022-09-30</td>\n",
       "      <td>53923.0</td>\n",
       "      <td>467459.0</td>\n",
       "    </tr>\n",
       "    <tr>\n",
       "      <th>9</th>\n",
       "      <td>2022-10-31</td>\n",
       "      <td>54435.0</td>\n",
       "      <td>521894.0</td>\n",
       "    </tr>\n",
       "    <tr>\n",
       "      <th>10</th>\n",
       "      <td>2022-11-30</td>\n",
       "      <td>54952.0</td>\n",
       "      <td>576846.0</td>\n",
       "    </tr>\n",
       "    <tr>\n",
       "      <th>11</th>\n",
       "      <td>2022-12-31</td>\n",
       "      <td>55473.0</td>\n",
       "      <td>632319.0</td>\n",
       "    </tr>\n",
       "  </tbody>\n",
       "</table>\n",
       "</div>"
      ],
      "text/plain": [
       "         Дата    Сумма    cumsum\n",
       "0  2022-01-31  50000.0   50000.0\n",
       "1  2022-02-28  50474.0  100474.0\n",
       "2  2022-03-31  50953.0  151427.0\n",
       "3  2022-04-30  51436.0  202863.0\n",
       "4  2022-05-31  51924.0  254787.0\n",
       "5  2022-06-30  52417.0  307204.0\n",
       "6  2022-07-31  52915.0  360119.0\n",
       "7  2022-08-31  53417.0  413536.0\n",
       "8  2022-09-30  53923.0  467459.0\n",
       "9  2022-10-31  54435.0  521894.0\n",
       "10 2022-11-30  54952.0  576846.0\n",
       "11 2022-12-31  55473.0  632319.0"
      ]
     },
     "execution_count": 84,
     "metadata": {},
     "output_type": "execute_result"
    }
   ],
   "source": [
    "df['cumsum'] = df['Сумма'].cumsum()\n",
    "df"
   ]
  },
  {
   "cell_type": "code",
   "execution_count": 85,
   "id": "d4ee6535",
   "metadata": {},
   "outputs": [
    {
     "data": {
      "text/html": [
       "<div>\n",
       "<style scoped>\n",
       "    .dataframe tbody tr th:only-of-type {\n",
       "        vertical-align: middle;\n",
       "    }\n",
       "\n",
       "    .dataframe tbody tr th {\n",
       "        vertical-align: top;\n",
       "    }\n",
       "\n",
       "    .dataframe thead th {\n",
       "        text-align: right;\n",
       "    }\n",
       "</style>\n",
       "<table border=\"1\" class=\"dataframe\">\n",
       "  <thead>\n",
       "    <tr style=\"text-align: right;\">\n",
       "      <th></th>\n",
       "      <th>Дата</th>\n",
       "      <th>Сумма за день</th>\n",
       "    </tr>\n",
       "  </thead>\n",
       "  <tbody>\n",
       "    <tr>\n",
       "      <th>0</th>\n",
       "      <td>2022-01-31</td>\n",
       "      <td>50000.0</td>\n",
       "    </tr>\n",
       "    <tr>\n",
       "      <th>1</th>\n",
       "      <td>2022-02-28</td>\n",
       "      <td>50474.0</td>\n",
       "    </tr>\n",
       "    <tr>\n",
       "      <th>2</th>\n",
       "      <td>2022-03-31</td>\n",
       "      <td>50953.0</td>\n",
       "    </tr>\n",
       "    <tr>\n",
       "      <th>3</th>\n",
       "      <td>2022-04-30</td>\n",
       "      <td>51436.0</td>\n",
       "    </tr>\n",
       "    <tr>\n",
       "      <th>4</th>\n",
       "      <td>2022-05-31</td>\n",
       "      <td>51924.0</td>\n",
       "    </tr>\n",
       "    <tr>\n",
       "      <th>5</th>\n",
       "      <td>2022-06-30</td>\n",
       "      <td>52417.0</td>\n",
       "    </tr>\n",
       "    <tr>\n",
       "      <th>6</th>\n",
       "      <td>2022-07-31</td>\n",
       "      <td>52915.0</td>\n",
       "    </tr>\n",
       "    <tr>\n",
       "      <th>7</th>\n",
       "      <td>2022-08-31</td>\n",
       "      <td>53417.0</td>\n",
       "    </tr>\n",
       "    <tr>\n",
       "      <th>8</th>\n",
       "      <td>2022-09-30</td>\n",
       "      <td>53923.0</td>\n",
       "    </tr>\n",
       "    <tr>\n",
       "      <th>9</th>\n",
       "      <td>2022-10-31</td>\n",
       "      <td>54435.0</td>\n",
       "    </tr>\n",
       "    <tr>\n",
       "      <th>10</th>\n",
       "      <td>2022-11-30</td>\n",
       "      <td>54952.0</td>\n",
       "    </tr>\n",
       "    <tr>\n",
       "      <th>11</th>\n",
       "      <td>2022-12-31</td>\n",
       "      <td>55473.0</td>\n",
       "    </tr>\n",
       "  </tbody>\n",
       "</table>\n",
       "</div>"
      ],
      "text/plain": [
       "         Дата  Сумма за день\n",
       "0  2022-01-31        50000.0\n",
       "1  2022-02-28        50474.0\n",
       "2  2022-03-31        50953.0\n",
       "3  2022-04-30        51436.0\n",
       "4  2022-05-31        51924.0\n",
       "5  2022-06-30        52417.0\n",
       "6  2022-07-31        52915.0\n",
       "7  2022-08-31        53417.0\n",
       "8  2022-09-30        53923.0\n",
       "9  2022-10-31        54435.0\n",
       "10 2022-11-30        54952.0\n",
       "11 2022-12-31        55473.0"
      ]
     },
     "execution_count": 85,
     "metadata": {},
     "output_type": "execute_result"
    }
   ],
   "source": [
    "df.groupby(\"Дата\")[\"Сумма\"].sum().reset_index(name=\"Сумма за день\")"
   ]
  },
  {
   "cell_type": "markdown",
   "id": "2a97cb65",
   "metadata": {},
   "source": [
    "### Задание 2\n",
    "\n",
    "У каждого сотрудника есть оценка. Сейчас она считается от 1 до 10 включительно. Сделайте так, чтобы границы оценки лежали на отрезке от 0 до 1 (любым способом)"
   ]
  },
  {
   "cell_type": "code",
   "execution_count": 89,
   "id": "93d6486d",
   "metadata": {},
   "outputs": [
    {
     "data": {
      "text/html": [
       "<div>\n",
       "<style scoped>\n",
       "    .dataframe tbody tr th:only-of-type {\n",
       "        vertical-align: middle;\n",
       "    }\n",
       "\n",
       "    .dataframe tbody tr th {\n",
       "        vertical-align: top;\n",
       "    }\n",
       "\n",
       "    .dataframe thead th {\n",
       "        text-align: right;\n",
       "    }\n",
       "</style>\n",
       "<table border=\"1\" class=\"dataframe\">\n",
       "  <thead>\n",
       "    <tr style=\"text-align: right;\">\n",
       "      <th></th>\n",
       "      <th>report_dt</th>\n",
       "      <th>i_pernr</th>\n",
       "      <th>fio</th>\n",
       "      <th>sex</th>\n",
       "      <th>shop_id</th>\n",
       "      <th>pos_name</th>\n",
       "      <th>pos_id</th>\n",
       "      <th>closest_boss_pos_id</th>\n",
       "      <th>mgmt_flag</th>\n",
       "      <th>salary_fork</th>\n",
       "      <th>birth_date</th>\n",
       "      <th>education</th>\n",
       "      <th>employee_evaluation</th>\n",
       "      <th>salary</th>\n",
       "    </tr>\n",
       "  </thead>\n",
       "  <tbody>\n",
       "    <tr>\n",
       "      <th>0</th>\n",
       "      <td>2015-01-31</td>\n",
       "      <td>100000</td>\n",
       "      <td>Кожевников Андрей Максимович</td>\n",
       "      <td>мужской</td>\n",
       "      <td>1</td>\n",
       "      <td>Директор магазина</td>\n",
       "      <td>11</td>\n",
       "      <td>&lt;NA&gt;</td>\n",
       "      <td>1</td>\n",
       "      <td>0</td>\n",
       "      <td>1987-03-11</td>\n",
       "      <td>высшее</td>\n",
       "      <td>5.0</td>\n",
       "      <td>45700.0</td>\n",
       "    </tr>\n",
       "    <tr>\n",
       "      <th>1</th>\n",
       "      <td>2015-01-31</td>\n",
       "      <td>0</td>\n",
       "      <td>Дубинина Надежда Николаевна</td>\n",
       "      <td>женский</td>\n",
       "      <td>1</td>\n",
       "      <td>Старший кассир</td>\n",
       "      <td>12</td>\n",
       "      <td>11</td>\n",
       "      <td>0</td>\n",
       "      <td>0</td>\n",
       "      <td>1971-07-07</td>\n",
       "      <td>среднее профессиональное</td>\n",
       "      <td>5.0</td>\n",
       "      <td>20000.0</td>\n",
       "    </tr>\n",
       "    <tr>\n",
       "      <th>2</th>\n",
       "      <td>2015-01-31</td>\n",
       "      <td>1</td>\n",
       "      <td>Вишневскиая Валентина Константиновна</td>\n",
       "      <td>женский</td>\n",
       "      <td>1</td>\n",
       "      <td>Кассир</td>\n",
       "      <td>13</td>\n",
       "      <td>12</td>\n",
       "      <td>0</td>\n",
       "      <td>0</td>\n",
       "      <td>1974-11-29</td>\n",
       "      <td>среднее общее</td>\n",
       "      <td>5.0</td>\n",
       "      <td>12600.0</td>\n",
       "    </tr>\n",
       "    <tr>\n",
       "      <th>3</th>\n",
       "      <td>2015-01-31</td>\n",
       "      <td>2</td>\n",
       "      <td>Литвинов Александр Максимович</td>\n",
       "      <td>мужской</td>\n",
       "      <td>1</td>\n",
       "      <td>Кассир</td>\n",
       "      <td>14</td>\n",
       "      <td>12</td>\n",
       "      <td>0</td>\n",
       "      <td>0</td>\n",
       "      <td>1969-11-01</td>\n",
       "      <td>среднее общее</td>\n",
       "      <td>3.0</td>\n",
       "      <td>12600.0</td>\n",
       "    </tr>\n",
       "    <tr>\n",
       "      <th>4</th>\n",
       "      <td>2015-01-31</td>\n",
       "      <td>3</td>\n",
       "      <td>Черняева Валерия Глебовна</td>\n",
       "      <td>женский</td>\n",
       "      <td>1</td>\n",
       "      <td>Продавец-консультант</td>\n",
       "      <td>17</td>\n",
       "      <td>11</td>\n",
       "      <td>0</td>\n",
       "      <td>0</td>\n",
       "      <td>1988-07-17</td>\n",
       "      <td>среднее общее</td>\n",
       "      <td>NaN</td>\n",
       "      <td>15400.0</td>\n",
       "    </tr>\n",
       "  </tbody>\n",
       "</table>\n",
       "</div>"
      ],
      "text/plain": [
       "   report_dt  i_pernr                                   fio      sex  shop_id  \\\n",
       "0 2015-01-31   100000          Кожевников Андрей Максимович  мужской        1   \n",
       "1 2015-01-31        0           Дубинина Надежда Николаевна  женский        1   \n",
       "2 2015-01-31        1  Вишневскиая Валентина Константиновна  женский        1   \n",
       "3 2015-01-31        2         Литвинов Александр Максимович  мужской        1   \n",
       "4 2015-01-31        3             Черняева Валерия Глебовна  женский        1   \n",
       "\n",
       "               pos_name  pos_id  closest_boss_pos_id  mgmt_flag  salary_fork  \\\n",
       "0     Директор магазина      11                 <NA>          1            0   \n",
       "1        Старший кассир      12                   11          0            0   \n",
       "2                Кассир      13                   12          0            0   \n",
       "3                Кассир      14                   12          0            0   \n",
       "4  Продавец-консультант      17                   11          0            0   \n",
       "\n",
       "  birth_date                 education  employee_evaluation   salary  \n",
       "0 1987-03-11                    высшее                  5.0  45700.0  \n",
       "1 1971-07-07  среднее профессиональное                  5.0  20000.0  \n",
       "2 1974-11-29             среднее общее                  5.0  12600.0  \n",
       "3 1969-11-01             среднее общее                  3.0  12600.0  \n",
       "4 1988-07-17             среднее общее                  NaN  15400.0  "
      ]
     },
     "execution_count": 89,
     "metadata": {},
     "output_type": "execute_result"
    }
   ],
   "source": [
    "import os\n",
    "import pandas as pd\n",
    "\n",
    "path_empl = '../tables/employees.parquet' if os.path.exists('../tables/employees.parquet') else 'https://drive.google.com/uc?id=1AARD5-eVlCxoApt5CYZebrC3Cqw42lvj'\n",
    "\n",
    "empl = pd.read_parquet(path_empl)\n",
    "empl.head()"
   ]
  },
  {
   "cell_type": "code",
   "execution_count": 90,
   "id": "00a14fc6",
   "metadata": {},
   "outputs": [
    {
     "data": {
      "text/html": [
       "<div>\n",
       "<style scoped>\n",
       "    .dataframe tbody tr th:only-of-type {\n",
       "        vertical-align: middle;\n",
       "    }\n",
       "\n",
       "    .dataframe tbody tr th {\n",
       "        vertical-align: top;\n",
       "    }\n",
       "\n",
       "    .dataframe thead th {\n",
       "        text-align: right;\n",
       "    }\n",
       "</style>\n",
       "<table border=\"1\" class=\"dataframe\">\n",
       "  <thead>\n",
       "    <tr style=\"text-align: right;\">\n",
       "      <th></th>\n",
       "      <th>report_dt</th>\n",
       "      <th>i_pernr</th>\n",
       "      <th>fio</th>\n",
       "      <th>sex</th>\n",
       "      <th>shop_id</th>\n",
       "      <th>pos_name</th>\n",
       "      <th>pos_id</th>\n",
       "      <th>closest_boss_pos_id</th>\n",
       "      <th>mgmt_flag</th>\n",
       "      <th>salary_fork</th>\n",
       "      <th>birth_date</th>\n",
       "      <th>education</th>\n",
       "      <th>employee_evaluation</th>\n",
       "      <th>salary</th>\n",
       "    </tr>\n",
       "  </thead>\n",
       "  <tbody>\n",
       "    <tr>\n",
       "      <th>0</th>\n",
       "      <td>2015-01-31</td>\n",
       "      <td>100000</td>\n",
       "      <td>Кожевников Андрей Максимович</td>\n",
       "      <td>мужской</td>\n",
       "      <td>1</td>\n",
       "      <td>Директор магазина</td>\n",
       "      <td>11</td>\n",
       "      <td>&lt;NA&gt;</td>\n",
       "      <td>1</td>\n",
       "      <td>0</td>\n",
       "      <td>1987-03-11</td>\n",
       "      <td>высшее</td>\n",
       "      <td>0.5</td>\n",
       "      <td>45700.0</td>\n",
       "    </tr>\n",
       "    <tr>\n",
       "      <th>1</th>\n",
       "      <td>2015-01-31</td>\n",
       "      <td>0</td>\n",
       "      <td>Дубинина Надежда Николаевна</td>\n",
       "      <td>женский</td>\n",
       "      <td>1</td>\n",
       "      <td>Старший кассир</td>\n",
       "      <td>12</td>\n",
       "      <td>11</td>\n",
       "      <td>0</td>\n",
       "      <td>0</td>\n",
       "      <td>1971-07-07</td>\n",
       "      <td>среднее профессиональное</td>\n",
       "      <td>0.5</td>\n",
       "      <td>20000.0</td>\n",
       "    </tr>\n",
       "    <tr>\n",
       "      <th>2</th>\n",
       "      <td>2015-01-31</td>\n",
       "      <td>1</td>\n",
       "      <td>Вишневскиая Валентина Константиновна</td>\n",
       "      <td>женский</td>\n",
       "      <td>1</td>\n",
       "      <td>Кассир</td>\n",
       "      <td>13</td>\n",
       "      <td>12</td>\n",
       "      <td>0</td>\n",
       "      <td>0</td>\n",
       "      <td>1974-11-29</td>\n",
       "      <td>среднее общее</td>\n",
       "      <td>0.5</td>\n",
       "      <td>12600.0</td>\n",
       "    </tr>\n",
       "    <tr>\n",
       "      <th>3</th>\n",
       "      <td>2015-01-31</td>\n",
       "      <td>2</td>\n",
       "      <td>Литвинов Александр Максимович</td>\n",
       "      <td>мужской</td>\n",
       "      <td>1</td>\n",
       "      <td>Кассир</td>\n",
       "      <td>14</td>\n",
       "      <td>12</td>\n",
       "      <td>0</td>\n",
       "      <td>0</td>\n",
       "      <td>1969-11-01</td>\n",
       "      <td>среднее общее</td>\n",
       "      <td>0.3</td>\n",
       "      <td>12600.0</td>\n",
       "    </tr>\n",
       "    <tr>\n",
       "      <th>4</th>\n",
       "      <td>2015-01-31</td>\n",
       "      <td>3</td>\n",
       "      <td>Черняева Валерия Глебовна</td>\n",
       "      <td>женский</td>\n",
       "      <td>1</td>\n",
       "      <td>Продавец-консультант</td>\n",
       "      <td>17</td>\n",
       "      <td>11</td>\n",
       "      <td>0</td>\n",
       "      <td>0</td>\n",
       "      <td>1988-07-17</td>\n",
       "      <td>среднее общее</td>\n",
       "      <td>NaN</td>\n",
       "      <td>15400.0</td>\n",
       "    </tr>\n",
       "    <tr>\n",
       "      <th>...</th>\n",
       "      <td>...</td>\n",
       "      <td>...</td>\n",
       "      <td>...</td>\n",
       "      <td>...</td>\n",
       "      <td>...</td>\n",
       "      <td>...</td>\n",
       "      <td>...</td>\n",
       "      <td>...</td>\n",
       "      <td>...</td>\n",
       "      <td>...</td>\n",
       "      <td>...</td>\n",
       "      <td>...</td>\n",
       "      <td>...</td>\n",
       "      <td>...</td>\n",
       "    </tr>\n",
       "    <tr>\n",
       "      <th>29367</th>\n",
       "      <td>2022-12-31</td>\n",
       "      <td>1372</td>\n",
       "      <td>Морозова Раиса Ярославовна</td>\n",
       "      <td>женский</td>\n",
       "      <td>23</td>\n",
       "      <td>Продавец-консультант</td>\n",
       "      <td>2325</td>\n",
       "      <td>232</td>\n",
       "      <td>0</td>\n",
       "      <td>2</td>\n",
       "      <td>1962-01-13</td>\n",
       "      <td>среднее профессиональное</td>\n",
       "      <td>0.6</td>\n",
       "      <td>38000.0</td>\n",
       "    </tr>\n",
       "    <tr>\n",
       "      <th>29368</th>\n",
       "      <td>2022-12-31</td>\n",
       "      <td>1615</td>\n",
       "      <td>Фадеева Евгения Данииловна</td>\n",
       "      <td>женский</td>\n",
       "      <td>23</td>\n",
       "      <td>Товаровед</td>\n",
       "      <td>2326</td>\n",
       "      <td>233</td>\n",
       "      <td>0</td>\n",
       "      <td>1</td>\n",
       "      <td>1989-07-12</td>\n",
       "      <td>среднее общее</td>\n",
       "      <td>0.6</td>\n",
       "      <td>31800.0</td>\n",
       "    </tr>\n",
       "    <tr>\n",
       "      <th>29369</th>\n",
       "      <td>2022-12-31</td>\n",
       "      <td>1748</td>\n",
       "      <td>Измайлов Григорий Артемович</td>\n",
       "      <td>мужской</td>\n",
       "      <td>23</td>\n",
       "      <td>Товаровед</td>\n",
       "      <td>2327</td>\n",
       "      <td>233</td>\n",
       "      <td>0</td>\n",
       "      <td>0</td>\n",
       "      <td>1989-12-23</td>\n",
       "      <td>среднее общее</td>\n",
       "      <td>0.3</td>\n",
       "      <td>28400.0</td>\n",
       "    </tr>\n",
       "    <tr>\n",
       "      <th>29370</th>\n",
       "      <td>2022-12-31</td>\n",
       "      <td>1616</td>\n",
       "      <td>Русаков Евгений Тимурович</td>\n",
       "      <td>мужской</td>\n",
       "      <td>23</td>\n",
       "      <td>Мастер по ремонту одежды</td>\n",
       "      <td>2328</td>\n",
       "      <td>232</td>\n",
       "      <td>0</td>\n",
       "      <td>2</td>\n",
       "      <td>1963-09-19</td>\n",
       "      <td>среднее профессиональное</td>\n",
       "      <td>0.7</td>\n",
       "      <td>35500.0</td>\n",
       "    </tr>\n",
       "    <tr>\n",
       "      <th>29371</th>\n",
       "      <td>2022-12-31</td>\n",
       "      <td>1687</td>\n",
       "      <td>Суханова Дарья Фёдоровна</td>\n",
       "      <td>женский</td>\n",
       "      <td>23</td>\n",
       "      <td>Уборщик</td>\n",
       "      <td>2329</td>\n",
       "      <td>232</td>\n",
       "      <td>0</td>\n",
       "      <td>2</td>\n",
       "      <td>1989-08-10</td>\n",
       "      <td>среднее профессиональное</td>\n",
       "      <td>0.8</td>\n",
       "      <td>26400.0</td>\n",
       "    </tr>\n",
       "  </tbody>\n",
       "</table>\n",
       "<p>29372 rows × 14 columns</p>\n",
       "</div>"
      ],
      "text/plain": [
       "       report_dt  i_pernr                                   fio      sex  \\\n",
       "0     2015-01-31   100000          Кожевников Андрей Максимович  мужской   \n",
       "1     2015-01-31        0           Дубинина Надежда Николаевна  женский   \n",
       "2     2015-01-31        1  Вишневскиая Валентина Константиновна  женский   \n",
       "3     2015-01-31        2         Литвинов Александр Максимович  мужской   \n",
       "4     2015-01-31        3             Черняева Валерия Глебовна  женский   \n",
       "...          ...      ...                                   ...      ...   \n",
       "29367 2022-12-31     1372            Морозова Раиса Ярославовна  женский   \n",
       "29368 2022-12-31     1615            Фадеева Евгения Данииловна  женский   \n",
       "29369 2022-12-31     1748           Измайлов Григорий Артемович  мужской   \n",
       "29370 2022-12-31     1616             Русаков Евгений Тимурович  мужской   \n",
       "29371 2022-12-31     1687              Суханова Дарья Фёдоровна  женский   \n",
       "\n",
       "       shop_id                  pos_name  pos_id  closest_boss_pos_id  \\\n",
       "0            1         Директор магазина      11                 <NA>   \n",
       "1            1            Старший кассир      12                   11   \n",
       "2            1                    Кассир      13                   12   \n",
       "3            1                    Кассир      14                   12   \n",
       "4            1      Продавец-консультант      17                   11   \n",
       "...        ...                       ...     ...                  ...   \n",
       "29367       23      Продавец-консультант    2325                  232   \n",
       "29368       23                 Товаровед    2326                  233   \n",
       "29369       23                 Товаровед    2327                  233   \n",
       "29370       23  Мастер по ремонту одежды    2328                  232   \n",
       "29371       23                   Уборщик    2329                  232   \n",
       "\n",
       "       mgmt_flag  salary_fork birth_date                 education  \\\n",
       "0              1            0 1987-03-11                    высшее   \n",
       "1              0            0 1971-07-07  среднее профессиональное   \n",
       "2              0            0 1974-11-29             среднее общее   \n",
       "3              0            0 1969-11-01             среднее общее   \n",
       "4              0            0 1988-07-17             среднее общее   \n",
       "...          ...          ...        ...                       ...   \n",
       "29367          0            2 1962-01-13  среднее профессиональное   \n",
       "29368          0            1 1989-07-12             среднее общее   \n",
       "29369          0            0 1989-12-23             среднее общее   \n",
       "29370          0            2 1963-09-19  среднее профессиональное   \n",
       "29371          0            2 1989-08-10  среднее профессиональное   \n",
       "\n",
       "       employee_evaluation   salary  \n",
       "0                      0.5  45700.0  \n",
       "1                      0.5  20000.0  \n",
       "2                      0.5  12600.0  \n",
       "3                      0.3  12600.0  \n",
       "4                      NaN  15400.0  \n",
       "...                    ...      ...  \n",
       "29367                  0.6  38000.0  \n",
       "29368                  0.6  31800.0  \n",
       "29369                  0.3  28400.0  \n",
       "29370                  0.7  35500.0  \n",
       "29371                  0.8  26400.0  \n",
       "\n",
       "[29372 rows x 14 columns]"
      ]
     },
     "execution_count": 90,
     "metadata": {},
     "output_type": "execute_result"
    }
   ],
   "source": [
    "empl[\"employee_evaluation\"] = empl[\"employee_evaluation\"].apply(lambda x: x / 10)\n",
    "empl"
   ]
  },
  {
   "cell_type": "markdown",
   "id": "e9229a6b",
   "metadata": {},
   "source": [
    "### Задание 3\n",
    "\n",
    "Создайте колонку таблицы в которой будут лежать все нечетные числа от 1 до 99 включительно. Найдите накопленную сумму"
   ]
  },
  {
   "cell_type": "code",
   "execution_count": null,
   "id": "ed395f63",
   "metadata": {},
   "outputs": [],
   "source": [
    "import pandas as pd\n",
    "import numpy as np\n",
    "\n",
    "# Напишите свой код здесь"
   ]
  },
  {
   "cell_type": "code",
   "execution_count": 98,
   "id": "2a7b588c",
   "metadata": {},
   "outputs": [
    {
     "data": {
      "text/html": [
       "<div>\n",
       "<style scoped>\n",
       "    .dataframe tbody tr th:only-of-type {\n",
       "        vertical-align: middle;\n",
       "    }\n",
       "\n",
       "    .dataframe tbody tr th {\n",
       "        vertical-align: top;\n",
       "    }\n",
       "\n",
       "    .dataframe thead th {\n",
       "        text-align: right;\n",
       "    }\n",
       "</style>\n",
       "<table border=\"1\" class=\"dataframe\">\n",
       "  <thead>\n",
       "    <tr style=\"text-align: right;\">\n",
       "      <th></th>\n",
       "      <th>Номер</th>\n",
       "      <th>cumsum</th>\n",
       "    </tr>\n",
       "  </thead>\n",
       "  <tbody>\n",
       "    <tr>\n",
       "      <th>0</th>\n",
       "      <td>1</td>\n",
       "      <td>1</td>\n",
       "    </tr>\n",
       "    <tr>\n",
       "      <th>1</th>\n",
       "      <td>2</td>\n",
       "      <td>3</td>\n",
       "    </tr>\n",
       "    <tr>\n",
       "      <th>2</th>\n",
       "      <td>3</td>\n",
       "      <td>6</td>\n",
       "    </tr>\n",
       "    <tr>\n",
       "      <th>3</th>\n",
       "      <td>4</td>\n",
       "      <td>10</td>\n",
       "    </tr>\n",
       "    <tr>\n",
       "      <th>4</th>\n",
       "      <td>5</td>\n",
       "      <td>15</td>\n",
       "    </tr>\n",
       "    <tr>\n",
       "      <th>...</th>\n",
       "      <td>...</td>\n",
       "      <td>...</td>\n",
       "    </tr>\n",
       "    <tr>\n",
       "      <th>93</th>\n",
       "      <td>94</td>\n",
       "      <td>4465</td>\n",
       "    </tr>\n",
       "    <tr>\n",
       "      <th>94</th>\n",
       "      <td>95</td>\n",
       "      <td>4560</td>\n",
       "    </tr>\n",
       "    <tr>\n",
       "      <th>95</th>\n",
       "      <td>96</td>\n",
       "      <td>4656</td>\n",
       "    </tr>\n",
       "    <tr>\n",
       "      <th>96</th>\n",
       "      <td>97</td>\n",
       "      <td>4753</td>\n",
       "    </tr>\n",
       "    <tr>\n",
       "      <th>97</th>\n",
       "      <td>98</td>\n",
       "      <td>4851</td>\n",
       "    </tr>\n",
       "  </tbody>\n",
       "</table>\n",
       "<p>98 rows × 2 columns</p>\n",
       "</div>"
      ],
      "text/plain": [
       "    Номер  cumsum\n",
       "0       1       1\n",
       "1       2       3\n",
       "2       3       6\n",
       "3       4      10\n",
       "4       5      15\n",
       "..    ...     ...\n",
       "93     94    4465\n",
       "94     95    4560\n",
       "95     96    4656\n",
       "96     97    4753\n",
       "97     98    4851\n",
       "\n",
       "[98 rows x 2 columns]"
      ]
     },
     "execution_count": 98,
     "metadata": {},
     "output_type": "execute_result"
    }
   ],
   "source": [
    "df1 = pd.DataFrame(np.arange(1, 99), columns=['Номер']).reset_index(drop=True)\n",
    "df1['cumsum'] = df1['Номер'].cumsum()\n",
    "df1"
   ]
  },
  {
   "cell_type": "markdown",
   "id": "7f2aef1d",
   "metadata": {},
   "source": [
    "### Задание 4\n",
    "\n",
    "В колонке gender таблицы goods_descr поменяйте значение Men на мужской, а значение Women на женский. Учите, что в колонке есть еще одно значение Unisex. Не делайте из него NaN"
   ]
  },
  {
   "cell_type": "code",
   "execution_count": 99,
   "id": "44edda37",
   "metadata": {},
   "outputs": [
    {
     "data": {
      "text/html": [
       "<div>\n",
       "<style scoped>\n",
       "    .dataframe tbody tr th:only-of-type {\n",
       "        vertical-align: middle;\n",
       "    }\n",
       "\n",
       "    .dataframe tbody tr th {\n",
       "        vertical-align: top;\n",
       "    }\n",
       "\n",
       "    .dataframe thead th {\n",
       "        text-align: right;\n",
       "    }\n",
       "</style>\n",
       "<table border=\"1\" class=\"dataframe\">\n",
       "  <thead>\n",
       "    <tr style=\"text-align: right;\">\n",
       "      <th></th>\n",
       "      <th>product_name</th>\n",
       "      <th>brand</th>\n",
       "      <th>description</th>\n",
       "      <th>product_code_1</th>\n",
       "      <th>product_code_2</th>\n",
       "      <th>product_code_3</th>\n",
       "      <th>gender</th>\n",
       "      <th>is_no_size</th>\n",
       "      <th>is_one_size</th>\n",
       "      <th>product_type</th>\n",
       "      <th>size_long</th>\n",
       "      <th>size_short</th>\n",
       "      <th>seller</th>\n",
       "      <th>colour</th>\n",
       "      <th>url</th>\n",
       "    </tr>\n",
       "  </thead>\n",
       "  <tbody>\n",
       "    <tr>\n",
       "      <th>0</th>\n",
       "      <td>River Island slim shacket in brown</td>\n",
       "      <td>River Island</td>\n",
       "      <td>Shirts by River Island Do the smart thing Spre...</td>\n",
       "      <td>0</td>\n",
       "      <td>204638347</td>\n",
       "      <td>204638356</td>\n",
       "      <td>Men</td>\n",
       "      <td>False</td>\n",
       "      <td>False</td>\n",
       "      <td>Рубашки</td>\n",
       "      <td>XS - Chest 32-34</td>\n",
       "      <td>XS</td>\n",
       "      <td>&lt;NA&gt;</td>\n",
       "      <td>Brown</td>\n",
       "      <td>https://www.asos.com/river-island/river-island...</td>\n",
       "    </tr>\n",
       "    <tr>\n",
       "      <th>1</th>\n",
       "      <td>River Island slim shacket in brown</td>\n",
       "      <td>River Island</td>\n",
       "      <td>Shirts by River Island Do the smart thing Spre...</td>\n",
       "      <td>0</td>\n",
       "      <td>204638347</td>\n",
       "      <td>204638358</td>\n",
       "      <td>Men</td>\n",
       "      <td>False</td>\n",
       "      <td>False</td>\n",
       "      <td>Рубашки</td>\n",
       "      <td>S - Chest 35-37</td>\n",
       "      <td>S</td>\n",
       "      <td>&lt;NA&gt;</td>\n",
       "      <td>Brown</td>\n",
       "      <td>https://www.asos.com/river-island/river-island...</td>\n",
       "    </tr>\n",
       "    <tr>\n",
       "      <th>2</th>\n",
       "      <td>River Island slim shacket in brown</td>\n",
       "      <td>River Island</td>\n",
       "      <td>Shirts by River Island Do the smart thing Spre...</td>\n",
       "      <td>0</td>\n",
       "      <td>204638347</td>\n",
       "      <td>204638360</td>\n",
       "      <td>Men</td>\n",
       "      <td>False</td>\n",
       "      <td>False</td>\n",
       "      <td>Рубашки</td>\n",
       "      <td>M - Chest 38-40</td>\n",
       "      <td>M</td>\n",
       "      <td>&lt;NA&gt;</td>\n",
       "      <td>Brown</td>\n",
       "      <td>https://www.asos.com/river-island/river-island...</td>\n",
       "    </tr>\n",
       "    <tr>\n",
       "      <th>3</th>\n",
       "      <td>River Island slim shacket in brown</td>\n",
       "      <td>River Island</td>\n",
       "      <td>Shirts by River Island Do the smart thing Spre...</td>\n",
       "      <td>0</td>\n",
       "      <td>204638347</td>\n",
       "      <td>204638351</td>\n",
       "      <td>Men</td>\n",
       "      <td>False</td>\n",
       "      <td>False</td>\n",
       "      <td>Рубашки</td>\n",
       "      <td>L - Chest 41-43</td>\n",
       "      <td>L</td>\n",
       "      <td>&lt;NA&gt;</td>\n",
       "      <td>Brown</td>\n",
       "      <td>https://www.asos.com/river-island/river-island...</td>\n",
       "    </tr>\n",
       "    <tr>\n",
       "      <th>4</th>\n",
       "      <td>River Island slim shacket in brown</td>\n",
       "      <td>River Island</td>\n",
       "      <td>Shirts by River Island Do the smart thing Spre...</td>\n",
       "      <td>0</td>\n",
       "      <td>204638347</td>\n",
       "      <td>204638354</td>\n",
       "      <td>Men</td>\n",
       "      <td>False</td>\n",
       "      <td>False</td>\n",
       "      <td>Рубашки</td>\n",
       "      <td>XL - Chest 44-46</td>\n",
       "      <td>XL</td>\n",
       "      <td>&lt;NA&gt;</td>\n",
       "      <td>Brown</td>\n",
       "      <td>https://www.asos.com/river-island/river-island...</td>\n",
       "    </tr>\n",
       "  </tbody>\n",
       "</table>\n",
       "</div>"
      ],
      "text/plain": [
       "                         product_name         brand  \\\n",
       "0  River Island slim shacket in brown  River Island   \n",
       "1  River Island slim shacket in brown  River Island   \n",
       "2  River Island slim shacket in brown  River Island   \n",
       "3  River Island slim shacket in brown  River Island   \n",
       "4  River Island slim shacket in brown  River Island   \n",
       "\n",
       "                                         description  product_code_1  \\\n",
       "0  Shirts by River Island Do the smart thing Spre...               0   \n",
       "1  Shirts by River Island Do the smart thing Spre...               0   \n",
       "2  Shirts by River Island Do the smart thing Spre...               0   \n",
       "3  Shirts by River Island Do the smart thing Spre...               0   \n",
       "4  Shirts by River Island Do the smart thing Spre...               0   \n",
       "\n",
       "   product_code_2  product_code_3 gender  is_no_size  is_one_size  \\\n",
       "0       204638347       204638356    Men       False        False   \n",
       "1       204638347       204638358    Men       False        False   \n",
       "2       204638347       204638360    Men       False        False   \n",
       "3       204638347       204638351    Men       False        False   \n",
       "4       204638347       204638354    Men       False        False   \n",
       "\n",
       "  product_type         size_long size_short seller colour  \\\n",
       "0      Рубашки  XS - Chest 32-34         XS   <NA>  Brown   \n",
       "1      Рубашки   S - Chest 35-37          S   <NA>  Brown   \n",
       "2      Рубашки   M - Chest 38-40          M   <NA>  Brown   \n",
       "3      Рубашки   L - Chest 41-43          L   <NA>  Brown   \n",
       "4      Рубашки  XL - Chest 44-46         XL   <NA>  Brown   \n",
       "\n",
       "                                                 url  \n",
       "0  https://www.asos.com/river-island/river-island...  \n",
       "1  https://www.asos.com/river-island/river-island...  \n",
       "2  https://www.asos.com/river-island/river-island...  \n",
       "3  https://www.asos.com/river-island/river-island...  \n",
       "4  https://www.asos.com/river-island/river-island...  "
      ]
     },
     "execution_count": 99,
     "metadata": {},
     "output_type": "execute_result"
    }
   ],
   "source": [
    "import os\n",
    "import pandas as pd\n",
    "\n",
    "path_goods_descr = '../tables/goods_description.parquet' if os.path.exists('../tables/goods_description.parquet') else 'https://drive.google.com/uc?id=1YbiD02Rev-X_WWV9nPSG1zZFmEh2JjPh'\n",
    "\n",
    "goods_descr = pd.read_parquet(path_goods_descr)\n",
    "goods_descr.head()"
   ]
  },
  {
   "cell_type": "code",
   "execution_count": 101,
   "id": "2cb655f2",
   "metadata": {},
   "outputs": [
    {
     "data": {
      "text/html": [
       "<div>\n",
       "<style scoped>\n",
       "    .dataframe tbody tr th:only-of-type {\n",
       "        vertical-align: middle;\n",
       "    }\n",
       "\n",
       "    .dataframe tbody tr th {\n",
       "        vertical-align: top;\n",
       "    }\n",
       "\n",
       "    .dataframe thead th {\n",
       "        text-align: right;\n",
       "    }\n",
       "</style>\n",
       "<table border=\"1\" class=\"dataframe\">\n",
       "  <thead>\n",
       "    <tr style=\"text-align: right;\">\n",
       "      <th></th>\n",
       "      <th>product_name</th>\n",
       "      <th>brand</th>\n",
       "      <th>description</th>\n",
       "      <th>product_code_1</th>\n",
       "      <th>product_code_2</th>\n",
       "      <th>product_code_3</th>\n",
       "      <th>gender</th>\n",
       "      <th>is_no_size</th>\n",
       "      <th>is_one_size</th>\n",
       "      <th>product_type</th>\n",
       "      <th>size_long</th>\n",
       "      <th>size_short</th>\n",
       "      <th>seller</th>\n",
       "      <th>colour</th>\n",
       "      <th>url</th>\n",
       "    </tr>\n",
       "  </thead>\n",
       "  <tbody>\n",
       "    <tr>\n",
       "      <th>0</th>\n",
       "      <td>River Island slim shacket in brown</td>\n",
       "      <td>River Island</td>\n",
       "      <td>Shirts by River Island Do the smart thing Spre...</td>\n",
       "      <td>0</td>\n",
       "      <td>204638347</td>\n",
       "      <td>204638356</td>\n",
       "      <td>Мужской</td>\n",
       "      <td>False</td>\n",
       "      <td>False</td>\n",
       "      <td>Рубашки</td>\n",
       "      <td>XS - Chest 32-34</td>\n",
       "      <td>XS</td>\n",
       "      <td>&lt;NA&gt;</td>\n",
       "      <td>Brown</td>\n",
       "      <td>https://www.asos.com/river-island/river-island...</td>\n",
       "    </tr>\n",
       "    <tr>\n",
       "      <th>1</th>\n",
       "      <td>River Island slim shacket in brown</td>\n",
       "      <td>River Island</td>\n",
       "      <td>Shirts by River Island Do the smart thing Spre...</td>\n",
       "      <td>0</td>\n",
       "      <td>204638347</td>\n",
       "      <td>204638358</td>\n",
       "      <td>Мужской</td>\n",
       "      <td>False</td>\n",
       "      <td>False</td>\n",
       "      <td>Рубашки</td>\n",
       "      <td>S - Chest 35-37</td>\n",
       "      <td>S</td>\n",
       "      <td>&lt;NA&gt;</td>\n",
       "      <td>Brown</td>\n",
       "      <td>https://www.asos.com/river-island/river-island...</td>\n",
       "    </tr>\n",
       "    <tr>\n",
       "      <th>2</th>\n",
       "      <td>River Island slim shacket in brown</td>\n",
       "      <td>River Island</td>\n",
       "      <td>Shirts by River Island Do the smart thing Spre...</td>\n",
       "      <td>0</td>\n",
       "      <td>204638347</td>\n",
       "      <td>204638360</td>\n",
       "      <td>Мужской</td>\n",
       "      <td>False</td>\n",
       "      <td>False</td>\n",
       "      <td>Рубашки</td>\n",
       "      <td>M - Chest 38-40</td>\n",
       "      <td>M</td>\n",
       "      <td>&lt;NA&gt;</td>\n",
       "      <td>Brown</td>\n",
       "      <td>https://www.asos.com/river-island/river-island...</td>\n",
       "    </tr>\n",
       "    <tr>\n",
       "      <th>3</th>\n",
       "      <td>River Island slim shacket in brown</td>\n",
       "      <td>River Island</td>\n",
       "      <td>Shirts by River Island Do the smart thing Spre...</td>\n",
       "      <td>0</td>\n",
       "      <td>204638347</td>\n",
       "      <td>204638351</td>\n",
       "      <td>Мужской</td>\n",
       "      <td>False</td>\n",
       "      <td>False</td>\n",
       "      <td>Рубашки</td>\n",
       "      <td>L - Chest 41-43</td>\n",
       "      <td>L</td>\n",
       "      <td>&lt;NA&gt;</td>\n",
       "      <td>Brown</td>\n",
       "      <td>https://www.asos.com/river-island/river-island...</td>\n",
       "    </tr>\n",
       "    <tr>\n",
       "      <th>4</th>\n",
       "      <td>River Island slim shacket in brown</td>\n",
       "      <td>River Island</td>\n",
       "      <td>Shirts by River Island Do the smart thing Spre...</td>\n",
       "      <td>0</td>\n",
       "      <td>204638347</td>\n",
       "      <td>204638354</td>\n",
       "      <td>Мужской</td>\n",
       "      <td>False</td>\n",
       "      <td>False</td>\n",
       "      <td>Рубашки</td>\n",
       "      <td>XL - Chest 44-46</td>\n",
       "      <td>XL</td>\n",
       "      <td>&lt;NA&gt;</td>\n",
       "      <td>Brown</td>\n",
       "      <td>https://www.asos.com/river-island/river-island...</td>\n",
       "    </tr>\n",
       "    <tr>\n",
       "      <th>...</th>\n",
       "      <td>...</td>\n",
       "      <td>...</td>\n",
       "      <td>...</td>\n",
       "      <td>...</td>\n",
       "      <td>...</td>\n",
       "      <td>...</td>\n",
       "      <td>...</td>\n",
       "      <td>...</td>\n",
       "      <td>...</td>\n",
       "      <td>...</td>\n",
       "      <td>...</td>\n",
       "      <td>...</td>\n",
       "      <td>...</td>\n",
       "      <td>...</td>\n",
       "      <td>...</td>\n",
       "    </tr>\n",
       "    <tr>\n",
       "      <th>81853</th>\n",
       "      <td>Missguided faux leather legging in black</td>\n",
       "      <td>Missguided</td>\n",
       "      <td>Leggings by Missguided Go with the faux High r...</td>\n",
       "      <td>34589</td>\n",
       "      <td>201010335</td>\n",
       "      <td>201010345</td>\n",
       "      <td>Женский</td>\n",
       "      <td>False</td>\n",
       "      <td>False</td>\n",
       "      <td>Леггинсы</td>\n",
       "      <td>UK 14</td>\n",
       "      <td>XL</td>\n",
       "      <td>&lt;NA&gt;</td>\n",
       "      <td>Black</td>\n",
       "      <td>https://www.asos.com/missguided/missguided-fau...</td>\n",
       "    </tr>\n",
       "    <tr>\n",
       "      <th>81854</th>\n",
       "      <td>Missguided faux leather legging in black</td>\n",
       "      <td>Missguided</td>\n",
       "      <td>Leggings by Missguided Go with the faux High r...</td>\n",
       "      <td>34589</td>\n",
       "      <td>201010335</td>\n",
       "      <td>201010348</td>\n",
       "      <td>Женский</td>\n",
       "      <td>False</td>\n",
       "      <td>False</td>\n",
       "      <td>Леггинсы</td>\n",
       "      <td>UK 16</td>\n",
       "      <td>XL</td>\n",
       "      <td>&lt;NA&gt;</td>\n",
       "      <td>Black</td>\n",
       "      <td>https://www.asos.com/missguided/missguided-fau...</td>\n",
       "    </tr>\n",
       "    <tr>\n",
       "      <th>81855</th>\n",
       "      <td>NaaNaa high waisted split hem tailored trouser...</td>\n",
       "      <td>NaaNaa</td>\n",
       "      <td>Trousers by NaaNaa For your non-denim days Dog...</td>\n",
       "      <td>34591</td>\n",
       "      <td>22841598</td>\n",
       "      <td>22842063</td>\n",
       "      <td>Женский</td>\n",
       "      <td>False</td>\n",
       "      <td>False</td>\n",
       "      <td>Брюки</td>\n",
       "      <td>UK 8</td>\n",
       "      <td>S</td>\n",
       "      <td>&lt;NA&gt;</td>\n",
       "      <td>Dogtooth</td>\n",
       "      <td>https://www.asos.com/naanaa/naanaa-high-waiste...</td>\n",
       "    </tr>\n",
       "    <tr>\n",
       "      <th>81856</th>\n",
       "      <td>NaaNaa high waisted split hem tailored trouser...</td>\n",
       "      <td>NaaNaa</td>\n",
       "      <td>Trousers by NaaNaa For your non-denim days Dog...</td>\n",
       "      <td>34591</td>\n",
       "      <td>22841598</td>\n",
       "      <td>22841683</td>\n",
       "      <td>Женский</td>\n",
       "      <td>False</td>\n",
       "      <td>False</td>\n",
       "      <td>Брюки</td>\n",
       "      <td>UK 6</td>\n",
       "      <td>XS</td>\n",
       "      <td>&lt;NA&gt;</td>\n",
       "      <td>Dogtooth</td>\n",
       "      <td>https://www.asos.com/naanaa/naanaa-high-waiste...</td>\n",
       "    </tr>\n",
       "    <tr>\n",
       "      <th>81857</th>\n",
       "      <td>NaaNaa high waisted split hem tailored trouser...</td>\n",
       "      <td>NaaNaa</td>\n",
       "      <td>Trousers by NaaNaa For your non-denim days Dog...</td>\n",
       "      <td>34591</td>\n",
       "      <td>22841598</td>\n",
       "      <td>22841999</td>\n",
       "      <td>Женский</td>\n",
       "      <td>False</td>\n",
       "      <td>False</td>\n",
       "      <td>Брюки</td>\n",
       "      <td>UK 10</td>\n",
       "      <td>M</td>\n",
       "      <td>&lt;NA&gt;</td>\n",
       "      <td>Dogtooth</td>\n",
       "      <td>https://www.asos.com/naanaa/naanaa-high-waiste...</td>\n",
       "    </tr>\n",
       "  </tbody>\n",
       "</table>\n",
       "<p>81858 rows × 15 columns</p>\n",
       "</div>"
      ],
      "text/plain": [
       "                                            product_name         brand  \\\n",
       "0                     River Island slim shacket in brown  River Island   \n",
       "1                     River Island slim shacket in brown  River Island   \n",
       "2                     River Island slim shacket in brown  River Island   \n",
       "3                     River Island slim shacket in brown  River Island   \n",
       "4                     River Island slim shacket in brown  River Island   \n",
       "...                                                  ...           ...   \n",
       "81853           Missguided faux leather legging in black    Missguided   \n",
       "81854           Missguided faux leather legging in black    Missguided   \n",
       "81855  NaaNaa high waisted split hem tailored trouser...        NaaNaa   \n",
       "81856  NaaNaa high waisted split hem tailored trouser...        NaaNaa   \n",
       "81857  NaaNaa high waisted split hem tailored trouser...        NaaNaa   \n",
       "\n",
       "                                             description  product_code_1  \\\n",
       "0      Shirts by River Island Do the smart thing Spre...               0   \n",
       "1      Shirts by River Island Do the smart thing Spre...               0   \n",
       "2      Shirts by River Island Do the smart thing Spre...               0   \n",
       "3      Shirts by River Island Do the smart thing Spre...               0   \n",
       "4      Shirts by River Island Do the smart thing Spre...               0   \n",
       "...                                                  ...             ...   \n",
       "81853  Leggings by Missguided Go with the faux High r...           34589   \n",
       "81854  Leggings by Missguided Go with the faux High r...           34589   \n",
       "81855  Trousers by NaaNaa For your non-denim days Dog...           34591   \n",
       "81856  Trousers by NaaNaa For your non-denim days Dog...           34591   \n",
       "81857  Trousers by NaaNaa For your non-denim days Dog...           34591   \n",
       "\n",
       "       product_code_2  product_code_3   gender  is_no_size  is_one_size  \\\n",
       "0           204638347       204638356  Мужской       False        False   \n",
       "1           204638347       204638358  Мужской       False        False   \n",
       "2           204638347       204638360  Мужской       False        False   \n",
       "3           204638347       204638351  Мужской       False        False   \n",
       "4           204638347       204638354  Мужской       False        False   \n",
       "...               ...             ...      ...         ...          ...   \n",
       "81853       201010335       201010345  Женский       False        False   \n",
       "81854       201010335       201010348  Женский       False        False   \n",
       "81855        22841598        22842063  Женский       False        False   \n",
       "81856        22841598        22841683  Женский       False        False   \n",
       "81857        22841598        22841999  Женский       False        False   \n",
       "\n",
       "      product_type         size_long size_short seller    colour  \\\n",
       "0          Рубашки  XS - Chest 32-34         XS   <NA>     Brown   \n",
       "1          Рубашки   S - Chest 35-37          S   <NA>     Brown   \n",
       "2          Рубашки   M - Chest 38-40          M   <NA>     Brown   \n",
       "3          Рубашки   L - Chest 41-43          L   <NA>     Brown   \n",
       "4          Рубашки  XL - Chest 44-46         XL   <NA>     Brown   \n",
       "...            ...               ...        ...    ...       ...   \n",
       "81853     Леггинсы             UK 14         XL   <NA>     Black   \n",
       "81854     Леггинсы             UK 16         XL   <NA>     Black   \n",
       "81855        Брюки              UK 8          S   <NA>  Dogtooth   \n",
       "81856        Брюки              UK 6         XS   <NA>  Dogtooth   \n",
       "81857        Брюки             UK 10          M   <NA>  Dogtooth   \n",
       "\n",
       "                                                     url  \n",
       "0      https://www.asos.com/river-island/river-island...  \n",
       "1      https://www.asos.com/river-island/river-island...  \n",
       "2      https://www.asos.com/river-island/river-island...  \n",
       "3      https://www.asos.com/river-island/river-island...  \n",
       "4      https://www.asos.com/river-island/river-island...  \n",
       "...                                                  ...  \n",
       "81853  https://www.asos.com/missguided/missguided-fau...  \n",
       "81854  https://www.asos.com/missguided/missguided-fau...  \n",
       "81855  https://www.asos.com/naanaa/naanaa-high-waiste...  \n",
       "81856  https://www.asos.com/naanaa/naanaa-high-waiste...  \n",
       "81857  https://www.asos.com/naanaa/naanaa-high-waiste...  \n",
       "\n",
       "[81858 rows x 15 columns]"
      ]
     },
     "execution_count": 101,
     "metadata": {},
     "output_type": "execute_result"
    }
   ],
   "source": [
    "goods_descr['gender'] = goods_descr['gender'].replace({'Men':'Мужской', 'Women':'Женский'})\n",
    "goods_descr"
   ]
  },
  {
   "cell_type": "code",
   "execution_count": 103,
   "id": "00c3d12a",
   "metadata": {},
   "outputs": [
    {
     "data": {
      "text/plain": [
       "gender\n",
       "Женский    45763\n",
       "Мужской    33569\n",
       "Unisex      2526\n",
       "Name: count, dtype: int64"
      ]
     },
     "execution_count": 103,
     "metadata": {},
     "output_type": "execute_result"
    }
   ],
   "source": [
    "goods_descr['gender'].value_counts()"
   ]
  },
  {
   "cell_type": "markdown",
   "id": "7d4eec9d",
   "metadata": {},
   "source": [
    "### Задание 5\n",
    "\n",
    "Создайте колонку, состоящую из нечетных чисел от 1 до 1000000. Затем разделите 1 на эту колонку. Полученный результат сохраните в переменную s. После этого каждый второй элемент в колонке умножьте на -1 (это можно сделать при помощи метода iloc s.iloc[1::2] = - s.iloc[1::2]). Умножьте каждое значение в этой колонке на 4. В конце посчитайте накопленную сумму.\n",
    "\n",
    "На какое число похожи нижние значения в колонке?"
   ]
  },
  {
   "cell_type": "code",
   "execution_count": 104,
   "id": "5a2dd404",
   "metadata": {},
   "outputs": [],
   "source": [
    "import pandas as pd\n",
    "import numpy as np\n",
    "\n",
    "s = pd.Series(1 / pd.Series(range(1, 1_000_000, 2)))"
   ]
  },
  {
   "cell_type": "code",
   "execution_count": 105,
   "id": "e9c67151",
   "metadata": {},
   "outputs": [],
   "source": [
    "s.iloc[1::2] = -s.iloc[1::2]"
   ]
  },
  {
   "cell_type": "code",
   "execution_count": 108,
   "id": "7d6b14de",
   "metadata": {},
   "outputs": [
    {
     "data": {
      "text/plain": [
       "0         64.000000\n",
       "1        -21.333333\n",
       "2         12.800000\n",
       "3         -9.142857\n",
       "4          7.111111\n",
       "            ...    \n",
       "499995    -0.000064\n",
       "499996     0.000064\n",
       "499997    -0.000064\n",
       "499998     0.000064\n",
       "499999    -0.000064\n",
       "Length: 500000, dtype: float64"
      ]
     },
     "execution_count": 108,
     "metadata": {},
     "output_type": "execute_result"
    }
   ],
   "source": [
    "s *= 4\n",
    "s"
   ]
  },
  {
   "cell_type": "code",
   "execution_count": 110,
   "id": "d1797f4d",
   "metadata": {},
   "outputs": [
    {
     "data": {
      "text/plain": [
       "0         64.000000\n",
       "1         42.666667\n",
       "2         55.466667\n",
       "3         46.323810\n",
       "4         53.434921\n",
       "            ...    \n",
       "499995    50.265450\n",
       "499996    50.265514\n",
       "499997    50.265450\n",
       "499998    50.265514\n",
       "499999    50.265450\n",
       "Length: 500000, dtype: float64"
      ]
     },
     "execution_count": 110,
     "metadata": {},
     "output_type": "execute_result"
    }
   ],
   "source": [
    "s_cumsum = s.cumsum()\n",
    "s_cumsum"
   ]
  },
  {
   "cell_type": "markdown",
   "id": "20ff78cb",
   "metadata": {},
   "source": [
    "### Задание 6\n",
    "\n",
    "Сгенерируйте числа от 1 до 100000 с шагом 1. Затем на их основе создайте колонку. Разделите 1 на эту колонку. Затем полученный массив возведите в квадрат. Домножьте на 6. Посчитайте накопленную сумму. В конце извлечите из каждого значения в колонке квадратный корень"
   ]
  },
  {
   "cell_type": "code",
   "execution_count": null,
   "id": "9f33049c",
   "metadata": {},
   "outputs": [],
   "source": [
    "import pandas as pd\n",
    "import numpy as np\n",
    "\n",
    "# Напишите свой код здесь"
   ]
  },
  {
   "cell_type": "markdown",
   "id": "27fb9a12",
   "metadata": {},
   "source": [
    "### Задание 7\n",
    "\n",
    "Посчитайте натуральный логарифм зарплат. Значение округлите до 2 знаков после запятой"
   ]
  },
  {
   "cell_type": "code",
   "execution_count": 117,
   "id": "acb134b0",
   "metadata": {},
   "outputs": [
    {
     "data": {
      "text/html": [
       "<div>\n",
       "<style scoped>\n",
       "    .dataframe tbody tr th:only-of-type {\n",
       "        vertical-align: middle;\n",
       "    }\n",
       "\n",
       "    .dataframe tbody tr th {\n",
       "        vertical-align: top;\n",
       "    }\n",
       "\n",
       "    .dataframe thead th {\n",
       "        text-align: right;\n",
       "    }\n",
       "</style>\n",
       "<table border=\"1\" class=\"dataframe\">\n",
       "  <thead>\n",
       "    <tr style=\"text-align: right;\">\n",
       "      <th></th>\n",
       "      <th>report_dt</th>\n",
       "      <th>i_pernr</th>\n",
       "      <th>fio</th>\n",
       "      <th>sex</th>\n",
       "      <th>shop_id</th>\n",
       "      <th>pos_name</th>\n",
       "      <th>pos_id</th>\n",
       "      <th>closest_boss_pos_id</th>\n",
       "      <th>mgmt_flag</th>\n",
       "      <th>salary_fork</th>\n",
       "      <th>birth_date</th>\n",
       "      <th>education</th>\n",
       "      <th>employee_evaluation</th>\n",
       "      <th>salary</th>\n",
       "    </tr>\n",
       "  </thead>\n",
       "  <tbody>\n",
       "    <tr>\n",
       "      <th>0</th>\n",
       "      <td>2015-01-31</td>\n",
       "      <td>100000</td>\n",
       "      <td>Кожевников Андрей Максимович</td>\n",
       "      <td>мужской</td>\n",
       "      <td>1</td>\n",
       "      <td>Директор магазина</td>\n",
       "      <td>11</td>\n",
       "      <td>&lt;NA&gt;</td>\n",
       "      <td>1</td>\n",
       "      <td>0</td>\n",
       "      <td>1987-03-11</td>\n",
       "      <td>высшее</td>\n",
       "      <td>5.0</td>\n",
       "      <td>45700.0</td>\n",
       "    </tr>\n",
       "    <tr>\n",
       "      <th>1</th>\n",
       "      <td>2015-01-31</td>\n",
       "      <td>0</td>\n",
       "      <td>Дубинина Надежда Николаевна</td>\n",
       "      <td>женский</td>\n",
       "      <td>1</td>\n",
       "      <td>Старший кассир</td>\n",
       "      <td>12</td>\n",
       "      <td>11</td>\n",
       "      <td>0</td>\n",
       "      <td>0</td>\n",
       "      <td>1971-07-07</td>\n",
       "      <td>среднее профессиональное</td>\n",
       "      <td>5.0</td>\n",
       "      <td>20000.0</td>\n",
       "    </tr>\n",
       "    <tr>\n",
       "      <th>2</th>\n",
       "      <td>2015-01-31</td>\n",
       "      <td>1</td>\n",
       "      <td>Вишневскиая Валентина Константиновна</td>\n",
       "      <td>женский</td>\n",
       "      <td>1</td>\n",
       "      <td>Кассир</td>\n",
       "      <td>13</td>\n",
       "      <td>12</td>\n",
       "      <td>0</td>\n",
       "      <td>0</td>\n",
       "      <td>1974-11-29</td>\n",
       "      <td>среднее общее</td>\n",
       "      <td>5.0</td>\n",
       "      <td>12600.0</td>\n",
       "    </tr>\n",
       "    <tr>\n",
       "      <th>3</th>\n",
       "      <td>2015-01-31</td>\n",
       "      <td>2</td>\n",
       "      <td>Литвинов Александр Максимович</td>\n",
       "      <td>мужской</td>\n",
       "      <td>1</td>\n",
       "      <td>Кассир</td>\n",
       "      <td>14</td>\n",
       "      <td>12</td>\n",
       "      <td>0</td>\n",
       "      <td>0</td>\n",
       "      <td>1969-11-01</td>\n",
       "      <td>среднее общее</td>\n",
       "      <td>3.0</td>\n",
       "      <td>12600.0</td>\n",
       "    </tr>\n",
       "    <tr>\n",
       "      <th>4</th>\n",
       "      <td>2015-01-31</td>\n",
       "      <td>3</td>\n",
       "      <td>Черняева Валерия Глебовна</td>\n",
       "      <td>женский</td>\n",
       "      <td>1</td>\n",
       "      <td>Продавец-консультант</td>\n",
       "      <td>17</td>\n",
       "      <td>11</td>\n",
       "      <td>0</td>\n",
       "      <td>0</td>\n",
       "      <td>1988-07-17</td>\n",
       "      <td>среднее общее</td>\n",
       "      <td>NaN</td>\n",
       "      <td>15400.0</td>\n",
       "    </tr>\n",
       "  </tbody>\n",
       "</table>\n",
       "</div>"
      ],
      "text/plain": [
       "   report_dt  i_pernr                                   fio      sex  shop_id  \\\n",
       "0 2015-01-31   100000          Кожевников Андрей Максимович  мужской        1   \n",
       "1 2015-01-31        0           Дубинина Надежда Николаевна  женский        1   \n",
       "2 2015-01-31        1  Вишневскиая Валентина Константиновна  женский        1   \n",
       "3 2015-01-31        2         Литвинов Александр Максимович  мужской        1   \n",
       "4 2015-01-31        3             Черняева Валерия Глебовна  женский        1   \n",
       "\n",
       "               pos_name  pos_id  closest_boss_pos_id  mgmt_flag  salary_fork  \\\n",
       "0     Директор магазина      11                 <NA>          1            0   \n",
       "1        Старший кассир      12                   11          0            0   \n",
       "2                Кассир      13                   12          0            0   \n",
       "3                Кассир      14                   12          0            0   \n",
       "4  Продавец-консультант      17                   11          0            0   \n",
       "\n",
       "  birth_date                 education  employee_evaluation   salary  \n",
       "0 1987-03-11                    высшее                  5.0  45700.0  \n",
       "1 1971-07-07  среднее профессиональное                  5.0  20000.0  \n",
       "2 1974-11-29             среднее общее                  5.0  12600.0  \n",
       "3 1969-11-01             среднее общее                  3.0  12600.0  \n",
       "4 1988-07-17             среднее общее                  NaN  15400.0  "
      ]
     },
     "execution_count": 117,
     "metadata": {},
     "output_type": "execute_result"
    }
   ],
   "source": [
    "import os\n",
    "import pandas as pd\n",
    "\n",
    "path_empl = '../tables/employees.parquet' if os.path.exists('../tables/employees.parquet') else 'https://drive.google.com/uc?id=1AARD5-eVlCxoApt5CYZebrC3Cqw42lvj'\n",
    "\n",
    "empl = pd.read_parquet(path_empl)\n",
    "empl.head()"
   ]
  },
  {
   "cell_type": "code",
   "execution_count": 125,
   "id": "e94f5be7",
   "metadata": {},
   "outputs": [
    {
     "data": {
      "text/html": [
       "<div>\n",
       "<style scoped>\n",
       "    .dataframe tbody tr th:only-of-type {\n",
       "        vertical-align: middle;\n",
       "    }\n",
       "\n",
       "    .dataframe tbody tr th {\n",
       "        vertical-align: top;\n",
       "    }\n",
       "\n",
       "    .dataframe thead th {\n",
       "        text-align: right;\n",
       "    }\n",
       "</style>\n",
       "<table border=\"1\" class=\"dataframe\">\n",
       "  <thead>\n",
       "    <tr style=\"text-align: right;\">\n",
       "      <th></th>\n",
       "      <th>salary</th>\n",
       "    </tr>\n",
       "  </thead>\n",
       "  <tbody>\n",
       "    <tr>\n",
       "      <th>0</th>\n",
       "      <td>10.73</td>\n",
       "    </tr>\n",
       "    <tr>\n",
       "      <th>1</th>\n",
       "      <td>9.90</td>\n",
       "    </tr>\n",
       "    <tr>\n",
       "      <th>2</th>\n",
       "      <td>9.44</td>\n",
       "    </tr>\n",
       "    <tr>\n",
       "      <th>3</th>\n",
       "      <td>9.44</td>\n",
       "    </tr>\n",
       "    <tr>\n",
       "      <th>4</th>\n",
       "      <td>9.64</td>\n",
       "    </tr>\n",
       "    <tr>\n",
       "      <th>...</th>\n",
       "      <td>...</td>\n",
       "    </tr>\n",
       "    <tr>\n",
       "      <th>29367</th>\n",
       "      <td>10.55</td>\n",
       "    </tr>\n",
       "    <tr>\n",
       "      <th>29368</th>\n",
       "      <td>10.37</td>\n",
       "    </tr>\n",
       "    <tr>\n",
       "      <th>29369</th>\n",
       "      <td>10.25</td>\n",
       "    </tr>\n",
       "    <tr>\n",
       "      <th>29370</th>\n",
       "      <td>10.48</td>\n",
       "    </tr>\n",
       "    <tr>\n",
       "      <th>29371</th>\n",
       "      <td>10.18</td>\n",
       "    </tr>\n",
       "  </tbody>\n",
       "</table>\n",
       "<p>29372 rows × 1 columns</p>\n",
       "</div>"
      ],
      "text/plain": [
       "       salary\n",
       "0       10.73\n",
       "1        9.90\n",
       "2        9.44\n",
       "3        9.44\n",
       "4        9.64\n",
       "...       ...\n",
       "29367   10.55\n",
       "29368   10.37\n",
       "29369   10.25\n",
       "29370   10.48\n",
       "29371   10.18\n",
       "\n",
       "[29372 rows x 1 columns]"
      ]
     },
     "execution_count": 125,
     "metadata": {},
     "output_type": "execute_result"
    }
   ],
   "source": [
    "pd.DataFrame(np.log(empl[\"salary\"]).round(2)).replace({\"salary\":\"log_salary\"})"
   ]
  },
  {
   "cell_type": "markdown",
   "id": "f49ad844",
   "metadata": {},
   "source": [
    "### Задание 8"
   ]
  },
  {
   "cell_type": "markdown",
   "id": "e84545dc",
   "metadata": {},
   "source": [
    "Найдите угол между двумя векторам.\n",
    "\n",
    "Для того чтобы это сделать необходимо сначала посчитать скалярное произведение между векторами (через знак @), затем это произведение надо разделить на норму каждого вектора (функция np.linalg.norm или это можно сделать через @ и квадратный корень). Такми образом мы получим косинус угла между двумя векторами. Теперь зная косинус угла необходимо вычеслить сам угол. Для этого необходимо посчитать арккосинус (np.arccos). В результате мы получим угол в раданах. Чтобы привести угол к градусам необходимо угол в радианах умножить на 180 и разделить на число $\\pi$ (np.pi)"
   ]
  },
  {
   "cell_type": "code",
   "execution_count": 127,
   "id": "eba76108",
   "metadata": {},
   "outputs": [],
   "source": [
    "import numpy as np\n",
    "x = np.array([6, 0, 1, 5, 5])\n",
    "y = np.array([1, 4, 5, 2, 0])"
   ]
  },
  {
   "cell_type": "code",
   "execution_count": 129,
   "id": "6aab7fc8",
   "metadata": {},
   "outputs": [],
   "source": [
    "sc_um = x @ y "
   ]
  },
  {
   "cell_type": "code",
   "execution_count": 134,
   "id": "f67f1d99",
   "metadata": {},
   "outputs": [
    {
     "name": "stdout",
     "output_type": "stream",
     "text": [
      "9.327379053088816 6.782329983125268\n"
     ]
    }
   ],
   "source": [
    "norm_x = np.linalg.norm(x)\n",
    "norm_y = np.linalg.norm(y)\n",
    "print(norm_x, norm_y)"
   ]
  },
  {
   "cell_type": "code",
   "execution_count": 136,
   "id": "5ec4c9b4",
   "metadata": {},
   "outputs": [
    {
     "data": {
      "text/plain": [
       "0.3319561756448065"
      ]
     },
     "execution_count": 136,
     "metadata": {},
     "output_type": "execute_result"
    }
   ],
   "source": [
    "cos_theta = sc_um / (norm_x * norm_y)\n",
    "cos_theta"
   ]
  },
  {
   "cell_type": "code",
   "execution_count": 138,
   "id": "e0f65d6b",
   "metadata": {},
   "outputs": [
    {
     "data": {
      "text/plain": [
       "70.64826518912271"
      ]
     },
     "execution_count": 138,
     "metadata": {},
     "output_type": "execute_result"
    }
   ],
   "source": [
    "np.arccos(cos_theta) * 180 / 3.14"
   ]
  },
  {
   "cell_type": "code",
   "execution_count": null,
   "id": "90474a54",
   "metadata": {},
   "outputs": [],
   "source": []
  },
  {
   "cell_type": "code",
   "execution_count": null,
   "id": "2bdce4eb",
   "metadata": {},
   "outputs": [],
   "source": []
  }
 ],
 "metadata": {
  "kernelspec": {
   "display_name": "artemiy",
   "language": "python",
   "name": "python3"
  },
  "language_info": {
   "codemirror_mode": {
    "name": "ipython",
    "version": 3
   },
   "file_extension": ".py",
   "mimetype": "text/x-python",
   "name": "python",
   "nbconvert_exporter": "python",
   "pygments_lexer": "ipython3",
   "version": "3.11.10"
  }
 },
 "nbformat": 4,
 "nbformat_minor": 5
}
