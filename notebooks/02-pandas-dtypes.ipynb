{
 "cells": [
  {
   "cell_type": "markdown",
   "id": "bba91f02",
   "metadata": {},
   "source": [
    "<a target=\"_blank\" href=\"https://colab.research.google.com/github/victorlymarev/pandas/blob/main/notebooks/02-pandas-dtypes.ipynb\">\n",
    "  <img src=\"https://colab.research.google.com/assets/colab-badge.svg\" alt=\"Open In Colab\"/>\n",
    "</a>"
   ]
  },
  {
   "cell_type": "markdown",
   "id": "b19db1d1",
   "metadata": {},
   "source": [
    "# Изменение типов данных\n",
    "#### [Ссылка на видео](https://youtu.be/5aZZS8rTnj0)"
   ]
  },
  {
   "cell_type": "markdown",
   "id": "9a30f74c",
   "metadata": {},
   "source": [
    "Импортируем библиотеки. Библитека os нужна, чтобы вы не скачивали таблицу второй раз если она у вас уже скачана, и скачалаи ее, если она у вас не скачана"
   ]
  },
  {
   "cell_type": "code",
   "execution_count": 1,
   "id": "1503d8be",
   "metadata": {},
   "outputs": [],
   "source": [
    "import os\n",
    "import pandas as pd"
   ]
  },
  {
   "cell_type": "markdown",
   "id": "a8767ee0",
   "metadata": {},
   "source": [
    "#### Проверить к какому классу относится объект, можно при помощи функции type"
   ]
  },
  {
   "cell_type": "code",
   "execution_count": 2,
   "id": "c7fc9422",
   "metadata": {},
   "outputs": [
    {
     "data": {
      "text/plain": [
       "int"
      ]
     },
     "execution_count": 2,
     "metadata": {},
     "output_type": "execute_result"
    }
   ],
   "source": [
    "type(123)"
   ]
  },
  {
   "cell_type": "code",
   "execution_count": 3,
   "id": "8923b24d",
   "metadata": {},
   "outputs": [
    {
     "data": {
      "text/plain": [
       "str"
      ]
     },
     "execution_count": 3,
     "metadata": {},
     "output_type": "execute_result"
    }
   ],
   "source": [
    "type('123')"
   ]
  },
  {
   "cell_type": "markdown",
   "id": "eb9ae42b",
   "metadata": {},
   "source": [
    "От того, к какому классу принадлежит отбъект, зависят его свойства"
   ]
  },
  {
   "cell_type": "code",
   "execution_count": 4,
   "id": "bb671f8f",
   "metadata": {},
   "outputs": [
    {
     "data": {
      "text/plain": [
       "3"
      ]
     },
     "execution_count": 4,
     "metadata": {},
     "output_type": "execute_result"
    }
   ],
   "source": [
    "1 + 2"
   ]
  },
  {
   "cell_type": "code",
   "execution_count": 5,
   "id": "f272b9b1",
   "metadata": {},
   "outputs": [
    {
     "data": {
      "text/plain": [
       "'12'"
      ]
     },
     "execution_count": 5,
     "metadata": {},
     "output_type": "execute_result"
    }
   ],
   "source": [
    "'1' + '2'"
   ]
  },
  {
   "cell_type": "code",
   "execution_count": 6,
   "id": "36427272",
   "metadata": {},
   "outputs": [
    {
     "data": {
      "text/plain": [
       "[1, 2, 3, 4, 5]"
      ]
     },
     "execution_count": 6,
     "metadata": {},
     "output_type": "execute_result"
    }
   ],
   "source": [
    "[1, 2, 3, 4, 5]"
   ]
  },
  {
   "cell_type": "markdown",
   "id": "1a6ac68d",
   "metadata": {},
   "source": [
    "Читаем таблицу"
   ]
  },
  {
   "cell_type": "code",
   "execution_count": 7,
   "id": "12b572c2",
   "metadata": {},
   "outputs": [
    {
     "data": {
      "text/html": [
       "<div>\n",
       "<style scoped>\n",
       "    .dataframe tbody tr th:only-of-type {\n",
       "        vertical-align: middle;\n",
       "    }\n",
       "\n",
       "    .dataframe tbody tr th {\n",
       "        vertical-align: top;\n",
       "    }\n",
       "\n",
       "    .dataframe thead th {\n",
       "        text-align: right;\n",
       "    }\n",
       "</style>\n",
       "<table border=\"1\" class=\"dataframe\">\n",
       "  <thead>\n",
       "    <tr style=\"text-align: right;\">\n",
       "      <th></th>\n",
       "      <th>Имя</th>\n",
       "      <th>Фамилия</th>\n",
       "      <th>Число детей</th>\n",
       "      <th>Площадь дома</th>\n",
       "      <th>Дата рождения</th>\n",
       "      <th>Женат/Замужем</th>\n",
       "    </tr>\n",
       "  </thead>\n",
       "  <tbody>\n",
       "    <tr>\n",
       "      <th>0</th>\n",
       "      <td>Илья</td>\n",
       "      <td>Васильев</td>\n",
       "      <td>0</td>\n",
       "      <td>56.3</td>\n",
       "      <td>1996-11-30</td>\n",
       "      <td>False</td>\n",
       "    </tr>\n",
       "    <tr>\n",
       "      <th>1</th>\n",
       "      <td>Антон</td>\n",
       "      <td>Алексеев</td>\n",
       "      <td>2</td>\n",
       "      <td>77.0</td>\n",
       "      <td>1976-02-29</td>\n",
       "      <td>True</td>\n",
       "    </tr>\n",
       "    <tr>\n",
       "      <th>2</th>\n",
       "      <td>Надежда</td>\n",
       "      <td>Гусева</td>\n",
       "      <td>3</td>\n",
       "      <td>103.1</td>\n",
       "      <td>1964-09-26</td>\n",
       "      <td>True</td>\n",
       "    </tr>\n",
       "    <tr>\n",
       "      <th>3</th>\n",
       "      <td>Артем</td>\n",
       "      <td>Павлов</td>\n",
       "      <td>5</td>\n",
       "      <td>134.9</td>\n",
       "      <td>1980-05-18</td>\n",
       "      <td>True</td>\n",
       "    </tr>\n",
       "    <tr>\n",
       "      <th>4</th>\n",
       "      <td>Александр</td>\n",
       "      <td>Николаев</td>\n",
       "      <td>1</td>\n",
       "      <td>47.0</td>\n",
       "      <td>1959-02-24</td>\n",
       "      <td>True</td>\n",
       "    </tr>\n",
       "    <tr>\n",
       "      <th>5</th>\n",
       "      <td>Дмитрий</td>\n",
       "      <td>Печенкин</td>\n",
       "      <td>2</td>\n",
       "      <td>61.0</td>\n",
       "      <td>1939-04-05</td>\n",
       "      <td>False</td>\n",
       "    </tr>\n",
       "    <tr>\n",
       "      <th>6</th>\n",
       "      <td>Дарья</td>\n",
       "      <td>Воробева</td>\n",
       "      <td>3</td>\n",
       "      <td>NaN</td>\n",
       "      <td>1997-07-23</td>\n",
       "      <td>True</td>\n",
       "    </tr>\n",
       "  </tbody>\n",
       "</table>\n",
       "</div>"
      ],
      "text/plain": [
       "         Имя   Фамилия  Число детей  Площадь дома Дата рождения  Женат/Замужем\n",
       "0       Илья  Васильев            0          56.3    1996-11-30          False\n",
       "1      Антон  Алексеев            2          77.0    1976-02-29           True\n",
       "2    Надежда    Гусева            3         103.1    1964-09-26           True\n",
       "3      Артем    Павлов            5         134.9    1980-05-18           True\n",
       "4  Александр  Николаев            1          47.0    1959-02-24           True\n",
       "5    Дмитрий  Печенкин            2          61.0    1939-04-05          False\n",
       "6      Дарья  Воробева            3           NaN    1997-07-23           True"
      ]
     },
     "execution_count": 7,
     "metadata": {},
     "output_type": "execute_result"
    }
   ],
   "source": [
    "path_people = '../tables/people.parquet' if os.path.exists('../tables/people.parquet') else 'https://drive.google.com/uc?id=1iI1Lde5ya3ruztGYmjpprSCUoCU9rBeS'\n",
    "\n",
    "people = pd.read_parquet(path_people)\n",
    "people"
   ]
  },
  {
   "cell_type": "code",
   "execution_count": 8,
   "id": "d3a5bd76",
   "metadata": {},
   "outputs": [
    {
     "data": {
      "text/plain": [
       "0    Васильев\n",
       "1    Алексеев\n",
       "2      Гусева\n",
       "3      Павлов\n",
       "4    Николаев\n",
       "5    Печенкин\n",
       "6    Воробева\n",
       "Name: Фамилия, dtype: string"
      ]
     },
     "execution_count": 8,
     "metadata": {},
     "output_type": "execute_result"
    }
   ],
   "source": [
    "people['Фамилия']"
   ]
  },
  {
   "cell_type": "code",
   "execution_count": 9,
   "id": "5ce6bb21",
   "metadata": {},
   "outputs": [
    {
     "data": {
      "text/plain": [
       "0    0\n",
       "1    2\n",
       "2    3\n",
       "3    5\n",
       "4    1\n",
       "5    2\n",
       "6    3\n",
       "Name: Число детей, dtype: int64"
      ]
     },
     "execution_count": 9,
     "metadata": {},
     "output_type": "execute_result"
    }
   ],
   "source": [
    "people['Число детей']"
   ]
  },
  {
   "cell_type": "markdown",
   "id": "ab2acf31",
   "metadata": {},
   "source": [
    "### info\n",
    "\n",
    "Метод выводит на экран таблицу, в которой указаны название столбца, число заполненых ячейк и тип данных в стобце"
   ]
  },
  {
   "cell_type": "code",
   "execution_count": 10,
   "id": "52471f3c",
   "metadata": {},
   "outputs": [
    {
     "name": "stdout",
     "output_type": "stream",
     "text": [
      "<class 'pandas.core.frame.DataFrame'>\n",
      "RangeIndex: 7 entries, 0 to 6\n",
      "Data columns (total 6 columns):\n",
      " #   Column         Non-Null Count  Dtype         \n",
      "---  ------         --------------  -----         \n",
      " 0   Имя            7 non-null      object        \n",
      " 1   Фамилия        7 non-null      string        \n",
      " 2   Число детей    7 non-null      int64         \n",
      " 3   Площадь дома   6 non-null      float64       \n",
      " 4   Дата рождения  7 non-null      datetime64[us]\n",
      " 5   Женат/Замужем  7 non-null      bool          \n",
      "dtypes: bool(1), datetime64[us](1), float64(1), int64(1), object(1), string(1)\n",
      "memory usage: 419.0+ bytes\n"
     ]
    }
   ],
   "source": [
    "people.info()"
   ]
  },
  {
   "cell_type": "code",
   "execution_count": 11,
   "id": "3c0e0848",
   "metadata": {},
   "outputs": [
    {
     "data": {
      "text/html": [
       "<div>\n",
       "<style scoped>\n",
       "    .dataframe tbody tr th:only-of-type {\n",
       "        vertical-align: middle;\n",
       "    }\n",
       "\n",
       "    .dataframe tbody tr th {\n",
       "        vertical-align: top;\n",
       "    }\n",
       "\n",
       "    .dataframe thead th {\n",
       "        text-align: right;\n",
       "    }\n",
       "</style>\n",
       "<table border=\"1\" class=\"dataframe\">\n",
       "  <thead>\n",
       "    <tr style=\"text-align: right;\">\n",
       "      <th></th>\n",
       "      <th>Имя</th>\n",
       "      <th>Фамилия</th>\n",
       "      <th>Число детей</th>\n",
       "      <th>Площадь дома</th>\n",
       "      <th>Дата рождения</th>\n",
       "      <th>Женат/Замужем</th>\n",
       "    </tr>\n",
       "  </thead>\n",
       "  <tbody>\n",
       "    <tr>\n",
       "      <th>0</th>\n",
       "      <td>Илья</td>\n",
       "      <td>Васильев</td>\n",
       "      <td>0</td>\n",
       "      <td>56.3</td>\n",
       "      <td>1996-11-30</td>\n",
       "      <td>False</td>\n",
       "    </tr>\n",
       "    <tr>\n",
       "      <th>1</th>\n",
       "      <td>Антон</td>\n",
       "      <td>Алексеев</td>\n",
       "      <td>2</td>\n",
       "      <td>77.0</td>\n",
       "      <td>1976-02-29</td>\n",
       "      <td>True</td>\n",
       "    </tr>\n",
       "    <tr>\n",
       "      <th>2</th>\n",
       "      <td>Надежда</td>\n",
       "      <td>Гусева</td>\n",
       "      <td>3</td>\n",
       "      <td>103.1</td>\n",
       "      <td>1964-09-26</td>\n",
       "      <td>True</td>\n",
       "    </tr>\n",
       "    <tr>\n",
       "      <th>3</th>\n",
       "      <td>Артем</td>\n",
       "      <td>Павлов</td>\n",
       "      <td>5</td>\n",
       "      <td>134.9</td>\n",
       "      <td>1980-05-18</td>\n",
       "      <td>True</td>\n",
       "    </tr>\n",
       "    <tr>\n",
       "      <th>4</th>\n",
       "      <td>Александр</td>\n",
       "      <td>Николаев</td>\n",
       "      <td>1</td>\n",
       "      <td>47.0</td>\n",
       "      <td>1959-02-24</td>\n",
       "      <td>True</td>\n",
       "    </tr>\n",
       "    <tr>\n",
       "      <th>5</th>\n",
       "      <td>Дмитрий</td>\n",
       "      <td>Печенкин</td>\n",
       "      <td>2</td>\n",
       "      <td>61.0</td>\n",
       "      <td>1939-04-05</td>\n",
       "      <td>False</td>\n",
       "    </tr>\n",
       "    <tr>\n",
       "      <th>6</th>\n",
       "      <td>Дарья</td>\n",
       "      <td>Воробева</td>\n",
       "      <td>3</td>\n",
       "      <td>NaN</td>\n",
       "      <td>1997-07-23</td>\n",
       "      <td>True</td>\n",
       "    </tr>\n",
       "  </tbody>\n",
       "</table>\n",
       "</div>"
      ],
      "text/plain": [
       "         Имя   Фамилия  Число детей  Площадь дома Дата рождения  Женат/Замужем\n",
       "0       Илья  Васильев            0          56.3    1996-11-30          False\n",
       "1      Антон  Алексеев            2          77.0    1976-02-29           True\n",
       "2    Надежда    Гусева            3         103.1    1964-09-26           True\n",
       "3      Артем    Павлов            5         134.9    1980-05-18           True\n",
       "4  Александр  Николаев            1          47.0    1959-02-24           True\n",
       "5    Дмитрий  Печенкин            2          61.0    1939-04-05          False\n",
       "6      Дарья  Воробева            3           NaN    1997-07-23           True"
      ]
     },
     "execution_count": 11,
     "metadata": {},
     "output_type": "execute_result"
    }
   ],
   "source": [
    "people"
   ]
  },
  {
   "cell_type": "markdown",
   "id": "c2e07409",
   "metadata": {},
   "source": [
    "#### Типы:\n",
    "1. __object__ - тип данных, который в основном используется для строк (строки - это текст, они записываются в кавычках), но может содержать и другие типы данных\n",
    "2. __string__ - тип данных, предназначеный для хранения строк\n",
    "3. __int + число__ - целые числа\n",
    "4. __float + число__ - числа с плавующей точкой\n",
    "5. __datetime64[ns]__ - даты и время\n",
    "6. __bool__ - логический тип. Если True, то правда, если False, то ложь"
   ]
  },
  {
   "cell_type": "code",
   "execution_count": 12,
   "id": "9211a12b",
   "metadata": {},
   "outputs": [],
   "source": [
    "df_path = '../tables/modified_dtypes.pkl' if os.path.exists('../tables/школьные оценки.xlsx') else 'https://drive.google.com/uc?id=1Q_MDakkji87seNz6nWH54cLF9_54Ix81'\n",
    "df = pd.read_pickle(df_path)"
   ]
  },
  {
   "cell_type": "code",
   "execution_count": 13,
   "id": "f4d725fe",
   "metadata": {},
   "outputs": [
    {
     "data": {
      "text/html": [
       "<div>\n",
       "<style scoped>\n",
       "    .dataframe tbody tr th:only-of-type {\n",
       "        vertical-align: middle;\n",
       "    }\n",
       "\n",
       "    .dataframe tbody tr th {\n",
       "        vertical-align: top;\n",
       "    }\n",
       "\n",
       "    .dataframe thead th {\n",
       "        text-align: right;\n",
       "    }\n",
       "</style>\n",
       "<table border=\"1\" class=\"dataframe\">\n",
       "  <thead>\n",
       "    <tr style=\"text-align: right;\">\n",
       "      <th></th>\n",
       "      <th>Имя</th>\n",
       "      <th>Фамилия</th>\n",
       "      <th>Число детей</th>\n",
       "      <th>Площадь дома</th>\n",
       "      <th>Дата рождения</th>\n",
       "      <th>Дата устройства на работу</th>\n",
       "      <th>Заработная плата</th>\n",
       "      <th>Автомобиль</th>\n",
       "    </tr>\n",
       "  </thead>\n",
       "  <tbody>\n",
       "    <tr>\n",
       "      <th>0</th>\n",
       "      <td>Илья</td>\n",
       "      <td>Васильев</td>\n",
       "      <td>0</td>\n",
       "      <td>56.3</td>\n",
       "      <td>1996-11-30</td>\n",
       "      <td>12#02/2020</td>\n",
       "      <td>45000</td>\n",
       "      <td>киа</td>\n",
       "    </tr>\n",
       "    <tr>\n",
       "      <th>1</th>\n",
       "      <td>Антон</td>\n",
       "      <td>Алексеев</td>\n",
       "      <td>2</td>\n",
       "      <td>77.0</td>\n",
       "      <td>1976-02-29</td>\n",
       "      <td>20#12/2001</td>\n",
       "      <td>33000</td>\n",
       "      <td>рено</td>\n",
       "    </tr>\n",
       "    <tr>\n",
       "      <th>2</th>\n",
       "      <td>Надежда</td>\n",
       "      <td>Гусева</td>\n",
       "      <td>3</td>\n",
       "      <td>103.1</td>\n",
       "      <td>1964-09-26</td>\n",
       "      <td>09#06/1981</td>\n",
       "      <td>80000</td>\n",
       "      <td>жигули</td>\n",
       "    </tr>\n",
       "    <tr>\n",
       "      <th>3</th>\n",
       "      <td>Артем</td>\n",
       "      <td>Павлов</td>\n",
       "      <td>5</td>\n",
       "      <td>134.9</td>\n",
       "      <td>1980-05-18</td>\n",
       "      <td>09#09/2008</td>\n",
       "      <td>50000</td>\n",
       "      <td>бмв</td>\n",
       "    </tr>\n",
       "    <tr>\n",
       "      <th>4</th>\n",
       "      <td>Александр</td>\n",
       "      <td>Николаев</td>\n",
       "      <td>1</td>\n",
       "      <td>47.0</td>\n",
       "      <td>1959-02-24</td>\n",
       "      <td>03#07/2019</td>\n",
       "      <td>29000</td>\n",
       "      <td>киа</td>\n",
       "    </tr>\n",
       "    <tr>\n",
       "      <th>5</th>\n",
       "      <td>Дмитрий</td>\n",
       "      <td>Печенкин</td>\n",
       "      <td>2</td>\n",
       "      <td>61.0</td>\n",
       "      <td>1939-04-05</td>\n",
       "      <td>19#08/1958</td>\n",
       "      <td>100000</td>\n",
       "      <td>жигули</td>\n",
       "    </tr>\n",
       "    <tr>\n",
       "      <th>6</th>\n",
       "      <td>Дарья</td>\n",
       "      <td>Воробева</td>\n",
       "      <td>3</td>\n",
       "      <td>65.0</td>\n",
       "      <td>1997-07-23</td>\n",
       "      <td>20#12/2022</td>\n",
       "      <td>NaN</td>\n",
       "      <td>&lt;NA&gt;</td>\n",
       "    </tr>\n",
       "  </tbody>\n",
       "</table>\n",
       "</div>"
      ],
      "text/plain": [
       "         Имя   Фамилия Число детей Площадь дома Дата рождения  \\\n",
       "0       Илья  Васильев           0         56.3    1996-11-30   \n",
       "1      Антон  Алексеев           2         77.0    1976-02-29   \n",
       "2    Надежда    Гусева           3        103.1    1964-09-26   \n",
       "3      Артем    Павлов           5        134.9    1980-05-18   \n",
       "4  Александр  Николаев           1         47.0    1959-02-24   \n",
       "5    Дмитрий  Печенкин           2         61.0    1939-04-05   \n",
       "6      Дарья  Воробева           3         65.0    1997-07-23   \n",
       "\n",
       "  Дата устройства на работу Заработная плата Автомобиль  \n",
       "0                12#02/2020            45000        киа  \n",
       "1                20#12/2001            33000       рено  \n",
       "2                09#06/1981            80000     жигули  \n",
       "3                09#09/2008            50000        бмв  \n",
       "4                03#07/2019            29000        киа  \n",
       "5                19#08/1958           100000     жигули  \n",
       "6                20#12/2022              NaN       <NA>  "
      ]
     },
     "execution_count": 13,
     "metadata": {},
     "output_type": "execute_result"
    }
   ],
   "source": [
    "df"
   ]
  },
  {
   "cell_type": "markdown",
   "id": "15af0965",
   "metadata": {},
   "source": [
    "Все колонки в таблице представленны типом object"
   ]
  },
  {
   "cell_type": "code",
   "execution_count": 14,
   "id": "9fd80e44",
   "metadata": {},
   "outputs": [
    {
     "name": "stdout",
     "output_type": "stream",
     "text": [
      "<class 'pandas.core.frame.DataFrame'>\n",
      "RangeIndex: 7 entries, 0 to 6\n",
      "Data columns (total 8 columns):\n",
      " #   Column                     Non-Null Count  Dtype \n",
      "---  ------                     --------------  ----- \n",
      " 0   Имя                        7 non-null      object\n",
      " 1   Фамилия                    7 non-null      object\n",
      " 2   Число детей                7 non-null      object\n",
      " 3   Площадь дома               7 non-null      object\n",
      " 4   Дата рождения              7 non-null      object\n",
      " 5   Дата устройства на работу  7 non-null      object\n",
      " 6   Заработная плата           6 non-null      object\n",
      " 7   Автомобиль                 6 non-null      object\n",
      "dtypes: object(8)\n",
      "memory usage: 580.0+ bytes\n"
     ]
    }
   ],
   "source": [
    "df.info()"
   ]
  },
  {
   "cell_type": "markdown",
   "id": "3988d41b",
   "metadata": {},
   "source": [
    "### to_datetime\n",
    "\n",
    "Функция приводит колонки таблицы к типу datetime64"
   ]
  },
  {
   "cell_type": "code",
   "execution_count": 15,
   "id": "466078c5",
   "metadata": {},
   "outputs": [
    {
     "data": {
      "text/plain": [
       "0    1996-11-30\n",
       "1    1976-02-29\n",
       "2    1964-09-26\n",
       "3    1980-05-18\n",
       "4    1959-02-24\n",
       "5    1939-04-05\n",
       "6    1997-07-23\n",
       "Name: Дата рождения, dtype: object"
      ]
     },
     "execution_count": 15,
     "metadata": {},
     "output_type": "execute_result"
    }
   ],
   "source": [
    "df['Дата рождения']"
   ]
  },
  {
   "cell_type": "code",
   "execution_count": 16,
   "id": "f13571ef",
   "metadata": {},
   "outputs": [
    {
     "data": {
      "text/plain": [
       "0   1996-11-30\n",
       "1   1976-02-29\n",
       "2   1964-09-26\n",
       "3   1980-05-18\n",
       "4   1959-02-24\n",
       "5   1939-04-05\n",
       "6   1997-07-23\n",
       "Name: Дата рождения, dtype: datetime64[ns]"
      ]
     },
     "execution_count": 16,
     "metadata": {},
     "output_type": "execute_result"
    }
   ],
   "source": [
    "pd.to_datetime(df['Дата рождения'])"
   ]
  },
  {
   "cell_type": "code",
   "execution_count": 17,
   "id": "4904ac75",
   "metadata": {},
   "outputs": [
    {
     "data": {
      "text/plain": [
       "0    1996-11-30\n",
       "1    1976-02-29\n",
       "2    1964-09-26\n",
       "3    1980-05-18\n",
       "4    1959-02-24\n",
       "5    1939-04-05\n",
       "6    1997-07-23\n",
       "Name: Дата рождения, dtype: object"
      ]
     },
     "execution_count": 17,
     "metadata": {},
     "output_type": "execute_result"
    }
   ],
   "source": [
    "df['Дата рождения']"
   ]
  },
  {
   "cell_type": "markdown",
   "id": "e09ccdee",
   "metadata": {},
   "source": [
    "#### Присваивание новых значений"
   ]
  },
  {
   "cell_type": "code",
   "execution_count": 18,
   "id": "baf9a032",
   "metadata": {},
   "outputs": [],
   "source": [
    "df['Дата рождения'] = pd.to_datetime(df['Дата рождения'])"
   ]
  },
  {
   "cell_type": "code",
   "execution_count": 19,
   "id": "f4b4fdb5",
   "metadata": {},
   "outputs": [
    {
     "data": {
      "text/plain": [
       "0   1996-11-30\n",
       "1   1976-02-29\n",
       "2   1964-09-26\n",
       "3   1980-05-18\n",
       "4   1959-02-24\n",
       "5   1939-04-05\n",
       "6   1997-07-23\n",
       "Name: Дата рождения, dtype: datetime64[ns]"
      ]
     },
     "execution_count": 19,
     "metadata": {},
     "output_type": "execute_result"
    }
   ],
   "source": [
    "df['Дата рождения']"
   ]
  },
  {
   "cell_type": "markdown",
   "id": "2bc299ab",
   "metadata": {},
   "source": [
    "#### параметр format"
   ]
  },
  {
   "cell_type": "code",
   "execution_count": 20,
   "id": "c1821fd1",
   "metadata": {},
   "outputs": [
    {
     "data": {
      "text/plain": [
       "0    12#02/2020\n",
       "1    20#12/2001\n",
       "2    09#06/1981\n",
       "3    09#09/2008\n",
       "4    03#07/2019\n",
       "5    19#08/1958\n",
       "6    20#12/2022\n",
       "Name: Дата устройства на работу, dtype: object"
      ]
     },
     "execution_count": 20,
     "metadata": {},
     "output_type": "execute_result"
    }
   ],
   "source": [
    "df['Дата устройства на работу']"
   ]
  },
  {
   "cell_type": "code",
   "execution_count": 21,
   "id": "26f8fdf5",
   "metadata": {},
   "outputs": [
    {
     "name": "stderr",
     "output_type": "stream",
     "text": [
      "/tmp/ipykernel_5866/1390509222.py:1: UserWarning: Could not infer format, so each element will be parsed individually, falling back to `dateutil`. To ensure parsing is consistent and as-expected, please specify a format.\n",
      "  pd.to_datetime(df['Дата устройства на работу'])\n"
     ]
    },
    {
     "ename": "DateParseError",
     "evalue": "Unknown datetime string format, unable to parse: 12#02/2020, at position 0",
     "output_type": "error",
     "traceback": [
      "\u001b[0;31m---------------------------------------------------------------------------\u001b[0m",
      "\u001b[0;31mDateParseError\u001b[0m                            Traceback (most recent call last)",
      "Cell \u001b[0;32mIn[21], line 1\u001b[0m\n\u001b[0;32m----> 1\u001b[0m \u001b[43mpd\u001b[49m\u001b[38;5;241;43m.\u001b[39;49m\u001b[43mto_datetime\u001b[49m\u001b[43m(\u001b[49m\u001b[43mdf\u001b[49m\u001b[43m[\u001b[49m\u001b[38;5;124;43m'\u001b[39;49m\u001b[38;5;124;43mДата устройства на работу\u001b[39;49m\u001b[38;5;124;43m'\u001b[39;49m\u001b[43m]\u001b[49m\u001b[43m)\u001b[49m\n",
      "File \u001b[0;32m~/miniforge-pypy3/envs/artemiy/lib/python3.11/site-packages/pandas/core/tools/datetimes.py:1067\u001b[0m, in \u001b[0;36mto_datetime\u001b[0;34m(arg, errors, dayfirst, yearfirst, utc, format, exact, unit, infer_datetime_format, origin, cache)\u001b[0m\n\u001b[1;32m   1065\u001b[0m         result \u001b[38;5;241m=\u001b[39m arg\u001b[38;5;241m.\u001b[39mmap(cache_array)\n\u001b[1;32m   1066\u001b[0m     \u001b[38;5;28;01melse\u001b[39;00m:\n\u001b[0;32m-> 1067\u001b[0m         values \u001b[38;5;241m=\u001b[39m \u001b[43mconvert_listlike\u001b[49m\u001b[43m(\u001b[49m\u001b[43marg\u001b[49m\u001b[38;5;241;43m.\u001b[39;49m\u001b[43m_values\u001b[49m\u001b[43m,\u001b[49m\u001b[43m \u001b[49m\u001b[38;5;28;43mformat\u001b[39;49m\u001b[43m)\u001b[49m\n\u001b[1;32m   1068\u001b[0m         result \u001b[38;5;241m=\u001b[39m arg\u001b[38;5;241m.\u001b[39m_constructor(values, index\u001b[38;5;241m=\u001b[39marg\u001b[38;5;241m.\u001b[39mindex, name\u001b[38;5;241m=\u001b[39marg\u001b[38;5;241m.\u001b[39mname)\n\u001b[1;32m   1069\u001b[0m \u001b[38;5;28;01melif\u001b[39;00m \u001b[38;5;28misinstance\u001b[39m(arg, (ABCDataFrame, abc\u001b[38;5;241m.\u001b[39mMutableMapping)):\n",
      "File \u001b[0;32m~/miniforge-pypy3/envs/artemiy/lib/python3.11/site-packages/pandas/core/tools/datetimes.py:435\u001b[0m, in \u001b[0;36m_convert_listlike_datetimes\u001b[0;34m(arg, format, name, utc, unit, errors, dayfirst, yearfirst, exact)\u001b[0m\n\u001b[1;32m    432\u001b[0m \u001b[38;5;28;01mif\u001b[39;00m \u001b[38;5;28mformat\u001b[39m \u001b[38;5;129;01mis\u001b[39;00m \u001b[38;5;129;01mnot\u001b[39;00m \u001b[38;5;28;01mNone\u001b[39;00m \u001b[38;5;129;01mand\u001b[39;00m \u001b[38;5;28mformat\u001b[39m \u001b[38;5;241m!=\u001b[39m \u001b[38;5;124m\"\u001b[39m\u001b[38;5;124mmixed\u001b[39m\u001b[38;5;124m\"\u001b[39m:\n\u001b[1;32m    433\u001b[0m     \u001b[38;5;28;01mreturn\u001b[39;00m _array_strptime_with_fallback(arg, name, utc, \u001b[38;5;28mformat\u001b[39m, exact, errors)\n\u001b[0;32m--> 435\u001b[0m result, tz_parsed \u001b[38;5;241m=\u001b[39m \u001b[43mobjects_to_datetime64\u001b[49m\u001b[43m(\u001b[49m\n\u001b[1;32m    436\u001b[0m \u001b[43m    \u001b[49m\u001b[43marg\u001b[49m\u001b[43m,\u001b[49m\n\u001b[1;32m    437\u001b[0m \u001b[43m    \u001b[49m\u001b[43mdayfirst\u001b[49m\u001b[38;5;241;43m=\u001b[39;49m\u001b[43mdayfirst\u001b[49m\u001b[43m,\u001b[49m\n\u001b[1;32m    438\u001b[0m \u001b[43m    \u001b[49m\u001b[43myearfirst\u001b[49m\u001b[38;5;241;43m=\u001b[39;49m\u001b[43myearfirst\u001b[49m\u001b[43m,\u001b[49m\n\u001b[1;32m    439\u001b[0m \u001b[43m    \u001b[49m\u001b[43mutc\u001b[49m\u001b[38;5;241;43m=\u001b[39;49m\u001b[43mutc\u001b[49m\u001b[43m,\u001b[49m\n\u001b[1;32m    440\u001b[0m \u001b[43m    \u001b[49m\u001b[43merrors\u001b[49m\u001b[38;5;241;43m=\u001b[39;49m\u001b[43merrors\u001b[49m\u001b[43m,\u001b[49m\n\u001b[1;32m    441\u001b[0m \u001b[43m    \u001b[49m\u001b[43mallow_object\u001b[49m\u001b[38;5;241;43m=\u001b[39;49m\u001b[38;5;28;43;01mTrue\u001b[39;49;00m\u001b[43m,\u001b[49m\n\u001b[1;32m    442\u001b[0m \u001b[43m\u001b[49m\u001b[43m)\u001b[49m\n\u001b[1;32m    444\u001b[0m \u001b[38;5;28;01mif\u001b[39;00m tz_parsed \u001b[38;5;129;01mis\u001b[39;00m \u001b[38;5;129;01mnot\u001b[39;00m \u001b[38;5;28;01mNone\u001b[39;00m:\n\u001b[1;32m    445\u001b[0m     \u001b[38;5;66;03m# We can take a shortcut since the datetime64 numpy array\u001b[39;00m\n\u001b[1;32m    446\u001b[0m     \u001b[38;5;66;03m# is in UTC\u001b[39;00m\n\u001b[1;32m    447\u001b[0m     out_unit \u001b[38;5;241m=\u001b[39m np\u001b[38;5;241m.\u001b[39mdatetime_data(result\u001b[38;5;241m.\u001b[39mdtype)[\u001b[38;5;241m0\u001b[39m]\n",
      "File \u001b[0;32m~/miniforge-pypy3/envs/artemiy/lib/python3.11/site-packages/pandas/core/arrays/datetimes.py:2398\u001b[0m, in \u001b[0;36mobjects_to_datetime64\u001b[0;34m(data, dayfirst, yearfirst, utc, errors, allow_object, out_unit)\u001b[0m\n\u001b[1;32m   2395\u001b[0m \u001b[38;5;66;03m# if str-dtype, convert\u001b[39;00m\n\u001b[1;32m   2396\u001b[0m data \u001b[38;5;241m=\u001b[39m np\u001b[38;5;241m.\u001b[39masarray(data, dtype\u001b[38;5;241m=\u001b[39mnp\u001b[38;5;241m.\u001b[39mobject_)\n\u001b[0;32m-> 2398\u001b[0m result, tz_parsed \u001b[38;5;241m=\u001b[39m \u001b[43mtslib\u001b[49m\u001b[38;5;241;43m.\u001b[39;49m\u001b[43marray_to_datetime\u001b[49m\u001b[43m(\u001b[49m\n\u001b[1;32m   2399\u001b[0m \u001b[43m    \u001b[49m\u001b[43mdata\u001b[49m\u001b[43m,\u001b[49m\n\u001b[1;32m   2400\u001b[0m \u001b[43m    \u001b[49m\u001b[43merrors\u001b[49m\u001b[38;5;241;43m=\u001b[39;49m\u001b[43merrors\u001b[49m\u001b[43m,\u001b[49m\n\u001b[1;32m   2401\u001b[0m \u001b[43m    \u001b[49m\u001b[43mutc\u001b[49m\u001b[38;5;241;43m=\u001b[39;49m\u001b[43mutc\u001b[49m\u001b[43m,\u001b[49m\n\u001b[1;32m   2402\u001b[0m \u001b[43m    \u001b[49m\u001b[43mdayfirst\u001b[49m\u001b[38;5;241;43m=\u001b[39;49m\u001b[43mdayfirst\u001b[49m\u001b[43m,\u001b[49m\n\u001b[1;32m   2403\u001b[0m \u001b[43m    \u001b[49m\u001b[43myearfirst\u001b[49m\u001b[38;5;241;43m=\u001b[39;49m\u001b[43myearfirst\u001b[49m\u001b[43m,\u001b[49m\n\u001b[1;32m   2404\u001b[0m \u001b[43m    \u001b[49m\u001b[43mcreso\u001b[49m\u001b[38;5;241;43m=\u001b[39;49m\u001b[43mabbrev_to_npy_unit\u001b[49m\u001b[43m(\u001b[49m\u001b[43mout_unit\u001b[49m\u001b[43m)\u001b[49m\u001b[43m,\u001b[49m\n\u001b[1;32m   2405\u001b[0m \u001b[43m\u001b[49m\u001b[43m)\u001b[49m\n\u001b[1;32m   2407\u001b[0m \u001b[38;5;28;01mif\u001b[39;00m tz_parsed \u001b[38;5;129;01mis\u001b[39;00m \u001b[38;5;129;01mnot\u001b[39;00m \u001b[38;5;28;01mNone\u001b[39;00m:\n\u001b[1;32m   2408\u001b[0m     \u001b[38;5;66;03m# We can take a shortcut since the datetime64 numpy array\u001b[39;00m\n\u001b[1;32m   2409\u001b[0m     \u001b[38;5;66;03m#  is in UTC\u001b[39;00m\n\u001b[1;32m   2410\u001b[0m     \u001b[38;5;28;01mreturn\u001b[39;00m result, tz_parsed\n",
      "File \u001b[0;32mtslib.pyx:414\u001b[0m, in \u001b[0;36mpandas._libs.tslib.array_to_datetime\u001b[0;34m()\u001b[0m\n",
      "File \u001b[0;32mtslib.pyx:596\u001b[0m, in \u001b[0;36mpandas._libs.tslib.array_to_datetime\u001b[0;34m()\u001b[0m\n",
      "File \u001b[0;32mtslib.pyx:553\u001b[0m, in \u001b[0;36mpandas._libs.tslib.array_to_datetime\u001b[0;34m()\u001b[0m\n",
      "File \u001b[0;32mconversion.pyx:641\u001b[0m, in \u001b[0;36mpandas._libs.tslibs.conversion.convert_str_to_tsobject\u001b[0;34m()\u001b[0m\n",
      "File \u001b[0;32mparsing.pyx:336\u001b[0m, in \u001b[0;36mpandas._libs.tslibs.parsing.parse_datetime_string\u001b[0;34m()\u001b[0m\n",
      "File \u001b[0;32mparsing.pyx:666\u001b[0m, in \u001b[0;36mpandas._libs.tslibs.parsing.dateutil_parse\u001b[0;34m()\u001b[0m\n",
      "\u001b[0;31mDateParseError\u001b[0m: Unknown datetime string format, unable to parse: 12#02/2020, at position 0"
     ]
    }
   ],
   "source": [
    "pd.to_datetime(df['Дата устройства на работу'])"
   ]
  },
  {
   "cell_type": "code",
   "execution_count": 22,
   "id": "aaa86391",
   "metadata": {},
   "outputs": [],
   "source": [
    "df['Дата устройства на работу'] = pd.to_datetime(df['Дата устройства на работу'],\n",
    "                                                 \n",
    "                                                 format='%d#%m/%Y')"
   ]
  },
  {
   "cell_type": "code",
   "execution_count": 23,
   "id": "772cd157",
   "metadata": {
    "scrolled": true
   },
   "outputs": [
    {
     "name": "stdout",
     "output_type": "stream",
     "text": [
      "<class 'pandas.core.frame.DataFrame'>\n",
      "RangeIndex: 7 entries, 0 to 6\n",
      "Data columns (total 8 columns):\n",
      " #   Column                     Non-Null Count  Dtype         \n",
      "---  ------                     --------------  -----         \n",
      " 0   Имя                        7 non-null      object        \n",
      " 1   Фамилия                    7 non-null      object        \n",
      " 2   Число детей                7 non-null      object        \n",
      " 3   Площадь дома               7 non-null      object        \n",
      " 4   Дата рождения              7 non-null      datetime64[ns]\n",
      " 5   Дата устройства на работу  7 non-null      datetime64[ns]\n",
      " 6   Заработная плата           6 non-null      object        \n",
      " 7   Автомобиль                 6 non-null      object        \n",
      "dtypes: datetime64[ns](2), object(6)\n",
      "memory usage: 580.0+ bytes\n"
     ]
    }
   ],
   "source": [
    "df.info()"
   ]
  },
  {
   "cell_type": "code",
   "execution_count": 24,
   "id": "a5b0131f",
   "metadata": {},
   "outputs": [
    {
     "data": {
      "text/plain": [
       "Timestamp('2016-03-24 12:27:11')"
      ]
     },
     "execution_count": 24,
     "metadata": {},
     "output_type": "execute_result"
    }
   ],
   "source": [
    "pd.to_datetime('03/24/2016 12:27:11', format ='%m/%d/%Y %H:%M:%S')"
   ]
  },
  {
   "cell_type": "markdown",
   "id": "7a47a3cc",
   "metadata": {},
   "source": [
    "### astype\n",
    "\n",
    "Метод для конвертации колонок из одного типа в другой\n",
    "\n",
    "#### Синтаксис:\n",
    "__Для датафреймов:__\n",
    "1. df.astype({Назавание колонки: тип}) - для приведения определенных колонок\n",
    "2. df.astype(тип) - для приведения всего датафрема к одному типу\n",
    "\n",
    "__Для объектов Series:__\n",
    "1. s.astype(тип)"
   ]
  },
  {
   "cell_type": "code",
   "execution_count": 25,
   "id": "36a79125",
   "metadata": {},
   "outputs": [
    {
     "data": {
      "text/html": [
       "<div>\n",
       "<style scoped>\n",
       "    .dataframe tbody tr th:only-of-type {\n",
       "        vertical-align: middle;\n",
       "    }\n",
       "\n",
       "    .dataframe tbody tr th {\n",
       "        vertical-align: top;\n",
       "    }\n",
       "\n",
       "    .dataframe thead th {\n",
       "        text-align: right;\n",
       "    }\n",
       "</style>\n",
       "<table border=\"1\" class=\"dataframe\">\n",
       "  <thead>\n",
       "    <tr style=\"text-align: right;\">\n",
       "      <th></th>\n",
       "      <th>Имя</th>\n",
       "      <th>Фамилия</th>\n",
       "      <th>Число детей</th>\n",
       "      <th>Площадь дома</th>\n",
       "      <th>Дата рождения</th>\n",
       "      <th>Дата устройства на работу</th>\n",
       "      <th>Заработная плата</th>\n",
       "      <th>Автомобиль</th>\n",
       "    </tr>\n",
       "  </thead>\n",
       "  <tbody>\n",
       "    <tr>\n",
       "      <th>0</th>\n",
       "      <td>Илья</td>\n",
       "      <td>Васильев</td>\n",
       "      <td>0</td>\n",
       "      <td>56.3</td>\n",
       "      <td>1996-11-30</td>\n",
       "      <td>2020-02-12</td>\n",
       "      <td>45000</td>\n",
       "      <td>киа</td>\n",
       "    </tr>\n",
       "    <tr>\n",
       "      <th>1</th>\n",
       "      <td>Антон</td>\n",
       "      <td>Алексеев</td>\n",
       "      <td>2</td>\n",
       "      <td>77.0</td>\n",
       "      <td>1976-02-29</td>\n",
       "      <td>2001-12-20</td>\n",
       "      <td>33000</td>\n",
       "      <td>рено</td>\n",
       "    </tr>\n",
       "    <tr>\n",
       "      <th>2</th>\n",
       "      <td>Надежда</td>\n",
       "      <td>Гусева</td>\n",
       "      <td>3</td>\n",
       "      <td>103.1</td>\n",
       "      <td>1964-09-26</td>\n",
       "      <td>1981-06-09</td>\n",
       "      <td>80000</td>\n",
       "      <td>жигули</td>\n",
       "    </tr>\n",
       "    <tr>\n",
       "      <th>3</th>\n",
       "      <td>Артем</td>\n",
       "      <td>Павлов</td>\n",
       "      <td>5</td>\n",
       "      <td>134.9</td>\n",
       "      <td>1980-05-18</td>\n",
       "      <td>2008-09-09</td>\n",
       "      <td>50000</td>\n",
       "      <td>бмв</td>\n",
       "    </tr>\n",
       "    <tr>\n",
       "      <th>4</th>\n",
       "      <td>Александр</td>\n",
       "      <td>Николаев</td>\n",
       "      <td>1</td>\n",
       "      <td>47.0</td>\n",
       "      <td>1959-02-24</td>\n",
       "      <td>2019-07-03</td>\n",
       "      <td>29000</td>\n",
       "      <td>киа</td>\n",
       "    </tr>\n",
       "    <tr>\n",
       "      <th>5</th>\n",
       "      <td>Дмитрий</td>\n",
       "      <td>Печенкин</td>\n",
       "      <td>2</td>\n",
       "      <td>61.0</td>\n",
       "      <td>1939-04-05</td>\n",
       "      <td>1958-08-19</td>\n",
       "      <td>100000</td>\n",
       "      <td>жигули</td>\n",
       "    </tr>\n",
       "    <tr>\n",
       "      <th>6</th>\n",
       "      <td>Дарья</td>\n",
       "      <td>Воробева</td>\n",
       "      <td>3</td>\n",
       "      <td>65.0</td>\n",
       "      <td>1997-07-23</td>\n",
       "      <td>2022-12-20</td>\n",
       "      <td>NaN</td>\n",
       "      <td>&lt;NA&gt;</td>\n",
       "    </tr>\n",
       "  </tbody>\n",
       "</table>\n",
       "</div>"
      ],
      "text/plain": [
       "         Имя   Фамилия  Число детей  Площадь дома Дата рождения  \\\n",
       "0       Илья  Васильев            0          56.3    1996-11-30   \n",
       "1      Антон  Алексеев            2          77.0    1976-02-29   \n",
       "2    Надежда    Гусева            3         103.1    1964-09-26   \n",
       "3      Артем    Павлов            5         134.9    1980-05-18   \n",
       "4  Александр  Николаев            1          47.0    1959-02-24   \n",
       "5    Дмитрий  Печенкин            2          61.0    1939-04-05   \n",
       "6      Дарья  Воробева            3          65.0    1997-07-23   \n",
       "\n",
       "  Дата устройства на работу Заработная плата Автомобиль  \n",
       "0                2020-02-12            45000        киа  \n",
       "1                2001-12-20            33000       рено  \n",
       "2                1981-06-09            80000     жигули  \n",
       "3                2008-09-09            50000        бмв  \n",
       "4                2019-07-03            29000        киа  \n",
       "5                1958-08-19           100000     жигули  \n",
       "6                2022-12-20              NaN       <NA>  "
      ]
     },
     "execution_count": 25,
     "metadata": {},
     "output_type": "execute_result"
    }
   ],
   "source": [
    "df.astype({'Число детей': int, 'Площадь дома': float})"
   ]
  },
  {
   "cell_type": "code",
   "execution_count": 26,
   "id": "b5f0238b",
   "metadata": {},
   "outputs": [
    {
     "name": "stdout",
     "output_type": "stream",
     "text": [
      "<class 'pandas.core.frame.DataFrame'>\n",
      "RangeIndex: 7 entries, 0 to 6\n",
      "Data columns (total 8 columns):\n",
      " #   Column                     Non-Null Count  Dtype         \n",
      "---  ------                     --------------  -----         \n",
      " 0   Имя                        7 non-null      object        \n",
      " 1   Фамилия                    7 non-null      object        \n",
      " 2   Число детей                7 non-null      int64         \n",
      " 3   Площадь дома               7 non-null      float64       \n",
      " 4   Дата рождения              7 non-null      datetime64[ns]\n",
      " 5   Дата устройства на работу  7 non-null      datetime64[ns]\n",
      " 6   Заработная плата           6 non-null      object        \n",
      " 7   Автомобиль                 6 non-null      object        \n",
      "dtypes: datetime64[ns](2), float64(1), int64(1), object(4)\n",
      "memory usage: 580.0+ bytes\n"
     ]
    }
   ],
   "source": [
    "df.astype({'Число детей': int, 'Площадь дома': float}).info()"
   ]
  },
  {
   "cell_type": "code",
   "execution_count": 27,
   "id": "74711875",
   "metadata": {},
   "outputs": [
    {
     "name": "stdout",
     "output_type": "stream",
     "text": [
      "<class 'pandas.core.frame.DataFrame'>\n",
      "RangeIndex: 7 entries, 0 to 6\n",
      "Data columns (total 8 columns):\n",
      " #   Column                     Non-Null Count  Dtype         \n",
      "---  ------                     --------------  -----         \n",
      " 0   Имя                        7 non-null      object        \n",
      " 1   Фамилия                    7 non-null      object        \n",
      " 2   Число детей                7 non-null      object        \n",
      " 3   Площадь дома               7 non-null      object        \n",
      " 4   Дата рождения              7 non-null      datetime64[ns]\n",
      " 5   Дата устройства на работу  7 non-null      datetime64[ns]\n",
      " 6   Заработная плата           6 non-null      object        \n",
      " 7   Автомобиль                 6 non-null      object        \n",
      "dtypes: datetime64[ns](2), object(6)\n",
      "memory usage: 580.0+ bytes\n"
     ]
    }
   ],
   "source": [
    "df.info()"
   ]
  },
  {
   "cell_type": "markdown",
   "id": "e5f11933",
   "metadata": {},
   "source": [
    "#### С помощью метода astype можно обрезать дробную часть у чисел с плавующей точкой"
   ]
  },
  {
   "cell_type": "code",
   "execution_count": 28,
   "id": "62196f26",
   "metadata": {},
   "outputs": [
    {
     "data": {
      "text/html": [
       "<div>\n",
       "<style scoped>\n",
       "    .dataframe tbody tr th:only-of-type {\n",
       "        vertical-align: middle;\n",
       "    }\n",
       "\n",
       "    .dataframe tbody tr th {\n",
       "        vertical-align: top;\n",
       "    }\n",
       "\n",
       "    .dataframe thead th {\n",
       "        text-align: right;\n",
       "    }\n",
       "</style>\n",
       "<table border=\"1\" class=\"dataframe\">\n",
       "  <thead>\n",
       "    <tr style=\"text-align: right;\">\n",
       "      <th></th>\n",
       "      <th>Имя</th>\n",
       "      <th>Фамилия</th>\n",
       "      <th>Число детей</th>\n",
       "      <th>Площадь дома</th>\n",
       "      <th>Дата рождения</th>\n",
       "      <th>Дата устройства на работу</th>\n",
       "      <th>Заработная плата</th>\n",
       "      <th>Автомобиль</th>\n",
       "    </tr>\n",
       "  </thead>\n",
       "  <tbody>\n",
       "    <tr>\n",
       "      <th>0</th>\n",
       "      <td>Илья</td>\n",
       "      <td>Васильев</td>\n",
       "      <td>0</td>\n",
       "      <td>56</td>\n",
       "      <td>1996-11-30</td>\n",
       "      <td>2020-02-12</td>\n",
       "      <td>45000</td>\n",
       "      <td>киа</td>\n",
       "    </tr>\n",
       "    <tr>\n",
       "      <th>1</th>\n",
       "      <td>Антон</td>\n",
       "      <td>Алексеев</td>\n",
       "      <td>2</td>\n",
       "      <td>77</td>\n",
       "      <td>1976-02-29</td>\n",
       "      <td>2001-12-20</td>\n",
       "      <td>33000</td>\n",
       "      <td>рено</td>\n",
       "    </tr>\n",
       "    <tr>\n",
       "      <th>2</th>\n",
       "      <td>Надежда</td>\n",
       "      <td>Гусева</td>\n",
       "      <td>3</td>\n",
       "      <td>103</td>\n",
       "      <td>1964-09-26</td>\n",
       "      <td>1981-06-09</td>\n",
       "      <td>80000</td>\n",
       "      <td>жигули</td>\n",
       "    </tr>\n",
       "    <tr>\n",
       "      <th>3</th>\n",
       "      <td>Артем</td>\n",
       "      <td>Павлов</td>\n",
       "      <td>5</td>\n",
       "      <td>134</td>\n",
       "      <td>1980-05-18</td>\n",
       "      <td>2008-09-09</td>\n",
       "      <td>50000</td>\n",
       "      <td>бмв</td>\n",
       "    </tr>\n",
       "    <tr>\n",
       "      <th>4</th>\n",
       "      <td>Александр</td>\n",
       "      <td>Николаев</td>\n",
       "      <td>1</td>\n",
       "      <td>47</td>\n",
       "      <td>1959-02-24</td>\n",
       "      <td>2019-07-03</td>\n",
       "      <td>29000</td>\n",
       "      <td>киа</td>\n",
       "    </tr>\n",
       "    <tr>\n",
       "      <th>5</th>\n",
       "      <td>Дмитрий</td>\n",
       "      <td>Печенкин</td>\n",
       "      <td>2</td>\n",
       "      <td>61</td>\n",
       "      <td>1939-04-05</td>\n",
       "      <td>1958-08-19</td>\n",
       "      <td>100000</td>\n",
       "      <td>жигули</td>\n",
       "    </tr>\n",
       "    <tr>\n",
       "      <th>6</th>\n",
       "      <td>Дарья</td>\n",
       "      <td>Воробева</td>\n",
       "      <td>3</td>\n",
       "      <td>65</td>\n",
       "      <td>1997-07-23</td>\n",
       "      <td>2022-12-20</td>\n",
       "      <td>NaN</td>\n",
       "      <td>&lt;NA&gt;</td>\n",
       "    </tr>\n",
       "  </tbody>\n",
       "</table>\n",
       "</div>"
      ],
      "text/plain": [
       "         Имя   Фамилия  Число детей  Площадь дома Дата рождения  \\\n",
       "0       Илья  Васильев            0            56    1996-11-30   \n",
       "1      Антон  Алексеев            2            77    1976-02-29   \n",
       "2    Надежда    Гусева            3           103    1964-09-26   \n",
       "3      Артем    Павлов            5           134    1980-05-18   \n",
       "4  Александр  Николаев            1            47    1959-02-24   \n",
       "5    Дмитрий  Печенкин            2            61    1939-04-05   \n",
       "6      Дарья  Воробева            3            65    1997-07-23   \n",
       "\n",
       "  Дата устройства на работу Заработная плата Автомобиль  \n",
       "0                2020-02-12            45000        киа  \n",
       "1                2001-12-20            33000       рено  \n",
       "2                1981-06-09            80000     жигули  \n",
       "3                2008-09-09            50000        бмв  \n",
       "4                2019-07-03            29000        киа  \n",
       "5                1958-08-19           100000     жигули  \n",
       "6                2022-12-20              NaN       <NA>  "
      ]
     },
     "execution_count": 28,
     "metadata": {},
     "output_type": "execute_result"
    }
   ],
   "source": [
    "df.astype({'Число детей': int, 'Площадь дома': float}).astype({'Площадь дома': int})"
   ]
  },
  {
   "cell_type": "markdown",
   "id": "323362c9",
   "metadata": {},
   "source": [
    "Более красивый вид написания методов"
   ]
  },
  {
   "cell_type": "code",
   "execution_count": 29,
   "id": "659f0334",
   "metadata": {},
   "outputs": [
    {
     "data": {
      "text/html": [
       "<div>\n",
       "<style scoped>\n",
       "    .dataframe tbody tr th:only-of-type {\n",
       "        vertical-align: middle;\n",
       "    }\n",
       "\n",
       "    .dataframe tbody tr th {\n",
       "        vertical-align: top;\n",
       "    }\n",
       "\n",
       "    .dataframe thead th {\n",
       "        text-align: right;\n",
       "    }\n",
       "</style>\n",
       "<table border=\"1\" class=\"dataframe\">\n",
       "  <thead>\n",
       "    <tr style=\"text-align: right;\">\n",
       "      <th></th>\n",
       "      <th>Имя</th>\n",
       "      <th>Фамилия</th>\n",
       "      <th>Число детей</th>\n",
       "      <th>Площадь дома</th>\n",
       "      <th>Дата рождения</th>\n",
       "      <th>Дата устройства на работу</th>\n",
       "      <th>Заработная плата</th>\n",
       "      <th>Автомобиль</th>\n",
       "    </tr>\n",
       "  </thead>\n",
       "  <tbody>\n",
       "    <tr>\n",
       "      <th>0</th>\n",
       "      <td>Илья</td>\n",
       "      <td>Васильев</td>\n",
       "      <td>0</td>\n",
       "      <td>56.3</td>\n",
       "      <td>1996-11-30</td>\n",
       "      <td>2020-02-12</td>\n",
       "      <td>45000</td>\n",
       "      <td>киа</td>\n",
       "    </tr>\n",
       "    <tr>\n",
       "      <th>1</th>\n",
       "      <td>Антон</td>\n",
       "      <td>Алексеев</td>\n",
       "      <td>2</td>\n",
       "      <td>77.0</td>\n",
       "      <td>1976-02-29</td>\n",
       "      <td>2001-12-20</td>\n",
       "      <td>33000</td>\n",
       "      <td>рено</td>\n",
       "    </tr>\n",
       "    <tr>\n",
       "      <th>2</th>\n",
       "      <td>Надежда</td>\n",
       "      <td>Гусева</td>\n",
       "      <td>3</td>\n",
       "      <td>103.1</td>\n",
       "      <td>1964-09-26</td>\n",
       "      <td>1981-06-09</td>\n",
       "      <td>80000</td>\n",
       "      <td>жигули</td>\n",
       "    </tr>\n",
       "    <tr>\n",
       "      <th>3</th>\n",
       "      <td>Артем</td>\n",
       "      <td>Павлов</td>\n",
       "      <td>5</td>\n",
       "      <td>134.9</td>\n",
       "      <td>1980-05-18</td>\n",
       "      <td>2008-09-09</td>\n",
       "      <td>50000</td>\n",
       "      <td>бмв</td>\n",
       "    </tr>\n",
       "    <tr>\n",
       "      <th>4</th>\n",
       "      <td>Александр</td>\n",
       "      <td>Николаев</td>\n",
       "      <td>1</td>\n",
       "      <td>47.0</td>\n",
       "      <td>1959-02-24</td>\n",
       "      <td>2019-07-03</td>\n",
       "      <td>29000</td>\n",
       "      <td>киа</td>\n",
       "    </tr>\n",
       "    <tr>\n",
       "      <th>5</th>\n",
       "      <td>Дмитрий</td>\n",
       "      <td>Печенкин</td>\n",
       "      <td>2</td>\n",
       "      <td>61.0</td>\n",
       "      <td>1939-04-05</td>\n",
       "      <td>1958-08-19</td>\n",
       "      <td>100000</td>\n",
       "      <td>жигули</td>\n",
       "    </tr>\n",
       "    <tr>\n",
       "      <th>6</th>\n",
       "      <td>Дарья</td>\n",
       "      <td>Воробева</td>\n",
       "      <td>3</td>\n",
       "      <td>65.0</td>\n",
       "      <td>1997-07-23</td>\n",
       "      <td>2022-12-20</td>\n",
       "      <td>NaN</td>\n",
       "      <td>&lt;NA&gt;</td>\n",
       "    </tr>\n",
       "  </tbody>\n",
       "</table>\n",
       "</div>"
      ],
      "text/plain": [
       "         Имя   Фамилия  Число детей  Площадь дома Дата рождения  \\\n",
       "0       Илья  Васильев            0          56.3    1996-11-30   \n",
       "1      Антон  Алексеев            2          77.0    1976-02-29   \n",
       "2    Надежда    Гусева            3         103.1    1964-09-26   \n",
       "3      Артем    Павлов            5         134.9    1980-05-18   \n",
       "4  Александр  Николаев            1          47.0    1959-02-24   \n",
       "5    Дмитрий  Печенкин            2          61.0    1939-04-05   \n",
       "6      Дарья  Воробева            3          65.0    1997-07-23   \n",
       "\n",
       "  Дата устройства на работу Заработная плата Автомобиль  \n",
       "0                2020-02-12            45000        киа  \n",
       "1                2001-12-20            33000       рено  \n",
       "2                1981-06-09            80000     жигули  \n",
       "3                2008-09-09            50000        бмв  \n",
       "4                2019-07-03            29000        киа  \n",
       "5                1958-08-19           100000     жигули  \n",
       "6                2022-12-20              NaN       <NA>  "
      ]
     },
     "execution_count": 29,
     "metadata": {},
     "output_type": "execute_result"
    }
   ],
   "source": [
    "(df\n",
    "    .astype({'Число детей': int, 'Площадь дома': float})\n",
    "#     .astype({'Площадь дома': int})\n",
    ")"
   ]
  },
  {
   "cell_type": "code",
   "execution_count": 30,
   "id": "7d7a923c",
   "metadata": {},
   "outputs": [
    {
     "data": {
      "text/plain": [
       "65750.0"
      ]
     },
     "execution_count": 30,
     "metadata": {},
     "output_type": "execute_result"
    }
   ],
   "source": [
    "(df\n",
    "    .astype({'Число детей': int})\n",
    "    .query('`Число детей` > 1') # Выбираем людей, у которых хотя бы 2 ребенка\n",
    "    ['Заработная плата'] # выбираем только колонку с заработной платой\n",
    "    .astype(float) # меняем тип данных на float\n",
    "    .mean() # считаем среднее значение\n",
    ")"
   ]
  },
  {
   "cell_type": "code",
   "execution_count": null,
   "id": "d3c6a518",
   "metadata": {},
   "outputs": [],
   "source": []
  },
  {
   "cell_type": "code",
   "execution_count": null,
   "id": "c7b6e181",
   "metadata": {},
   "outputs": [],
   "source": []
  },
  {
   "cell_type": "markdown",
   "id": "eaf9c1ef",
   "metadata": {},
   "source": [
    "Int64 может содержать пропущенные значения"
   ]
  },
  {
   "cell_type": "code",
   "execution_count": 31,
   "id": "5fdb7873",
   "metadata": {},
   "outputs": [
    {
     "data": {
      "text/plain": [
       "0     45000\n",
       "1     33000\n",
       "2     80000\n",
       "3     50000\n",
       "4     29000\n",
       "5    100000\n",
       "6       NaN\n",
       "Name: Заработная плата, dtype: object"
      ]
     },
     "execution_count": 31,
     "metadata": {},
     "output_type": "execute_result"
    }
   ],
   "source": [
    "df['Заработная плата']"
   ]
  },
  {
   "cell_type": "code",
   "execution_count": 32,
   "id": "45eeccff",
   "metadata": {
    "scrolled": false
   },
   "outputs": [
    {
     "ename": "ValueError",
     "evalue": "cannot convert float NaN to integer",
     "output_type": "error",
     "traceback": [
      "\u001b[0;31m---------------------------------------------------------------------------\u001b[0m",
      "\u001b[0;31mValueError\u001b[0m                                Traceback (most recent call last)",
      "Cell \u001b[0;32mIn[32], line 1\u001b[0m\n\u001b[0;32m----> 1\u001b[0m \u001b[43mdf\u001b[49m\u001b[43m[\u001b[49m\u001b[38;5;124;43m'\u001b[39;49m\u001b[38;5;124;43mЗаработная плата\u001b[39;49m\u001b[38;5;124;43m'\u001b[39;49m\u001b[43m]\u001b[49m\u001b[38;5;241;43m.\u001b[39;49m\u001b[43mastype\u001b[49m\u001b[43m(\u001b[49m\u001b[38;5;28;43mint\u001b[39;49m\u001b[43m)\u001b[49m\n",
      "File \u001b[0;32m~/miniforge-pypy3/envs/artemiy/lib/python3.11/site-packages/pandas/core/generic.py:6643\u001b[0m, in \u001b[0;36mNDFrame.astype\u001b[0;34m(self, dtype, copy, errors)\u001b[0m\n\u001b[1;32m   6637\u001b[0m     results \u001b[38;5;241m=\u001b[39m [\n\u001b[1;32m   6638\u001b[0m         ser\u001b[38;5;241m.\u001b[39mastype(dtype, copy\u001b[38;5;241m=\u001b[39mcopy, errors\u001b[38;5;241m=\u001b[39merrors) \u001b[38;5;28;01mfor\u001b[39;00m _, ser \u001b[38;5;129;01min\u001b[39;00m \u001b[38;5;28mself\u001b[39m\u001b[38;5;241m.\u001b[39mitems()\n\u001b[1;32m   6639\u001b[0m     ]\n\u001b[1;32m   6641\u001b[0m \u001b[38;5;28;01melse\u001b[39;00m:\n\u001b[1;32m   6642\u001b[0m     \u001b[38;5;66;03m# else, only a single dtype is given\u001b[39;00m\n\u001b[0;32m-> 6643\u001b[0m     new_data \u001b[38;5;241m=\u001b[39m \u001b[38;5;28;43mself\u001b[39;49m\u001b[38;5;241;43m.\u001b[39;49m\u001b[43m_mgr\u001b[49m\u001b[38;5;241;43m.\u001b[39;49m\u001b[43mastype\u001b[49m\u001b[43m(\u001b[49m\u001b[43mdtype\u001b[49m\u001b[38;5;241;43m=\u001b[39;49m\u001b[43mdtype\u001b[49m\u001b[43m,\u001b[49m\u001b[43m \u001b[49m\u001b[43mcopy\u001b[49m\u001b[38;5;241;43m=\u001b[39;49m\u001b[43mcopy\u001b[49m\u001b[43m,\u001b[49m\u001b[43m \u001b[49m\u001b[43merrors\u001b[49m\u001b[38;5;241;43m=\u001b[39;49m\u001b[43merrors\u001b[49m\u001b[43m)\u001b[49m\n\u001b[1;32m   6644\u001b[0m     res \u001b[38;5;241m=\u001b[39m \u001b[38;5;28mself\u001b[39m\u001b[38;5;241m.\u001b[39m_constructor_from_mgr(new_data, axes\u001b[38;5;241m=\u001b[39mnew_data\u001b[38;5;241m.\u001b[39maxes)\n\u001b[1;32m   6645\u001b[0m     \u001b[38;5;28;01mreturn\u001b[39;00m res\u001b[38;5;241m.\u001b[39m__finalize__(\u001b[38;5;28mself\u001b[39m, method\u001b[38;5;241m=\u001b[39m\u001b[38;5;124m\"\u001b[39m\u001b[38;5;124mastype\u001b[39m\u001b[38;5;124m\"\u001b[39m)\n",
      "File \u001b[0;32m~/miniforge-pypy3/envs/artemiy/lib/python3.11/site-packages/pandas/core/internals/managers.py:430\u001b[0m, in \u001b[0;36mBaseBlockManager.astype\u001b[0;34m(self, dtype, copy, errors)\u001b[0m\n\u001b[1;32m    427\u001b[0m \u001b[38;5;28;01melif\u001b[39;00m using_copy_on_write():\n\u001b[1;32m    428\u001b[0m     copy \u001b[38;5;241m=\u001b[39m \u001b[38;5;28;01mFalse\u001b[39;00m\n\u001b[0;32m--> 430\u001b[0m \u001b[38;5;28;01mreturn\u001b[39;00m \u001b[38;5;28;43mself\u001b[39;49m\u001b[38;5;241;43m.\u001b[39;49m\u001b[43mapply\u001b[49m\u001b[43m(\u001b[49m\n\u001b[1;32m    431\u001b[0m \u001b[43m    \u001b[49m\u001b[38;5;124;43m\"\u001b[39;49m\u001b[38;5;124;43mastype\u001b[39;49m\u001b[38;5;124;43m\"\u001b[39;49m\u001b[43m,\u001b[49m\n\u001b[1;32m    432\u001b[0m \u001b[43m    \u001b[49m\u001b[43mdtype\u001b[49m\u001b[38;5;241;43m=\u001b[39;49m\u001b[43mdtype\u001b[49m\u001b[43m,\u001b[49m\n\u001b[1;32m    433\u001b[0m \u001b[43m    \u001b[49m\u001b[43mcopy\u001b[49m\u001b[38;5;241;43m=\u001b[39;49m\u001b[43mcopy\u001b[49m\u001b[43m,\u001b[49m\n\u001b[1;32m    434\u001b[0m \u001b[43m    \u001b[49m\u001b[43merrors\u001b[49m\u001b[38;5;241;43m=\u001b[39;49m\u001b[43merrors\u001b[49m\u001b[43m,\u001b[49m\n\u001b[1;32m    435\u001b[0m \u001b[43m    \u001b[49m\u001b[43musing_cow\u001b[49m\u001b[38;5;241;43m=\u001b[39;49m\u001b[43musing_copy_on_write\u001b[49m\u001b[43m(\u001b[49m\u001b[43m)\u001b[49m\u001b[43m,\u001b[49m\n\u001b[1;32m    436\u001b[0m \u001b[43m\u001b[49m\u001b[43m)\u001b[49m\n",
      "File \u001b[0;32m~/miniforge-pypy3/envs/artemiy/lib/python3.11/site-packages/pandas/core/internals/managers.py:363\u001b[0m, in \u001b[0;36mBaseBlockManager.apply\u001b[0;34m(self, f, align_keys, **kwargs)\u001b[0m\n\u001b[1;32m    361\u001b[0m         applied \u001b[38;5;241m=\u001b[39m b\u001b[38;5;241m.\u001b[39mapply(f, \u001b[38;5;241m*\u001b[39m\u001b[38;5;241m*\u001b[39mkwargs)\n\u001b[1;32m    362\u001b[0m     \u001b[38;5;28;01melse\u001b[39;00m:\n\u001b[0;32m--> 363\u001b[0m         applied \u001b[38;5;241m=\u001b[39m \u001b[38;5;28;43mgetattr\u001b[39;49m\u001b[43m(\u001b[49m\u001b[43mb\u001b[49m\u001b[43m,\u001b[49m\u001b[43m \u001b[49m\u001b[43mf\u001b[49m\u001b[43m)\u001b[49m\u001b[43m(\u001b[49m\u001b[38;5;241;43m*\u001b[39;49m\u001b[38;5;241;43m*\u001b[39;49m\u001b[43mkwargs\u001b[49m\u001b[43m)\u001b[49m\n\u001b[1;32m    364\u001b[0m     result_blocks \u001b[38;5;241m=\u001b[39m extend_blocks(applied, result_blocks)\n\u001b[1;32m    366\u001b[0m out \u001b[38;5;241m=\u001b[39m \u001b[38;5;28mtype\u001b[39m(\u001b[38;5;28mself\u001b[39m)\u001b[38;5;241m.\u001b[39mfrom_blocks(result_blocks, \u001b[38;5;28mself\u001b[39m\u001b[38;5;241m.\u001b[39maxes)\n",
      "File \u001b[0;32m~/miniforge-pypy3/envs/artemiy/lib/python3.11/site-packages/pandas/core/internals/blocks.py:758\u001b[0m, in \u001b[0;36mBlock.astype\u001b[0;34m(self, dtype, copy, errors, using_cow, squeeze)\u001b[0m\n\u001b[1;32m    755\u001b[0m         \u001b[38;5;28;01mraise\u001b[39;00m \u001b[38;5;167;01mValueError\u001b[39;00m(\u001b[38;5;124m\"\u001b[39m\u001b[38;5;124mCan not squeeze with more than one column.\u001b[39m\u001b[38;5;124m\"\u001b[39m)\n\u001b[1;32m    756\u001b[0m     values \u001b[38;5;241m=\u001b[39m values[\u001b[38;5;241m0\u001b[39m, :]  \u001b[38;5;66;03m# type: ignore[call-overload]\u001b[39;00m\n\u001b[0;32m--> 758\u001b[0m new_values \u001b[38;5;241m=\u001b[39m \u001b[43mastype_array_safe\u001b[49m\u001b[43m(\u001b[49m\u001b[43mvalues\u001b[49m\u001b[43m,\u001b[49m\u001b[43m \u001b[49m\u001b[43mdtype\u001b[49m\u001b[43m,\u001b[49m\u001b[43m \u001b[49m\u001b[43mcopy\u001b[49m\u001b[38;5;241;43m=\u001b[39;49m\u001b[43mcopy\u001b[49m\u001b[43m,\u001b[49m\u001b[43m \u001b[49m\u001b[43merrors\u001b[49m\u001b[38;5;241;43m=\u001b[39;49m\u001b[43merrors\u001b[49m\u001b[43m)\u001b[49m\n\u001b[1;32m    760\u001b[0m new_values \u001b[38;5;241m=\u001b[39m maybe_coerce_values(new_values)\n\u001b[1;32m    762\u001b[0m refs \u001b[38;5;241m=\u001b[39m \u001b[38;5;28;01mNone\u001b[39;00m\n",
      "File \u001b[0;32m~/miniforge-pypy3/envs/artemiy/lib/python3.11/site-packages/pandas/core/dtypes/astype.py:237\u001b[0m, in \u001b[0;36mastype_array_safe\u001b[0;34m(values, dtype, copy, errors)\u001b[0m\n\u001b[1;32m    234\u001b[0m     dtype \u001b[38;5;241m=\u001b[39m dtype\u001b[38;5;241m.\u001b[39mnumpy_dtype\n\u001b[1;32m    236\u001b[0m \u001b[38;5;28;01mtry\u001b[39;00m:\n\u001b[0;32m--> 237\u001b[0m     new_values \u001b[38;5;241m=\u001b[39m \u001b[43mastype_array\u001b[49m\u001b[43m(\u001b[49m\u001b[43mvalues\u001b[49m\u001b[43m,\u001b[49m\u001b[43m \u001b[49m\u001b[43mdtype\u001b[49m\u001b[43m,\u001b[49m\u001b[43m \u001b[49m\u001b[43mcopy\u001b[49m\u001b[38;5;241;43m=\u001b[39;49m\u001b[43mcopy\u001b[49m\u001b[43m)\u001b[49m\n\u001b[1;32m    238\u001b[0m \u001b[38;5;28;01mexcept\u001b[39;00m (\u001b[38;5;167;01mValueError\u001b[39;00m, \u001b[38;5;167;01mTypeError\u001b[39;00m):\n\u001b[1;32m    239\u001b[0m     \u001b[38;5;66;03m# e.g. _astype_nansafe can fail on object-dtype of strings\u001b[39;00m\n\u001b[1;32m    240\u001b[0m     \u001b[38;5;66;03m#  trying to convert to float\u001b[39;00m\n\u001b[1;32m    241\u001b[0m     \u001b[38;5;28;01mif\u001b[39;00m errors \u001b[38;5;241m==\u001b[39m \u001b[38;5;124m\"\u001b[39m\u001b[38;5;124mignore\u001b[39m\u001b[38;5;124m\"\u001b[39m:\n",
      "File \u001b[0;32m~/miniforge-pypy3/envs/artemiy/lib/python3.11/site-packages/pandas/core/dtypes/astype.py:182\u001b[0m, in \u001b[0;36mastype_array\u001b[0;34m(values, dtype, copy)\u001b[0m\n\u001b[1;32m    179\u001b[0m     values \u001b[38;5;241m=\u001b[39m values\u001b[38;5;241m.\u001b[39mastype(dtype, copy\u001b[38;5;241m=\u001b[39mcopy)\n\u001b[1;32m    181\u001b[0m \u001b[38;5;28;01melse\u001b[39;00m:\n\u001b[0;32m--> 182\u001b[0m     values \u001b[38;5;241m=\u001b[39m \u001b[43m_astype_nansafe\u001b[49m\u001b[43m(\u001b[49m\u001b[43mvalues\u001b[49m\u001b[43m,\u001b[49m\u001b[43m \u001b[49m\u001b[43mdtype\u001b[49m\u001b[43m,\u001b[49m\u001b[43m \u001b[49m\u001b[43mcopy\u001b[49m\u001b[38;5;241;43m=\u001b[39;49m\u001b[43mcopy\u001b[49m\u001b[43m)\u001b[49m\n\u001b[1;32m    184\u001b[0m \u001b[38;5;66;03m# in pandas we don't store numpy str dtypes, so convert to object\u001b[39;00m\n\u001b[1;32m    185\u001b[0m \u001b[38;5;28;01mif\u001b[39;00m \u001b[38;5;28misinstance\u001b[39m(dtype, np\u001b[38;5;241m.\u001b[39mdtype) \u001b[38;5;129;01mand\u001b[39;00m \u001b[38;5;28missubclass\u001b[39m(values\u001b[38;5;241m.\u001b[39mdtype\u001b[38;5;241m.\u001b[39mtype, \u001b[38;5;28mstr\u001b[39m):\n",
      "File \u001b[0;32m~/miniforge-pypy3/envs/artemiy/lib/python3.11/site-packages/pandas/core/dtypes/astype.py:133\u001b[0m, in \u001b[0;36m_astype_nansafe\u001b[0;34m(arr, dtype, copy, skipna)\u001b[0m\n\u001b[1;32m    129\u001b[0m     \u001b[38;5;28;01mraise\u001b[39;00m \u001b[38;5;167;01mValueError\u001b[39;00m(msg)\n\u001b[1;32m    131\u001b[0m \u001b[38;5;28;01mif\u001b[39;00m copy \u001b[38;5;129;01mor\u001b[39;00m arr\u001b[38;5;241m.\u001b[39mdtype \u001b[38;5;241m==\u001b[39m \u001b[38;5;28mobject\u001b[39m \u001b[38;5;129;01mor\u001b[39;00m dtype \u001b[38;5;241m==\u001b[39m \u001b[38;5;28mobject\u001b[39m:\n\u001b[1;32m    132\u001b[0m     \u001b[38;5;66;03m# Explicit copy, or required since NumPy can't view from / to object.\u001b[39;00m\n\u001b[0;32m--> 133\u001b[0m     \u001b[38;5;28;01mreturn\u001b[39;00m \u001b[43marr\u001b[49m\u001b[38;5;241;43m.\u001b[39;49m\u001b[43mastype\u001b[49m\u001b[43m(\u001b[49m\u001b[43mdtype\u001b[49m\u001b[43m,\u001b[49m\u001b[43m \u001b[49m\u001b[43mcopy\u001b[49m\u001b[38;5;241;43m=\u001b[39;49m\u001b[38;5;28;43;01mTrue\u001b[39;49;00m\u001b[43m)\u001b[49m\n\u001b[1;32m    135\u001b[0m \u001b[38;5;28;01mreturn\u001b[39;00m arr\u001b[38;5;241m.\u001b[39mastype(dtype, copy\u001b[38;5;241m=\u001b[39mcopy)\n",
      "\u001b[0;31mValueError\u001b[0m: cannot convert float NaN to integer"
     ]
    }
   ],
   "source": [
    "df['Заработная плата'].astype(int)\n"
   ]
  },
  {
   "cell_type": "code",
   "execution_count": 42,
   "id": "6655d498",
   "metadata": {},
   "outputs": [
    {
     "data": {
      "text/plain": [
       "0     45000.0\n",
       "1     33000.0\n",
       "2     80000.0\n",
       "3     50000.0\n",
       "4     29000.0\n",
       "5    100000.0\n",
       "6         NaN\n",
       "Name: Заработная плата, dtype: float64"
      ]
     },
     "execution_count": 42,
     "metadata": {},
     "output_type": "execute_result"
    }
   ],
   "source": [
    "df['Заработная плата'].astype(float)"
   ]
  },
  {
   "cell_type": "code",
   "execution_count": 43,
   "id": "503a3f4c",
   "metadata": {},
   "outputs": [
    {
     "data": {
      "text/plain": [
       "0     45000\n",
       "1     33000\n",
       "2     80000\n",
       "3     50000\n",
       "4     29000\n",
       "5    100000\n",
       "6      <NA>\n",
       "Name: Заработная плата, dtype: Int64"
      ]
     },
     "execution_count": 43,
     "metadata": {},
     "output_type": "execute_result"
    }
   ],
   "source": [
    "df['Заработная плата'].astype('Int64')"
   ]
  },
  {
   "cell_type": "code",
   "execution_count": 44,
   "id": "303a6b31",
   "metadata": {},
   "outputs": [
    {
     "data": {
      "text/plain": [
       "0       киа\n",
       "1      рено\n",
       "2    жигули\n",
       "3       бмв\n",
       "4       киа\n",
       "5    жигули\n",
       "6      <NA>\n",
       "Name: Автомобиль, dtype: object"
      ]
     },
     "execution_count": 44,
     "metadata": {},
     "output_type": "execute_result"
    }
   ],
   "source": [
    "df['Автомобиль']"
   ]
  },
  {
   "cell_type": "code",
   "execution_count": 45,
   "id": "cfec4d62",
   "metadata": {},
   "outputs": [
    {
     "name": "stdout",
     "output_type": "stream",
     "text": [
      "<class 'pandas.core.series.Series'>\n",
      "RangeIndex: 7 entries, 0 to 6\n",
      "Series name: Автомобиль\n",
      "Non-Null Count  Dtype \n",
      "--------------  ----- \n",
      "6 non-null      string\n",
      "dtypes: string(1)\n",
      "memory usage: 188.0 bytes\n"
     ]
    }
   ],
   "source": [
    "df['Автомобиль'].astype('string').info()"
   ]
  },
  {
   "cell_type": "code",
   "execution_count": 46,
   "id": "7e6a0c3c",
   "metadata": {},
   "outputs": [
    {
     "name": "stdout",
     "output_type": "stream",
     "text": [
      "<class 'pandas.core.series.Series'>\n",
      "RangeIndex: 7 entries, 0 to 6\n",
      "Series name: Автомобиль\n",
      "Non-Null Count  Dtype \n",
      "--------------  ----- \n",
      "7 non-null      object\n",
      "dtypes: object(1)\n",
      "memory usage: 188.0+ bytes\n"
     ]
    }
   ],
   "source": [
    "df['Автомобиль'].astype(str).info()"
   ]
  },
  {
   "cell_type": "code",
   "execution_count": null,
   "id": "a3af7140",
   "metadata": {},
   "outputs": [],
   "source": []
  },
  {
   "cell_type": "code",
   "execution_count": null,
   "id": "ceee173b",
   "metadata": {},
   "outputs": [],
   "source": []
  },
  {
   "cell_type": "code",
   "execution_count": null,
   "id": "a282252d",
   "metadata": {},
   "outputs": [],
   "source": []
  },
  {
   "cell_type": "code",
   "execution_count": null,
   "id": "82a86e1f",
   "metadata": {},
   "outputs": [],
   "source": []
  },
  {
   "cell_type": "code",
   "execution_count": null,
   "id": "a9150f85",
   "metadata": {},
   "outputs": [],
   "source": []
  },
  {
   "cell_type": "code",
   "execution_count": null,
   "id": "52a0f0c1",
   "metadata": {},
   "outputs": [],
   "source": []
  },
  {
   "cell_type": "code",
   "execution_count": null,
   "id": "16221875",
   "metadata": {},
   "outputs": [],
   "source": []
  },
  {
   "cell_type": "code",
   "execution_count": null,
   "id": "53eca7a3",
   "metadata": {},
   "outputs": [],
   "source": []
  },
  {
   "cell_type": "code",
   "execution_count": null,
   "id": "bfb1cff8",
   "metadata": {},
   "outputs": [],
   "source": []
  },
  {
   "cell_type": "markdown",
   "id": "b8856610",
   "metadata": {},
   "source": [
    "# Задания"
   ]
  },
  {
   "cell_type": "markdown",
   "id": "430fd142",
   "metadata": {},
   "source": [
    "#### Описание таблиц лежит [здесь](https://github.com/victorlymarev/pandas/tree/main/tables#%D0%BE%D0%BF%D0%B8%D1%81%D0%B0%D0%BD%D0%B8%D0%B5-%D1%82%D0%B0%D0%B1%D0%BB%D0%B8%D1%86)"
   ]
  },
  {
   "cell_type": "markdown",
   "id": "696f10ee",
   "metadata": {},
   "source": [
    "Некоторые таблицы занимают много памяти, поэтому каждые 5-10 заданий лучше перезапускайте ноутбук.\n",
    "\n",
    "В формулировке некоторых заданий может содержаться вариативность. Если у вас есть сомнения, что требуется в задании, попробуйте решить несколько вариантов. Если вы не понимаете задание, можете написать об этом в комментариях под видео.\n",
    "\n",
    "В большинстве случаев внешний вид итоговой таблицы не определен. Выведите на экран наиболее адекватный вариант. То есть таблицу, из которой можно будет сделать выводы.\n",
    "\n",
    "Курс пока находится в разработке. Вы можете помочь другим людям добавив свое решение [сюда](https://docs.google.com/forms/d/1HYTBz_KfssY3Jps2dC3n0YnEqa6WBb5OIhLo1d32Xzw/edit).\n",
    "\n",
    "Посмотреть решения других людей можно [здесь](https://docs.google.com/spreadsheets/d/1pMDYO-9UneLbPPnEuQ2shig0TOJdQTU-zipifyAnZMk/edit?resourcekey#gid=1998648012)"
   ]
  },
  {
   "cell_type": "markdown",
   "id": "e1751d75",
   "metadata": {},
   "source": [
    "### Задание 1\n",
    "В таблице w_ends для каждой даты отмечено, был ли этот день выходным. Посмотрите на типы данных в таблице. Приведите колонку с датами к типу datetime64[ns]"
   ]
  },
  {
   "cell_type": "code",
   "execution_count": 34,
   "id": "79908a2a",
   "metadata": {},
   "outputs": [
    {
     "name": "stdout",
     "output_type": "stream",
     "text": [
      "<class 'pandas.core.series.Series'>\n",
      "RangeIndex: 2922 entries, 0 to 2921\n",
      "Series name: Дата\n",
      "Non-Null Count  Dtype         \n",
      "--------------  -----         \n",
      "2922 non-null   datetime64[ns]\n",
      "dtypes: datetime64[ns](1)\n",
      "memory usage: 23.0 KB\n"
     ]
    }
   ],
   "source": [
    "import os\n",
    "import pandas as pd\n",
    "\n",
    "path_w_ends = '../tables/выходные.csv' if os.path.exists('../tables/выходные.csv') else 'https://drive.google.com/uc?id=1hAsoXSPTFihFmBuF-E0uSj9pX4gpojwC'\n",
    "w_ends = pd.read_csv(path_w_ends)\n",
    "w_ends = pd.to_datetime(w_ends[\"Дата\"])\n",
    "w_ends.info()"
   ]
  },
  {
   "cell_type": "code",
   "execution_count": 45,
   "id": "2e5cc31e",
   "metadata": {},
   "outputs": [],
   "source": [
    "w_ends = pd.to_datetime(w_ends[\"Дата\"])"
   ]
  },
  {
   "cell_type": "code",
   "execution_count": 46,
   "id": "f61382a3",
   "metadata": {},
   "outputs": [
    {
     "name": "stdout",
     "output_type": "stream",
     "text": [
      "<class 'pandas.core.series.Series'>\n",
      "RangeIndex: 2922 entries, 0 to 2921\n",
      "Series name: Дата\n",
      "Non-Null Count  Dtype         \n",
      "--------------  -----         \n",
      "2922 non-null   datetime64[ns]\n",
      "dtypes: datetime64[ns](1)\n",
      "memory usage: 23.0 KB\n"
     ]
    }
   ],
   "source": [
    "w_ends.info()"
   ]
  },
  {
   "cell_type": "markdown",
   "id": "93c0ab3a",
   "metadata": {},
   "source": [
    "### Задание 2\n",
    "\n",
    "Приведите колонку Математика к типу string, а колонку Литература к строкам. Таблица лежит в переменной marks"
   ]
  },
  {
   "cell_type": "code",
   "execution_count": 35,
   "id": "0ee376c8",
   "metadata": {},
   "outputs": [
    {
     "name": "stdout",
     "output_type": "stream",
     "text": [
      "<class 'pandas.core.frame.DataFrame'>\n",
      "RangeIndex: 19 entries, 0 to 18\n",
      "Data columns (total 8 columns):\n",
      " #   Column               Non-Null Count  Dtype \n",
      "---  ------               --------------  ----- \n",
      " 0   ФИО                  19 non-null     object\n",
      " 1   Пол                  19 non-null     object\n",
      " 2   Математика           19 non-null     string\n",
      " 3   Русский язык         19 non-null     int64 \n",
      " 4   Литература           19 non-null     object\n",
      " 5   Физика               19 non-null     int64 \n",
      " 6   История              19 non-null     int64 \n",
      " 7   Физическая культура  19 non-null     int64 \n",
      "dtypes: int64(4), object(3), string(1)\n",
      "memory usage: 1.3+ KB\n"
     ]
    }
   ],
   "source": [
    "import os\n",
    "import pandas as pd\n",
    "\n",
    "path_marks = '../tables/оценки.xlsx' if os.path.exists('../tables/оценки.xlsx') else 'https://drive.google.com/uc?id=17f4DXx53J0WooNkhO13xidseZJ-O2obs'\n",
    "marks = pd.read_excel(path_marks)\n",
    "marks\n",
    "marks['Математика'] = marks['Математика'].astype('string')\n",
    "marks[\"Литература\"] = marks[\"Литература\"].astype(str)\n",
    "marks.info()"
   ]
  },
  {
   "cell_type": "markdown",
   "id": "f55246aa",
   "metadata": {},
   "source": [
    "### Задание 3\n",
    "\n",
    "В дальнейшем вы будете работать с таблицами, которые будут содержать информацию о магазинах одежды. В таблице shops лежать адреса этих магазинов, и дата открытия.\n",
    "\n",
    "Изучите таблицу, посмотрите на типы данных в ней. Приведите колонки таблицы к форматам, которые вам кажутся наиболее подходящими"
   ]
  },
  {
   "cell_type": "code",
   "execution_count": 36,
   "id": "7922a08b",
   "metadata": {},
   "outputs": [],
   "source": [
    "import os\n",
    "import pandas as pd\n",
    "\n",
    "path_shops = '../tables/shops.xlsx' if os.path.exists('../tables/shops.xlsx') else 'https://drive.google.com/uc?id=1gfnmceJa3Mc1X06NftTx9G9QfKfprjEB'\n",
    "shops = pd.read_excel(path_shops).astype({'shop_id': str})\n",
    "shops\n",
    "shops = shops.astype({'shop_id': int,'size': str, 'city': str, 'shopping_center': str})"
   ]
  },
  {
   "cell_type": "code",
   "execution_count": 53,
   "id": "24e7f5f9",
   "metadata": {},
   "outputs": [
    {
     "name": "stdout",
     "output_type": "stream",
     "text": [
      "<class 'pandas.core.frame.DataFrame'>\n",
      "RangeIndex: 23 entries, 0 to 22\n",
      "Data columns (total 6 columns):\n",
      " #   Column           Non-Null Count  Dtype         \n",
      "---  ------           --------------  -----         \n",
      " 0   shop_id          23 non-null     int64         \n",
      " 1   city             23 non-null     object        \n",
      " 2   adress           23 non-null     object        \n",
      " 3   shopping_center  23 non-null     object        \n",
      " 4   size             23 non-null     object        \n",
      " 5   open_date        23 non-null     datetime64[ns]\n",
      "dtypes: datetime64[ns](1), int64(1), object(4)\n",
      "memory usage: 1.2+ KB\n"
     ]
    }
   ],
   "source": [
    "shops.info()"
   ]
  },
  {
   "cell_type": "markdown",
   "id": "4a4e4d7d",
   "metadata": {},
   "source": [
    "### Задание 4\n",
    "\n",
    "В таблице empl приведите колонку salary (зарплата) к целым числам"
   ]
  },
  {
   "cell_type": "code",
   "execution_count": 37,
   "id": "a5b4efe9",
   "metadata": {},
   "outputs": [
    {
     "data": {
      "text/plain": [
       "0        45700\n",
       "1        20000\n",
       "2        12600\n",
       "3        12600\n",
       "4        15400\n",
       "         ...  \n",
       "29367    38000\n",
       "29368    31800\n",
       "29369    28400\n",
       "29370    35500\n",
       "29371    26400\n",
       "Name: salary, Length: 29372, dtype: Int64"
      ]
     },
     "execution_count": 37,
     "metadata": {},
     "output_type": "execute_result"
    }
   ],
   "source": [
    "import os\n",
    "import pandas as pd\n",
    "\n",
    "path_empl = '../tables/employees.parquet' if os.path.exists('../tables/employees.parquet') else 'https://drive.google.com/uc?id=1AARD5-eVlCxoApt5CYZebrC3Cqw42lvj'\n",
    "\n",
    "empl = pd.read_parquet(path_empl)\n",
    "empl['salary'].astype('Int64')"
   ]
  },
  {
   "cell_type": "markdown",
   "id": "95ee4550",
   "metadata": {},
   "source": [
    "### Задание 5\n",
    "\n",
    "В таблите ltc лежат данные по курсу криптовалюты litecoin. Посмотрите на типы данных в таблице. Приведите колнку date к типу datetime64. Используйте параметр format. (На самом деле функция to_datetime сработает и без него, но лучше попрактикуйтесь с ним). Подсказка  о том, как это сделать содержится внутри метода strftime. На остальные методы пока внимание не обращайте"
   ]
  },
  {
   "cell_type": "code",
   "execution_count": 38,
   "id": "d117a0b3",
   "metadata": {},
   "outputs": [
    {
     "data": {
      "text/html": [
       "<div>\n",
       "<style scoped>\n",
       "    .dataframe tbody tr th:only-of-type {\n",
       "        vertical-align: middle;\n",
       "    }\n",
       "\n",
       "    .dataframe tbody tr th {\n",
       "        vertical-align: top;\n",
       "    }\n",
       "\n",
       "    .dataframe thead th {\n",
       "        text-align: right;\n",
       "    }\n",
       "</style>\n",
       "<table border=\"1\" class=\"dataframe\">\n",
       "  <thead>\n",
       "    <tr style=\"text-align: right;\">\n",
       "      <th></th>\n",
       "      <th>date</th>\n",
       "      <th>price</th>\n",
       "      <th>volume</th>\n",
       "    </tr>\n",
       "  </thead>\n",
       "  <tbody>\n",
       "    <tr>\n",
       "      <th>0</th>\n",
       "      <td>2013-11-13 15:00:56</td>\n",
       "      <td>5.00</td>\n",
       "      <td>12.874000</td>\n",
       "    </tr>\n",
       "    <tr>\n",
       "      <th>1</th>\n",
       "      <td>2013-11-13 15:58:20</td>\n",
       "      <td>5.00</td>\n",
       "      <td>0.900000</td>\n",
       "    </tr>\n",
       "    <tr>\n",
       "      <th>2</th>\n",
       "      <td>2013-11-16 18:58:57</td>\n",
       "      <td>4.30</td>\n",
       "      <td>0.067440</td>\n",
       "    </tr>\n",
       "    <tr>\n",
       "      <th>3</th>\n",
       "      <td>2013-11-16 18:59:16</td>\n",
       "      <td>4.25</td>\n",
       "      <td>5.000000</td>\n",
       "    </tr>\n",
       "    <tr>\n",
       "      <th>4</th>\n",
       "      <td>2013-11-19 03:24:48</td>\n",
       "      <td>9.90</td>\n",
       "      <td>0.117018</td>\n",
       "    </tr>\n",
       "    <tr>\n",
       "      <th>5</th>\n",
       "      <td>2013-11-19 03:27:08</td>\n",
       "      <td>9.90</td>\n",
       "      <td>0.817538</td>\n",
       "    </tr>\n",
       "    <tr>\n",
       "      <th>6</th>\n",
       "      <td>2013-11-19 04:08:36</td>\n",
       "      <td>9.90</td>\n",
       "      <td>0.002367</td>\n",
       "    </tr>\n",
       "    <tr>\n",
       "      <th>7</th>\n",
       "      <td>2013-11-19 04:17:55</td>\n",
       "      <td>9.90</td>\n",
       "      <td>0.039006</td>\n",
       "    </tr>\n",
       "    <tr>\n",
       "      <th>8</th>\n",
       "      <td>2013-11-19 04:24:57</td>\n",
       "      <td>9.90</td>\n",
       "      <td>0.011796</td>\n",
       "    </tr>\n",
       "    <tr>\n",
       "      <th>9</th>\n",
       "      <td>2013-11-19 08:22:00</td>\n",
       "      <td>10.00</td>\n",
       "      <td>0.059100</td>\n",
       "    </tr>\n",
       "  </tbody>\n",
       "</table>\n",
       "</div>"
      ],
      "text/plain": [
       "                 date  price     volume\n",
       "0 2013-11-13 15:00:56   5.00  12.874000\n",
       "1 2013-11-13 15:58:20   5.00   0.900000\n",
       "2 2013-11-16 18:58:57   4.30   0.067440\n",
       "3 2013-11-16 18:59:16   4.25   5.000000\n",
       "4 2013-11-19 03:24:48   9.90   0.117018\n",
       "5 2013-11-19 03:27:08   9.90   0.817538\n",
       "6 2013-11-19 04:08:36   9.90   0.002367\n",
       "7 2013-11-19 04:17:55   9.90   0.039006\n",
       "8 2013-11-19 04:24:57   9.90   0.011796\n",
       "9 2013-11-19 08:22:00  10.00   0.059100"
      ]
     },
     "execution_count": 38,
     "metadata": {},
     "output_type": "execute_result"
    }
   ],
   "source": [
    "import os\n",
    "import pandas as pd\n",
    "\n",
    "path_ltc_sample = '../tables/ltc_sample.parquet' if os.path.exists('../tables/ltc_sample.parquet') else 'https://drive.google.com/uc?id=1XaThogOOqKjJj50LvfJ9WqutjMAC5AxA'\n",
    "\n",
    "ltc = (pd.read_parquet(path_ltc_sample)\n",
    "       .head(10)\n",
    "       .assign(date = lambda x: x['date'].dt.strftime('%H:%M:%S %d/%m/%Y'))\n",
    ")\n",
    "ltc['date'] = pd.to_datetime(ltc['date'], format='%H:%M:%S %d/%m/%Y')\n",
    "\n",
    "ltc"
   ]
  },
  {
   "cell_type": "code",
   "execution_count": 39,
   "id": "c736f544",
   "metadata": {},
   "outputs": [
    {
     "name": "stdout",
     "output_type": "stream",
     "text": [
      "<class 'pandas.core.frame.DataFrame'>\n",
      "RangeIndex: 10 entries, 0 to 9\n",
      "Data columns (total 3 columns):\n",
      " #   Column  Non-Null Count  Dtype         \n",
      "---  ------  --------------  -----         \n",
      " 0   date    10 non-null     datetime64[ns]\n",
      " 1   price   10 non-null     float64       \n",
      " 2   volume  10 non-null     float64       \n",
      "dtypes: datetime64[ns](1), float64(2)\n",
      "memory usage: 372.0 bytes\n"
     ]
    }
   ],
   "source": [
    "ltc.info()"
   ]
  },
  {
   "cell_type": "markdown",
   "id": "1e1d4f70",
   "metadata": {},
   "source": [
    "### Задание 6\n",
    "\n",
    "Посмотрите на таблицу xdg_usdt. В ней содержаться данные по торговли криптовалютами xdg и usdt.\n",
    "В ней нас интересует колонка дата. Посмотрите какого она типа?\n",
    "\n",
    "Иногда даты хранятся не в виде строк, а в виде целых чисел. Каждое число - это количество секунд, милисекунд или наносекунд, которое прошло с 1 января 1970 года. Привести такую колонку к привычному формату дат можно при помощи функции to_datetime, используя в ней парметр unit. Этому параметру необходимо передать значение 's' для секунд, 'ms' - для милисекунд, 'ns' - для наносекунд. \n",
    "\n",
    "Приведите колонку с датами к типу datetime64, подобрав нужное значение в параметре unit"
   ]
  },
  {
   "cell_type": "code",
   "execution_count": 52,
   "id": "3203cea4",
   "metadata": {},
   "outputs": [
    {
     "data": {
      "text/html": [
       "<div>\n",
       "<style scoped>\n",
       "    .dataframe tbody tr th:only-of-type {\n",
       "        vertical-align: middle;\n",
       "    }\n",
       "\n",
       "    .dataframe tbody tr th {\n",
       "        vertical-align: top;\n",
       "    }\n",
       "\n",
       "    .dataframe thead th {\n",
       "        text-align: right;\n",
       "    }\n",
       "</style>\n",
       "<table border=\"1\" class=\"dataframe\">\n",
       "  <thead>\n",
       "    <tr style=\"text-align: right;\">\n",
       "      <th></th>\n",
       "      <th>Дата</th>\n",
       "      <th>Цена</th>\n",
       "      <th>Объем</th>\n",
       "    </tr>\n",
       "  </thead>\n",
       "  <tbody>\n",
       "    <tr>\n",
       "      <th>0</th>\n",
       "      <td>1680307512</td>\n",
       "      <td>0.07697</td>\n",
       "      <td>1717.759130</td>\n",
       "    </tr>\n",
       "    <tr>\n",
       "      <th>1</th>\n",
       "      <td>1680307665</td>\n",
       "      <td>0.07712</td>\n",
       "      <td>155.601660</td>\n",
       "    </tr>\n",
       "    <tr>\n",
       "      <th>2</th>\n",
       "      <td>1680308198</td>\n",
       "      <td>0.07733</td>\n",
       "      <td>300.000000</td>\n",
       "    </tr>\n",
       "    <tr>\n",
       "      <th>3</th>\n",
       "      <td>1680308304</td>\n",
       "      <td>0.07728</td>\n",
       "      <td>1269.038017</td>\n",
       "    </tr>\n",
       "    <tr>\n",
       "      <th>4</th>\n",
       "      <td>1680308700</td>\n",
       "      <td>0.07705</td>\n",
       "      <td>2513.470011</td>\n",
       "    </tr>\n",
       "    <tr>\n",
       "      <th>...</th>\n",
       "      <td>...</td>\n",
       "      <td>...</td>\n",
       "      <td>...</td>\n",
       "    </tr>\n",
       "    <tr>\n",
       "      <th>35583</th>\n",
       "      <td>1688164175</td>\n",
       "      <td>0.06637</td>\n",
       "      <td>100.000000</td>\n",
       "    </tr>\n",
       "    <tr>\n",
       "      <th>35584</th>\n",
       "      <td>1688166367</td>\n",
       "      <td>0.06645</td>\n",
       "      <td>1947.861352</td>\n",
       "    </tr>\n",
       "    <tr>\n",
       "      <th>35585</th>\n",
       "      <td>1688167824</td>\n",
       "      <td>0.06639</td>\n",
       "      <td>3699.770000</td>\n",
       "    </tr>\n",
       "    <tr>\n",
       "      <th>35586</th>\n",
       "      <td>1688167866</td>\n",
       "      <td>0.06641</td>\n",
       "      <td>828.188526</td>\n",
       "    </tr>\n",
       "    <tr>\n",
       "      <th>35587</th>\n",
       "      <td>1688168200</td>\n",
       "      <td>0.06637</td>\n",
       "      <td>15000.000000</td>\n",
       "    </tr>\n",
       "  </tbody>\n",
       "</table>\n",
       "<p>35588 rows × 3 columns</p>\n",
       "</div>"
      ],
      "text/plain": [
       "             Дата     Цена         Объем\n",
       "0      1680307512  0.07697   1717.759130\n",
       "1      1680307665  0.07712    155.601660\n",
       "2      1680308198  0.07733    300.000000\n",
       "3      1680308304  0.07728   1269.038017\n",
       "4      1680308700  0.07705   2513.470011\n",
       "...           ...      ...           ...\n",
       "35583  1688164175  0.06637    100.000000\n",
       "35584  1688166367  0.06645   1947.861352\n",
       "35585  1688167824  0.06639   3699.770000\n",
       "35586  1688167866  0.06641    828.188526\n",
       "35587  1688168200  0.06637  15000.000000\n",
       "\n",
       "[35588 rows x 3 columns]"
      ]
     },
     "execution_count": 52,
     "metadata": {},
     "output_type": "execute_result"
    }
   ],
   "source": [
    "import os\n",
    "import pandas as pd\n",
    "path_xdg_usdt = '../tables/XDGUSDT.csv' if os.path.exists('../tables/XDGUSDT.csv') else 'https://drive.google.com/uc?id=1oLjCNOsdKbd87sIgW0_OWDpD2DVHAAAV'\n",
    "xdg_usdt = pd.read_csv(path_xdg_usdt, header=None).set_axis(['Дата', 'Цена', 'Объем'], axis=1)\n",
    "xdg_usdt"
   ]
  },
  {
   "cell_type": "code",
   "execution_count": 53,
   "id": "1f5106a4",
   "metadata": {},
   "outputs": [],
   "source": [
    "xdg_usdt['Дата'] = pd.to_datetime(xdg_usdt['Дата'], unit='s')"
   ]
  },
  {
   "cell_type": "code",
   "execution_count": 54,
   "id": "d90784fb",
   "metadata": {},
   "outputs": [
    {
     "data": {
      "text/html": [
       "<div>\n",
       "<style scoped>\n",
       "    .dataframe tbody tr th:only-of-type {\n",
       "        vertical-align: middle;\n",
       "    }\n",
       "\n",
       "    .dataframe tbody tr th {\n",
       "        vertical-align: top;\n",
       "    }\n",
       "\n",
       "    .dataframe thead th {\n",
       "        text-align: right;\n",
       "    }\n",
       "</style>\n",
       "<table border=\"1\" class=\"dataframe\">\n",
       "  <thead>\n",
       "    <tr style=\"text-align: right;\">\n",
       "      <th></th>\n",
       "      <th>Дата</th>\n",
       "      <th>Цена</th>\n",
       "      <th>Объем</th>\n",
       "    </tr>\n",
       "  </thead>\n",
       "  <tbody>\n",
       "    <tr>\n",
       "      <th>0</th>\n",
       "      <td>2023-04-01 00:05:12</td>\n",
       "      <td>0.07697</td>\n",
       "      <td>1717.759130</td>\n",
       "    </tr>\n",
       "    <tr>\n",
       "      <th>1</th>\n",
       "      <td>2023-04-01 00:07:45</td>\n",
       "      <td>0.07712</td>\n",
       "      <td>155.601660</td>\n",
       "    </tr>\n",
       "    <tr>\n",
       "      <th>2</th>\n",
       "      <td>2023-04-01 00:16:38</td>\n",
       "      <td>0.07733</td>\n",
       "      <td>300.000000</td>\n",
       "    </tr>\n",
       "    <tr>\n",
       "      <th>3</th>\n",
       "      <td>2023-04-01 00:18:24</td>\n",
       "      <td>0.07728</td>\n",
       "      <td>1269.038017</td>\n",
       "    </tr>\n",
       "    <tr>\n",
       "      <th>4</th>\n",
       "      <td>2023-04-01 00:25:00</td>\n",
       "      <td>0.07705</td>\n",
       "      <td>2513.470011</td>\n",
       "    </tr>\n",
       "    <tr>\n",
       "      <th>...</th>\n",
       "      <td>...</td>\n",
       "      <td>...</td>\n",
       "      <td>...</td>\n",
       "    </tr>\n",
       "    <tr>\n",
       "      <th>35583</th>\n",
       "      <td>2023-06-30 22:29:35</td>\n",
       "      <td>0.06637</td>\n",
       "      <td>100.000000</td>\n",
       "    </tr>\n",
       "    <tr>\n",
       "      <th>35584</th>\n",
       "      <td>2023-06-30 23:06:07</td>\n",
       "      <td>0.06645</td>\n",
       "      <td>1947.861352</td>\n",
       "    </tr>\n",
       "    <tr>\n",
       "      <th>35585</th>\n",
       "      <td>2023-06-30 23:30:24</td>\n",
       "      <td>0.06639</td>\n",
       "      <td>3699.770000</td>\n",
       "    </tr>\n",
       "    <tr>\n",
       "      <th>35586</th>\n",
       "      <td>2023-06-30 23:31:06</td>\n",
       "      <td>0.06641</td>\n",
       "      <td>828.188526</td>\n",
       "    </tr>\n",
       "    <tr>\n",
       "      <th>35587</th>\n",
       "      <td>2023-06-30 23:36:40</td>\n",
       "      <td>0.06637</td>\n",
       "      <td>15000.000000</td>\n",
       "    </tr>\n",
       "  </tbody>\n",
       "</table>\n",
       "<p>35588 rows × 3 columns</p>\n",
       "</div>"
      ],
      "text/plain": [
       "                     Дата     Цена         Объем\n",
       "0     2023-04-01 00:05:12  0.07697   1717.759130\n",
       "1     2023-04-01 00:07:45  0.07712    155.601660\n",
       "2     2023-04-01 00:16:38  0.07733    300.000000\n",
       "3     2023-04-01 00:18:24  0.07728   1269.038017\n",
       "4     2023-04-01 00:25:00  0.07705   2513.470011\n",
       "...                   ...      ...           ...\n",
       "35583 2023-06-30 22:29:35  0.06637    100.000000\n",
       "35584 2023-06-30 23:06:07  0.06645   1947.861352\n",
       "35585 2023-06-30 23:30:24  0.06639   3699.770000\n",
       "35586 2023-06-30 23:31:06  0.06641    828.188526\n",
       "35587 2023-06-30 23:36:40  0.06637  15000.000000\n",
       "\n",
       "[35588 rows x 3 columns]"
      ]
     },
     "execution_count": 54,
     "metadata": {},
     "output_type": "execute_result"
    }
   ],
   "source": [
    "xdg_usdt"
   ]
  },
  {
   "cell_type": "code",
   "execution_count": 55,
   "id": "0309deee",
   "metadata": {},
   "outputs": [
    {
     "data": {
      "text/plain": [
       "DatetimeIndex(['2009-02-13 23:31:30', '2000-11-05 05:13:54',\n",
       "               '2050-05-15 13:36:29'],\n",
       "              dtype='datetime64[ns]', freq=None)"
      ]
     },
     "execution_count": 55,
     "metadata": {},
     "output_type": "execute_result"
    }
   ],
   "source": [
    "# Пример того, как это работает\n",
    "pd.to_datetime([1234567890, 973401234, 2536234589], unit='s')"
   ]
  },
  {
   "cell_type": "code",
   "execution_count": null,
   "id": "035f2d55",
   "metadata": {},
   "outputs": [],
   "source": [
    "# напишите свой код здесь"
   ]
  },
  {
   "cell_type": "markdown",
   "id": "a03b31b4",
   "metadata": {},
   "source": [
    "### Задание 7\n",
    "\n",
    "В видео была допущена ошибка, когда было сказано, что можно поменять формат отображения дат. Это не так. Даты можно представить в виде строк в определенном формате. Для того, чтобы это сделать необходимо обратиться к колонке с датами, а затем обратиться к конструкции dt.strftime(). Внутри метода надо указать формат даты. \n",
    "\n",
    "Приведите колонку open_date к строкам, чтобы дата лежала в формате число, месяц, год.  В качестве разделителей возьмите слэш /"
   ]
  },
  {
   "cell_type": "code",
   "execution_count": 56,
   "id": "353b93e4",
   "metadata": {},
   "outputs": [
    {
     "data": {
      "text/html": [
       "<div>\n",
       "<style scoped>\n",
       "    .dataframe tbody tr th:only-of-type {\n",
       "        vertical-align: middle;\n",
       "    }\n",
       "\n",
       "    .dataframe tbody tr th {\n",
       "        vertical-align: top;\n",
       "    }\n",
       "\n",
       "    .dataframe thead th {\n",
       "        text-align: right;\n",
       "    }\n",
       "</style>\n",
       "<table border=\"1\" class=\"dataframe\">\n",
       "  <thead>\n",
       "    <tr style=\"text-align: right;\">\n",
       "      <th></th>\n",
       "      <th>shop_id</th>\n",
       "      <th>city</th>\n",
       "      <th>adress</th>\n",
       "      <th>shopping_center</th>\n",
       "      <th>size</th>\n",
       "      <th>open_date</th>\n",
       "    </tr>\n",
       "  </thead>\n",
       "  <tbody>\n",
       "    <tr>\n",
       "      <th>0</th>\n",
       "      <td>1</td>\n",
       "      <td>Воронеж</td>\n",
       "      <td>Пушкинская пл., д. 76</td>\n",
       "      <td>NaN</td>\n",
       "      <td>Мелкий</td>\n",
       "      <td>2015-01-22</td>\n",
       "    </tr>\n",
       "    <tr>\n",
       "      <th>1</th>\n",
       "      <td>2</td>\n",
       "      <td>Санкт-Петербург</td>\n",
       "      <td>ул. Веселая, д. 20</td>\n",
       "      <td>Книга</td>\n",
       "      <td>Крупный</td>\n",
       "      <td>2015-05-11</td>\n",
       "    </tr>\n",
       "    <tr>\n",
       "      <th>2</th>\n",
       "      <td>3</td>\n",
       "      <td>Чита</td>\n",
       "      <td>Тупой пер., д. 1</td>\n",
       "      <td>NaN</td>\n",
       "      <td>Мелкий</td>\n",
       "      <td>2015-11-27</td>\n",
       "    </tr>\n",
       "    <tr>\n",
       "      <th>3</th>\n",
       "      <td>4</td>\n",
       "      <td>Липецк</td>\n",
       "      <td>пр. Гагарина, д. 234</td>\n",
       "      <td>Обезьяна</td>\n",
       "      <td>Средний</td>\n",
       "      <td>2016-04-04</td>\n",
       "    </tr>\n",
       "    <tr>\n",
       "      <th>4</th>\n",
       "      <td>5</td>\n",
       "      <td>Челябинск</td>\n",
       "      <td>пр. Железнодорожников, д. 12</td>\n",
       "      <td>NaN</td>\n",
       "      <td>Мелкий</td>\n",
       "      <td>2016-04-11</td>\n",
       "    </tr>\n",
       "  </tbody>\n",
       "</table>\n",
       "</div>"
      ],
      "text/plain": [
       "   shop_id             city                        adress shopping_center  \\\n",
       "0        1          Воронеж         Пушкинская пл., д. 76             NaN   \n",
       "1        2  Санкт-Петербург            ул. Веселая, д. 20           Книга   \n",
       "2        3             Чита              Тупой пер., д. 1             NaN   \n",
       "3        4           Липецк          пр. Гагарина, д. 234        Обезьяна   \n",
       "4        5        Челябинск  пр. Железнодорожников, д. 12             NaN   \n",
       "\n",
       "      size  open_date  \n",
       "0   Мелкий 2015-01-22  \n",
       "1  Крупный 2015-05-11  \n",
       "2   Мелкий 2015-11-27  \n",
       "3  Средний 2016-04-04  \n",
       "4   Мелкий 2016-04-11  "
      ]
     },
     "execution_count": 56,
     "metadata": {},
     "output_type": "execute_result"
    }
   ],
   "source": [
    "import os\n",
    "import pandas as pd\n",
    "\n",
    "path_shops = '../tables/shops.xlsx' if os.path.exists('../tables/shops.xlsx') else 'https://drive.google.com/uc?id=1gfnmceJa3Mc1X06NftTx9G9QfKfprjEB'\n",
    "\n",
    "shops = pd.read_excel(path_shops)\n",
    "shops.head()"
   ]
  },
  {
   "cell_type": "code",
   "execution_count": 57,
   "id": "831bdc36",
   "metadata": {},
   "outputs": [
    {
     "data": {
      "text/plain": [
       "0     22/01/2015\n",
       "1     11/05/2015\n",
       "2     27/11/2015\n",
       "3     04/04/2016\n",
       "4     11/04/2016\n",
       "5     19/04/2016\n",
       "6     17/01/2017\n",
       "7     08/02/2017\n",
       "8     10/05/2017\n",
       "9     13/08/2017\n",
       "10    18/12/2017\n",
       "11    31/12/2017\n",
       "12    04/02/2018\n",
       "13    30/03/2018\n",
       "14    30/04/2018\n",
       "15    23/05/2018\n",
       "16    18/07/2018\n",
       "17    22/01/2019\n",
       "18    24/02/2019\n",
       "19    27/06/2019\n",
       "20    13/08/2019\n",
       "21    05/11/2020\n",
       "22    09/12/2020\n",
       "Name: open_date, dtype: object"
      ]
     },
     "execution_count": 57,
     "metadata": {},
     "output_type": "execute_result"
    }
   ],
   "source": [
    "shops['open_date'].dt.strftime('%d/%m/%Y's)"
   ]
  },
  {
   "cell_type": "code",
   "execution_count": 58,
   "id": "823489ec",
   "metadata": {},
   "outputs": [
    {
     "name": "stdout",
     "output_type": "stream",
     "text": [
      "<class 'pandas.core.series.Series'>\n",
      "RangeIndex: 23 entries, 0 to 22\n",
      "Series name: open_date\n",
      "Non-Null Count  Dtype         \n",
      "--------------  -----         \n",
      "23 non-null     datetime64[ns]\n",
      "dtypes: datetime64[ns](1)\n",
      "memory usage: 316.0 bytes\n"
     ]
    }
   ],
   "source": [
    "shops[\"open_date\"].info()"
   ]
  },
  {
   "cell_type": "code",
   "execution_count": null,
   "id": "3c4dbb64",
   "metadata": {},
   "outputs": [],
   "source": []
  },
  {
   "cell_type": "code",
   "execution_count": null,
   "id": "56955191",
   "metadata": {},
   "outputs": [],
   "source": []
  },
  {
   "cell_type": "code",
   "execution_count": null,
   "id": "0d26f8eb",
   "metadata": {},
   "outputs": [],
   "source": []
  },
  {
   "cell_type": "code",
   "execution_count": null,
   "id": "836904f9",
   "metadata": {},
   "outputs": [],
   "source": []
  },
  {
   "cell_type": "code",
   "execution_count": null,
   "id": "5b51bbde",
   "metadata": {},
   "outputs": [],
   "source": []
  },
  {
   "cell_type": "code",
   "execution_count": null,
   "id": "3a4552d4",
   "metadata": {},
   "outputs": [],
   "source": []
  },
  {
   "cell_type": "code",
   "execution_count": null,
   "id": "5200c015",
   "metadata": {},
   "outputs": [],
   "source": []
  }
 ],
 "metadata": {
  "kernelspec": {
   "display_name": "artemiy",
   "language": "python",
   "name": "python3"
  },
  "language_info": {
   "codemirror_mode": {
    "name": "ipython",
    "version": 3
   },
   "file_extension": ".py",
   "mimetype": "text/x-python",
   "name": "python",
   "nbconvert_exporter": "python",
   "pygments_lexer": "ipython3",
   "version": "3.11.10"
  }
 },
 "nbformat": 4,
 "nbformat_minor": 5
}
