{
 "cells": [
  {
   "cell_type": "markdown",
   "id": "74ac051a",
   "metadata": {},
   "source": [
    "<a target=\"_blank\" href=\"https://colab.research.google.com/github/victorlymarev/pandas/blob/main/notebooks/10-operations.ipynb\">\n",
    "  <img src=\"https://colab.research.google.com/assets/colab-badge.svg\" alt=\"Open In Colab\"/>\n",
    "</a>"
   ]
  },
  {
   "cell_type": "markdown",
   "id": "2da6f904",
   "metadata": {},
   "source": [
    "# Операции с числами и строками\n",
    "#### [Ссылка на видео](https://youtu.be/km18qCeo99I)"
   ]
  },
  {
   "cell_type": "code",
   "execution_count": 1,
   "id": "2a632d18",
   "metadata": {},
   "outputs": [],
   "source": [
    "import pandas as pd\n",
    "import numpy as np"
   ]
  },
  {
   "cell_type": "markdown",
   "id": "04c3b09e",
   "metadata": {},
   "source": [
    "Создаем датафрейм"
   ]
  },
  {
   "cell_type": "code",
   "execution_count": 2,
   "id": "f93f2114",
   "metadata": {},
   "outputs": [],
   "source": [
    "df = pd.DataFrame({'Колонка 1': [1, 2, 3, 4, 5, 6],\n",
    "              'Колонка 2': [6, 5, 4, 3, 2, 1],\n",
    "              'Колонка 3': [np.nan, 3, 5, 0, 9, 11],\n",
    "              'Имя': ['Миша', 'Саша', 'Юля',\n",
    "                            'Настя', 'Андрей', 'Катя'],\n",
    "              'Увлечение': ['Баскетбол', 'Хоккей', 'Волейбол',\n",
    "                            'Футбол', 'Counter-Strike', 'Бильярд']\n",
    "             })"
   ]
  },
  {
   "cell_type": "code",
   "execution_count": null,
   "id": "27d9a8cc",
   "metadata": {},
   "outputs": [],
   "source": [
    "df"
   ]
  },
  {
   "cell_type": "markdown",
   "id": "d482f594",
   "metadata": {},
   "source": [
    "# Операции с числами"
   ]
  },
  {
   "cell_type": "markdown",
   "id": "958cf943",
   "metadata": {},
   "source": [
    "| Знак   | Операция              | Метод                 |\n",
    "|:-------|:----------------------|:----------------------|\n",
    "| +      | Сумма                 | add                   |\n",
    "| -      | Разность              | sub                   |\n",
    "| *      | Умножение             | mul                   |\n",
    "| /      | Деление               | div, truediv          |\n",
    "| //     | Целочисленное деление | floordiv              |\n",
    "| %      | Остаток от деления    | mod                   |\n",
    "| **     | Возведение в степень  | pow                   |"
   ]
  },
  {
   "cell_type": "markdown",
   "id": "f670d966",
   "metadata": {},
   "source": [
    "#### Сложение колонки и числа"
   ]
  },
  {
   "cell_type": "markdown",
   "id": "58c86868",
   "metadata": {},
   "source": [
    "Выбирать колонку и присваивать ей значение вы можете как хотите"
   ]
  },
  {
   "cell_type": "code",
   "execution_count": 3,
   "id": "1afdce61",
   "metadata": {},
   "outputs": [
    {
     "data": {
      "text/plain": [
       "0    2\n",
       "1    3\n",
       "2    4\n",
       "3    5\n",
       "4    6\n",
       "5    7\n",
       "Name: Колонка 1, dtype: int64"
      ]
     },
     "execution_count": 3,
     "metadata": {},
     "output_type": "execute_result"
    }
   ],
   "source": [
    "# Каждое значение в колонке увеличилось на 1\n",
    "df['Колонка 1'] + 1"
   ]
  },
  {
   "cell_type": "code",
   "execution_count": 4,
   "id": "29a7664f",
   "metadata": {},
   "outputs": [
    {
     "data": {
      "text/plain": [
       "0    2\n",
       "1    3\n",
       "2    4\n",
       "3    5\n",
       "4    6\n",
       "5    7\n",
       "Name: Колонка 1, dtype: int64"
      ]
     },
     "execution_count": 4,
     "metadata": {},
     "output_type": "execute_result"
    }
   ],
   "source": [
    "df['Колонка 1'].add(1)"
   ]
  },
  {
   "cell_type": "markdown",
   "id": "bfbf792c",
   "metadata": {},
   "source": [
    "#### Сложение двух колонок"
   ]
  },
  {
   "cell_type": "code",
   "execution_count": 5,
   "id": "028202cf",
   "metadata": {},
   "outputs": [
    {
     "data": {
      "text/plain": [
       "0    7\n",
       "1    7\n",
       "2    7\n",
       "3    7\n",
       "4    7\n",
       "5    7\n",
       "dtype: int64"
      ]
     },
     "execution_count": 5,
     "metadata": {},
     "output_type": "execute_result"
    }
   ],
   "source": [
    "df['Колонка 1'] + df['Колонка 2']"
   ]
  },
  {
   "cell_type": "code",
   "execution_count": null,
   "id": "5f8610a3",
   "metadata": {},
   "outputs": [],
   "source": []
  },
  {
   "cell_type": "code",
   "execution_count": null,
   "id": "831e9178",
   "metadata": {},
   "outputs": [],
   "source": []
  },
  {
   "cell_type": "code",
   "execution_count": null,
   "id": "6eadac7e",
   "metadata": {},
   "outputs": [],
   "source": []
  },
  {
   "cell_type": "markdown",
   "id": "00e4f4a1",
   "metadata": {},
   "source": [
    "#### Сложение колонок с пропущенными значениями"
   ]
  },
  {
   "cell_type": "code",
   "execution_count": 6,
   "id": "1fb1a72e",
   "metadata": {},
   "outputs": [
    {
     "data": {
      "text/plain": [
       "0     NaN\n",
       "1     3.0\n",
       "2     5.0\n",
       "3     0.0\n",
       "4     9.0\n",
       "5    11.0\n",
       "Name: Колонка 3, dtype: float64"
      ]
     },
     "execution_count": 6,
     "metadata": {},
     "output_type": "execute_result"
    }
   ],
   "source": [
    "df['Колонка 3']"
   ]
  },
  {
   "cell_type": "markdown",
   "id": "450544ae",
   "metadata": {},
   "source": [
    "#### Пропущенное значение всегда остается пропущенным значением"
   ]
  },
  {
   "cell_type": "code",
   "execution_count": 7,
   "id": "8c009b0c",
   "metadata": {},
   "outputs": [
    {
     "data": {
      "text/plain": [
       "0     NaN\n",
       "1     5.0\n",
       "2     8.0\n",
       "3     4.0\n",
       "4    14.0\n",
       "5    17.0\n",
       "dtype: float64"
      ]
     },
     "execution_count": 7,
     "metadata": {},
     "output_type": "execute_result"
    }
   ],
   "source": [
    "df['Колонка 1'] + df['Колонка 3']"
   ]
  },
  {
   "cell_type": "markdown",
   "id": "143d62b3",
   "metadata": {},
   "source": [
    "#### Часто за пропусками скрываются нули. Заполнить пропуски нулем или каким-то другим значением можно методом fillna(), передав в него значение, которое вы хотите положить на метсто пропусков"
   ]
  },
  {
   "cell_type": "code",
   "execution_count": 8,
   "id": "523f1283",
   "metadata": {},
   "outputs": [
    {
     "data": {
      "text/plain": [
       "0     1.0\n",
       "1     5.0\n",
       "2     8.0\n",
       "3     4.0\n",
       "4    14.0\n",
       "5    17.0\n",
       "dtype: float64"
      ]
     },
     "execution_count": 8,
     "metadata": {},
     "output_type": "execute_result"
    }
   ],
   "source": [
    "df['Колонка 1'] + df['Колонка 3'].fillna(0)"
   ]
  },
  {
   "cell_type": "markdown",
   "id": "aafc697a",
   "metadata": {},
   "source": [
    "Изначально в колонке есть пропуск"
   ]
  },
  {
   "cell_type": "code",
   "execution_count": 9,
   "id": "dba6ec2e",
   "metadata": {},
   "outputs": [
    {
     "data": {
      "text/plain": [
       "0     NaN\n",
       "1     3.0\n",
       "2     5.0\n",
       "3     0.0\n",
       "4     9.0\n",
       "5    11.0\n",
       "Name: Колонка 3, dtype: float64"
      ]
     },
     "execution_count": 9,
     "metadata": {},
     "output_type": "execute_result"
    }
   ],
   "source": [
    "df['Колонка 3']"
   ]
  },
  {
   "cell_type": "markdown",
   "id": "23ea7c1a",
   "metadata": {},
   "source": [
    "Мы заполнили его нулем"
   ]
  },
  {
   "cell_type": "code",
   "execution_count": 10,
   "id": "89c95136",
   "metadata": {},
   "outputs": [
    {
     "data": {
      "text/plain": [
       "0     0.0\n",
       "1     3.0\n",
       "2     5.0\n",
       "3     0.0\n",
       "4     9.0\n",
       "5    11.0\n",
       "Name: Колонка 3, dtype: float64"
      ]
     },
     "execution_count": 10,
     "metadata": {},
     "output_type": "execute_result"
    }
   ],
   "source": [
    "df['Колонка 3'].fillna(0)"
   ]
  },
  {
   "cell_type": "code",
   "execution_count": null,
   "id": "51672f16",
   "metadata": {},
   "outputs": [],
   "source": []
  },
  {
   "cell_type": "markdown",
   "id": "ecc8f7a5",
   "metadata": {},
   "source": [
    "#### Сопоставление колонок при сложении идет по индексам\n",
    "\n",
    "Проэтому если вы складываете 2 разные таблицы, то проверьте, что в них совпадают индексы"
   ]
  },
  {
   "cell_type": "code",
   "execution_count": 11,
   "id": "8826ce1e",
   "metadata": {},
   "outputs": [
    {
     "data": {
      "text/plain": [
       "3    1\n",
       "4    2\n",
       "5    3\n",
       "6    4\n",
       "7    5\n",
       "8    6\n",
       "Name: Колонка 1, dtype: int64"
      ]
     },
     "execution_count": 11,
     "metadata": {},
     "output_type": "execute_result"
    }
   ],
   "source": [
    "# поменяли индексы\n",
    "df['Колонка 1'].set_axis([3, 4, 5, 6, 7, 8])"
   ]
  },
  {
   "cell_type": "code",
   "execution_count": 12,
   "id": "8d6ea962",
   "metadata": {},
   "outputs": [
    {
     "data": {
      "text/plain": [
       "0    NaN\n",
       "1    NaN\n",
       "2    NaN\n",
       "3    4.0\n",
       "4    4.0\n",
       "5    4.0\n",
       "6    NaN\n",
       "7    NaN\n",
       "8    NaN\n",
       "dtype: float64"
      ]
     },
     "execution_count": 12,
     "metadata": {},
     "output_type": "execute_result"
    }
   ],
   "source": [
    "df['Колонка 1'].set_axis([3, 4, 5, 6, 7, 8]) + df['Колонка 2']"
   ]
  },
  {
   "cell_type": "markdown",
   "id": "c87e9161",
   "metadata": {},
   "source": [
    "По этой же причине не допускайте повторяющихся индексов при арифметических операциях"
   ]
  },
  {
   "cell_type": "markdown",
   "id": "ffbab7fd",
   "metadata": {},
   "source": [
    "#### Вычитание"
   ]
  },
  {
   "cell_type": "code",
   "execution_count": 13,
   "id": "c817f434",
   "metadata": {},
   "outputs": [
    {
     "data": {
      "text/plain": [
       "0   -1\n",
       "1    0\n",
       "2    1\n",
       "3    2\n",
       "4    3\n",
       "5    4\n",
       "Name: Колонка 1, dtype: int64"
      ]
     },
     "execution_count": 13,
     "metadata": {},
     "output_type": "execute_result"
    }
   ],
   "source": [
    "df['Колонка 1'] - 2\n",
    "# df['Колонка 1'].sub(2)"
   ]
  },
  {
   "cell_type": "code",
   "execution_count": 14,
   "id": "8fac70ca",
   "metadata": {},
   "outputs": [
    {
     "data": {
      "text/plain": [
       "0    1\n",
       "1    0\n",
       "2   -1\n",
       "3   -2\n",
       "4   -3\n",
       "5   -4\n",
       "Name: Колонка 1, dtype: int64"
      ]
     },
     "execution_count": 14,
     "metadata": {},
     "output_type": "execute_result"
    }
   ],
   "source": [
    "2 - df['Колонка 1']\n",
    "# df['Колонка 1'].rsub(2)"
   ]
  },
  {
   "cell_type": "markdown",
   "id": "4553fb5f",
   "metadata": {},
   "source": [
    "Разность двух колонок"
   ]
  },
  {
   "cell_type": "code",
   "execution_count": 15,
   "id": "6017a3f8",
   "metadata": {},
   "outputs": [
    {
     "data": {
      "text/plain": [
       "0   -5\n",
       "1   -3\n",
       "2   -1\n",
       "3    1\n",
       "4    3\n",
       "5    5\n",
       "dtype: int64"
      ]
     },
     "execution_count": 15,
     "metadata": {},
     "output_type": "execute_result"
    }
   ],
   "source": [
    "df['Колонка 1'] - df['Колонка 2']"
   ]
  },
  {
   "cell_type": "markdown",
   "id": "c6aebbe0",
   "metadata": {},
   "source": [
    "#### Умножение"
   ]
  },
  {
   "cell_type": "code",
   "execution_count": 16,
   "id": "738f0397",
   "metadata": {},
   "outputs": [
    {
     "data": {
      "text/plain": [
       "0     2\n",
       "1     4\n",
       "2     6\n",
       "3     8\n",
       "4    10\n",
       "5    12\n",
       "Name: Колонка 1, dtype: int64"
      ]
     },
     "execution_count": 16,
     "metadata": {},
     "output_type": "execute_result"
    }
   ],
   "source": [
    "df['Колонка 1'] * 2"
   ]
  },
  {
   "cell_type": "code",
   "execution_count": 17,
   "id": "ce967725",
   "metadata": {},
   "outputs": [
    {
     "data": {
      "text/plain": [
       "0     6\n",
       "1    10\n",
       "2    12\n",
       "3    12\n",
       "4    10\n",
       "5     6\n",
       "dtype: int64"
      ]
     },
     "execution_count": 17,
     "metadata": {},
     "output_type": "execute_result"
    }
   ],
   "source": [
    "df['Колонка 1'] * df['Колонка 2']"
   ]
  },
  {
   "cell_type": "markdown",
   "id": "1ccbee56",
   "metadata": {},
   "source": [
    "#### Деление"
   ]
  },
  {
   "cell_type": "code",
   "execution_count": 18,
   "id": "c74eaaea",
   "metadata": {},
   "outputs": [
    {
     "data": {
      "text/plain": [
       "0    0.5\n",
       "1    1.0\n",
       "2    1.5\n",
       "3    2.0\n",
       "4    2.5\n",
       "5    3.0\n",
       "Name: Колонка 1, dtype: float64"
      ]
     },
     "execution_count": 18,
     "metadata": {},
     "output_type": "execute_result"
    }
   ],
   "source": [
    "df['Колонка 1'] / 2"
   ]
  },
  {
   "cell_type": "markdown",
   "id": "aadd931b",
   "metadata": {},
   "source": [
    "При делении на ноль получается знчение inf или NaN"
   ]
  },
  {
   "cell_type": "code",
   "execution_count": 19,
   "id": "49693277",
   "metadata": {},
   "outputs": [
    {
     "data": {
      "text/plain": [
       "0     NaN\n",
       "1     3.0\n",
       "2     5.0\n",
       "3     0.0\n",
       "4     9.0\n",
       "5    11.0\n",
       "Name: Колонка 3, dtype: float64"
      ]
     },
     "execution_count": 19,
     "metadata": {},
     "output_type": "execute_result"
    }
   ],
   "source": [
    "df['Колонка 3']"
   ]
  },
  {
   "cell_type": "code",
   "execution_count": 20,
   "id": "a2eaab64",
   "metadata": {},
   "outputs": [
    {
     "data": {
      "text/plain": [
       "0         NaN\n",
       "1    0.666667\n",
       "2    0.600000\n",
       "3         inf\n",
       "4    0.555556\n",
       "5    0.545455\n",
       "dtype: float64"
      ]
     },
     "execution_count": 20,
     "metadata": {},
     "output_type": "execute_result"
    }
   ],
   "source": [
    "df['Колонка 1'] / df['Колонка 3']"
   ]
  },
  {
   "cell_type": "code",
   "execution_count": 21,
   "id": "a5b3cf42",
   "metadata": {},
   "outputs": [
    {
     "data": {
      "text/plain": [
       "0         NaN\n",
       "1   -0.666667\n",
       "2   -0.600000\n",
       "3        -inf\n",
       "4   -0.555556\n",
       "5   -0.545455\n",
       "dtype: float64"
      ]
     },
     "execution_count": 21,
     "metadata": {},
     "output_type": "execute_result"
    }
   ],
   "source": [
    "(-df['Колонка 1']) / df['Колонка 3']"
   ]
  },
  {
   "cell_type": "code",
   "execution_count": 22,
   "id": "0c7ce3f2",
   "metadata": {},
   "outputs": [
    {
     "data": {
      "text/plain": [
       "0    False\n",
       "1    False\n",
       "2    False\n",
       "3     True\n",
       "4    False\n",
       "5    False\n",
       "dtype: bool"
      ]
     },
     "execution_count": 22,
     "metadata": {},
     "output_type": "execute_result"
    }
   ],
   "source": [
    "(df['Колонка 1'] / df['Колонка 3']) > 1000000000000"
   ]
  },
  {
   "cell_type": "markdown",
   "id": "878682a4",
   "metadata": {},
   "source": [
    "0/0"
   ]
  },
  {
   "cell_type": "code",
   "execution_count": 23,
   "id": "6c9cba4e",
   "metadata": {},
   "outputs": [
    {
     "data": {
      "text/plain": [
       "0    NaN\n",
       "1    1.0\n",
       "2    1.0\n",
       "3    NaN\n",
       "4    1.0\n",
       "5    1.0\n",
       "Name: Колонка 3, dtype: float64"
      ]
     },
     "execution_count": 23,
     "metadata": {},
     "output_type": "execute_result"
    }
   ],
   "source": [
    "df['Колонка 3'] / df['Колонка 3']"
   ]
  },
  {
   "cell_type": "markdown",
   "id": "d3408b8f",
   "metadata": {},
   "source": [
    "#### Целочисленное деление"
   ]
  },
  {
   "cell_type": "markdown",
   "id": "f8339a61",
   "metadata": {},
   "source": [
    "5 / 2 = 2, остаток 1    \n",
    "   \n",
    "   \n",
    "делеимое / делитель = частное и остаток от деления"
   ]
  },
  {
   "cell_type": "code",
   "execution_count": 24,
   "id": "56a124cc",
   "metadata": {},
   "outputs": [
    {
     "data": {
      "text/plain": [
       "0    0\n",
       "1    1\n",
       "2    1\n",
       "3    2\n",
       "4    2\n",
       "5    3\n",
       "Name: Колонка 1, dtype: int64"
      ]
     },
     "execution_count": 24,
     "metadata": {},
     "output_type": "execute_result"
    }
   ],
   "source": [
    "df['Колонка 1'] // 2"
   ]
  },
  {
   "cell_type": "markdown",
   "id": "1e4eaa17",
   "metadata": {},
   "source": [
    "#### Остаток от деления"
   ]
  },
  {
   "cell_type": "code",
   "execution_count": 25,
   "id": "a8480046",
   "metadata": {},
   "outputs": [
    {
     "data": {
      "text/plain": [
       "0    1\n",
       "1    0\n",
       "2    1\n",
       "3    0\n",
       "4    1\n",
       "5    0\n",
       "Name: Колонка 1, dtype: int64"
      ]
     },
     "execution_count": 25,
     "metadata": {},
     "output_type": "execute_result"
    }
   ],
   "source": [
    "df['Колонка 1'] % 2"
   ]
  },
  {
   "cell_type": "markdown",
   "id": "895d491f",
   "metadata": {},
   "source": [
    "#### Возведние в степень"
   ]
  },
  {
   "cell_type": "code",
   "execution_count": 26,
   "id": "f3d1e1a9",
   "metadata": {},
   "outputs": [
    {
     "data": {
      "text/plain": [
       "0     1\n",
       "1     4\n",
       "2     9\n",
       "3    16\n",
       "4    25\n",
       "5    36\n",
       "Name: Колонка 1, dtype: int64"
      ]
     },
     "execution_count": 26,
     "metadata": {},
     "output_type": "execute_result"
    }
   ],
   "source": [
    "df['Колонка 1'] ** 2"
   ]
  },
  {
   "cell_type": "code",
   "execution_count": 27,
   "id": "60c39e5d",
   "metadata": {},
   "outputs": [
    {
     "data": {
      "text/plain": [
       "0        1\n",
       "1        4\n",
       "2       27\n",
       "3      256\n",
       "4     3125\n",
       "5    46656\n",
       "Name: Колонка 1, dtype: int64"
      ]
     },
     "execution_count": 27,
     "metadata": {},
     "output_type": "execute_result"
    }
   ],
   "source": [
    "df['Колонка 1'] ** df['Колонка 1']"
   ]
  },
  {
   "cell_type": "markdown",
   "id": "dcb84a63",
   "metadata": {},
   "source": [
    "#### Целые числа нельзя возводить в отрицательную степень"
   ]
  },
  {
   "cell_type": "code",
   "execution_count": 28,
   "id": "0e646f19",
   "metadata": {},
   "outputs": [
    {
     "ename": "ValueError",
     "evalue": "Integers to negative integer powers are not allowed.",
     "output_type": "error",
     "traceback": [
      "\u001b[0;31m---------------------------------------------------------------------------\u001b[0m",
      "\u001b[0;31mValueError\u001b[0m                                Traceback (most recent call last)",
      "Cell \u001b[0;32mIn[28], line 1\u001b[0m\n\u001b[0;32m----> 1\u001b[0m \u001b[43mdf\u001b[49m\u001b[43m[\u001b[49m\u001b[38;5;124;43m'\u001b[39;49m\u001b[38;5;124;43mКолонка 1\u001b[39;49m\u001b[38;5;124;43m'\u001b[39;49m\u001b[43m]\u001b[49m\u001b[43m \u001b[49m\u001b[38;5;241;43m*\u001b[39;49m\u001b[38;5;241;43m*\u001b[39;49m\u001b[43m \u001b[49m\u001b[38;5;241;43m-\u001b[39;49m\u001b[43m \u001b[49m\u001b[38;5;241;43m2\u001b[39;49m\n",
      "File \u001b[0;32m~/miniforge-pypy3/envs/artemiy/lib/python3.11/site-packages/pandas/core/ops/common.py:76\u001b[0m, in \u001b[0;36m_unpack_zerodim_and_defer.<locals>.new_method\u001b[0;34m(self, other)\u001b[0m\n\u001b[1;32m     72\u001b[0m             \u001b[38;5;28;01mreturn\u001b[39;00m \u001b[38;5;28mNotImplemented\u001b[39m\n\u001b[1;32m     74\u001b[0m other \u001b[38;5;241m=\u001b[39m item_from_zerodim(other)\n\u001b[0;32m---> 76\u001b[0m \u001b[38;5;28;01mreturn\u001b[39;00m \u001b[43mmethod\u001b[49m\u001b[43m(\u001b[49m\u001b[38;5;28;43mself\u001b[39;49m\u001b[43m,\u001b[49m\u001b[43m \u001b[49m\u001b[43mother\u001b[49m\u001b[43m)\u001b[49m\n",
      "File \u001b[0;32m~/miniforge-pypy3/envs/artemiy/lib/python3.11/site-packages/pandas/core/arraylike.py:242\u001b[0m, in \u001b[0;36mOpsMixin.__pow__\u001b[0;34m(self, other)\u001b[0m\n\u001b[1;32m    240\u001b[0m \u001b[38;5;129m@unpack_zerodim_and_defer\u001b[39m(\u001b[38;5;124m\"\u001b[39m\u001b[38;5;124m__pow__\u001b[39m\u001b[38;5;124m\"\u001b[39m)\n\u001b[1;32m    241\u001b[0m \u001b[38;5;28;01mdef\u001b[39;00m \u001b[38;5;21m__pow__\u001b[39m(\u001b[38;5;28mself\u001b[39m, other):\n\u001b[0;32m--> 242\u001b[0m     \u001b[38;5;28;01mreturn\u001b[39;00m \u001b[38;5;28;43mself\u001b[39;49m\u001b[38;5;241;43m.\u001b[39;49m\u001b[43m_arith_method\u001b[49m\u001b[43m(\u001b[49m\u001b[43mother\u001b[49m\u001b[43m,\u001b[49m\u001b[43m \u001b[49m\u001b[43moperator\u001b[49m\u001b[38;5;241;43m.\u001b[39;49m\u001b[43mpow\u001b[49m\u001b[43m)\u001b[49m\n",
      "File \u001b[0;32m~/miniforge-pypy3/envs/artemiy/lib/python3.11/site-packages/pandas/core/series.py:6135\u001b[0m, in \u001b[0;36mSeries._arith_method\u001b[0;34m(self, other, op)\u001b[0m\n\u001b[1;32m   6133\u001b[0m \u001b[38;5;28;01mdef\u001b[39;00m \u001b[38;5;21m_arith_method\u001b[39m(\u001b[38;5;28mself\u001b[39m, other, op):\n\u001b[1;32m   6134\u001b[0m     \u001b[38;5;28mself\u001b[39m, other \u001b[38;5;241m=\u001b[39m \u001b[38;5;28mself\u001b[39m\u001b[38;5;241m.\u001b[39m_align_for_op(other)\n\u001b[0;32m-> 6135\u001b[0m     \u001b[38;5;28;01mreturn\u001b[39;00m \u001b[43mbase\u001b[49m\u001b[38;5;241;43m.\u001b[39;49m\u001b[43mIndexOpsMixin\u001b[49m\u001b[38;5;241;43m.\u001b[39;49m\u001b[43m_arith_method\u001b[49m\u001b[43m(\u001b[49m\u001b[38;5;28;43mself\u001b[39;49m\u001b[43m,\u001b[49m\u001b[43m \u001b[49m\u001b[43mother\u001b[49m\u001b[43m,\u001b[49m\u001b[43m \u001b[49m\u001b[43mop\u001b[49m\u001b[43m)\u001b[49m\n",
      "File \u001b[0;32m~/miniforge-pypy3/envs/artemiy/lib/python3.11/site-packages/pandas/core/base.py:1382\u001b[0m, in \u001b[0;36mIndexOpsMixin._arith_method\u001b[0;34m(self, other, op)\u001b[0m\n\u001b[1;32m   1379\u001b[0m     rvalues \u001b[38;5;241m=\u001b[39m np\u001b[38;5;241m.\u001b[39marange(rvalues\u001b[38;5;241m.\u001b[39mstart, rvalues\u001b[38;5;241m.\u001b[39mstop, rvalues\u001b[38;5;241m.\u001b[39mstep)\n\u001b[1;32m   1381\u001b[0m \u001b[38;5;28;01mwith\u001b[39;00m np\u001b[38;5;241m.\u001b[39merrstate(\u001b[38;5;28mall\u001b[39m\u001b[38;5;241m=\u001b[39m\u001b[38;5;124m\"\u001b[39m\u001b[38;5;124mignore\u001b[39m\u001b[38;5;124m\"\u001b[39m):\n\u001b[0;32m-> 1382\u001b[0m     result \u001b[38;5;241m=\u001b[39m \u001b[43mops\u001b[49m\u001b[38;5;241;43m.\u001b[39;49m\u001b[43marithmetic_op\u001b[49m\u001b[43m(\u001b[49m\u001b[43mlvalues\u001b[49m\u001b[43m,\u001b[49m\u001b[43m \u001b[49m\u001b[43mrvalues\u001b[49m\u001b[43m,\u001b[49m\u001b[43m \u001b[49m\u001b[43mop\u001b[49m\u001b[43m)\u001b[49m\n\u001b[1;32m   1384\u001b[0m \u001b[38;5;28;01mreturn\u001b[39;00m \u001b[38;5;28mself\u001b[39m\u001b[38;5;241m.\u001b[39m_construct_result(result, name\u001b[38;5;241m=\u001b[39mres_name)\n",
      "File \u001b[0;32m~/miniforge-pypy3/envs/artemiy/lib/python3.11/site-packages/pandas/core/ops/array_ops.py:283\u001b[0m, in \u001b[0;36marithmetic_op\u001b[0;34m(left, right, op)\u001b[0m\n\u001b[1;32m    279\u001b[0m     _bool_arith_check(op, left, right)  \u001b[38;5;66;03m# type: ignore[arg-type]\u001b[39;00m\n\u001b[1;32m    281\u001b[0m     \u001b[38;5;66;03m# error: Argument 1 to \"_na_arithmetic_op\" has incompatible type\u001b[39;00m\n\u001b[1;32m    282\u001b[0m     \u001b[38;5;66;03m# \"Union[ExtensionArray, ndarray[Any, Any]]\"; expected \"ndarray[Any, Any]\"\u001b[39;00m\n\u001b[0;32m--> 283\u001b[0m     res_values \u001b[38;5;241m=\u001b[39m \u001b[43m_na_arithmetic_op\u001b[49m\u001b[43m(\u001b[49m\u001b[43mleft\u001b[49m\u001b[43m,\u001b[49m\u001b[43m \u001b[49m\u001b[43mright\u001b[49m\u001b[43m,\u001b[49m\u001b[43m \u001b[49m\u001b[43mop\u001b[49m\u001b[43m)\u001b[49m  \u001b[38;5;66;03m# type: ignore[arg-type]\u001b[39;00m\n\u001b[1;32m    285\u001b[0m \u001b[38;5;28;01mreturn\u001b[39;00m res_values\n",
      "File \u001b[0;32m~/miniforge-pypy3/envs/artemiy/lib/python3.11/site-packages/pandas/core/ops/array_ops.py:218\u001b[0m, in \u001b[0;36m_na_arithmetic_op\u001b[0;34m(left, right, op, is_cmp)\u001b[0m\n\u001b[1;32m    215\u001b[0m     func \u001b[38;5;241m=\u001b[39m partial(expressions\u001b[38;5;241m.\u001b[39mevaluate, op)\n\u001b[1;32m    217\u001b[0m \u001b[38;5;28;01mtry\u001b[39;00m:\n\u001b[0;32m--> 218\u001b[0m     result \u001b[38;5;241m=\u001b[39m \u001b[43mfunc\u001b[49m\u001b[43m(\u001b[49m\u001b[43mleft\u001b[49m\u001b[43m,\u001b[49m\u001b[43m \u001b[49m\u001b[43mright\u001b[49m\u001b[43m)\u001b[49m\n\u001b[1;32m    219\u001b[0m \u001b[38;5;28;01mexcept\u001b[39;00m \u001b[38;5;167;01mTypeError\u001b[39;00m:\n\u001b[1;32m    220\u001b[0m     \u001b[38;5;28;01mif\u001b[39;00m \u001b[38;5;129;01mnot\u001b[39;00m is_cmp \u001b[38;5;129;01mand\u001b[39;00m (\n\u001b[1;32m    221\u001b[0m         left\u001b[38;5;241m.\u001b[39mdtype \u001b[38;5;241m==\u001b[39m \u001b[38;5;28mobject\u001b[39m \u001b[38;5;129;01mor\u001b[39;00m \u001b[38;5;28mgetattr\u001b[39m(right, \u001b[38;5;124m\"\u001b[39m\u001b[38;5;124mdtype\u001b[39m\u001b[38;5;124m\"\u001b[39m, \u001b[38;5;28;01mNone\u001b[39;00m) \u001b[38;5;241m==\u001b[39m \u001b[38;5;28mobject\u001b[39m\n\u001b[1;32m    222\u001b[0m     ):\n\u001b[0;32m   (...)\u001b[0m\n\u001b[1;32m    225\u001b[0m         \u001b[38;5;66;03m# Don't do this for comparisons, as that will handle complex numbers\u001b[39;00m\n\u001b[1;32m    226\u001b[0m         \u001b[38;5;66;03m#  incorrectly, see GH#32047\u001b[39;00m\n",
      "File \u001b[0;32m~/miniforge-pypy3/envs/artemiy/lib/python3.11/site-packages/pandas/core/computation/expressions.py:242\u001b[0m, in \u001b[0;36mevaluate\u001b[0;34m(op, a, b, use_numexpr)\u001b[0m\n\u001b[1;32m    239\u001b[0m \u001b[38;5;28;01mif\u001b[39;00m op_str \u001b[38;5;129;01mis\u001b[39;00m \u001b[38;5;129;01mnot\u001b[39;00m \u001b[38;5;28;01mNone\u001b[39;00m:\n\u001b[1;32m    240\u001b[0m     \u001b[38;5;28;01mif\u001b[39;00m use_numexpr:\n\u001b[1;32m    241\u001b[0m         \u001b[38;5;66;03m# error: \"None\" not callable\u001b[39;00m\n\u001b[0;32m--> 242\u001b[0m         \u001b[38;5;28;01mreturn\u001b[39;00m \u001b[43m_evaluate\u001b[49m\u001b[43m(\u001b[49m\u001b[43mop\u001b[49m\u001b[43m,\u001b[49m\u001b[43m \u001b[49m\u001b[43mop_str\u001b[49m\u001b[43m,\u001b[49m\u001b[43m \u001b[49m\u001b[43ma\u001b[49m\u001b[43m,\u001b[49m\u001b[43m \u001b[49m\u001b[43mb\u001b[49m\u001b[43m)\u001b[49m  \u001b[38;5;66;03m# type: ignore[misc]\u001b[39;00m\n\u001b[1;32m    243\u001b[0m \u001b[38;5;28;01mreturn\u001b[39;00m _evaluate_standard(op, op_str, a, b)\n",
      "File \u001b[0;32m~/miniforge-pypy3/envs/artemiy/lib/python3.11/site-packages/pandas/core/computation/expressions.py:73\u001b[0m, in \u001b[0;36m_evaluate_standard\u001b[0;34m(op, op_str, a, b)\u001b[0m\n\u001b[1;32m     71\u001b[0m \u001b[38;5;28;01mif\u001b[39;00m _TEST_MODE:\n\u001b[1;32m     72\u001b[0m     _store_test_result(\u001b[38;5;28;01mFalse\u001b[39;00m)\n\u001b[0;32m---> 73\u001b[0m \u001b[38;5;28;01mreturn\u001b[39;00m \u001b[43mop\u001b[49m\u001b[43m(\u001b[49m\u001b[43ma\u001b[49m\u001b[43m,\u001b[49m\u001b[43m \u001b[49m\u001b[43mb\u001b[49m\u001b[43m)\u001b[49m\n",
      "\u001b[0;31mValueError\u001b[0m: Integers to negative integer powers are not allowed."
     ]
    }
   ],
   "source": [
    "df['Колонка 1'] ** - 2"
   ]
  },
  {
   "cell_type": "code",
   "execution_count": 29,
   "id": "591b4d52",
   "metadata": {},
   "outputs": [
    {
     "data": {
      "text/plain": [
       "0    1.000000\n",
       "1    0.250000\n",
       "2    0.111111\n",
       "3    0.062500\n",
       "4    0.040000\n",
       "5    0.027778\n",
       "Name: Колонка 1, dtype: float64"
      ]
     },
     "execution_count": 29,
     "metadata": {},
     "output_type": "execute_result"
    }
   ],
   "source": [
    "df['Колонка 1'].astype(float) ** -2"
   ]
  },
  {
   "cell_type": "code",
   "execution_count": 30,
   "id": "9b4e7c21",
   "metadata": {},
   "outputs": [
    {
     "data": {
      "text/plain": [
       "0    1.000000\n",
       "1    0.250000\n",
       "2    0.111111\n",
       "3    0.062500\n",
       "4    0.040000\n",
       "5    0.027778\n",
       "Name: Колонка 1, dtype: float64"
      ]
     },
     "execution_count": 30,
     "metadata": {},
     "output_type": "execute_result"
    }
   ],
   "source": [
    "1 / df['Колонка 1'] ** 2"
   ]
  },
  {
   "cell_type": "markdown",
   "id": "615b6536",
   "metadata": {},
   "source": [
    "### Арифметические операции определены стандартно, но если что-то непонятно, то лучше ставить скобки"
   ]
  },
  {
   "cell_type": "code",
   "execution_count": 31,
   "id": "5e0c087c",
   "metadata": {},
   "outputs": [
    {
     "data": {
      "text/plain": [
       "0         NaN\n",
       "1    5.000000\n",
       "2    5.656854\n",
       "3    3.464102\n",
       "4    5.291503\n",
       "5    4.123106\n",
       "dtype: float64"
      ]
     },
     "execution_count": 31,
     "metadata": {},
     "output_type": "execute_result"
    }
   ],
   "source": [
    "((df['Колонка 1'] + df['Колонка 3']) * df['Колонка 2']) ** 0.5"
   ]
  },
  {
   "cell_type": "code",
   "execution_count": 32,
   "id": "d6977b2a",
   "metadata": {},
   "outputs": [
    {
     "data": {
      "text/plain": [
       "0     50.0\n",
       "1    100.0\n",
       "2    150.0\n",
       "3    200.0\n",
       "4    250.0\n",
       "5    300.0\n",
       "Name: Колонка 1, dtype: float64"
      ]
     },
     "execution_count": 32,
     "metadata": {},
     "output_type": "execute_result"
    }
   ],
   "source": [
    "df['Колонка 1'] / 2 * 100"
   ]
  },
  {
   "cell_type": "code",
   "execution_count": 33,
   "id": "9d3e785c",
   "metadata": {},
   "outputs": [
    {
     "data": {
      "text/plain": [
       "0     50.0\n",
       "1    100.0\n",
       "2    150.0\n",
       "3    200.0\n",
       "4    250.0\n",
       "5    300.0\n",
       "Name: Колонка 1, dtype: float64"
      ]
     },
     "execution_count": 33,
     "metadata": {},
     "output_type": "execute_result"
    }
   ],
   "source": [
    "(df['Колонка 1'] / 2) * 100"
   ]
  },
  {
   "cell_type": "markdown",
   "id": "02337489",
   "metadata": {},
   "source": [
    "#### Когда мы записываем выражение в скобках мы его можем переносить между строк как угодно"
   ]
  },
  {
   "cell_type": "code",
   "execution_count": 34,
   "id": "6a88c6fb",
   "metadata": {},
   "outputs": [
    {
     "data": {
      "text/plain": [
       "0     2\n",
       "1     4\n",
       "2     6\n",
       "3     8\n",
       "4    10\n",
       "5    12\n",
       "Name: Колонка 1, dtype: int64"
      ]
     },
     "execution_count": 34,
     "metadata": {},
     "output_type": "execute_result"
    }
   ],
   "source": [
    "(\n",
    "df['Колонка 1']\n",
    "+\n",
    "df['Колонка 1']\n",
    ")"
   ]
  },
  {
   "cell_type": "markdown",
   "id": "6661380d",
   "metadata": {},
   "source": [
    "#### Если мы после выполнения арифметических операций хотим использовать какие-то другие методы, то все выражение мы должны обернуть в круглые скобки"
   ]
  },
  {
   "cell_type": "code",
   "execution_count": 35,
   "id": "fca30f3f",
   "metadata": {},
   "outputs": [
    {
     "data": {
      "text/plain": [
       "0    7\n",
       "1    7\n",
       "2    7\n",
       "3    7\n",
       "4    7\n",
       "5    7\n",
       "dtype: int64"
      ]
     },
     "execution_count": 35,
     "metadata": {},
     "output_type": "execute_result"
    }
   ],
   "source": [
    "(df['Колонка 1'] + df['Колонка 2'])"
   ]
  },
  {
   "cell_type": "code",
   "execution_count": 36,
   "id": "88316a0f",
   "metadata": {},
   "outputs": [
    {
     "data": {
      "text/plain": [
       "4    7\n",
       "5    7\n",
       "0    7\n",
       "3    7\n",
       "5    7\n",
       "1    7\n",
       "4    7\n",
       "3    7\n",
       "0    7\n",
       "2    7\n",
       "dtype: int64"
      ]
     },
     "execution_count": 36,
     "metadata": {},
     "output_type": "execute_result"
    }
   ],
   "source": [
    "(df['Колонка 1'] + df['Колонка 2']).sample(10, replace=True, random_state=9)"
   ]
  },
  {
   "cell_type": "markdown",
   "id": "b569c6fb",
   "metadata": {},
   "source": [
    "Иначе метод sample будет применен только к первому датафрейму"
   ]
  },
  {
   "cell_type": "code",
   "execution_count": 37,
   "id": "cb8be895",
   "metadata": {},
   "outputs": [
    {
     "data": {
      "text/plain": [
       "0    7\n",
       "0    7\n",
       "1    7\n",
       "2    7\n",
       "3    7\n",
       "3    7\n",
       "4    7\n",
       "4    7\n",
       "5    7\n",
       "5    7\n",
       "dtype: int64"
      ]
     },
     "execution_count": 37,
     "metadata": {},
     "output_type": "execute_result"
    }
   ],
   "source": [
    "df['Колонка 1'] + df['Колонка 2'].sample(10, replace=True, random_state=9)"
   ]
  },
  {
   "cell_type": "code",
   "execution_count": null,
   "id": "88b51224",
   "metadata": {},
   "outputs": [],
   "source": []
  },
  {
   "cell_type": "code",
   "execution_count": null,
   "id": "ae4d2602",
   "metadata": {},
   "outputs": [],
   "source": []
  },
  {
   "cell_type": "code",
   "execution_count": null,
   "id": "d73b5b9f",
   "metadata": {},
   "outputs": [],
   "source": []
  },
  {
   "cell_type": "code",
   "execution_count": null,
   "id": "abd72a80",
   "metadata": {},
   "outputs": [],
   "source": []
  },
  {
   "cell_type": "code",
   "execution_count": null,
   "id": "8f4a3bdc",
   "metadata": {},
   "outputs": [],
   "source": []
  },
  {
   "cell_type": "code",
   "execution_count": null,
   "id": "41fd98e1",
   "metadata": {},
   "outputs": [],
   "source": []
  },
  {
   "cell_type": "markdown",
   "id": "7669a73c",
   "metadata": {},
   "source": [
    "# Операции со строками"
   ]
  },
  {
   "cell_type": "code",
   "execution_count": 38,
   "id": "f6044e91",
   "metadata": {},
   "outputs": [
    {
     "data": {
      "text/plain": [
       "0      Миша\n",
       "1      Саша\n",
       "2       Юля\n",
       "3     Настя\n",
       "4    Андрей\n",
       "5      Катя\n",
       "Name: Имя, dtype: object"
      ]
     },
     "execution_count": 38,
     "metadata": {},
     "output_type": "execute_result"
    }
   ],
   "source": [
    "df['Имя']"
   ]
  },
  {
   "cell_type": "markdown",
   "id": "bc56f276",
   "metadata": {},
   "source": [
    "#### Умножение на целое число"
   ]
  },
  {
   "cell_type": "code",
   "execution_count": 39,
   "id": "938eeba7",
   "metadata": {},
   "outputs": [
    {
     "data": {
      "text/plain": [
       "0          МишаМишаМиша\n",
       "1          СашаСашаСаша\n",
       "2             ЮляЮляЮля\n",
       "3       НастяНастяНастя\n",
       "4    АндрейАндрейАндрей\n",
       "5          КатяКатяКатя\n",
       "Name: Имя, dtype: object"
      ]
     },
     "execution_count": 39,
     "metadata": {},
     "output_type": "execute_result"
    }
   ],
   "source": [
    "df['Имя'] * 3"
   ]
  },
  {
   "cell_type": "markdown",
   "id": "c82e352c",
   "metadata": {},
   "source": [
    "#### Сложение двух строк"
   ]
  },
  {
   "cell_type": "code",
   "execution_count": 40,
   "id": "6da51c0c",
   "metadata": {},
   "outputs": [
    {
     "data": {
      "text/plain": [
       "0      Миша хороший человек\n",
       "1      Саша хороший человек\n",
       "2       Юля хороший человек\n",
       "3     Настя хороший человек\n",
       "4    Андрей хороший человек\n",
       "5      Катя хороший человек\n",
       "Name: Имя, dtype: object"
      ]
     },
     "execution_count": 40,
     "metadata": {},
     "output_type": "execute_result"
    }
   ],
   "source": [
    "df['Имя'] + ' хороший человек'"
   ]
  },
  {
   "cell_type": "code",
   "execution_count": 41,
   "id": "3445576a",
   "metadata": {},
   "outputs": [
    {
     "data": {
      "text/plain": [
       "0           МишаБаскетбол\n",
       "1              СашаХоккей\n",
       "2             ЮляВолейбол\n",
       "3             НастяФутбол\n",
       "4    АндрейCounter-Strike\n",
       "5             КатяБильярд\n",
       "dtype: object"
      ]
     },
     "execution_count": 41,
     "metadata": {},
     "output_type": "execute_result"
    }
   ],
   "source": [
    "df['Имя'] + df['Увлечение']"
   ]
  },
  {
   "cell_type": "code",
   "execution_count": 42,
   "id": "a0d7b157",
   "metadata": {},
   "outputs": [
    {
     "data": {
      "text/plain": [
       "0           Миша любит Баскетбол\n",
       "1              Саша любит Хоккей\n",
       "2             Юля любит Волейбол\n",
       "3             Настя любит Футбол\n",
       "4    Андрей любит Counter-Strike\n",
       "5             Катя любит Бильярд\n",
       "dtype: object"
      ]
     },
     "execution_count": 42,
     "metadata": {},
     "output_type": "execute_result"
    }
   ],
   "source": [
    "df['Имя'] + ' любит ' + df['Увлечение']"
   ]
  },
  {
   "cell_type": "code",
   "execution_count": null,
   "id": "60b4d554",
   "metadata": {},
   "outputs": [],
   "source": []
  },
  {
   "cell_type": "code",
   "execution_count": null,
   "id": "4dd9604c",
   "metadata": {},
   "outputs": [],
   "source": []
  },
  {
   "cell_type": "code",
   "execution_count": null,
   "id": "bb3782bd",
   "metadata": {},
   "outputs": [],
   "source": []
  },
  {
   "cell_type": "code",
   "execution_count": null,
   "id": "8ba5f358",
   "metadata": {},
   "outputs": [],
   "source": []
  },
  {
   "cell_type": "code",
   "execution_count": null,
   "id": "9bd5e834",
   "metadata": {},
   "outputs": [],
   "source": []
  },
  {
   "cell_type": "code",
   "execution_count": null,
   "id": "aaae2a69",
   "metadata": {},
   "outputs": [],
   "source": []
  },
  {
   "cell_type": "code",
   "execution_count": null,
   "id": "6a7bd7a2",
   "metadata": {},
   "outputs": [],
   "source": []
  },
  {
   "cell_type": "code",
   "execution_count": null,
   "id": "ed689339",
   "metadata": {},
   "outputs": [],
   "source": []
  },
  {
   "cell_type": "code",
   "execution_count": null,
   "id": "5a3aa4a5",
   "metadata": {},
   "outputs": [],
   "source": []
  },
  {
   "cell_type": "code",
   "execution_count": null,
   "id": "b8757bd7",
   "metadata": {},
   "outputs": [],
   "source": []
  },
  {
   "cell_type": "code",
   "execution_count": null,
   "id": "bf02496d",
   "metadata": {},
   "outputs": [],
   "source": []
  },
  {
   "cell_type": "code",
   "execution_count": null,
   "id": "a911da91",
   "metadata": {},
   "outputs": [],
   "source": []
  },
  {
   "cell_type": "code",
   "execution_count": null,
   "id": "d52dab39",
   "metadata": {},
   "outputs": [],
   "source": []
  },
  {
   "cell_type": "code",
   "execution_count": null,
   "id": "e4fca946",
   "metadata": {},
   "outputs": [],
   "source": []
  },
  {
   "cell_type": "code",
   "execution_count": null,
   "id": "597c93e1",
   "metadata": {},
   "outputs": [],
   "source": []
  },
  {
   "cell_type": "code",
   "execution_count": null,
   "id": "a32fc7d2",
   "metadata": {},
   "outputs": [],
   "source": []
  },
  {
   "cell_type": "code",
   "execution_count": null,
   "id": "c048cbe0",
   "metadata": {},
   "outputs": [],
   "source": []
  },
  {
   "cell_type": "markdown",
   "id": "0654409d",
   "metadata": {},
   "source": [
    "# Операции с датафреймами"
   ]
  },
  {
   "cell_type": "markdown",
   "id": "96a54d82",
   "metadata": {},
   "source": [
    "Если операция определена для всех колонок датафрейма, то она может быть применена"
   ]
  },
  {
   "cell_type": "code",
   "execution_count": 43,
   "id": "ca32c20d",
   "metadata": {},
   "outputs": [
    {
     "data": {
      "text/html": [
       "<div>\n",
       "<style scoped>\n",
       "    .dataframe tbody tr th:only-of-type {\n",
       "        vertical-align: middle;\n",
       "    }\n",
       "\n",
       "    .dataframe tbody tr th {\n",
       "        vertical-align: top;\n",
       "    }\n",
       "\n",
       "    .dataframe thead th {\n",
       "        text-align: right;\n",
       "    }\n",
       "</style>\n",
       "<table border=\"1\" class=\"dataframe\">\n",
       "  <thead>\n",
       "    <tr style=\"text-align: right;\">\n",
       "      <th></th>\n",
       "      <th>Колонка 1</th>\n",
       "      <th>Колонка 2</th>\n",
       "      <th>Колонка 3</th>\n",
       "      <th>Имя</th>\n",
       "      <th>Увлечение</th>\n",
       "    </tr>\n",
       "  </thead>\n",
       "  <tbody>\n",
       "    <tr>\n",
       "      <th>0</th>\n",
       "      <td>2</td>\n",
       "      <td>12</td>\n",
       "      <td>NaN</td>\n",
       "      <td>МишаМиша</td>\n",
       "      <td>БаскетболБаскетбол</td>\n",
       "    </tr>\n",
       "    <tr>\n",
       "      <th>1</th>\n",
       "      <td>4</td>\n",
       "      <td>10</td>\n",
       "      <td>6.0</td>\n",
       "      <td>СашаСаша</td>\n",
       "      <td>ХоккейХоккей</td>\n",
       "    </tr>\n",
       "    <tr>\n",
       "      <th>2</th>\n",
       "      <td>6</td>\n",
       "      <td>8</td>\n",
       "      <td>10.0</td>\n",
       "      <td>ЮляЮля</td>\n",
       "      <td>ВолейболВолейбол</td>\n",
       "    </tr>\n",
       "    <tr>\n",
       "      <th>3</th>\n",
       "      <td>8</td>\n",
       "      <td>6</td>\n",
       "      <td>0.0</td>\n",
       "      <td>НастяНастя</td>\n",
       "      <td>ФутболФутбол</td>\n",
       "    </tr>\n",
       "    <tr>\n",
       "      <th>4</th>\n",
       "      <td>10</td>\n",
       "      <td>4</td>\n",
       "      <td>18.0</td>\n",
       "      <td>АндрейАндрей</td>\n",
       "      <td>Counter-StrikeCounter-Strike</td>\n",
       "    </tr>\n",
       "    <tr>\n",
       "      <th>5</th>\n",
       "      <td>12</td>\n",
       "      <td>2</td>\n",
       "      <td>22.0</td>\n",
       "      <td>КатяКатя</td>\n",
       "      <td>БильярдБильярд</td>\n",
       "    </tr>\n",
       "  </tbody>\n",
       "</table>\n",
       "</div>"
      ],
      "text/plain": [
       "   Колонка 1  Колонка 2  Колонка 3           Имя                     Увлечение\n",
       "0          2         12        NaN      МишаМиша            БаскетболБаскетбол\n",
       "1          4         10        6.0      СашаСаша                  ХоккейХоккей\n",
       "2          6          8       10.0        ЮляЮля              ВолейболВолейбол\n",
       "3          8          6        0.0    НастяНастя                  ФутболФутбол\n",
       "4         10          4       18.0  АндрейАндрей  Counter-StrikeCounter-Strike\n",
       "5         12          2       22.0      КатяКатя                БильярдБильярд"
      ]
     },
     "execution_count": 43,
     "metadata": {},
     "output_type": "execute_result"
    }
   ],
   "source": [
    "df * 2"
   ]
  },
  {
   "cell_type": "code",
   "execution_count": 44,
   "id": "6d1f5061",
   "metadata": {},
   "outputs": [
    {
     "data": {
      "text/html": [
       "<div>\n",
       "<style scoped>\n",
       "    .dataframe tbody tr th:only-of-type {\n",
       "        vertical-align: middle;\n",
       "    }\n",
       "\n",
       "    .dataframe tbody tr th {\n",
       "        vertical-align: top;\n",
       "    }\n",
       "\n",
       "    .dataframe thead th {\n",
       "        text-align: right;\n",
       "    }\n",
       "</style>\n",
       "<table border=\"1\" class=\"dataframe\">\n",
       "  <thead>\n",
       "    <tr style=\"text-align: right;\">\n",
       "      <th></th>\n",
       "      <th>Колонка 1</th>\n",
       "      <th>Колонка 2</th>\n",
       "      <th>Колонка 3</th>\n",
       "      <th>Имя</th>\n",
       "      <th>Увлечение</th>\n",
       "    </tr>\n",
       "  </thead>\n",
       "  <tbody>\n",
       "    <tr>\n",
       "      <th>0</th>\n",
       "      <td>3</td>\n",
       "      <td>18</td>\n",
       "      <td>NaN</td>\n",
       "      <td>МишаМишаМиша</td>\n",
       "      <td>БаскетболБаскетболБаскетбол</td>\n",
       "    </tr>\n",
       "    <tr>\n",
       "      <th>1</th>\n",
       "      <td>6</td>\n",
       "      <td>15</td>\n",
       "      <td>9.0</td>\n",
       "      <td>СашаСашаСаша</td>\n",
       "      <td>ХоккейХоккейХоккей</td>\n",
       "    </tr>\n",
       "    <tr>\n",
       "      <th>2</th>\n",
       "      <td>9</td>\n",
       "      <td>12</td>\n",
       "      <td>15.0</td>\n",
       "      <td>ЮляЮляЮля</td>\n",
       "      <td>ВолейболВолейболВолейбол</td>\n",
       "    </tr>\n",
       "    <tr>\n",
       "      <th>3</th>\n",
       "      <td>12</td>\n",
       "      <td>9</td>\n",
       "      <td>0.0</td>\n",
       "      <td>НастяНастяНастя</td>\n",
       "      <td>ФутболФутболФутбол</td>\n",
       "    </tr>\n",
       "    <tr>\n",
       "      <th>4</th>\n",
       "      <td>15</td>\n",
       "      <td>6</td>\n",
       "      <td>27.0</td>\n",
       "      <td>АндрейАндрейАндрей</td>\n",
       "      <td>Counter-StrikeCounter-StrikeCounter-Strike</td>\n",
       "    </tr>\n",
       "    <tr>\n",
       "      <th>5</th>\n",
       "      <td>18</td>\n",
       "      <td>3</td>\n",
       "      <td>33.0</td>\n",
       "      <td>КатяКатяКатя</td>\n",
       "      <td>БильярдБильярдБильярд</td>\n",
       "    </tr>\n",
       "  </tbody>\n",
       "</table>\n",
       "</div>"
      ],
      "text/plain": [
       "   Колонка 1  Колонка 2  Колонка 3                 Имя  \\\n",
       "0          3         18        NaN        МишаМишаМиша   \n",
       "1          6         15        9.0        СашаСашаСаша   \n",
       "2          9         12       15.0           ЮляЮляЮля   \n",
       "3         12          9        0.0     НастяНастяНастя   \n",
       "4         15          6       27.0  АндрейАндрейАндрей   \n",
       "5         18          3       33.0        КатяКатяКатя   \n",
       "\n",
       "                                    Увлечение  \n",
       "0                 БаскетболБаскетболБаскетбол  \n",
       "1                          ХоккейХоккейХоккей  \n",
       "2                    ВолейболВолейболВолейбол  \n",
       "3                          ФутболФутболФутбол  \n",
       "4  Counter-StrikeCounter-StrikeCounter-Strike  \n",
       "5                       БильярдБильярдБильярд  "
      ]
     },
     "execution_count": 44,
     "metadata": {},
     "output_type": "execute_result"
    }
   ],
   "source": [
    "df + df + df"
   ]
  },
  {
   "cell_type": "code",
   "execution_count": 103,
   "id": "6ebe75fd",
   "metadata": {},
   "outputs": [
    {
     "data": {
      "text/html": [
       "<div>\n",
       "<style scoped>\n",
       "    .dataframe tbody tr th:only-of-type {\n",
       "        vertical-align: middle;\n",
       "    }\n",
       "\n",
       "    .dataframe tbody tr th {\n",
       "        vertical-align: top;\n",
       "    }\n",
       "\n",
       "    .dataframe thead th {\n",
       "        text-align: right;\n",
       "    }\n",
       "</style>\n",
       "<table border=\"1\" class=\"dataframe\">\n",
       "  <thead>\n",
       "    <tr style=\"text-align: right;\">\n",
       "      <th></th>\n",
       "      <th>Колонка 1</th>\n",
       "      <th>Колонка 2</th>\n",
       "    </tr>\n",
       "  </thead>\n",
       "  <tbody>\n",
       "    <tr>\n",
       "      <th>0</th>\n",
       "      <td>1</td>\n",
       "      <td>6</td>\n",
       "    </tr>\n",
       "    <tr>\n",
       "      <th>1</th>\n",
       "      <td>2</td>\n",
       "      <td>5</td>\n",
       "    </tr>\n",
       "    <tr>\n",
       "      <th>2</th>\n",
       "      <td>3</td>\n",
       "      <td>4</td>\n",
       "    </tr>\n",
       "    <tr>\n",
       "      <th>3</th>\n",
       "      <td>4</td>\n",
       "      <td>3</td>\n",
       "    </tr>\n",
       "    <tr>\n",
       "      <th>4</th>\n",
       "      <td>5</td>\n",
       "      <td>2</td>\n",
       "    </tr>\n",
       "    <tr>\n",
       "      <th>5</th>\n",
       "      <td>6</td>\n",
       "      <td>1</td>\n",
       "    </tr>\n",
       "  </tbody>\n",
       "</table>\n",
       "</div>"
      ],
      "text/plain": [
       "   Колонка 1  Колонка 2\n",
       "0          1          6\n",
       "1          2          5\n",
       "2          3          4\n",
       "3          4          3\n",
       "4          5          2\n",
       "5          6          1"
      ]
     },
     "execution_count": 103,
     "metadata": {},
     "output_type": "execute_result"
    }
   ],
   "source": [
    "df.iloc[:, :2]"
   ]
  },
  {
   "cell_type": "code",
   "execution_count": 104,
   "id": "b85ccdee",
   "metadata": {},
   "outputs": [
    {
     "data": {
      "text/html": [
       "<div>\n",
       "<style scoped>\n",
       "    .dataframe tbody tr th:only-of-type {\n",
       "        vertical-align: middle;\n",
       "    }\n",
       "\n",
       "    .dataframe tbody tr th {\n",
       "        vertical-align: top;\n",
       "    }\n",
       "\n",
       "    .dataframe thead th {\n",
       "        text-align: right;\n",
       "    }\n",
       "</style>\n",
       "<table border=\"1\" class=\"dataframe\">\n",
       "  <thead>\n",
       "    <tr style=\"text-align: right;\">\n",
       "      <th></th>\n",
       "      <th>Колонка 1</th>\n",
       "      <th>Колонка 2</th>\n",
       "      <th>Колонка 3</th>\n",
       "    </tr>\n",
       "  </thead>\n",
       "  <tbody>\n",
       "    <tr>\n",
       "      <th>0</th>\n",
       "      <td>2</td>\n",
       "      <td>7</td>\n",
       "      <td>NaN</td>\n",
       "    </tr>\n",
       "    <tr>\n",
       "      <th>1</th>\n",
       "      <td>3</td>\n",
       "      <td>6</td>\n",
       "      <td>4.0</td>\n",
       "    </tr>\n",
       "    <tr>\n",
       "      <th>2</th>\n",
       "      <td>4</td>\n",
       "      <td>5</td>\n",
       "      <td>6.0</td>\n",
       "    </tr>\n",
       "    <tr>\n",
       "      <th>3</th>\n",
       "      <td>5</td>\n",
       "      <td>4</td>\n",
       "      <td>1.0</td>\n",
       "    </tr>\n",
       "    <tr>\n",
       "      <th>4</th>\n",
       "      <td>6</td>\n",
       "      <td>3</td>\n",
       "      <td>10.0</td>\n",
       "    </tr>\n",
       "    <tr>\n",
       "      <th>5</th>\n",
       "      <td>7</td>\n",
       "      <td>2</td>\n",
       "      <td>12.0</td>\n",
       "    </tr>\n",
       "  </tbody>\n",
       "</table>\n",
       "</div>"
      ],
      "text/plain": [
       "   Колонка 1  Колонка 2  Колонка 3\n",
       "0          2          7        NaN\n",
       "1          3          6        4.0\n",
       "2          4          5        6.0\n",
       "3          5          4        1.0\n",
       "4          6          3       10.0\n",
       "5          7          2       12.0"
      ]
     },
     "execution_count": 104,
     "metadata": {},
     "output_type": "execute_result"
    }
   ],
   "source": [
    "df.iloc[:, :3] + 1"
   ]
  },
  {
   "cell_type": "code",
   "execution_count": 47,
   "id": "a9caca2e",
   "metadata": {},
   "outputs": [
    {
     "data": {
      "text/html": [
       "<div>\n",
       "<style scoped>\n",
       "    .dataframe tbody tr th:only-of-type {\n",
       "        vertical-align: middle;\n",
       "    }\n",
       "\n",
       "    .dataframe tbody tr th {\n",
       "        vertical-align: top;\n",
       "    }\n",
       "\n",
       "    .dataframe thead th {\n",
       "        text-align: right;\n",
       "    }\n",
       "</style>\n",
       "<table border=\"1\" class=\"dataframe\">\n",
       "  <thead>\n",
       "    <tr style=\"text-align: right;\">\n",
       "      <th></th>\n",
       "      <th>Колонка 1</th>\n",
       "      <th>Колонка 2</th>\n",
       "      <th>Колонка 3</th>\n",
       "    </tr>\n",
       "  </thead>\n",
       "  <tbody>\n",
       "    <tr>\n",
       "      <th>0</th>\n",
       "      <td>2</td>\n",
       "      <td>12</td>\n",
       "      <td>NaN</td>\n",
       "    </tr>\n",
       "    <tr>\n",
       "      <th>1</th>\n",
       "      <td>4</td>\n",
       "      <td>10</td>\n",
       "      <td>6.0</td>\n",
       "    </tr>\n",
       "    <tr>\n",
       "      <th>2</th>\n",
       "      <td>6</td>\n",
       "      <td>8</td>\n",
       "      <td>10.0</td>\n",
       "    </tr>\n",
       "    <tr>\n",
       "      <th>3</th>\n",
       "      <td>8</td>\n",
       "      <td>6</td>\n",
       "      <td>0.0</td>\n",
       "    </tr>\n",
       "    <tr>\n",
       "      <th>4</th>\n",
       "      <td>10</td>\n",
       "      <td>4</td>\n",
       "      <td>18.0</td>\n",
       "    </tr>\n",
       "    <tr>\n",
       "      <th>5</th>\n",
       "      <td>12</td>\n",
       "      <td>2</td>\n",
       "      <td>22.0</td>\n",
       "    </tr>\n",
       "  </tbody>\n",
       "</table>\n",
       "</div>"
      ],
      "text/plain": [
       "   Колонка 1  Колонка 2  Колонка 3\n",
       "0          2         12        NaN\n",
       "1          4         10        6.0\n",
       "2          6          8       10.0\n",
       "3          8          6        0.0\n",
       "4         10          4       18.0\n",
       "5         12          2       22.0"
      ]
     },
     "execution_count": 47,
     "metadata": {},
     "output_type": "execute_result"
    }
   ],
   "source": [
    "df.iloc[:, :3] * 2"
   ]
  },
  {
   "cell_type": "code",
   "execution_count": 48,
   "id": "78fcafc1",
   "metadata": {},
   "outputs": [
    {
     "data": {
      "text/html": [
       "<div>\n",
       "<style scoped>\n",
       "    .dataframe tbody tr th:only-of-type {\n",
       "        vertical-align: middle;\n",
       "    }\n",
       "\n",
       "    .dataframe tbody tr th {\n",
       "        vertical-align: top;\n",
       "    }\n",
       "\n",
       "    .dataframe thead th {\n",
       "        text-align: right;\n",
       "    }\n",
       "</style>\n",
       "<table border=\"1\" class=\"dataframe\">\n",
       "  <thead>\n",
       "    <tr style=\"text-align: right;\">\n",
       "      <th></th>\n",
       "      <th>Колонка 1</th>\n",
       "      <th>Колонка 2</th>\n",
       "      <th>Колонка 3</th>\n",
       "    </tr>\n",
       "  </thead>\n",
       "  <tbody>\n",
       "    <tr>\n",
       "      <th>0</th>\n",
       "      <td>1</td>\n",
       "      <td>36</td>\n",
       "      <td>NaN</td>\n",
       "    </tr>\n",
       "    <tr>\n",
       "      <th>1</th>\n",
       "      <td>4</td>\n",
       "      <td>25</td>\n",
       "      <td>9.0</td>\n",
       "    </tr>\n",
       "    <tr>\n",
       "      <th>2</th>\n",
       "      <td>9</td>\n",
       "      <td>16</td>\n",
       "      <td>25.0</td>\n",
       "    </tr>\n",
       "    <tr>\n",
       "      <th>3</th>\n",
       "      <td>16</td>\n",
       "      <td>9</td>\n",
       "      <td>0.0</td>\n",
       "    </tr>\n",
       "    <tr>\n",
       "      <th>4</th>\n",
       "      <td>25</td>\n",
       "      <td>4</td>\n",
       "      <td>81.0</td>\n",
       "    </tr>\n",
       "    <tr>\n",
       "      <th>5</th>\n",
       "      <td>36</td>\n",
       "      <td>1</td>\n",
       "      <td>121.0</td>\n",
       "    </tr>\n",
       "  </tbody>\n",
       "</table>\n",
       "</div>"
      ],
      "text/plain": [
       "   Колонка 1  Колонка 2  Колонка 3\n",
       "0          1         36        NaN\n",
       "1          4         25        9.0\n",
       "2          9         16       25.0\n",
       "3         16          9        0.0\n",
       "4         25          4       81.0\n",
       "5         36          1      121.0"
      ]
     },
     "execution_count": 48,
     "metadata": {},
     "output_type": "execute_result"
    }
   ],
   "source": [
    "df.iloc[:, :3] ** 2"
   ]
  },
  {
   "cell_type": "markdown",
   "id": "42705d37",
   "metadata": {},
   "source": [
    "#### Сложение со списком идет построчно"
   ]
  },
  {
   "cell_type": "code",
   "execution_count": 49,
   "id": "a86f8a8d",
   "metadata": {},
   "outputs": [
    {
     "data": {
      "text/html": [
       "<div>\n",
       "<style scoped>\n",
       "    .dataframe tbody tr th:only-of-type {\n",
       "        vertical-align: middle;\n",
       "    }\n",
       "\n",
       "    .dataframe tbody tr th {\n",
       "        vertical-align: top;\n",
       "    }\n",
       "\n",
       "    .dataframe thead th {\n",
       "        text-align: right;\n",
       "    }\n",
       "</style>\n",
       "<table border=\"1\" class=\"dataframe\">\n",
       "  <thead>\n",
       "    <tr style=\"text-align: right;\">\n",
       "      <th></th>\n",
       "      <th>Колонка 1</th>\n",
       "      <th>Колонка 2</th>\n",
       "      <th>Колонка 3</th>\n",
       "    </tr>\n",
       "  </thead>\n",
       "  <tbody>\n",
       "    <tr>\n",
       "      <th>0</th>\n",
       "      <td>101</td>\n",
       "      <td>10006</td>\n",
       "      <td>NaN</td>\n",
       "    </tr>\n",
       "    <tr>\n",
       "      <th>1</th>\n",
       "      <td>102</td>\n",
       "      <td>10005</td>\n",
       "      <td>1000003.0</td>\n",
       "    </tr>\n",
       "    <tr>\n",
       "      <th>2</th>\n",
       "      <td>103</td>\n",
       "      <td>10004</td>\n",
       "      <td>1000005.0</td>\n",
       "    </tr>\n",
       "    <tr>\n",
       "      <th>3</th>\n",
       "      <td>104</td>\n",
       "      <td>10003</td>\n",
       "      <td>1000000.0</td>\n",
       "    </tr>\n",
       "    <tr>\n",
       "      <th>4</th>\n",
       "      <td>105</td>\n",
       "      <td>10002</td>\n",
       "      <td>1000009.0</td>\n",
       "    </tr>\n",
       "    <tr>\n",
       "      <th>5</th>\n",
       "      <td>106</td>\n",
       "      <td>10001</td>\n",
       "      <td>1000011.0</td>\n",
       "    </tr>\n",
       "  </tbody>\n",
       "</table>\n",
       "</div>"
      ],
      "text/plain": [
       "   Колонка 1  Колонка 2  Колонка 3\n",
       "0        101      10006        NaN\n",
       "1        102      10005  1000003.0\n",
       "2        103      10004  1000005.0\n",
       "3        104      10003  1000000.0\n",
       "4        105      10002  1000009.0\n",
       "5        106      10001  1000011.0"
      ]
     },
     "execution_count": 49,
     "metadata": {},
     "output_type": "execute_result"
    }
   ],
   "source": [
    "df.iloc[:, :3] + [100, 10000, 1000000]"
   ]
  },
  {
   "cell_type": "markdown",
   "id": "6c9853e9",
   "metadata": {},
   "source": [
    "Поэтому просто так колонку к датафрему прибавить не получится"
   ]
  },
  {
   "cell_type": "code",
   "execution_count": 50,
   "id": "d0534675",
   "metadata": {},
   "outputs": [
    {
     "data": {
      "text/html": [
       "<div>\n",
       "<style scoped>\n",
       "    .dataframe tbody tr th:only-of-type {\n",
       "        vertical-align: middle;\n",
       "    }\n",
       "\n",
       "    .dataframe tbody tr th {\n",
       "        vertical-align: top;\n",
       "    }\n",
       "\n",
       "    .dataframe thead th {\n",
       "        text-align: right;\n",
       "    }\n",
       "</style>\n",
       "<table border=\"1\" class=\"dataframe\">\n",
       "  <thead>\n",
       "    <tr style=\"text-align: right;\">\n",
       "      <th></th>\n",
       "      <th>Колонка 1</th>\n",
       "      <th>Колонка 2</th>\n",
       "      <th>Колонка 3</th>\n",
       "      <th>0</th>\n",
       "      <th>1</th>\n",
       "      <th>2</th>\n",
       "      <th>3</th>\n",
       "      <th>4</th>\n",
       "      <th>5</th>\n",
       "    </tr>\n",
       "  </thead>\n",
       "  <tbody>\n",
       "    <tr>\n",
       "      <th>0</th>\n",
       "      <td>NaN</td>\n",
       "      <td>NaN</td>\n",
       "      <td>NaN</td>\n",
       "      <td>NaN</td>\n",
       "      <td>NaN</td>\n",
       "      <td>NaN</td>\n",
       "      <td>NaN</td>\n",
       "      <td>NaN</td>\n",
       "      <td>NaN</td>\n",
       "    </tr>\n",
       "    <tr>\n",
       "      <th>1</th>\n",
       "      <td>NaN</td>\n",
       "      <td>NaN</td>\n",
       "      <td>NaN</td>\n",
       "      <td>NaN</td>\n",
       "      <td>NaN</td>\n",
       "      <td>NaN</td>\n",
       "      <td>NaN</td>\n",
       "      <td>NaN</td>\n",
       "      <td>NaN</td>\n",
       "    </tr>\n",
       "    <tr>\n",
       "      <th>2</th>\n",
       "      <td>NaN</td>\n",
       "      <td>NaN</td>\n",
       "      <td>NaN</td>\n",
       "      <td>NaN</td>\n",
       "      <td>NaN</td>\n",
       "      <td>NaN</td>\n",
       "      <td>NaN</td>\n",
       "      <td>NaN</td>\n",
       "      <td>NaN</td>\n",
       "    </tr>\n",
       "    <tr>\n",
       "      <th>3</th>\n",
       "      <td>NaN</td>\n",
       "      <td>NaN</td>\n",
       "      <td>NaN</td>\n",
       "      <td>NaN</td>\n",
       "      <td>NaN</td>\n",
       "      <td>NaN</td>\n",
       "      <td>NaN</td>\n",
       "      <td>NaN</td>\n",
       "      <td>NaN</td>\n",
       "    </tr>\n",
       "    <tr>\n",
       "      <th>4</th>\n",
       "      <td>NaN</td>\n",
       "      <td>NaN</td>\n",
       "      <td>NaN</td>\n",
       "      <td>NaN</td>\n",
       "      <td>NaN</td>\n",
       "      <td>NaN</td>\n",
       "      <td>NaN</td>\n",
       "      <td>NaN</td>\n",
       "      <td>NaN</td>\n",
       "    </tr>\n",
       "    <tr>\n",
       "      <th>5</th>\n",
       "      <td>NaN</td>\n",
       "      <td>NaN</td>\n",
       "      <td>NaN</td>\n",
       "      <td>NaN</td>\n",
       "      <td>NaN</td>\n",
       "      <td>NaN</td>\n",
       "      <td>NaN</td>\n",
       "      <td>NaN</td>\n",
       "      <td>NaN</td>\n",
       "    </tr>\n",
       "  </tbody>\n",
       "</table>\n",
       "</div>"
      ],
      "text/plain": [
       "   Колонка 1  Колонка 2  Колонка 3   0   1   2   3   4   5\n",
       "0        NaN        NaN        NaN NaN NaN NaN NaN NaN NaN\n",
       "1        NaN        NaN        NaN NaN NaN NaN NaN NaN NaN\n",
       "2        NaN        NaN        NaN NaN NaN NaN NaN NaN NaN\n",
       "3        NaN        NaN        NaN NaN NaN NaN NaN NaN NaN\n",
       "4        NaN        NaN        NaN NaN NaN NaN NaN NaN NaN\n",
       "5        NaN        NaN        NaN NaN NaN NaN NaN NaN NaN"
      ]
     },
     "execution_count": 50,
     "metadata": {},
     "output_type": "execute_result"
    }
   ],
   "source": [
    "df.iloc[:, :3] + df['Колонка 1']"
   ]
  },
  {
   "cell_type": "code",
   "execution_count": 51,
   "id": "83518317",
   "metadata": {},
   "outputs": [
    {
     "data": {
      "text/plain": [
       "array([[1],\n",
       "       [2],\n",
       "       [3],\n",
       "       [4],\n",
       "       [5],\n",
       "       [6]])"
      ]
     },
     "execution_count": 51,
     "metadata": {},
     "output_type": "execute_result"
    }
   ],
   "source": [
    "df['Колонка 1'].to_numpy().reshape(-1, 1)"
   ]
  },
  {
   "cell_type": "code",
   "execution_count": 52,
   "id": "1f018209",
   "metadata": {},
   "outputs": [
    {
     "data": {
      "text/html": [
       "<div>\n",
       "<style scoped>\n",
       "    .dataframe tbody tr th:only-of-type {\n",
       "        vertical-align: middle;\n",
       "    }\n",
       "\n",
       "    .dataframe tbody tr th {\n",
       "        vertical-align: top;\n",
       "    }\n",
       "\n",
       "    .dataframe thead th {\n",
       "        text-align: right;\n",
       "    }\n",
       "</style>\n",
       "<table border=\"1\" class=\"dataframe\">\n",
       "  <thead>\n",
       "    <tr style=\"text-align: right;\">\n",
       "      <th></th>\n",
       "      <th>Колонка 1</th>\n",
       "      <th>Колонка 2</th>\n",
       "      <th>Колонка 3</th>\n",
       "    </tr>\n",
       "  </thead>\n",
       "  <tbody>\n",
       "    <tr>\n",
       "      <th>0</th>\n",
       "      <td>2</td>\n",
       "      <td>7</td>\n",
       "      <td>NaN</td>\n",
       "    </tr>\n",
       "    <tr>\n",
       "      <th>1</th>\n",
       "      <td>4</td>\n",
       "      <td>7</td>\n",
       "      <td>5.0</td>\n",
       "    </tr>\n",
       "    <tr>\n",
       "      <th>2</th>\n",
       "      <td>6</td>\n",
       "      <td>7</td>\n",
       "      <td>8.0</td>\n",
       "    </tr>\n",
       "    <tr>\n",
       "      <th>3</th>\n",
       "      <td>8</td>\n",
       "      <td>7</td>\n",
       "      <td>4.0</td>\n",
       "    </tr>\n",
       "    <tr>\n",
       "      <th>4</th>\n",
       "      <td>10</td>\n",
       "      <td>7</td>\n",
       "      <td>14.0</td>\n",
       "    </tr>\n",
       "    <tr>\n",
       "      <th>5</th>\n",
       "      <td>12</td>\n",
       "      <td>7</td>\n",
       "      <td>17.0</td>\n",
       "    </tr>\n",
       "  </tbody>\n",
       "</table>\n",
       "</div>"
      ],
      "text/plain": [
       "   Колонка 1  Колонка 2  Колонка 3\n",
       "0          2          7        NaN\n",
       "1          4          7        5.0\n",
       "2          6          7        8.0\n",
       "3          8          7        4.0\n",
       "4         10          7       14.0\n",
       "5         12          7       17.0"
      ]
     },
     "execution_count": 52,
     "metadata": {},
     "output_type": "execute_result"
    }
   ],
   "source": [
    "df.iloc[:, :3] + df['Колонка 1'].to_numpy().reshape(-1, 1)"
   ]
  },
  {
   "cell_type": "code",
   "execution_count": null,
   "id": "ac586f3f",
   "metadata": {},
   "outputs": [],
   "source": []
  },
  {
   "cell_type": "code",
   "execution_count": null,
   "id": "aec79566",
   "metadata": {},
   "outputs": [],
   "source": []
  },
  {
   "cell_type": "code",
   "execution_count": null,
   "id": "ccd73dbe",
   "metadata": {},
   "outputs": [],
   "source": []
  },
  {
   "cell_type": "code",
   "execution_count": null,
   "id": "2b24c7b9",
   "metadata": {},
   "outputs": [],
   "source": []
  },
  {
   "cell_type": "code",
   "execution_count": null,
   "id": "4740024f",
   "metadata": {},
   "outputs": [],
   "source": []
  },
  {
   "cell_type": "code",
   "execution_count": null,
   "id": "2759e45a",
   "metadata": {},
   "outputs": [],
   "source": []
  },
  {
   "cell_type": "code",
   "execution_count": null,
   "id": "86930f45",
   "metadata": {},
   "outputs": [],
   "source": []
  },
  {
   "cell_type": "code",
   "execution_count": null,
   "id": "d2ead4cb",
   "metadata": {},
   "outputs": [],
   "source": []
  },
  {
   "cell_type": "code",
   "execution_count": null,
   "id": "e63d52bf",
   "metadata": {},
   "outputs": [],
   "source": []
  },
  {
   "cell_type": "markdown",
   "id": "a1906d90",
   "metadata": {},
   "source": [
    "# Операции с векторами и матрицами"
   ]
  },
  {
   "cell_type": "markdown",
   "id": "efc9da46",
   "metadata": {},
   "source": [
    "Создаем 2 матрицы и вектор"
   ]
  },
  {
   "cell_type": "code",
   "execution_count": 53,
   "id": "89c5e851",
   "metadata": {},
   "outputs": [
    {
     "data": {
      "text/plain": [
       "array([[ 0,  1,  2,  3],\n",
       "       [ 4,  5,  6,  7],\n",
       "       [ 8,  9, 10, 11],\n",
       "       [12, 13, 14, 15],\n",
       "       [16, 17, 18, 19],\n",
       "       [20, 21, 22, 23]])"
      ]
     },
     "execution_count": 53,
     "metadata": {},
     "output_type": "execute_result"
    }
   ],
   "source": [
    "np.random.seed(32)\n",
    "matrix_1 = np.arange(24).reshape(6, -1)\n",
    "matrix_1"
   ]
  },
  {
   "cell_type": "code",
   "execution_count": 109,
   "id": "44fc1ac1",
   "metadata": {},
   "outputs": [
    {
     "data": {
      "text/plain": [
       "array([[1., 1., 1., 1.],\n",
       "       [1., 1., 1., 1.],\n",
       "       [1., 1., 1., 1.],\n",
       "       [1., 1., 1., 1.],\n",
       "       [1., 1., 1., 1.],\n",
       "       [1., 1., 1., 1.],\n",
       "       [1., 1., 1., 1.]])"
      ]
     },
     "execution_count": 109,
     "metadata": {},
     "output_type": "execute_result"
    }
   ],
   "source": [
    "np.ones(28).reshape(7, -1)"
   ]
  },
  {
   "cell_type": "code",
   "execution_count": 111,
   "id": "2e7f4f12",
   "metadata": {},
   "outputs": [
    {
     "data": {
      "text/plain": [
       "array([[1., 0., 0., 0., 0., 0., 0., 0.],\n",
       "       [0., 1., 0., 0., 0., 0., 0., 0.],\n",
       "       [0., 0., 1., 0., 0., 0., 0., 0.],\n",
       "       [0., 0., 0., 1., 0., 0., 0., 0.],\n",
       "       [0., 0., 0., 0., 1., 0., 0., 0.],\n",
       "       [0., 0., 0., 0., 0., 1., 0., 0.],\n",
       "       [0., 0., 0., 0., 0., 0., 1., 0.],\n",
       "       [0., 0., 0., 0., 0., 0., 0., 1.]])"
      ]
     },
     "execution_count": 111,
     "metadata": {},
     "output_type": "execute_result"
    }
   ],
   "source": [
    "np.eye(8)"
   ]
  },
  {
   "cell_type": "code",
   "execution_count": 54,
   "id": "87cb3200",
   "metadata": {},
   "outputs": [
    {
     "data": {
      "text/plain": [
       "array([[7, 5, 6, 8, 3, 7],\n",
       "       [9, 3, 5, 9, 4, 1],\n",
       "       [3, 1, 2, 3, 8, 2],\n",
       "       [4, 2, 4, 4, 9, 5]])"
      ]
     },
     "execution_count": 54,
     "metadata": {},
     "output_type": "execute_result"
    }
   ],
   "source": [
    "np.random.seed(32)\n",
    "matrix_2 = np.random.randint(10, size=(4, 6))\n",
    "matrix_2"
   ]
  },
  {
   "cell_type": "code",
   "execution_count": 55,
   "id": "6ac32cc3",
   "metadata": {},
   "outputs": [
    {
     "data": {
      "text/plain": [
       "array([0, 1, 2, 3])"
      ]
     },
     "execution_count": 55,
     "metadata": {},
     "output_type": "execute_result"
    }
   ],
   "source": [
    "vector = np.arange(4)\n",
    "vector"
   ]
  },
  {
   "cell_type": "markdown",
   "id": "8f75d08f",
   "metadata": {},
   "source": [
    "Все операции определены так же, как и у DataFrame и Series"
   ]
  },
  {
   "cell_type": "code",
   "execution_count": 56,
   "id": "54aba467",
   "metadata": {},
   "outputs": [
    {
     "data": {
      "text/plain": [
       "array([[ 0,  2,  4,  6],\n",
       "       [ 8, 10, 12, 14],\n",
       "       [16, 18, 20, 22],\n",
       "       [24, 26, 28, 30],\n",
       "       [32, 34, 36, 38],\n",
       "       [40, 42, 44, 46]])"
      ]
     },
     "execution_count": 56,
     "metadata": {},
     "output_type": "execute_result"
    }
   ],
   "source": [
    "matrix_1 * 2"
   ]
  },
  {
   "cell_type": "code",
   "execution_count": 57,
   "id": "78a7bce6",
   "metadata": {},
   "outputs": [
    {
     "data": {
      "text/plain": [
       "array([10, 11, 12, 13])"
      ]
     },
     "execution_count": 57,
     "metadata": {},
     "output_type": "execute_result"
    }
   ],
   "source": [
    "vector + 10"
   ]
  },
  {
   "cell_type": "code",
   "execution_count": 58,
   "id": "d915d52a",
   "metadata": {},
   "outputs": [
    {
     "data": {
      "text/plain": [
       "array([[ 7, 10,  5,  7],\n",
       "       [ 9,  8,  7,  9],\n",
       "       [14, 14, 12, 15],\n",
       "       [20, 22, 17, 19],\n",
       "       [19, 21, 26, 28],\n",
       "       [27, 22, 24, 28]])"
      ]
     },
     "execution_count": 58,
     "metadata": {},
     "output_type": "execute_result"
    }
   ],
   "source": [
    "matrix_1 + matrix_2.T"
   ]
  },
  {
   "cell_type": "code",
   "execution_count": 59,
   "id": "5b5b9b4a",
   "metadata": {},
   "outputs": [
    {
     "data": {
      "text/plain": [
       "array([[ 0,  2,  4,  6],\n",
       "       [ 4,  6,  8, 10],\n",
       "       [ 8, 10, 12, 14],\n",
       "       [12, 14, 16, 18],\n",
       "       [16, 18, 20, 22],\n",
       "       [20, 22, 24, 26]])"
      ]
     },
     "execution_count": 59,
     "metadata": {},
     "output_type": "execute_result"
    }
   ],
   "source": [
    "matrix_1 + vector"
   ]
  },
  {
   "cell_type": "code",
   "execution_count": 60,
   "id": "37412363",
   "metadata": {},
   "outputs": [
    {
     "data": {
      "text/plain": [
       "array([[ 7,  5,  6,  8,  3,  7],\n",
       "       [10,  4,  6, 10,  5,  2],\n",
       "       [ 5,  3,  4,  5, 10,  4],\n",
       "       [ 7,  5,  7,  7, 12,  8]])"
      ]
     },
     "execution_count": 60,
     "metadata": {},
     "output_type": "execute_result"
    }
   ],
   "source": [
    "matrix_2 + vector.reshape(-1, 1)"
   ]
  },
  {
   "cell_type": "code",
   "execution_count": 61,
   "id": "37f29a24",
   "metadata": {},
   "outputs": [
    {
     "data": {
      "text/plain": [
       "array([[ 7,  5,  6,  8,  3,  7],\n",
       "       [10,  4,  6, 10,  5,  2],\n",
       "       [ 5,  3,  4,  5, 10,  4],\n",
       "       [ 7,  5,  7,  7, 12,  8]])"
      ]
     },
     "execution_count": 61,
     "metadata": {},
     "output_type": "execute_result"
    }
   ],
   "source": [
    "(matrix_2.T + vector).T"
   ]
  },
  {
   "cell_type": "markdown",
   "id": "a189c563",
   "metadata": {},
   "source": [
    "### Скалярное произведение"
   ]
  },
  {
   "cell_type": "code",
   "execution_count": 62,
   "id": "abc7f8ef",
   "metadata": {},
   "outputs": [
    {
     "data": {
      "text/plain": [
       "44"
      ]
     },
     "execution_count": 62,
     "metadata": {},
     "output_type": "execute_result"
    }
   ],
   "source": [
    "vector @ np.arange(5, 9)"
   ]
  },
  {
   "cell_type": "code",
   "execution_count": 112,
   "id": "32dc9b72",
   "metadata": {},
   "outputs": [
    {
     "data": {
      "text/plain": [
       "array([5, 6, 7, 8])"
      ]
     },
     "execution_count": 112,
     "metadata": {},
     "output_type": "execute_result"
    }
   ],
   "source": [
    "np.arange(5, 9)"
   ]
  },
  {
   "cell_type": "code",
   "execution_count": 63,
   "id": "a3d99e98",
   "metadata": {},
   "outputs": [
    {
     "name": "stdout",
     "output_type": "stream",
     "text": [
      "[0 1 2 3]\n",
      "[5 6 7 8]\n",
      "---------\n",
      "[ 0  6 14 24]\n",
      "44\n"
     ]
    }
   ],
   "source": [
    "print(vector)\n",
    "print(np.arange(5, 9))\n",
    "print('---------')\n",
    "print(vector * np.arange(5, 9))\n",
    "print((vector * np.arange(5, 9)).sum())"
   ]
  },
  {
   "cell_type": "markdown",
   "id": "18d96da6",
   "metadata": {},
   "source": [
    "#### Матричное умнжение"
   ]
  },
  {
   "attachments": {
    "image.png": {
     "image/png": "[encoded data removed]"
    }
   },
   "cell_type": "markdown",
   "id": "1e2bbccc",
   "metadata": {},
   "source": [
    "![image.png](attachment:image.png)"
   ]
  },
  {
   "cell_type": "code",
   "execution_count": 64,
   "id": "2d83634e",
   "metadata": {},
   "outputs": [
    {
     "data": {
      "text/plain": [
       "array([[ 27,  11,  21,  27,  47,  20],\n",
       "       [119,  55,  89, 123, 143,  80],\n",
       "       [211,  99, 157, 219, 239, 140],\n",
       "       [303, 143, 225, 315, 335, 200],\n",
       "       [395, 187, 293, 411, 431, 260],\n",
       "       [487, 231, 361, 507, 527, 320]])"
      ]
     },
     "execution_count": 64,
     "metadata": {},
     "output_type": "execute_result"
    }
   ],
   "source": [
    "matrix_1 @ matrix_2"
   ]
  },
  {
   "cell_type": "code",
   "execution_count": 65,
   "id": "e56ade8c",
   "metadata": {},
   "outputs": [
    {
     "data": {
      "text/plain": [
       "array([[ 0,  1,  2,  3],\n",
       "       [ 4,  5,  6,  7],\n",
       "       [ 8,  9, 10, 11],\n",
       "       [12, 13, 14, 15],\n",
       "       [16, 17, 18, 19],\n",
       "       [20, 21, 22, 23]])"
      ]
     },
     "execution_count": 65,
     "metadata": {},
     "output_type": "execute_result"
    }
   ],
   "source": [
    "matrix_1"
   ]
  },
  {
   "cell_type": "code",
   "execution_count": 66,
   "id": "0472fd97",
   "metadata": {},
   "outputs": [
    {
     "data": {
      "text/plain": [
       "array([[7, 5, 6, 8, 3, 7],\n",
       "       [9, 3, 5, 9, 4, 1],\n",
       "       [3, 1, 2, 3, 8, 2],\n",
       "       [4, 2, 4, 4, 9, 5]])"
      ]
     },
     "execution_count": 66,
     "metadata": {},
     "output_type": "execute_result"
    }
   ],
   "source": [
    "matrix_2"
   ]
  },
  {
   "cell_type": "code",
   "execution_count": 67,
   "id": "6269578d",
   "metadata": {},
   "outputs": [
    {
     "data": {
      "text/plain": [
       "array([[352, 388, 424, 460],\n",
       "       [244, 275, 306, 337],\n",
       "       [224, 243, 262, 281],\n",
       "       [332, 360, 388, 416]])"
      ]
     },
     "execution_count": 67,
     "metadata": {},
     "output_type": "execute_result"
    }
   ],
   "source": [
    "matrix_2 @ matrix_1"
   ]
  },
  {
   "cell_type": "code",
   "execution_count": 68,
   "id": "415ab4f5",
   "metadata": {},
   "outputs": [
    {
     "data": {
      "text/plain": [
       "array([[ 27,  11,  21,  27,  47,  20],\n",
       "       [119,  55,  89, 123, 143,  80],\n",
       "       [211,  99, 157, 219, 239, 140],\n",
       "       [303, 143, 225, 315, 335, 200],\n",
       "       [395, 187, 293, 411, 431, 260],\n",
       "       [487, 231, 361, 507, 527, 320]])"
      ]
     },
     "execution_count": 68,
     "metadata": {},
     "output_type": "execute_result"
    }
   ],
   "source": [
    "matrix_1.dot(matrix_2)"
   ]
  },
  {
   "cell_type": "code",
   "execution_count": null,
   "id": "e01e7ddd",
   "metadata": {},
   "outputs": [],
   "source": []
  },
  {
   "cell_type": "code",
   "execution_count": null,
   "id": "84dbaa68",
   "metadata": {},
   "outputs": [],
   "source": []
  },
  {
   "cell_type": "code",
   "execution_count": null,
   "id": "01778cce",
   "metadata": {},
   "outputs": [],
   "source": []
  },
  {
   "cell_type": "markdown",
   "id": "68187511",
   "metadata": {},
   "source": [
    "### Операциями с векторами разных размеров"
   ]
  },
  {
   "cell_type": "code",
   "execution_count": 69,
   "id": "cb666392",
   "metadata": {},
   "outputs": [
    {
     "data": {
      "text/plain": [
       "array([[1],\n",
       "       [2],\n",
       "       [3],\n",
       "       [4],\n",
       "       [5],\n",
       "       [6],\n",
       "       [7],\n",
       "       [8],\n",
       "       [9]])"
      ]
     },
     "execution_count": 69,
     "metadata": {},
     "output_type": "execute_result"
    }
   ],
   "source": [
    "vector_1 = np.arange(1, 10).reshape(-1, 1)\n",
    "vector_1"
   ]
  },
  {
   "cell_type": "code",
   "execution_count": 70,
   "id": "3570f0bc",
   "metadata": {},
   "outputs": [
    {
     "data": {
      "text/plain": [
       "array([1, 2, 3, 4, 5, 6])"
      ]
     },
     "execution_count": 70,
     "metadata": {},
     "output_type": "execute_result"
    }
   ],
   "source": [
    "vector_2 = np.arange(1, 7)\n",
    "vector_2"
   ]
  },
  {
   "cell_type": "code",
   "execution_count": 71,
   "id": "4df19592",
   "metadata": {},
   "outputs": [
    {
     "data": {
      "text/plain": [
       "array([[ 1,  2,  3,  4,  5,  6],\n",
       "       [ 2,  4,  6,  8, 10, 12],\n",
       "       [ 3,  6,  9, 12, 15, 18],\n",
       "       [ 4,  8, 12, 16, 20, 24],\n",
       "       [ 5, 10, 15, 20, 25, 30],\n",
       "       [ 6, 12, 18, 24, 30, 36],\n",
       "       [ 7, 14, 21, 28, 35, 42],\n",
       "       [ 8, 16, 24, 32, 40, 48],\n",
       "       [ 9, 18, 27, 36, 45, 54]])"
      ]
     },
     "execution_count": 71,
     "metadata": {},
     "output_type": "execute_result"
    }
   ],
   "source": [
    "vector_1 * vector_2"
   ]
  },
  {
   "cell_type": "code",
   "execution_count": 72,
   "id": "97ba5162",
   "metadata": {},
   "outputs": [
    {
     "data": {
      "text/plain": [
       "array([[ 1,  2,  3,  4,  5,  6],\n",
       "       [ 2,  4,  6,  8, 10, 12],\n",
       "       [ 3,  6,  9, 12, 15, 18],\n",
       "       [ 4,  8, 12, 16, 20, 24],\n",
       "       [ 5, 10, 15, 20, 25, 30],\n",
       "       [ 6, 12, 18, 24, 30, 36],\n",
       "       [ 7, 14, 21, 28, 35, 42],\n",
       "       [ 8, 16, 24, 32, 40, 48],\n",
       "       [ 9, 18, 27, 36, 45, 54]])"
      ]
     },
     "execution_count": 72,
     "metadata": {},
     "output_type": "execute_result"
    }
   ],
   "source": [
    "vector_1 @ vector_2.reshape(1, -1)"
   ]
  },
  {
   "cell_type": "code",
   "execution_count": 73,
   "id": "13eae8f1",
   "metadata": {},
   "outputs": [
    {
     "data": {
      "text/plain": [
       "array([[ 1,  2,  3,  4,  5,  6],\n",
       "       [ 2,  4,  6,  8, 10, 12],\n",
       "       [ 3,  6,  9, 12, 15, 18],\n",
       "       [ 4,  8, 12, 16, 20, 24],\n",
       "       [ 5, 10, 15, 20, 25, 30],\n",
       "       [ 6, 12, 18, 24, 30, 36],\n",
       "       [ 7, 14, 21, 28, 35, 42],\n",
       "       [ 8, 16, 24, 32, 40, 48],\n",
       "       [ 9, 18, 27, 36, 45, 54]])"
      ]
     },
     "execution_count": 73,
     "metadata": {},
     "output_type": "execute_result"
    }
   ],
   "source": [
    "vector_1 @ vector_2[None, ...]"
   ]
  },
  {
   "cell_type": "code",
   "execution_count": null,
   "id": "c3a7ce7a",
   "metadata": {},
   "outputs": [],
   "source": []
  },
  {
   "cell_type": "markdown",
   "id": "6948a6b5",
   "metadata": {},
   "source": [
    "### Многомерные операции"
   ]
  },
  {
   "cell_type": "code",
   "execution_count": 115,
   "id": "84c6c883",
   "metadata": {},
   "outputs": [
    {
     "data": {
      "text/plain": [
       "array([[[6, 3, 7, 4],\n",
       "        [6, 9, 2, 6],\n",
       "        [7, 4, 3, 7],\n",
       "        [7, 2, 5, 4],\n",
       "        [1, 7, 5, 1]],\n",
       "\n",
       "       [[4, 0, 9, 5],\n",
       "        [8, 0, 9, 2],\n",
       "        [6, 3, 8, 2],\n",
       "        [4, 2, 6, 4],\n",
       "        [8, 6, 1, 3]]])"
      ]
     },
     "execution_count": 115,
     "metadata": {},
     "output_type": "execute_result"
    }
   ],
   "source": [
    "np.random.seed(42)\n",
    "tenzor = np.random.randint(10, size=(2, 5, 4))\n",
    "np.random.seed(4223)\n",
    "matrix = np.random.randint(10, size=(4, 5))\n",
    "tenzor"
   ]
  },
  {
   "cell_type": "code",
   "execution_count": 75,
   "id": "5eeacc7b",
   "metadata": {},
   "outputs": [
    {
     "data": {
      "text/plain": [
       "array([[3, 7, 2, 0],\n",
       "       [2, 4, 3, 3],\n",
       "       [8, 0, 2, 5],\n",
       "       [1, 8, 4, 8]])"
      ]
     },
     "execution_count": 75,
     "metadata": {},
     "output_type": "execute_result"
    }
   ],
   "source": [
    "matrix"
   ]
  },
  {
   "cell_type": "code",
   "execution_count": 76,
   "id": "c801655e",
   "metadata": {},
   "outputs": [
    {
     "data": {
      "text/plain": [
       "(2, 4, 4)"
      ]
     },
     "execution_count": 76,
     "metadata": {},
     "output_type": "execute_result"
    }
   ],
   "source": [
    "tenzor.shape"
   ]
  },
  {
   "cell_type": "code",
   "execution_count": 77,
   "id": "b45a473c",
   "metadata": {},
   "outputs": [
    {
     "data": {
      "text/plain": [
       "array([[6, 3, 7, 4],\n",
       "       [6, 9, 2, 6],\n",
       "       [7, 4, 3, 7],\n",
       "       [7, 2, 5, 4]])"
      ]
     },
     "execution_count": 77,
     "metadata": {},
     "output_type": "execute_result"
    }
   ],
   "source": [
    "tenzor[0]"
   ]
  },
  {
   "cell_type": "code",
   "execution_count": 78,
   "id": "9ba12764",
   "metadata": {},
   "outputs": [
    {
     "data": {
      "text/plain": [
       "array([[1, 7, 5, 1],\n",
       "       [4, 0, 9, 5],\n",
       "       [8, 0, 9, 2],\n",
       "       [6, 3, 8, 2]])"
      ]
     },
     "execution_count": 78,
     "metadata": {},
     "output_type": "execute_result"
    }
   ],
   "source": [
    "tenzor[1]"
   ]
  },
  {
   "cell_type": "code",
   "execution_count": 116,
   "id": "feceb9a3",
   "metadata": {},
   "outputs": [
    {
     "data": {
      "text/plain": [
       "array([[[ 76,  94,  51,  70],\n",
       "        [119,  67,  83,  87],\n",
       "        [109,  99,  87,  81],\n",
       "        [157, 160, 153, 123]],\n",
       "\n",
       "       [[ 96,  18, 108,  39],\n",
       "        [ 90,  25, 135,  64],\n",
       "        [118,  43, 123,  66],\n",
       "        [192,  78, 194, 109]]])"
      ]
     },
     "execution_count": 116,
     "metadata": {},
     "output_type": "execute_result"
    }
   ],
   "source": [
    "matrix @ tenzor"
   ]
  },
  {
   "cell_type": "code",
   "execution_count": 80,
   "id": "bfc86dc4",
   "metadata": {},
   "outputs": [
    {
     "data": {
      "text/plain": [
       "array([[ 74,  80,  41,  68],\n",
       "       [ 78,  60,  46,  65],\n",
       "       [ 97,  42,  87,  66],\n",
       "       [138, 107,  75, 112]])"
      ]
     },
     "execution_count": 80,
     "metadata": {},
     "output_type": "execute_result"
    }
   ],
   "source": [
    "matrix @ tenzor[0]"
   ]
  },
  {
   "cell_type": "code",
   "execution_count": 81,
   "id": "a995bdd5",
   "metadata": {},
   "outputs": [
    {
     "data": {
      "text/plain": [
       "array([[ 47,  21,  96,  42],\n",
       "       [ 60,  23,  97,  34],\n",
       "       [ 54,  71,  98,  22],\n",
       "       [113,  31, 177,  65]])"
      ]
     },
     "execution_count": 81,
     "metadata": {},
     "output_type": "execute_result"
    }
   ],
   "source": [
    "matrix @ tenzor[1]"
   ]
  },
  {
   "cell_type": "code",
   "execution_count": 82,
   "id": "87455a7a",
   "metadata": {},
   "outputs": [
    {
     "data": {
      "text/plain": [
       "array([[[131,  81,  89, 107],\n",
       "        [146, 119,  96, 116],\n",
       "        [136,  83, 101, 101],\n",
       "        [117,  67,  88,  91]],\n",
       "\n",
       "       [[ 75,  10, 121,  48],\n",
       "        [106,  43, 141,  32],\n",
       "        [ 92,  62, 137,  30],\n",
       "        [ 94,  48, 145,  41]]])"
      ]
     },
     "execution_count": 82,
     "metadata": {},
     "output_type": "execute_result"
    }
   ],
   "source": [
    "tenzor @ tenzor"
   ]
  },
  {
   "cell_type": "code",
   "execution_count": 83,
   "id": "6f1823db",
   "metadata": {},
   "outputs": [
    {
     "data": {
      "text/plain": [
       "array([[131,  81,  89, 107],\n",
       "       [146, 119,  96, 116],\n",
       "       [136,  83, 101, 101],\n",
       "       [117,  67,  88,  91]])"
      ]
     },
     "execution_count": 83,
     "metadata": {},
     "output_type": "execute_result"
    }
   ],
   "source": [
    "tenzor[0] @ tenzor[0]"
   ]
  },
  {
   "cell_type": "markdown",
   "id": "59837ccf",
   "metadata": {},
   "source": [
    "Это работает не только с матричным умножением, но и с другими операциями"
   ]
  },
  {
   "cell_type": "code",
   "execution_count": 84,
   "id": "ee05add1",
   "metadata": {},
   "outputs": [
    {
     "data": {
      "text/plain": [
       "array([[[36,  9, 49, 16],\n",
       "        [36, 81,  4, 36],\n",
       "        [49, 16,  9, 49],\n",
       "        [49,  4, 25, 16]],\n",
       "\n",
       "       [[ 6, 21, 35,  4],\n",
       "        [24,  0, 18, 30],\n",
       "        [56,  0, 27, 14],\n",
       "        [42,  6, 40,  8]]])"
      ]
     },
     "execution_count": 84,
     "metadata": {},
     "output_type": "execute_result"
    }
   ],
   "source": [
    "tenzor * tenzor[0]"
   ]
  },
  {
   "cell_type": "code",
   "execution_count": null,
   "id": "2b1f9a03",
   "metadata": {},
   "outputs": [],
   "source": []
  },
  {
   "cell_type": "code",
   "execution_count": null,
   "id": "ee46a7fb",
   "metadata": {},
   "outputs": [],
   "source": []
  },
  {
   "cell_type": "code",
   "execution_count": null,
   "id": "2ec2931d",
   "metadata": {},
   "outputs": [],
   "source": []
  },
  {
   "cell_type": "code",
   "execution_count": null,
   "id": "7a0e11b8",
   "metadata": {},
   "outputs": [],
   "source": []
  },
  {
   "cell_type": "code",
   "execution_count": null,
   "id": "858627ef",
   "metadata": {},
   "outputs": [],
   "source": []
  },
  {
   "cell_type": "code",
   "execution_count": null,
   "id": "df325bcc",
   "metadata": {},
   "outputs": [],
   "source": []
  },
  {
   "cell_type": "code",
   "execution_count": null,
   "id": "8dff4889",
   "metadata": {},
   "outputs": [],
   "source": []
  },
  {
   "cell_type": "code",
   "execution_count": null,
   "id": "22372f9a",
   "metadata": {},
   "outputs": [],
   "source": []
  },
  {
   "cell_type": "code",
   "execution_count": null,
   "id": "5d2c3fbf",
   "metadata": {},
   "outputs": [],
   "source": []
  },
  {
   "cell_type": "markdown",
   "id": "84b02bf6",
   "metadata": {},
   "source": [
    "# Задания"
   ]
  },
  {
   "cell_type": "markdown",
   "id": "f503808b",
   "metadata": {},
   "source": [
    "#### Описание таблиц лежит [здесь](https://github.com/victorlymarev/pandas/tree/main/tables#%D0%BE%D0%BF%D0%B8%D1%81%D0%B0%D0%BD%D0%B8%D0%B5-%D1%82%D0%B0%D0%B1%D0%BB%D0%B8%D1%86)"
   ]
  },
  {
   "cell_type": "markdown",
   "id": "aa178744",
   "metadata": {},
   "source": [
    "Некоторые таблицы занимают много памяти, поэтому каждые 5-10 заданий лучше перезапускайте ноутбук.\n",
    "\n",
    "В формулировке некоторых заданий может содержаться вариативность. Если у вас есть сомнения, что требуется в задании, попробуйте решить несколько вариантов. Если вы не понимаете задание, можете написать об этом в комментариях под видео.\n",
    "\n",
    "В большинстве случаев внешний вид итоговой таблицы не определен. Выведите на экран наиболее адекватный вариант. То есть таблицу, из которой можно будет сделать выводы.\n",
    "\n",
    "Курс пока находится в разработке. Вы можете помочь другим людям добавив свое решение [сюда](https://docs.google.com/forms/d/1HYTBz_KfssY3Jps2dC3n0YnEqa6WBb5OIhLo1d32Xzw/edit).\n",
    "\n",
    "Посмотреть решения других людей можно [здесь](https://docs.google.com/spreadsheets/d/1pMDYO-9UneLbPPnEuQ2shig0TOJdQTU-zipifyAnZMk/edit?resourcekey#gid=1998648012)"
   ]
  },
  {
   "cell_type": "markdown",
   "id": "4c531203",
   "metadata": {},
   "source": [
    "### Задание 1\n",
    "\n",
    "Перемножьте колонки price (цена) и goods_number (количество товара в чеке). Назавите колонку sum_price"
   ]
  },
  {
   "cell_type": "code",
   "execution_count": 85,
   "id": "5d0286e3",
   "metadata": {},
   "outputs": [
    {
     "data": {
      "text/html": [
       "<div>\n",
       "<style scoped>\n",
       "    .dataframe tbody tr th:only-of-type {\n",
       "        vertical-align: middle;\n",
       "    }\n",
       "\n",
       "    .dataframe tbody tr th {\n",
       "        vertical-align: top;\n",
       "    }\n",
       "\n",
       "    .dataframe thead th {\n",
       "        text-align: right;\n",
       "    }\n",
       "</style>\n",
       "<table border=\"1\" class=\"dataframe\">\n",
       "  <thead>\n",
       "    <tr style=\"text-align: right;\">\n",
       "      <th></th>\n",
       "      <th>check_id</th>\n",
       "      <th>customer_id</th>\n",
       "      <th>purchase_date</th>\n",
       "      <th>shop_id</th>\n",
       "      <th>product_code_1</th>\n",
       "      <th>product_code_2</th>\n",
       "      <th>product_code_3</th>\n",
       "      <th>cashier</th>\n",
       "      <th>shop_assistant</th>\n",
       "      <th>price</th>\n",
       "      <th>goods_number</th>\n",
       "    </tr>\n",
       "  </thead>\n",
       "  <tbody>\n",
       "    <tr>\n",
       "      <th>0</th>\n",
       "      <td>5018720</td>\n",
       "      <td>397529</td>\n",
       "      <td>2022-01-01 10:00:10</td>\n",
       "      <td>23</td>\n",
       "      <td>5296</td>\n",
       "      <td>203797948</td>\n",
       "      <td>203797952</td>\n",
       "      <td>1400</td>\n",
       "      <td>1261</td>\n",
       "      <td>1199.9</td>\n",
       "      <td>1</td>\n",
       "    </tr>\n",
       "    <tr>\n",
       "      <th>1</th>\n",
       "      <td>5018720</td>\n",
       "      <td>397529</td>\n",
       "      <td>2022-01-01 10:00:10</td>\n",
       "      <td>23</td>\n",
       "      <td>3469</td>\n",
       "      <td>204154277</td>\n",
       "      <td>204154280</td>\n",
       "      <td>1400</td>\n",
       "      <td>1261</td>\n",
       "      <td>2299.9</td>\n",
       "      <td>1</td>\n",
       "    </tr>\n",
       "    <tr>\n",
       "      <th>2</th>\n",
       "      <td>5018721</td>\n",
       "      <td>398014</td>\n",
       "      <td>2022-01-01 10:00:12</td>\n",
       "      <td>22</td>\n",
       "      <td>7195</td>\n",
       "      <td>203131402</td>\n",
       "      <td>203131442</td>\n",
       "      <td>1421</td>\n",
       "      <td>1224</td>\n",
       "      <td>4720.0</td>\n",
       "      <td>1</td>\n",
       "    </tr>\n",
       "    <tr>\n",
       "      <th>3</th>\n",
       "      <td>5018721</td>\n",
       "      <td>398014</td>\n",
       "      <td>2022-01-01 10:00:12</td>\n",
       "      <td>22</td>\n",
       "      <td>7195</td>\n",
       "      <td>203131375</td>\n",
       "      <td>203131509</td>\n",
       "      <td>1421</td>\n",
       "      <td>1224</td>\n",
       "      <td>5899.9</td>\n",
       "      <td>1</td>\n",
       "    </tr>\n",
       "    <tr>\n",
       "      <th>4</th>\n",
       "      <td>5018722</td>\n",
       "      <td>118702</td>\n",
       "      <td>2022-01-01 10:00:41</td>\n",
       "      <td>8</td>\n",
       "      <td>6227</td>\n",
       "      <td>203635921</td>\n",
       "      <td>203635948</td>\n",
       "      <td>298</td>\n",
       "      <td>1462</td>\n",
       "      <td>8999.9</td>\n",
       "      <td>1</td>\n",
       "    </tr>\n",
       "  </tbody>\n",
       "</table>\n",
       "</div>"
      ],
      "text/plain": [
       "   check_id  customer_id       purchase_date  shop_id  product_code_1  \\\n",
       "0   5018720       397529 2022-01-01 10:00:10       23            5296   \n",
       "1   5018720       397529 2022-01-01 10:00:10       23            3469   \n",
       "2   5018721       398014 2022-01-01 10:00:12       22            7195   \n",
       "3   5018721       398014 2022-01-01 10:00:12       22            7195   \n",
       "4   5018722       118702 2022-01-01 10:00:41        8            6227   \n",
       "\n",
       "   product_code_2  product_code_3  cashier  shop_assistant   price  \\\n",
       "0       203797948       203797952     1400            1261  1199.9   \n",
       "1       204154277       204154280     1400            1261  2299.9   \n",
       "2       203131402       203131442     1421            1224  4720.0   \n",
       "3       203131375       203131509     1421            1224  5899.9   \n",
       "4       203635921       203635948      298            1462  8999.9   \n",
       "\n",
       "   goods_number  \n",
       "0             1  \n",
       "1             1  \n",
       "2             1  \n",
       "3             1  \n",
       "4             1  "
      ]
     },
     "execution_count": 85,
     "metadata": {},
     "output_type": "execute_result"
    }
   ],
   "source": [
    "# таблица sales - большая, и в некоторых случаях ваш компьютер может не справиться с ее обработкой\n",
    "# поэтому лучше работайте с частью этой таблицы\n",
    "# но если вы хотите попробовать поработать с полной версией таблицы,\n",
    "# можете заменить переменную path_sales_2022 на path_sales внутри функции read_parquet\n",
    "\n",
    "import os\n",
    "import pandas as pd\n",
    "\n",
    "path_sales_2022 = '../tables/sales_2022.parquet' if os.path.exists('../tables/sales_2022.parquet') else 'https://drive.google.com/uc?id=17e7FwXVdsWc2aziK9s5KidIvPcfKt9F5'\n",
    "# path_sales = '../tables/sales.parquet' if os.path.exists('../tables/sales.parquet') else \"https://drive.usercontent.google.com/download?id=15KwSxyM6hpNABGe6_vsrFZvD09VfHFyK&export=download&authuser=1&confirm=t&uuid=115bd48c-cc2c-4f2a-8b42-be5ca6ef6db8&at=APZUnTUVb8nfNANw5wr9Cad7PJ3U:1693327774694\"\n",
    "\n",
    "sales = pd.read_parquet(path_sales_2022)\n",
    "sales.head()"
   ]
  },
  {
   "cell_type": "code",
   "execution_count": 117,
   "id": "efc68076",
   "metadata": {},
   "outputs": [
    {
     "data": {
      "text/plain": [
       "0          1199.9\n",
       "1          2299.9\n",
       "2          4720.0\n",
       "3          5899.9\n",
       "4          8999.9\n",
       "            ...  \n",
       "2435792    2999.9\n",
       "2435793    1995.0\n",
       "2435794    2880.0\n",
       "2435795    3600.0\n",
       "2435796    1499.9\n",
       "Length: 2435797, dtype: float64"
      ]
     },
     "execution_count": 117,
     "metadata": {},
     "output_type": "execute_result"
    }
   ],
   "source": [
    "sales['price'] * sales['goods_number']"
   ]
  },
  {
   "cell_type": "markdown",
   "id": "fcd706f2",
   "metadata": {},
   "source": [
    "### Задание 2\n",
    "\n",
    "Посчитайте заработную плату после вычета налога в 13%"
   ]
  },
  {
   "cell_type": "code",
   "execution_count": 87,
   "id": "17618015",
   "metadata": {},
   "outputs": [
    {
     "data": {
      "text/html": [
       "<div>\n",
       "<style scoped>\n",
       "    .dataframe tbody tr th:only-of-type {\n",
       "        vertical-align: middle;\n",
       "    }\n",
       "\n",
       "    .dataframe tbody tr th {\n",
       "        vertical-align: top;\n",
       "    }\n",
       "\n",
       "    .dataframe thead th {\n",
       "        text-align: right;\n",
       "    }\n",
       "</style>\n",
       "<table border=\"1\" class=\"dataframe\">\n",
       "  <thead>\n",
       "    <tr style=\"text-align: right;\">\n",
       "      <th></th>\n",
       "      <th>report_dt</th>\n",
       "      <th>i_pernr</th>\n",
       "      <th>fio</th>\n",
       "      <th>sex</th>\n",
       "      <th>shop_id</th>\n",
       "      <th>pos_name</th>\n",
       "      <th>pos_id</th>\n",
       "      <th>closest_boss_pos_id</th>\n",
       "      <th>mgmt_flag</th>\n",
       "      <th>salary_fork</th>\n",
       "      <th>birth_date</th>\n",
       "      <th>education</th>\n",
       "      <th>employee_evaluation</th>\n",
       "      <th>salary</th>\n",
       "    </tr>\n",
       "  </thead>\n",
       "  <tbody>\n",
       "    <tr>\n",
       "      <th>0</th>\n",
       "      <td>2015-01-31</td>\n",
       "      <td>100000</td>\n",
       "      <td>Кожевников Андрей Максимович</td>\n",
       "      <td>мужской</td>\n",
       "      <td>1</td>\n",
       "      <td>Директор магазина</td>\n",
       "      <td>11</td>\n",
       "      <td>&lt;NA&gt;</td>\n",
       "      <td>1</td>\n",
       "      <td>0</td>\n",
       "      <td>1987-03-11</td>\n",
       "      <td>высшее</td>\n",
       "      <td>5.0</td>\n",
       "      <td>45700.0</td>\n",
       "    </tr>\n",
       "    <tr>\n",
       "      <th>1</th>\n",
       "      <td>2015-01-31</td>\n",
       "      <td>0</td>\n",
       "      <td>Дубинина Надежда Николаевна</td>\n",
       "      <td>женский</td>\n",
       "      <td>1</td>\n",
       "      <td>Старший кассир</td>\n",
       "      <td>12</td>\n",
       "      <td>11</td>\n",
       "      <td>0</td>\n",
       "      <td>0</td>\n",
       "      <td>1971-07-07</td>\n",
       "      <td>среднее профессиональное</td>\n",
       "      <td>5.0</td>\n",
       "      <td>20000.0</td>\n",
       "    </tr>\n",
       "    <tr>\n",
       "      <th>2</th>\n",
       "      <td>2015-01-31</td>\n",
       "      <td>1</td>\n",
       "      <td>Вишневскиая Валентина Константиновна</td>\n",
       "      <td>женский</td>\n",
       "      <td>1</td>\n",
       "      <td>Кассир</td>\n",
       "      <td>13</td>\n",
       "      <td>12</td>\n",
       "      <td>0</td>\n",
       "      <td>0</td>\n",
       "      <td>1974-11-29</td>\n",
       "      <td>среднее общее</td>\n",
       "      <td>5.0</td>\n",
       "      <td>12600.0</td>\n",
       "    </tr>\n",
       "    <tr>\n",
       "      <th>3</th>\n",
       "      <td>2015-01-31</td>\n",
       "      <td>2</td>\n",
       "      <td>Литвинов Александр Максимович</td>\n",
       "      <td>мужской</td>\n",
       "      <td>1</td>\n",
       "      <td>Кассир</td>\n",
       "      <td>14</td>\n",
       "      <td>12</td>\n",
       "      <td>0</td>\n",
       "      <td>0</td>\n",
       "      <td>1969-11-01</td>\n",
       "      <td>среднее общее</td>\n",
       "      <td>3.0</td>\n",
       "      <td>12600.0</td>\n",
       "    </tr>\n",
       "    <tr>\n",
       "      <th>4</th>\n",
       "      <td>2015-01-31</td>\n",
       "      <td>3</td>\n",
       "      <td>Черняева Валерия Глебовна</td>\n",
       "      <td>женский</td>\n",
       "      <td>1</td>\n",
       "      <td>Продавец-консультант</td>\n",
       "      <td>17</td>\n",
       "      <td>11</td>\n",
       "      <td>0</td>\n",
       "      <td>0</td>\n",
       "      <td>1988-07-17</td>\n",
       "      <td>среднее общее</td>\n",
       "      <td>NaN</td>\n",
       "      <td>15400.0</td>\n",
       "    </tr>\n",
       "  </tbody>\n",
       "</table>\n",
       "</div>"
      ],
      "text/plain": [
       "   report_dt  i_pernr                                   fio      sex  shop_id  \\\n",
       "0 2015-01-31   100000          Кожевников Андрей Максимович  мужской        1   \n",
       "1 2015-01-31        0           Дубинина Надежда Николаевна  женский        1   \n",
       "2 2015-01-31        1  Вишневскиая Валентина Константиновна  женский        1   \n",
       "3 2015-01-31        2         Литвинов Александр Максимович  мужской        1   \n",
       "4 2015-01-31        3             Черняева Валерия Глебовна  женский        1   \n",
       "\n",
       "               pos_name  pos_id  closest_boss_pos_id  mgmt_flag  salary_fork  \\\n",
       "0     Директор магазина      11                 <NA>          1            0   \n",
       "1        Старший кассир      12                   11          0            0   \n",
       "2                Кассир      13                   12          0            0   \n",
       "3                Кассир      14                   12          0            0   \n",
       "4  Продавец-консультант      17                   11          0            0   \n",
       "\n",
       "  birth_date                 education  employee_evaluation   salary  \n",
       "0 1987-03-11                    высшее                  5.0  45700.0  \n",
       "1 1971-07-07  среднее профессиональное                  5.0  20000.0  \n",
       "2 1974-11-29             среднее общее                  5.0  12600.0  \n",
       "3 1969-11-01             среднее общее                  3.0  12600.0  \n",
       "4 1988-07-17             среднее общее                  NaN  15400.0  "
      ]
     },
     "execution_count": 87,
     "metadata": {},
     "output_type": "execute_result"
    }
   ],
   "source": [
    "import os\n",
    "import pandas as pd\n",
    "\n",
    "path_empl = '../tables/employees.parquet' if os.path.exists('../tables/employees.parquet') else 'https://drive.google.com/uc?id=1AARD5-eVlCxoApt5CYZebrC3Cqw42lvj'\n",
    "\n",
    "empl = pd.read_parquet(path_empl)\n",
    "empl.head()"
   ]
  },
  {
   "cell_type": "code",
   "execution_count": 119,
   "id": "75dc21ba",
   "metadata": {},
   "outputs": [
    {
     "data": {
      "text/plain": [
       "0        39759.0\n",
       "1        17400.0\n",
       "2        10962.0\n",
       "3        10962.0\n",
       "4        13398.0\n",
       "          ...   \n",
       "29367    33060.0\n",
       "29368    27666.0\n",
       "29369    24708.0\n",
       "29370    30885.0\n",
       "29371    22968.0\n",
       "Name: salary, Length: 29372, dtype: float64"
      ]
     },
     "execution_count": 119,
     "metadata": {},
     "output_type": "execute_result"
    }
   ],
   "source": [
    "empl['salary'] * 0.87"
   ]
  },
  {
   "cell_type": "markdown",
   "id": "ba759e49",
   "metadata": {},
   "source": [
    "### Задание 3\n",
    "\n",
    "Посчитайте размер премии. Для этого создайте новую колонку bonus.\n",
    "\n",
    "Премия выплачивается 31 декабря каждого года. В остальные месяцы премия равна нулю.\n",
    "Для управляющего персонала (mgmt == 1), она равна двум заработным платам, а для всех остальных сотрудников она равна зарплате,\n",
    "умноженной на оценку сотрудника и деленную на 5. Если оценка сотрудника пропущена. Заполните это значение числом 5."
   ]
  },
  {
   "cell_type": "code",
   "execution_count": 89,
   "id": "ac688733",
   "metadata": {},
   "outputs": [
    {
     "data": {
      "text/html": [
       "<div>\n",
       "<style scoped>\n",
       "    .dataframe tbody tr th:only-of-type {\n",
       "        vertical-align: middle;\n",
       "    }\n",
       "\n",
       "    .dataframe tbody tr th {\n",
       "        vertical-align: top;\n",
       "    }\n",
       "\n",
       "    .dataframe thead th {\n",
       "        text-align: right;\n",
       "    }\n",
       "</style>\n",
       "<table border=\"1\" class=\"dataframe\">\n",
       "  <thead>\n",
       "    <tr style=\"text-align: right;\">\n",
       "      <th></th>\n",
       "      <th>report_dt</th>\n",
       "      <th>i_pernr</th>\n",
       "      <th>fio</th>\n",
       "      <th>sex</th>\n",
       "      <th>shop_id</th>\n",
       "      <th>pos_name</th>\n",
       "      <th>pos_id</th>\n",
       "      <th>closest_boss_pos_id</th>\n",
       "      <th>mgmt_flag</th>\n",
       "      <th>salary_fork</th>\n",
       "      <th>birth_date</th>\n",
       "      <th>education</th>\n",
       "      <th>employee_evaluation</th>\n",
       "      <th>salary</th>\n",
       "    </tr>\n",
       "  </thead>\n",
       "  <tbody>\n",
       "    <tr>\n",
       "      <th>0</th>\n",
       "      <td>2015-01-31</td>\n",
       "      <td>100000</td>\n",
       "      <td>Кожевников Андрей Максимович</td>\n",
       "      <td>мужской</td>\n",
       "      <td>1</td>\n",
       "      <td>Директор магазина</td>\n",
       "      <td>11</td>\n",
       "      <td>&lt;NA&gt;</td>\n",
       "      <td>1</td>\n",
       "      <td>0</td>\n",
       "      <td>1987-03-11</td>\n",
       "      <td>высшее</td>\n",
       "      <td>5.0</td>\n",
       "      <td>45700.0</td>\n",
       "    </tr>\n",
       "    <tr>\n",
       "      <th>1</th>\n",
       "      <td>2015-01-31</td>\n",
       "      <td>0</td>\n",
       "      <td>Дубинина Надежда Николаевна</td>\n",
       "      <td>женский</td>\n",
       "      <td>1</td>\n",
       "      <td>Старший кассир</td>\n",
       "      <td>12</td>\n",
       "      <td>11</td>\n",
       "      <td>0</td>\n",
       "      <td>0</td>\n",
       "      <td>1971-07-07</td>\n",
       "      <td>среднее профессиональное</td>\n",
       "      <td>5.0</td>\n",
       "      <td>20000.0</td>\n",
       "    </tr>\n",
       "    <tr>\n",
       "      <th>2</th>\n",
       "      <td>2015-01-31</td>\n",
       "      <td>1</td>\n",
       "      <td>Вишневскиая Валентина Константиновна</td>\n",
       "      <td>женский</td>\n",
       "      <td>1</td>\n",
       "      <td>Кассир</td>\n",
       "      <td>13</td>\n",
       "      <td>12</td>\n",
       "      <td>0</td>\n",
       "      <td>0</td>\n",
       "      <td>1974-11-29</td>\n",
       "      <td>среднее общее</td>\n",
       "      <td>5.0</td>\n",
       "      <td>12600.0</td>\n",
       "    </tr>\n",
       "    <tr>\n",
       "      <th>3</th>\n",
       "      <td>2015-01-31</td>\n",
       "      <td>2</td>\n",
       "      <td>Литвинов Александр Максимович</td>\n",
       "      <td>мужской</td>\n",
       "      <td>1</td>\n",
       "      <td>Кассир</td>\n",
       "      <td>14</td>\n",
       "      <td>12</td>\n",
       "      <td>0</td>\n",
       "      <td>0</td>\n",
       "      <td>1969-11-01</td>\n",
       "      <td>среднее общее</td>\n",
       "      <td>3.0</td>\n",
       "      <td>12600.0</td>\n",
       "    </tr>\n",
       "    <tr>\n",
       "      <th>4</th>\n",
       "      <td>2015-01-31</td>\n",
       "      <td>3</td>\n",
       "      <td>Черняева Валерия Глебовна</td>\n",
       "      <td>женский</td>\n",
       "      <td>1</td>\n",
       "      <td>Продавец-консультант</td>\n",
       "      <td>17</td>\n",
       "      <td>11</td>\n",
       "      <td>0</td>\n",
       "      <td>0</td>\n",
       "      <td>1988-07-17</td>\n",
       "      <td>среднее общее</td>\n",
       "      <td>NaN</td>\n",
       "      <td>15400.0</td>\n",
       "    </tr>\n",
       "  </tbody>\n",
       "</table>\n",
       "</div>"
      ],
      "text/plain": [
       "   report_dt  i_pernr                                   fio      sex  shop_id  \\\n",
       "0 2015-01-31   100000          Кожевников Андрей Максимович  мужской        1   \n",
       "1 2015-01-31        0           Дубинина Надежда Николаевна  женский        1   \n",
       "2 2015-01-31        1  Вишневскиая Валентина Константиновна  женский        1   \n",
       "3 2015-01-31        2         Литвинов Александр Максимович  мужской        1   \n",
       "4 2015-01-31        3             Черняева Валерия Глебовна  женский        1   \n",
       "\n",
       "               pos_name  pos_id  closest_boss_pos_id  mgmt_flag  salary_fork  \\\n",
       "0     Директор магазина      11                 <NA>          1            0   \n",
       "1        Старший кассир      12                   11          0            0   \n",
       "2                Кассир      13                   12          0            0   \n",
       "3                Кассир      14                   12          0            0   \n",
       "4  Продавец-консультант      17                   11          0            0   \n",
       "\n",
       "  birth_date                 education  employee_evaluation   salary  \n",
       "0 1987-03-11                    высшее                  5.0  45700.0  \n",
       "1 1971-07-07  среднее профессиональное                  5.0  20000.0  \n",
       "2 1974-11-29             среднее общее                  5.0  12600.0  \n",
       "3 1969-11-01             среднее общее                  3.0  12600.0  \n",
       "4 1988-07-17             среднее общее                  NaN  15400.0  "
      ]
     },
     "execution_count": 89,
     "metadata": {},
     "output_type": "execute_result"
    }
   ],
   "source": [
    "import os\n",
    "import pandas as pd\n",
    "\n",
    "path_empl = '../tables/employees.parquet' if os.path.exists('../tables/employees.parquet') else 'https://drive.google.com/uc?id=1AARD5-eVlCxoApt5CYZebrC3Cqw42lvj'\n",
    "\n",
    "empl = pd.read_parquet(path_empl)\n",
    "empl.head()"
   ]
  },
  {
   "cell_type": "code",
   "execution_count": 122,
   "id": "7e30693e",
   "metadata": {},
   "outputs": [
    {
     "data": {
      "text/html": [
       "<div>\n",
       "<style scoped>\n",
       "    .dataframe tbody tr th:only-of-type {\n",
       "        vertical-align: middle;\n",
       "    }\n",
       "\n",
       "    .dataframe tbody tr th {\n",
       "        vertical-align: top;\n",
       "    }\n",
       "\n",
       "    .dataframe thead th {\n",
       "        text-align: right;\n",
       "    }\n",
       "</style>\n",
       "<table border=\"1\" class=\"dataframe\">\n",
       "  <thead>\n",
       "    <tr style=\"text-align: right;\">\n",
       "      <th></th>\n",
       "      <th>report_dt</th>\n",
       "      <th>i_pernr</th>\n",
       "      <th>fio</th>\n",
       "      <th>sex</th>\n",
       "      <th>shop_id</th>\n",
       "      <th>pos_name</th>\n",
       "      <th>pos_id</th>\n",
       "      <th>closest_boss_pos_id</th>\n",
       "      <th>mgmt_flag</th>\n",
       "      <th>salary_fork</th>\n",
       "      <th>birth_date</th>\n",
       "      <th>education</th>\n",
       "      <th>employee_evaluation</th>\n",
       "      <th>salary</th>\n",
       "      <th>bonus</th>\n",
       "    </tr>\n",
       "  </thead>\n",
       "  <tbody>\n",
       "    <tr>\n",
       "      <th>0</th>\n",
       "      <td>2015-01-31</td>\n",
       "      <td>100000</td>\n",
       "      <td>Кожевников Андрей Максимович</td>\n",
       "      <td>мужской</td>\n",
       "      <td>1</td>\n",
       "      <td>Директор магазина</td>\n",
       "      <td>11</td>\n",
       "      <td>&lt;NA&gt;</td>\n",
       "      <td>1</td>\n",
       "      <td>0</td>\n",
       "      <td>1987-03-11</td>\n",
       "      <td>высшее</td>\n",
       "      <td>5.0</td>\n",
       "      <td>45700.0</td>\n",
       "      <td>0.0</td>\n",
       "    </tr>\n",
       "    <tr>\n",
       "      <th>1</th>\n",
       "      <td>2015-01-31</td>\n",
       "      <td>0</td>\n",
       "      <td>Дубинина Надежда Николаевна</td>\n",
       "      <td>женский</td>\n",
       "      <td>1</td>\n",
       "      <td>Старший кассир</td>\n",
       "      <td>12</td>\n",
       "      <td>11</td>\n",
       "      <td>0</td>\n",
       "      <td>0</td>\n",
       "      <td>1971-07-07</td>\n",
       "      <td>среднее профессиональное</td>\n",
       "      <td>5.0</td>\n",
       "      <td>20000.0</td>\n",
       "      <td>0.0</td>\n",
       "    </tr>\n",
       "    <tr>\n",
       "      <th>2</th>\n",
       "      <td>2015-01-31</td>\n",
       "      <td>1</td>\n",
       "      <td>Вишневскиая Валентина Константиновна</td>\n",
       "      <td>женский</td>\n",
       "      <td>1</td>\n",
       "      <td>Кассир</td>\n",
       "      <td>13</td>\n",
       "      <td>12</td>\n",
       "      <td>0</td>\n",
       "      <td>0</td>\n",
       "      <td>1974-11-29</td>\n",
       "      <td>среднее общее</td>\n",
       "      <td>5.0</td>\n",
       "      <td>12600.0</td>\n",
       "      <td>0.0</td>\n",
       "    </tr>\n",
       "    <tr>\n",
       "      <th>3</th>\n",
       "      <td>2015-01-31</td>\n",
       "      <td>2</td>\n",
       "      <td>Литвинов Александр Максимович</td>\n",
       "      <td>мужской</td>\n",
       "      <td>1</td>\n",
       "      <td>Кассир</td>\n",
       "      <td>14</td>\n",
       "      <td>12</td>\n",
       "      <td>0</td>\n",
       "      <td>0</td>\n",
       "      <td>1969-11-01</td>\n",
       "      <td>среднее общее</td>\n",
       "      <td>3.0</td>\n",
       "      <td>12600.0</td>\n",
       "      <td>0.0</td>\n",
       "    </tr>\n",
       "    <tr>\n",
       "      <th>4</th>\n",
       "      <td>2015-01-31</td>\n",
       "      <td>3</td>\n",
       "      <td>Черняева Валерия Глебовна</td>\n",
       "      <td>женский</td>\n",
       "      <td>1</td>\n",
       "      <td>Продавец-консультант</td>\n",
       "      <td>17</td>\n",
       "      <td>11</td>\n",
       "      <td>0</td>\n",
       "      <td>0</td>\n",
       "      <td>1988-07-17</td>\n",
       "      <td>среднее общее</td>\n",
       "      <td>NaN</td>\n",
       "      <td>15400.0</td>\n",
       "      <td>0.0</td>\n",
       "    </tr>\n",
       "    <tr>\n",
       "      <th>...</th>\n",
       "      <td>...</td>\n",
       "      <td>...</td>\n",
       "      <td>...</td>\n",
       "      <td>...</td>\n",
       "      <td>...</td>\n",
       "      <td>...</td>\n",
       "      <td>...</td>\n",
       "      <td>...</td>\n",
       "      <td>...</td>\n",
       "      <td>...</td>\n",
       "      <td>...</td>\n",
       "      <td>...</td>\n",
       "      <td>...</td>\n",
       "      <td>...</td>\n",
       "      <td>...</td>\n",
       "    </tr>\n",
       "    <tr>\n",
       "      <th>29367</th>\n",
       "      <td>2022-12-31</td>\n",
       "      <td>1372</td>\n",
       "      <td>Морозова Раиса Ярославовна</td>\n",
       "      <td>женский</td>\n",
       "      <td>23</td>\n",
       "      <td>Продавец-консультант</td>\n",
       "      <td>2325</td>\n",
       "      <td>232</td>\n",
       "      <td>0</td>\n",
       "      <td>2</td>\n",
       "      <td>1962-01-13</td>\n",
       "      <td>среднее профессиональное</td>\n",
       "      <td>6.0</td>\n",
       "      <td>38000.0</td>\n",
       "      <td>45600.0</td>\n",
       "    </tr>\n",
       "    <tr>\n",
       "      <th>29368</th>\n",
       "      <td>2022-12-31</td>\n",
       "      <td>1615</td>\n",
       "      <td>Фадеева Евгения Данииловна</td>\n",
       "      <td>женский</td>\n",
       "      <td>23</td>\n",
       "      <td>Товаровед</td>\n",
       "      <td>2326</td>\n",
       "      <td>233</td>\n",
       "      <td>0</td>\n",
       "      <td>1</td>\n",
       "      <td>1989-07-12</td>\n",
       "      <td>среднее общее</td>\n",
       "      <td>6.0</td>\n",
       "      <td>31800.0</td>\n",
       "      <td>38160.0</td>\n",
       "    </tr>\n",
       "    <tr>\n",
       "      <th>29369</th>\n",
       "      <td>2022-12-31</td>\n",
       "      <td>1748</td>\n",
       "      <td>Измайлов Григорий Артемович</td>\n",
       "      <td>мужской</td>\n",
       "      <td>23</td>\n",
       "      <td>Товаровед</td>\n",
       "      <td>2327</td>\n",
       "      <td>233</td>\n",
       "      <td>0</td>\n",
       "      <td>0</td>\n",
       "      <td>1989-12-23</td>\n",
       "      <td>среднее общее</td>\n",
       "      <td>3.0</td>\n",
       "      <td>28400.0</td>\n",
       "      <td>17040.0</td>\n",
       "    </tr>\n",
       "    <tr>\n",
       "      <th>29370</th>\n",
       "      <td>2022-12-31</td>\n",
       "      <td>1616</td>\n",
       "      <td>Русаков Евгений Тимурович</td>\n",
       "      <td>мужской</td>\n",
       "      <td>23</td>\n",
       "      <td>Мастер по ремонту одежды</td>\n",
       "      <td>2328</td>\n",
       "      <td>232</td>\n",
       "      <td>0</td>\n",
       "      <td>2</td>\n",
       "      <td>1963-09-19</td>\n",
       "      <td>среднее профессиональное</td>\n",
       "      <td>7.0</td>\n",
       "      <td>35500.0</td>\n",
       "      <td>49700.0</td>\n",
       "    </tr>\n",
       "    <tr>\n",
       "      <th>29371</th>\n",
       "      <td>2022-12-31</td>\n",
       "      <td>1687</td>\n",
       "      <td>Суханова Дарья Фёдоровна</td>\n",
       "      <td>женский</td>\n",
       "      <td>23</td>\n",
       "      <td>Уборщик</td>\n",
       "      <td>2329</td>\n",
       "      <td>232</td>\n",
       "      <td>0</td>\n",
       "      <td>2</td>\n",
       "      <td>1989-08-10</td>\n",
       "      <td>среднее профессиональное</td>\n",
       "      <td>8.0</td>\n",
       "      <td>26400.0</td>\n",
       "      <td>42240.0</td>\n",
       "    </tr>\n",
       "  </tbody>\n",
       "</table>\n",
       "<p>29372 rows × 15 columns</p>\n",
       "</div>"
      ],
      "text/plain": [
       "       report_dt  i_pernr                                   fio      sex  \\\n",
       "0     2015-01-31   100000          Кожевников Андрей Максимович  мужской   \n",
       "1     2015-01-31        0           Дубинина Надежда Николаевна  женский   \n",
       "2     2015-01-31        1  Вишневскиая Валентина Константиновна  женский   \n",
       "3     2015-01-31        2         Литвинов Александр Максимович  мужской   \n",
       "4     2015-01-31        3             Черняева Валерия Глебовна  женский   \n",
       "...          ...      ...                                   ...      ...   \n",
       "29367 2022-12-31     1372            Морозова Раиса Ярославовна  женский   \n",
       "29368 2022-12-31     1615            Фадеева Евгения Данииловна  женский   \n",
       "29369 2022-12-31     1748           Измайлов Григорий Артемович  мужской   \n",
       "29370 2022-12-31     1616             Русаков Евгений Тимурович  мужской   \n",
       "29371 2022-12-31     1687              Суханова Дарья Фёдоровна  женский   \n",
       "\n",
       "       shop_id                  pos_name  pos_id  closest_boss_pos_id  \\\n",
       "0            1         Директор магазина      11                 <NA>   \n",
       "1            1            Старший кассир      12                   11   \n",
       "2            1                    Кассир      13                   12   \n",
       "3            1                    Кассир      14                   12   \n",
       "4            1      Продавец-консультант      17                   11   \n",
       "...        ...                       ...     ...                  ...   \n",
       "29367       23      Продавец-консультант    2325                  232   \n",
       "29368       23                 Товаровед    2326                  233   \n",
       "29369       23                 Товаровед    2327                  233   \n",
       "29370       23  Мастер по ремонту одежды    2328                  232   \n",
       "29371       23                   Уборщик    2329                  232   \n",
       "\n",
       "       mgmt_flag  salary_fork birth_date                 education  \\\n",
       "0              1            0 1987-03-11                    высшее   \n",
       "1              0            0 1971-07-07  среднее профессиональное   \n",
       "2              0            0 1974-11-29             среднее общее   \n",
       "3              0            0 1969-11-01             среднее общее   \n",
       "4              0            0 1988-07-17             среднее общее   \n",
       "...          ...          ...        ...                       ...   \n",
       "29367          0            2 1962-01-13  среднее профессиональное   \n",
       "29368          0            1 1989-07-12             среднее общее   \n",
       "29369          0            0 1989-12-23             среднее общее   \n",
       "29370          0            2 1963-09-19  среднее профессиональное   \n",
       "29371          0            2 1989-08-10  среднее профессиональное   \n",
       "\n",
       "       employee_evaluation   salary    bonus  \n",
       "0                      5.0  45700.0      0.0  \n",
       "1                      5.0  20000.0      0.0  \n",
       "2                      5.0  12600.0      0.0  \n",
       "3                      3.0  12600.0      0.0  \n",
       "4                      NaN  15400.0      0.0  \n",
       "...                    ...      ...      ...  \n",
       "29367                  6.0  38000.0  45600.0  \n",
       "29368                  6.0  31800.0  38160.0  \n",
       "29369                  3.0  28400.0  17040.0  \n",
       "29370                  7.0  35500.0  49700.0  \n",
       "29371                  8.0  26400.0  42240.0  \n",
       "\n",
       "[29372 rows x 15 columns]"
      ]
     },
     "execution_count": 122,
     "metadata": {},
     "output_type": "execute_result"
    }
   ],
   "source": [
    "empl[\"bonus\"] = np.where(\n",
    "    empl[\"report_dt\"].dt.month == 12,  # Проверяем, декабрь ли\n",
    "    np.where(\n",
    "        empl[\"mgmt_flag\"] == 1,  # Проверяем, управляющий ли\n",
    "        empl[\"salary\"] * 2,  # Премия для управляющего\n",
    "        empl[\"salary\"]\n",
    "        * (empl[\"employee_evaluation\"].fillna(5))\n",
    "        / 5,  # Премия для остальных\n",
    "    ),\n",
    "    0,  # В остальные месяцы премия равна 0\n",
    ")\n",
    "empl"
   ]
  },
  {
   "cell_type": "markdown",
   "id": "bd335fb4",
   "metadata": {},
   "source": [
    "### Задание 4\n",
    "\n",
    "Соедините колонки city и adress в одну.\n",
    "\n",
    "Пример того, как должна выглядить колонка: г. Воронеж, Пушкинская пл., д. 76"
   ]
  },
  {
   "cell_type": "code",
   "execution_count": 126,
   "id": "ce2d942d",
   "metadata": {},
   "outputs": [
    {
     "data": {
      "text/html": [
       "<div>\n",
       "<style scoped>\n",
       "    .dataframe tbody tr th:only-of-type {\n",
       "        vertical-align: middle;\n",
       "    }\n",
       "\n",
       "    .dataframe tbody tr th {\n",
       "        vertical-align: top;\n",
       "    }\n",
       "\n",
       "    .dataframe thead th {\n",
       "        text-align: right;\n",
       "    }\n",
       "</style>\n",
       "<table border=\"1\" class=\"dataframe\">\n",
       "  <thead>\n",
       "    <tr style=\"text-align: right;\">\n",
       "      <th></th>\n",
       "      <th>shop_id</th>\n",
       "      <th>city</th>\n",
       "      <th>adress</th>\n",
       "      <th>shopping_center</th>\n",
       "      <th>size</th>\n",
       "      <th>open_date</th>\n",
       "    </tr>\n",
       "  </thead>\n",
       "  <tbody>\n",
       "    <tr>\n",
       "      <th>0</th>\n",
       "      <td>1</td>\n",
       "      <td>Воронеж</td>\n",
       "      <td>Пушкинская пл., д. 76</td>\n",
       "      <td>NaN</td>\n",
       "      <td>Мелкий</td>\n",
       "      <td>2015-01-22</td>\n",
       "    </tr>\n",
       "    <tr>\n",
       "      <th>1</th>\n",
       "      <td>2</td>\n",
       "      <td>Санкт-Петербург</td>\n",
       "      <td>ул. Веселая, д. 20</td>\n",
       "      <td>Книга</td>\n",
       "      <td>Крупный</td>\n",
       "      <td>2015-05-11</td>\n",
       "    </tr>\n",
       "    <tr>\n",
       "      <th>2</th>\n",
       "      <td>3</td>\n",
       "      <td>Чита</td>\n",
       "      <td>Тупой пер., д. 1</td>\n",
       "      <td>NaN</td>\n",
       "      <td>Мелкий</td>\n",
       "      <td>2015-11-27</td>\n",
       "    </tr>\n",
       "    <tr>\n",
       "      <th>3</th>\n",
       "      <td>4</td>\n",
       "      <td>Липецк</td>\n",
       "      <td>пр. Гагарина, д. 234</td>\n",
       "      <td>Обезьяна</td>\n",
       "      <td>Средний</td>\n",
       "      <td>2016-04-04</td>\n",
       "    </tr>\n",
       "    <tr>\n",
       "      <th>4</th>\n",
       "      <td>5</td>\n",
       "      <td>Челябинск</td>\n",
       "      <td>пр. Железнодорожников, д. 12</td>\n",
       "      <td>NaN</td>\n",
       "      <td>Мелкий</td>\n",
       "      <td>2016-04-11</td>\n",
       "    </tr>\n",
       "  </tbody>\n",
       "</table>\n",
       "</div>"
      ],
      "text/plain": [
       "   shop_id             city                        adress shopping_center  \\\n",
       "0        1          Воронеж         Пушкинская пл., д. 76             NaN   \n",
       "1        2  Санкт-Петербург            ул. Веселая, д. 20           Книга   \n",
       "2        3             Чита              Тупой пер., д. 1             NaN   \n",
       "3        4           Липецк          пр. Гагарина, д. 234        Обезьяна   \n",
       "4        5        Челябинск  пр. Железнодорожников, д. 12             NaN   \n",
       "\n",
       "      size  open_date  \n",
       "0   Мелкий 2015-01-22  \n",
       "1  Крупный 2015-05-11  \n",
       "2   Мелкий 2015-11-27  \n",
       "3  Средний 2016-04-04  \n",
       "4   Мелкий 2016-04-11  "
      ]
     },
     "execution_count": 126,
     "metadata": {},
     "output_type": "execute_result"
    }
   ],
   "source": [
    "import os\n",
    "import pandas as pd\n",
    "\n",
    "path_shops = '../tables/shops.xlsx' if os.path.exists('../tables/shops.xlsx') else 'https://drive.google.com/uc?id=1gfnmceJa3Mc1X06NftTx9G9QfKfprjEB'\n",
    "\n",
    "shops = pd.read_excel(path_shops)\n",
    "shops.head()"
   ]
  },
  {
   "cell_type": "code",
   "execution_count": 128,
   "id": "7a36839f",
   "metadata": {},
   "outputs": [
    {
     "data": {
      "text/html": [
       "<div>\n",
       "<style scoped>\n",
       "    .dataframe tbody tr th:only-of-type {\n",
       "        vertical-align: middle;\n",
       "    }\n",
       "\n",
       "    .dataframe tbody tr th {\n",
       "        vertical-align: top;\n",
       "    }\n",
       "\n",
       "    .dataframe thead th {\n",
       "        text-align: right;\n",
       "    }\n",
       "</style>\n",
       "<table border=\"1\" class=\"dataframe\">\n",
       "  <thead>\n",
       "    <tr style=\"text-align: right;\">\n",
       "      <th></th>\n",
       "      <th>shop_id</th>\n",
       "      <th>city</th>\n",
       "      <th>adress</th>\n",
       "      <th>shopping_center</th>\n",
       "      <th>size</th>\n",
       "      <th>open_date</th>\n",
       "      <th>city + adress</th>\n",
       "    </tr>\n",
       "  </thead>\n",
       "  <tbody>\n",
       "    <tr>\n",
       "      <th>0</th>\n",
       "      <td>1</td>\n",
       "      <td>Воронеж</td>\n",
       "      <td>Пушкинская пл., д. 76</td>\n",
       "      <td>NaN</td>\n",
       "      <td>Мелкий</td>\n",
       "      <td>2015-01-22</td>\n",
       "      <td>Воронеж, Пушкинская пл., д. 76</td>\n",
       "    </tr>\n",
       "    <tr>\n",
       "      <th>1</th>\n",
       "      <td>2</td>\n",
       "      <td>Санкт-Петербург</td>\n",
       "      <td>ул. Веселая, д. 20</td>\n",
       "      <td>Книга</td>\n",
       "      <td>Крупный</td>\n",
       "      <td>2015-05-11</td>\n",
       "      <td>Санкт-Петербург, ул. Веселая, д. 20</td>\n",
       "    </tr>\n",
       "    <tr>\n",
       "      <th>2</th>\n",
       "      <td>3</td>\n",
       "      <td>Чита</td>\n",
       "      <td>Тупой пер., д. 1</td>\n",
       "      <td>NaN</td>\n",
       "      <td>Мелкий</td>\n",
       "      <td>2015-11-27</td>\n",
       "      <td>Чита, Тупой пер., д. 1</td>\n",
       "    </tr>\n",
       "    <tr>\n",
       "      <th>3</th>\n",
       "      <td>4</td>\n",
       "      <td>Липецк</td>\n",
       "      <td>пр. Гагарина, д. 234</td>\n",
       "      <td>Обезьяна</td>\n",
       "      <td>Средний</td>\n",
       "      <td>2016-04-04</td>\n",
       "      <td>Липецк, пр. Гагарина, д. 234</td>\n",
       "    </tr>\n",
       "    <tr>\n",
       "      <th>4</th>\n",
       "      <td>5</td>\n",
       "      <td>Челябинск</td>\n",
       "      <td>пр. Железнодорожников, д. 12</td>\n",
       "      <td>NaN</td>\n",
       "      <td>Мелкий</td>\n",
       "      <td>2016-04-11</td>\n",
       "      <td>Челябинск, пр. Железнодорожников, д. 12</td>\n",
       "    </tr>\n",
       "    <tr>\n",
       "      <th>5</th>\n",
       "      <td>6</td>\n",
       "      <td>Казань</td>\n",
       "      <td>ул. Кривая, д. 5</td>\n",
       "      <td>Фараон</td>\n",
       "      <td>Крупный</td>\n",
       "      <td>2016-04-19</td>\n",
       "      <td>Казань, ул. Кривая, д. 5</td>\n",
       "    </tr>\n",
       "    <tr>\n",
       "      <th>6</th>\n",
       "      <td>7</td>\n",
       "      <td>Екатеринбург</td>\n",
       "      <td>ул. Каспийская, д. 90</td>\n",
       "      <td>Ворона</td>\n",
       "      <td>Крупный</td>\n",
       "      <td>2017-01-17</td>\n",
       "      <td>Екатеринбург, ул. Каспийская, д. 90</td>\n",
       "    </tr>\n",
       "    <tr>\n",
       "      <th>7</th>\n",
       "      <td>8</td>\n",
       "      <td>Якутск</td>\n",
       "      <td>ул. Оружейная, д. 100</td>\n",
       "      <td>Спорт</td>\n",
       "      <td>Средний</td>\n",
       "      <td>2017-02-08</td>\n",
       "      <td>Якутск, ул. Оружейная, д. 100</td>\n",
       "    </tr>\n",
       "    <tr>\n",
       "      <th>8</th>\n",
       "      <td>9</td>\n",
       "      <td>Саратов</td>\n",
       "      <td>ул. Солнечная, д. 189</td>\n",
       "      <td>Сокол</td>\n",
       "      <td>Средний</td>\n",
       "      <td>2017-05-10</td>\n",
       "      <td>Саратов, ул. Солнечная, д. 189</td>\n",
       "    </tr>\n",
       "    <tr>\n",
       "      <th>9</th>\n",
       "      <td>10</td>\n",
       "      <td>Кемерово</td>\n",
       "      <td>ул. Улиточная, д. 8</td>\n",
       "      <td>Калейдоскоп</td>\n",
       "      <td>Средний</td>\n",
       "      <td>2017-08-13</td>\n",
       "      <td>Кемерово, ул. Улиточная, д. 8</td>\n",
       "    </tr>\n",
       "    <tr>\n",
       "      <th>10</th>\n",
       "      <td>11</td>\n",
       "      <td>Астрахань</td>\n",
       "      <td>ул. Печеночная, д. 28</td>\n",
       "      <td>Галерея</td>\n",
       "      <td>Средний</td>\n",
       "      <td>2017-12-18</td>\n",
       "      <td>Астрахань, ул. Печеночная, д. 28</td>\n",
       "    </tr>\n",
       "    <tr>\n",
       "      <th>11</th>\n",
       "      <td>12</td>\n",
       "      <td>Москва</td>\n",
       "      <td>ул. Просторная, д. 13</td>\n",
       "      <td>Глобус</td>\n",
       "      <td>Средний</td>\n",
       "      <td>2017-12-31</td>\n",
       "      <td>Москва, ул. Просторная, д. 13</td>\n",
       "    </tr>\n",
       "    <tr>\n",
       "      <th>12</th>\n",
       "      <td>13</td>\n",
       "      <td>Новокузнецк</td>\n",
       "      <td>ул. Зеркальная, д. 4/2</td>\n",
       "      <td>Кит</td>\n",
       "      <td>Средний</td>\n",
       "      <td>2018-02-04</td>\n",
       "      <td>Новокузнецк, ул. Зеркальная, д. 4/2</td>\n",
       "    </tr>\n",
       "    <tr>\n",
       "      <th>13</th>\n",
       "      <td>14</td>\n",
       "      <td>Вологда</td>\n",
       "      <td>ул. Сосисочная, д. 42</td>\n",
       "      <td>NaN</td>\n",
       "      <td>Мелкий</td>\n",
       "      <td>2018-03-30</td>\n",
       "      <td>Вологда, ул. Сосисочная, д. 42</td>\n",
       "    </tr>\n",
       "    <tr>\n",
       "      <th>14</th>\n",
       "      <td>15</td>\n",
       "      <td>Новокузнецк</td>\n",
       "      <td>Волжская ул., д. 94</td>\n",
       "      <td>NaN</td>\n",
       "      <td>Мелкий</td>\n",
       "      <td>2018-04-30</td>\n",
       "      <td>Новокузнецк, Волжская ул., д. 94</td>\n",
       "    </tr>\n",
       "    <tr>\n",
       "      <th>15</th>\n",
       "      <td>16</td>\n",
       "      <td>Хабаровск</td>\n",
       "      <td>ул. Тургенева, д. 9</td>\n",
       "      <td>Амур</td>\n",
       "      <td>Средний</td>\n",
       "      <td>2018-05-23</td>\n",
       "      <td>Хабаровск, ул. Тургенева, д. 9</td>\n",
       "    </tr>\n",
       "    <tr>\n",
       "      <th>16</th>\n",
       "      <td>17</td>\n",
       "      <td>Самара</td>\n",
       "      <td>ул. Угольная, д. 132/4</td>\n",
       "      <td>Океан</td>\n",
       "      <td>Средний</td>\n",
       "      <td>2018-07-18</td>\n",
       "      <td>Самара, ул. Угольная, д. 132/4</td>\n",
       "    </tr>\n",
       "    <tr>\n",
       "      <th>17</th>\n",
       "      <td>18</td>\n",
       "      <td>Рязань</td>\n",
       "      <td>Театральная ул., д. 198/4</td>\n",
       "      <td>Снегурочка</td>\n",
       "      <td>Крупный</td>\n",
       "      <td>2019-01-22</td>\n",
       "      <td>Рязань, Театральная ул., д. 198/4</td>\n",
       "    </tr>\n",
       "    <tr>\n",
       "      <th>18</th>\n",
       "      <td>19</td>\n",
       "      <td>Архангельск</td>\n",
       "      <td>пр. Садоводов, д. 39</td>\n",
       "      <td>NaN</td>\n",
       "      <td>Мелкий</td>\n",
       "      <td>2019-02-24</td>\n",
       "      <td>Архангельск, пр. Садоводов, д. 39</td>\n",
       "    </tr>\n",
       "    <tr>\n",
       "      <th>19</th>\n",
       "      <td>20</td>\n",
       "      <td>Оренбург</td>\n",
       "      <td>пр. Строителей, д. 7</td>\n",
       "      <td>Степной гигант</td>\n",
       "      <td>Средний</td>\n",
       "      <td>2019-06-27</td>\n",
       "      <td>Оренбург, пр. Строителей, д. 7</td>\n",
       "    </tr>\n",
       "    <tr>\n",
       "      <th>20</th>\n",
       "      <td>21</td>\n",
       "      <td>Владивосток</td>\n",
       "      <td>Северая ул., д. 65</td>\n",
       "      <td>28 попугаев</td>\n",
       "      <td>Средний</td>\n",
       "      <td>2019-08-13</td>\n",
       "      <td>Владивосток, Северая ул., д. 65</td>\n",
       "    </tr>\n",
       "    <tr>\n",
       "      <th>21</th>\n",
       "      <td>22</td>\n",
       "      <td>Пермь</td>\n",
       "      <td>ул. Новогодняя, д. 91</td>\n",
       "      <td>Радуга</td>\n",
       "      <td>Средний</td>\n",
       "      <td>2020-11-05</td>\n",
       "      <td>Пермь, ул. Новогодняя, д. 91</td>\n",
       "    </tr>\n",
       "    <tr>\n",
       "      <th>22</th>\n",
       "      <td>23</td>\n",
       "      <td>Омск</td>\n",
       "      <td>Соборная пл., д. 243/2</td>\n",
       "      <td>Космос</td>\n",
       "      <td>Крупный</td>\n",
       "      <td>2020-12-09</td>\n",
       "      <td>Омск, Соборная пл., д. 243/2</td>\n",
       "    </tr>\n",
       "  </tbody>\n",
       "</table>\n",
       "</div>"
      ],
      "text/plain": [
       "    shop_id             city                        adress shopping_center  \\\n",
       "0         1          Воронеж         Пушкинская пл., д. 76             NaN   \n",
       "1         2  Санкт-Петербург            ул. Веселая, д. 20           Книга   \n",
       "2         3             Чита              Тупой пер., д. 1             NaN   \n",
       "3         4           Липецк          пр. Гагарина, д. 234        Обезьяна   \n",
       "4         5        Челябинск  пр. Железнодорожников, д. 12             NaN   \n",
       "5         6           Казань              ул. Кривая, д. 5          Фараон   \n",
       "6         7     Екатеринбург         ул. Каспийская, д. 90          Ворона   \n",
       "7         8           Якутск         ул. Оружейная, д. 100           Спорт   \n",
       "8         9          Саратов         ул. Солнечная, д. 189           Сокол   \n",
       "9        10         Кемерово           ул. Улиточная, д. 8     Калейдоскоп   \n",
       "10       11        Астрахань         ул. Печеночная, д. 28         Галерея   \n",
       "11       12           Москва         ул. Просторная, д. 13          Глобус   \n",
       "12       13      Новокузнецк        ул. Зеркальная, д. 4/2             Кит   \n",
       "13       14          Вологда         ул. Сосисочная, д. 42             NaN   \n",
       "14       15      Новокузнецк           Волжская ул., д. 94             NaN   \n",
       "15       16        Хабаровск           ул. Тургенева, д. 9            Амур   \n",
       "16       17           Самара        ул. Угольная, д. 132/4           Океан   \n",
       "17       18           Рязань     Театральная ул., д. 198/4      Снегурочка   \n",
       "18       19      Архангельск          пр. Садоводов, д. 39             NaN   \n",
       "19       20         Оренбург          пр. Строителей, д. 7  Степной гигант   \n",
       "20       21      Владивосток            Северая ул., д. 65     28 попугаев   \n",
       "21       22            Пермь         ул. Новогодняя, д. 91          Радуга   \n",
       "22       23             Омск        Соборная пл., д. 243/2          Космос   \n",
       "\n",
       "       size  open_date                            city + adress  \n",
       "0    Мелкий 2015-01-22           Воронеж, Пушкинская пл., д. 76  \n",
       "1   Крупный 2015-05-11      Санкт-Петербург, ул. Веселая, д. 20  \n",
       "2    Мелкий 2015-11-27                   Чита, Тупой пер., д. 1  \n",
       "3   Средний 2016-04-04             Липецк, пр. Гагарина, д. 234  \n",
       "4    Мелкий 2016-04-11  Челябинск, пр. Железнодорожников, д. 12  \n",
       "5   Крупный 2016-04-19                 Казань, ул. Кривая, д. 5  \n",
       "6   Крупный 2017-01-17      Екатеринбург, ул. Каспийская, д. 90  \n",
       "7   Средний 2017-02-08            Якутск, ул. Оружейная, д. 100  \n",
       "8   Средний 2017-05-10           Саратов, ул. Солнечная, д. 189  \n",
       "9   Средний 2017-08-13            Кемерово, ул. Улиточная, д. 8  \n",
       "10  Средний 2017-12-18         Астрахань, ул. Печеночная, д. 28  \n",
       "11  Средний 2017-12-31            Москва, ул. Просторная, д. 13  \n",
       "12  Средний 2018-02-04      Новокузнецк, ул. Зеркальная, д. 4/2  \n",
       "13   Мелкий 2018-03-30           Вологда, ул. Сосисочная, д. 42  \n",
       "14   Мелкий 2018-04-30         Новокузнецк, Волжская ул., д. 94  \n",
       "15  Средний 2018-05-23           Хабаровск, ул. Тургенева, д. 9  \n",
       "16  Средний 2018-07-18           Самара, ул. Угольная, д. 132/4  \n",
       "17  Крупный 2019-01-22        Рязань, Театральная ул., д. 198/4  \n",
       "18   Мелкий 2019-02-24        Архангельск, пр. Садоводов, д. 39  \n",
       "19  Средний 2019-06-27           Оренбург, пр. Строителей, д. 7  \n",
       "20  Средний 2019-08-13          Владивосток, Северая ул., д. 65  \n",
       "21  Средний 2020-11-05             Пермь, ул. Новогодняя, д. 91  \n",
       "22  Крупный 2020-12-09             Омск, Соборная пл., д. 243/2  "
      ]
     },
     "execution_count": 128,
     "metadata": {},
     "output_type": "execute_result"
    }
   ],
   "source": [
    "shops['city + adress'] = shops['city'] +', ' + shops['adress']\n",
    "shops"
   ]
  },
  {
   "cell_type": "markdown",
   "id": "5a735426",
   "metadata": {},
   "source": [
    "### Задание 5\n",
    "\n",
    "Для каждого школьника создайте 3 поля: первое поле должно содержать информацию о том, что у школьника по какому-то из предметов есть тройка, второе поле, что есть четверка и третье, что есть пятерка. Закодируйет эту информацию в один столбец\n",
    "\n",
    "Способ кодировки можете выбрать сами. Например, 1 может значить, что у человека выполнено 1 условие, а два других нет, 2 - у человека выполено 2 условие а все остальные нет, 3 - у человека выполено 3 условие а все остальные нет, 4 - у человека выполнено перовое и второе условие, а третье нет и так далее"
   ]
  },
  {
   "cell_type": "code",
   "execution_count": 93,
   "id": "3e1a66c8",
   "metadata": {},
   "outputs": [
    {
     "data": {
      "text/html": [
       "<div>\n",
       "<style scoped>\n",
       "    .dataframe tbody tr th:only-of-type {\n",
       "        vertical-align: middle;\n",
       "    }\n",
       "\n",
       "    .dataframe tbody tr th {\n",
       "        vertical-align: top;\n",
       "    }\n",
       "\n",
       "    .dataframe thead th {\n",
       "        text-align: right;\n",
       "    }\n",
       "</style>\n",
       "<table border=\"1\" class=\"dataframe\">\n",
       "  <thead>\n",
       "    <tr style=\"text-align: right;\">\n",
       "      <th></th>\n",
       "      <th>ФИО</th>\n",
       "      <th>Пол</th>\n",
       "      <th>Математика</th>\n",
       "      <th>Русский язык</th>\n",
       "      <th>Литература</th>\n",
       "      <th>Физика</th>\n",
       "      <th>История</th>\n",
       "      <th>Физическая культура</th>\n",
       "    </tr>\n",
       "  </thead>\n",
       "  <tbody>\n",
       "    <tr>\n",
       "      <th>0</th>\n",
       "      <td>Суханова Маргарита Богдановна</td>\n",
       "      <td>женский</td>\n",
       "      <td>3</td>\n",
       "      <td>3</td>\n",
       "      <td>3</td>\n",
       "      <td>3</td>\n",
       "      <td>3</td>\n",
       "      <td>5</td>\n",
       "    </tr>\n",
       "    <tr>\n",
       "      <th>1</th>\n",
       "      <td>Лаврентьев Давид Анатольевич</td>\n",
       "      <td>мужской</td>\n",
       "      <td>3</td>\n",
       "      <td>3</td>\n",
       "      <td>3</td>\n",
       "      <td>5</td>\n",
       "      <td>3</td>\n",
       "      <td>3</td>\n",
       "    </tr>\n",
       "    <tr>\n",
       "      <th>2</th>\n",
       "      <td>Винниченко Дарья Максимовна</td>\n",
       "      <td>женский</td>\n",
       "      <td>4</td>\n",
       "      <td>5</td>\n",
       "      <td>5</td>\n",
       "      <td>3</td>\n",
       "      <td>4</td>\n",
       "      <td>5</td>\n",
       "    </tr>\n",
       "    <tr>\n",
       "      <th>3</th>\n",
       "      <td>Козлова Маргарита Максимовна</td>\n",
       "      <td>женский</td>\n",
       "      <td>5</td>\n",
       "      <td>5</td>\n",
       "      <td>5</td>\n",
       "      <td>5</td>\n",
       "      <td>4</td>\n",
       "      <td>5</td>\n",
       "    </tr>\n",
       "    <tr>\n",
       "      <th>4</th>\n",
       "      <td>Кулешов Евгений Маратович</td>\n",
       "      <td>мужской</td>\n",
       "      <td>3</td>\n",
       "      <td>3</td>\n",
       "      <td>4</td>\n",
       "      <td>3</td>\n",
       "      <td>4</td>\n",
       "      <td>3</td>\n",
       "    </tr>\n",
       "  </tbody>\n",
       "</table>\n",
       "</div>"
      ],
      "text/plain": [
       "                             ФИО      Пол  Математика  Русский язык  \\\n",
       "0  Суханова Маргарита Богдановна  женский           3             3   \n",
       "1   Лаврентьев Давид Анатольевич  мужской           3             3   \n",
       "2    Винниченко Дарья Максимовна  женский           4             5   \n",
       "3   Козлова Маргарита Максимовна  женский           5             5   \n",
       "4      Кулешов Евгений Маратович  мужской           3             3   \n",
       "\n",
       "   Литература  Физика  История  Физическая культура  \n",
       "0           3       3        3                    5  \n",
       "1           3       5        3                    3  \n",
       "2           5       3        4                    5  \n",
       "3           5       5        4                    5  \n",
       "4           4       3        4                    3  "
      ]
     },
     "execution_count": 93,
     "metadata": {},
     "output_type": "execute_result"
    }
   ],
   "source": [
    "import os\n",
    "import pandas as pd\n",
    "\n",
    "path_marks = '../tables/школьные оценки.xlsx' if os.path.exists('../tables/школьные оценки.xlsx') else 'https://drive.google.com/uc?id=1v9kRv1I03CXtQ6vFE4mE3hFAty436qAo'\n",
    "marks = pd.read_excel(path_marks)\n",
    "marks.head()"
   ]
  },
  {
   "cell_type": "code",
   "execution_count": 129,
   "id": "83c21f3d",
   "metadata": {},
   "outputs": [
    {
     "data": {
      "text/html": [
       "<div>\n",
       "<style scoped>\n",
       "    .dataframe tbody tr th:only-of-type {\n",
       "        vertical-align: middle;\n",
       "    }\n",
       "\n",
       "    .dataframe tbody tr th {\n",
       "        vertical-align: top;\n",
       "    }\n",
       "\n",
       "    .dataframe thead th {\n",
       "        text-align: right;\n",
       "    }\n",
       "</style>\n",
       "<table border=\"1\" class=\"dataframe\">\n",
       "  <thead>\n",
       "    <tr style=\"text-align: right;\">\n",
       "      <th></th>\n",
       "      <th>ФИО</th>\n",
       "      <th>Пол</th>\n",
       "      <th>Математика</th>\n",
       "      <th>Русский язык</th>\n",
       "      <th>Литература</th>\n",
       "      <th>Физика</th>\n",
       "      <th>История</th>\n",
       "      <th>Физическая культура</th>\n",
       "      <th>Код оценок</th>\n",
       "    </tr>\n",
       "  </thead>\n",
       "  <tbody>\n",
       "    <tr>\n",
       "      <th>0</th>\n",
       "      <td>Суханова Маргарита Богдановна</td>\n",
       "      <td>женский</td>\n",
       "      <td>3</td>\n",
       "      <td>3</td>\n",
       "      <td>3</td>\n",
       "      <td>3</td>\n",
       "      <td>3</td>\n",
       "      <td>5</td>\n",
       "      <td>1</td>\n",
       "    </tr>\n",
       "    <tr>\n",
       "      <th>1</th>\n",
       "      <td>Лаврентьев Давид Анатольевич</td>\n",
       "      <td>мужской</td>\n",
       "      <td>3</td>\n",
       "      <td>3</td>\n",
       "      <td>3</td>\n",
       "      <td>5</td>\n",
       "      <td>3</td>\n",
       "      <td>3</td>\n",
       "      <td>1</td>\n",
       "    </tr>\n",
       "    <tr>\n",
       "      <th>2</th>\n",
       "      <td>Винниченко Дарья Максимовна</td>\n",
       "      <td>женский</td>\n",
       "      <td>4</td>\n",
       "      <td>5</td>\n",
       "      <td>5</td>\n",
       "      <td>3</td>\n",
       "      <td>4</td>\n",
       "      <td>5</td>\n",
       "      <td>5</td>\n",
       "    </tr>\n",
       "    <tr>\n",
       "      <th>3</th>\n",
       "      <td>Козлова Маргарита Максимовна</td>\n",
       "      <td>женский</td>\n",
       "      <td>5</td>\n",
       "      <td>5</td>\n",
       "      <td>5</td>\n",
       "      <td>5</td>\n",
       "      <td>4</td>\n",
       "      <td>5</td>\n",
       "      <td>5</td>\n",
       "    </tr>\n",
       "    <tr>\n",
       "      <th>4</th>\n",
       "      <td>Кулешов Евгений Маратович</td>\n",
       "      <td>мужской</td>\n",
       "      <td>3</td>\n",
       "      <td>3</td>\n",
       "      <td>4</td>\n",
       "      <td>3</td>\n",
       "      <td>4</td>\n",
       "      <td>3</td>\n",
       "      <td>3</td>\n",
       "    </tr>\n",
       "    <tr>\n",
       "      <th>...</th>\n",
       "      <td>...</td>\n",
       "      <td>...</td>\n",
       "      <td>...</td>\n",
       "      <td>...</td>\n",
       "      <td>...</td>\n",
       "      <td>...</td>\n",
       "      <td>...</td>\n",
       "      <td>...</td>\n",
       "      <td>...</td>\n",
       "    </tr>\n",
       "    <tr>\n",
       "      <th>140</th>\n",
       "      <td>Бычкова Александра Борисовна</td>\n",
       "      <td>женский</td>\n",
       "      <td>5</td>\n",
       "      <td>4</td>\n",
       "      <td>3</td>\n",
       "      <td>5</td>\n",
       "      <td>3</td>\n",
       "      <td>5</td>\n",
       "      <td>6</td>\n",
       "    </tr>\n",
       "    <tr>\n",
       "      <th>141</th>\n",
       "      <td>Кулешов Семен Богданович</td>\n",
       "      <td>мужской</td>\n",
       "      <td>4</td>\n",
       "      <td>4</td>\n",
       "      <td>4</td>\n",
       "      <td>4</td>\n",
       "      <td>4</td>\n",
       "      <td>4</td>\n",
       "      <td>2</td>\n",
       "    </tr>\n",
       "    <tr>\n",
       "      <th>142</th>\n",
       "      <td>Павловскиая Алена Данииловна</td>\n",
       "      <td>женский</td>\n",
       "      <td>3</td>\n",
       "      <td>4</td>\n",
       "      <td>5</td>\n",
       "      <td>4</td>\n",
       "      <td>3</td>\n",
       "      <td>5</td>\n",
       "      <td>3</td>\n",
       "    </tr>\n",
       "    <tr>\n",
       "      <th>143</th>\n",
       "      <td>Лапин Юрий Тимурович</td>\n",
       "      <td>мужской</td>\n",
       "      <td>4</td>\n",
       "      <td>4</td>\n",
       "      <td>4</td>\n",
       "      <td>5</td>\n",
       "      <td>3</td>\n",
       "      <td>5</td>\n",
       "      <td>3</td>\n",
       "    </tr>\n",
       "    <tr>\n",
       "      <th>144</th>\n",
       "      <td>Курочкин Андрей Семенович</td>\n",
       "      <td>мужской</td>\n",
       "      <td>4</td>\n",
       "      <td>5</td>\n",
       "      <td>5</td>\n",
       "      <td>4</td>\n",
       "      <td>5</td>\n",
       "      <td>5</td>\n",
       "      <td>5</td>\n",
       "    </tr>\n",
       "  </tbody>\n",
       "</table>\n",
       "<p>145 rows × 9 columns</p>\n",
       "</div>"
      ],
      "text/plain": [
       "                               ФИО      Пол  Математика  Русский язык  \\\n",
       "0    Суханова Маргарита Богдановна  женский           3             3   \n",
       "1     Лаврентьев Давид Анатольевич  мужской           3             3   \n",
       "2      Винниченко Дарья Максимовна  женский           4             5   \n",
       "3     Козлова Маргарита Максимовна  женский           5             5   \n",
       "4        Кулешов Евгений Маратович  мужской           3             3   \n",
       "..                             ...      ...         ...           ...   \n",
       "140   Бычкова Александра Борисовна  женский           5             4   \n",
       "141       Кулешов Семен Богданович  мужской           4             4   \n",
       "142   Павловскиая Алена Данииловна  женский           3             4   \n",
       "143           Лапин Юрий Тимурович  мужской           4             4   \n",
       "144      Курочкин Андрей Семенович  мужской           4             5   \n",
       "\n",
       "     Литература  Физика  История  Физическая культура  Код оценок  \n",
       "0             3       3        3                    5           1  \n",
       "1             3       5        3                    3           1  \n",
       "2             5       3        4                    5           5  \n",
       "3             5       5        4                    5           5  \n",
       "4             4       3        4                    3           3  \n",
       "..          ...     ...      ...                  ...         ...  \n",
       "140           3       5        3                    5           6  \n",
       "141           4       4        4                    4           2  \n",
       "142           5       4        3                    5           3  \n",
       "143           4       5        3                    5           3  \n",
       "144           5       4        5                    5           5  \n",
       "\n",
       "[145 rows x 9 columns]"
      ]
     },
     "execution_count": 129,
     "metadata": {},
     "output_type": "execute_result"
    }
   ],
   "source": [
    "def encode_grades(row):\n",
    "    has_three = int((row[[\"Русский язык\", \"Математика\", \"История\"]] == 3).any())\n",
    "    has_four = int((row[[\"Русский язык\", \"Математика\", \"История\"]] == 4).any())\n",
    "    has_five = int((row[[\"Русский язык\", \"Математика\", \"История\"]] == 5).any())\n",
    "\n",
    "    # Кодируем в одно число\n",
    "    code = has_three + 2 * has_four + 3 * has_five\n",
    "    return code\n",
    "marks[\"Код оценок\"] = marks.apply(encode_grades, axis=1)\n",
    "marks"
   ]
  },
  {
   "cell_type": "markdown",
   "id": "84c7f915",
   "metadata": {},
   "source": [
    "### Задание 6\n",
    "\n",
    "Мы знаем оценки по разным предметам, но не по геграфии. Оценку по ней уще не поставили. Однако у нас есть модель, которая предсказывает вероятность того, что школьник получит оценки 3, 4 и 5.\n",
    "\n",
    "Посчитайте ожидаемую оценку для каждого школьника (взвесте оценки по вероятности). Для этого колонку 3 умножьте на 3, затем прибавьте к ней колонку 4, уноженную на 4, и колонку 5, умноженную на 5. "
   ]
  },
  {
   "cell_type": "code",
   "execution_count": 95,
   "id": "b592baf2",
   "metadata": {},
   "outputs": [
    {
     "data": {
      "text/html": [
       "<div>\n",
       "<style scoped>\n",
       "    .dataframe tbody tr th:only-of-type {\n",
       "        vertical-align: middle;\n",
       "    }\n",
       "\n",
       "    .dataframe tbody tr th {\n",
       "        vertical-align: top;\n",
       "    }\n",
       "\n",
       "    .dataframe thead th {\n",
       "        text-align: right;\n",
       "    }\n",
       "</style>\n",
       "<table border=\"1\" class=\"dataframe\">\n",
       "  <thead>\n",
       "    <tr style=\"text-align: right;\">\n",
       "      <th></th>\n",
       "      <th>ФИО</th>\n",
       "      <th>Пол</th>\n",
       "      <th>3</th>\n",
       "      <th>4</th>\n",
       "      <th>5</th>\n",
       "    </tr>\n",
       "  </thead>\n",
       "  <tbody>\n",
       "    <tr>\n",
       "      <th>0</th>\n",
       "      <td>Суханова Маргарита Богдановна</td>\n",
       "      <td>женский</td>\n",
       "      <td>0.209266</td>\n",
       "      <td>0.287248</td>\n",
       "      <td>0.503485</td>\n",
       "    </tr>\n",
       "    <tr>\n",
       "      <th>1</th>\n",
       "      <td>Лаврентьев Давид Анатольевич</td>\n",
       "      <td>мужской</td>\n",
       "      <td>0.142705</td>\n",
       "      <td>0.368242</td>\n",
       "      <td>0.489053</td>\n",
       "    </tr>\n",
       "    <tr>\n",
       "      <th>2</th>\n",
       "      <td>Винниченко Дарья Максимовна</td>\n",
       "      <td>женский</td>\n",
       "      <td>0.280271</td>\n",
       "      <td>0.103994</td>\n",
       "      <td>0.615735</td>\n",
       "    </tr>\n",
       "    <tr>\n",
       "      <th>3</th>\n",
       "      <td>Козлова Маргарита Максимовна</td>\n",
       "      <td>женский</td>\n",
       "      <td>0.230887</td>\n",
       "      <td>0.354259</td>\n",
       "      <td>0.414854</td>\n",
       "    </tr>\n",
       "    <tr>\n",
       "      <th>4</th>\n",
       "      <td>Кулешов Евгений Маратович</td>\n",
       "      <td>мужской</td>\n",
       "      <td>0.817502</td>\n",
       "      <td>0.018838</td>\n",
       "      <td>0.163660</td>\n",
       "    </tr>\n",
       "  </tbody>\n",
       "</table>\n",
       "</div>"
      ],
      "text/plain": [
       "                             ФИО      Пол         3         4         5\n",
       "0  Суханова Маргарита Богдановна  женский  0.209266  0.287248  0.503485\n",
       "1   Лаврентьев Давид Анатольевич  мужской  0.142705  0.368242  0.489053\n",
       "2    Винниченко Дарья Максимовна  женский  0.280271  0.103994  0.615735\n",
       "3   Козлова Маргарита Максимовна  женский  0.230887  0.354259  0.414854\n",
       "4      Кулешов Евгений Маратович  мужской  0.817502  0.018838  0.163660"
      ]
     },
     "execution_count": 95,
     "metadata": {},
     "output_type": "execute_result"
    }
   ],
   "source": [
    "import os\n",
    "import numpy as np\n",
    "import pandas as pd\n",
    "\n",
    "path_marks = '../tables/школьные оценки.xlsx' if os.path.exists('../tables/школьные оценки.xlsx') else 'https://drive.google.com/uc?id=1v9kRv1I03CXtQ6vFE4mE3hFAty436qAo'\n",
    "marks = pd.read_excel(path_marks)\n",
    "p = np.random.rand(len(marks) * 3).reshape(-1, 3)\n",
    "p = p / p.sum(1).reshape(-1, 1)\n",
    "\n",
    "np.random.seed(243)\n",
    "probs = marks[['ФИО', 'Пол']].join(pd.DataFrame(p, columns=[3, 4, 5]))\n",
    "probs.head()"
   ]
  },
  {
   "cell_type": "code",
   "execution_count": 135,
   "id": "33a4ff84",
   "metadata": {},
   "outputs": [
    {
     "data": {
      "text/html": [
       "<div>\n",
       "<style scoped>\n",
       "    .dataframe tbody tr th:only-of-type {\n",
       "        vertical-align: middle;\n",
       "    }\n",
       "\n",
       "    .dataframe tbody tr th {\n",
       "        vertical-align: top;\n",
       "    }\n",
       "\n",
       "    .dataframe thead th {\n",
       "        text-align: right;\n",
       "    }\n",
       "</style>\n",
       "<table border=\"1\" class=\"dataframe\">\n",
       "  <thead>\n",
       "    <tr style=\"text-align: right;\">\n",
       "      <th></th>\n",
       "      <th>ФИО</th>\n",
       "      <th>Пол</th>\n",
       "      <th>3</th>\n",
       "      <th>4</th>\n",
       "      <th>5</th>\n",
       "      <th>Ожидаемая оценка</th>\n",
       "    </tr>\n",
       "  </thead>\n",
       "  <tbody>\n",
       "    <tr>\n",
       "      <th>0</th>\n",
       "      <td>Суханова Маргарита Богдановна</td>\n",
       "      <td>женский</td>\n",
       "      <td>0.209266</td>\n",
       "      <td>0.287248</td>\n",
       "      <td>0.503485</td>\n",
       "      <td>4.29</td>\n",
       "    </tr>\n",
       "    <tr>\n",
       "      <th>1</th>\n",
       "      <td>Лаврентьев Давид Анатольевич</td>\n",
       "      <td>мужской</td>\n",
       "      <td>0.142705</td>\n",
       "      <td>0.368242</td>\n",
       "      <td>0.489053</td>\n",
       "      <td>4.35</td>\n",
       "    </tr>\n",
       "    <tr>\n",
       "      <th>2</th>\n",
       "      <td>Винниченко Дарья Максимовна</td>\n",
       "      <td>женский</td>\n",
       "      <td>0.280271</td>\n",
       "      <td>0.103994</td>\n",
       "      <td>0.615735</td>\n",
       "      <td>4.34</td>\n",
       "    </tr>\n",
       "    <tr>\n",
       "      <th>3</th>\n",
       "      <td>Козлова Маргарита Максимовна</td>\n",
       "      <td>женский</td>\n",
       "      <td>0.230887</td>\n",
       "      <td>0.354259</td>\n",
       "      <td>0.414854</td>\n",
       "      <td>4.18</td>\n",
       "    </tr>\n",
       "    <tr>\n",
       "      <th>4</th>\n",
       "      <td>Кулешов Евгений Маратович</td>\n",
       "      <td>мужской</td>\n",
       "      <td>0.817502</td>\n",
       "      <td>0.018838</td>\n",
       "      <td>0.163660</td>\n",
       "      <td>3.35</td>\n",
       "    </tr>\n",
       "    <tr>\n",
       "      <th>...</th>\n",
       "      <td>...</td>\n",
       "      <td>...</td>\n",
       "      <td>...</td>\n",
       "      <td>...</td>\n",
       "      <td>...</td>\n",
       "      <td>...</td>\n",
       "    </tr>\n",
       "    <tr>\n",
       "      <th>140</th>\n",
       "      <td>Бычкова Александра Борисовна</td>\n",
       "      <td>женский</td>\n",
       "      <td>0.178054</td>\n",
       "      <td>0.312609</td>\n",
       "      <td>0.509337</td>\n",
       "      <td>4.33</td>\n",
       "    </tr>\n",
       "    <tr>\n",
       "      <th>141</th>\n",
       "      <td>Кулешов Семен Богданович</td>\n",
       "      <td>мужской</td>\n",
       "      <td>0.441753</td>\n",
       "      <td>0.359838</td>\n",
       "      <td>0.198409</td>\n",
       "      <td>3.76</td>\n",
       "    </tr>\n",
       "    <tr>\n",
       "      <th>142</th>\n",
       "      <td>Павловскиая Алена Данииловна</td>\n",
       "      <td>женский</td>\n",
       "      <td>0.512838</td>\n",
       "      <td>0.235179</td>\n",
       "      <td>0.251983</td>\n",
       "      <td>3.74</td>\n",
       "    </tr>\n",
       "    <tr>\n",
       "      <th>143</th>\n",
       "      <td>Лапин Юрий Тимурович</td>\n",
       "      <td>мужской</td>\n",
       "      <td>0.242028</td>\n",
       "      <td>0.421481</td>\n",
       "      <td>0.336491</td>\n",
       "      <td>4.09</td>\n",
       "    </tr>\n",
       "    <tr>\n",
       "      <th>144</th>\n",
       "      <td>Курочкин Андрей Семенович</td>\n",
       "      <td>мужской</td>\n",
       "      <td>0.634761</td>\n",
       "      <td>0.028575</td>\n",
       "      <td>0.336664</td>\n",
       "      <td>3.70</td>\n",
       "    </tr>\n",
       "  </tbody>\n",
       "</table>\n",
       "<p>145 rows × 6 columns</p>\n",
       "</div>"
      ],
      "text/plain": [
       "                               ФИО      Пол         3         4         5  \\\n",
       "0    Суханова Маргарита Богдановна  женский  0.209266  0.287248  0.503485   \n",
       "1     Лаврентьев Давид Анатольевич  мужской  0.142705  0.368242  0.489053   \n",
       "2      Винниченко Дарья Максимовна  женский  0.280271  0.103994  0.615735   \n",
       "3     Козлова Маргарита Максимовна  женский  0.230887  0.354259  0.414854   \n",
       "4        Кулешов Евгений Маратович  мужской  0.817502  0.018838  0.163660   \n",
       "..                             ...      ...       ...       ...       ...   \n",
       "140   Бычкова Александра Борисовна  женский  0.178054  0.312609  0.509337   \n",
       "141       Кулешов Семен Богданович  мужской  0.441753  0.359838  0.198409   \n",
       "142   Павловскиая Алена Данииловна  женский  0.512838  0.235179  0.251983   \n",
       "143           Лапин Юрий Тимурович  мужской  0.242028  0.421481  0.336491   \n",
       "144      Курочкин Андрей Семенович  мужской  0.634761  0.028575  0.336664   \n",
       "\n",
       "     Ожидаемая оценка  \n",
       "0                4.29  \n",
       "1                4.35  \n",
       "2                4.34  \n",
       "3                4.18  \n",
       "4                3.35  \n",
       "..                ...  \n",
       "140              4.33  \n",
       "141              3.76  \n",
       "142              3.74  \n",
       "143              4.09  \n",
       "144              3.70  \n",
       "\n",
       "[145 rows x 6 columns]"
      ]
     },
     "execution_count": 135,
     "metadata": {},
     "output_type": "execute_result"
    }
   ],
   "source": [
    "probs[\"Ожидаемая оценка\"] = (\n",
    "    probs[3] * 3 + probs[4] * 4 + probs[5] * 5\n",
    ").round(2)\n",
    "probs"
   ]
  },
  {
   "cell_type": "markdown",
   "id": "2280cb4c",
   "metadata": {},
   "source": [
    "### Задание 6\n",
    "\n",
    "В ячейке ниже создается 2 матрицы. Посмотрите их на их размерность при помощи атрибута shape. После этого попробуйте их перемножить: сначала поэлементно, а затем матрично. Однако во втором случае одну из матриц придется транспонировать. Посчитайете 4 варианта: x<sup>T</sup>y, y<sup>T</sup>x, xy<sup>T</sup>, y<sup>T</sup>x"
   ]
  },
  {
   "cell_type": "code",
   "execution_count": 143,
   "id": "4053eae5",
   "metadata": {},
   "outputs": [],
   "source": [
    "import numpy as np\n",
    "np.random.seed(455432)\n",
    "x, y = np.random.normal(0, 1, size=(2, 3, 50))"
   ]
  },
  {
   "cell_type": "code",
   "execution_count": 140,
   "id": "616e1c80",
   "metadata": {},
   "outputs": [
    {
     "data": {
      "text/plain": [
       "array([ 0.67005889, -0.47523798,  1.15402887, -0.23064434,  0.97681028,\n",
       "        0.83235891, -0.05335325,  0.66847609, -1.08656973,  1.43284624,\n",
       "        2.42492664, -0.0530845 ,  0.26519069,  0.46452006, -2.61734647,\n",
       "       -1.69222737,  0.45558357,  2.71777093, -1.06915364, -0.03580024,\n",
       "       -1.13283498, -1.21889605, -2.0303285 ,  0.0285556 , -0.95940151,\n",
       "       -0.7103862 ,  1.0393147 ,  0.85854218, -1.34287665, -0.20192687,\n",
       "        2.02903579, -1.34944033, -1.11392816, -1.0983752 ,  0.42586373,\n",
       "        0.55580742, -0.8427608 , -0.41336064, -0.79489284,  0.80376341,\n",
       "       -1.56561324, -2.01206512,  1.6387769 ,  1.55237262, -1.13691154,\n",
       "        0.16752373, -0.83325237, -0.70997368,  0.15833985, -1.32564509])"
      ]
     },
     "execution_count": 140,
     "metadata": {},
     "output_type": "execute_result"
    }
   ],
   "source": [
    "x[0]"
   ]
  },
  {
   "cell_type": "code",
   "execution_count": 138,
   "id": "4283df1f",
   "metadata": {},
   "outputs": [
    {
     "name": "stdout",
     "output_type": "stream",
     "text": [
      "(3, 50)\n",
      "(3, 50)\n"
     ]
    }
   ],
   "source": [
    "print(x.shape)\n",
    "print(y.shape)"
   ]
  },
  {
   "cell_type": "code",
   "execution_count": 141,
   "id": "83f4650b",
   "metadata": {},
   "outputs": [
    {
     "data": {
      "text/plain": [
       "array([[ 0.92013595,  0.24852844,  0.99370831],\n",
       "       [-0.87506763, -0.45350057, -1.93892235],\n",
       "       [-1.23396094, -1.19812472, -0.85259458],\n",
       "       [-1.19388821,  0.24257304,  0.54574877],\n",
       "       [ 0.48547136,  1.92101423, -0.52325437],\n",
       "       [-1.07466219,  0.84201378,  1.41155217],\n",
       "       [-0.11746979,  2.24723968,  0.10623915],\n",
       "       [ 0.07903402, -0.4437366 ,  0.56154709],\n",
       "       [ 0.22863722, -1.29006138, -0.93444068],\n",
       "       [ 0.27507824,  0.30242999,  0.30284488],\n",
       "       [-0.77657171, -0.9545723 ,  0.23474426],\n",
       "       [ 0.47198641, -0.16838226, -0.32101021],\n",
       "       [ 0.29823181, -0.5891845 , -0.09213011],\n",
       "       [-1.42436863,  1.16591764,  0.9002252 ],\n",
       "       [-0.34007765, -1.09462903,  1.07368899],\n",
       "       [-1.33341043, -0.21510653,  0.16365451],\n",
       "       [ 0.16470949,  0.18196254,  0.54239007],\n",
       "       [-1.37795923, -0.75897777, -2.07657159],\n",
       "       [-1.36482819, -1.00035714,  0.76822651],\n",
       "       [ 0.05393209, -0.04939023, -0.26297978],\n",
       "       [-0.17695996, -0.22776035,  0.36141912],\n",
       "       [ 1.09764899, -0.4952059 ,  0.01406708],\n",
       "       [-0.79422721,  1.47460722,  0.10659986],\n",
       "       [ 0.3093946 , -0.66402426,  0.26528171],\n",
       "       [-0.72707978,  0.91572196, -1.62793067],\n",
       "       [ 0.18986263,  0.11876061, -0.14195227],\n",
       "       [ 0.1932816 , -0.57007484, -0.52795631],\n",
       "       [-0.90633639, -0.21760648, -0.64656423],\n",
       "       [-0.62061259,  1.91246191,  0.27004716],\n",
       "       [ 0.52837373,  1.06373963, -0.55426603],\n",
       "       [ 0.49967676, -0.87020633,  0.6143399 ],\n",
       "       [ 0.73633613, -2.54957177, -1.26445227],\n",
       "       [ 0.07656936,  0.9960982 ,  0.00290276],\n",
       "       [ 1.64342361, -1.15075501,  1.12794529],\n",
       "       [ 0.69577654,  1.54238228, -0.5591893 ],\n",
       "       [-0.59479499, -1.0546065 ,  2.24483268],\n",
       "       [-0.9445449 , -0.90123265, -0.26054248],\n",
       "       [-1.18074166, -1.57920435, -1.80327894],\n",
       "       [-2.34190838,  0.47257406,  1.65364552],\n",
       "       [-0.23229144,  1.14062124,  0.04999048],\n",
       "       [-1.03907693, -2.17504366, -1.03721566],\n",
       "       [-1.4728251 ,  0.15167233, -1.60511195],\n",
       "       [-0.32664451, -1.48392548,  0.24082099],\n",
       "       [-0.59193056,  0.4025005 ,  1.39916247],\n",
       "       [-0.01676689, -2.11250498,  2.08009432],\n",
       "       [ 1.09622459,  0.71110699, -0.05570836],\n",
       "       [ 1.86466711, -0.75080585, -0.12493417],\n",
       "       [-0.79640327,  0.52110824,  1.21182133],\n",
       "       [ 0.2073127 ,  0.40484334, -0.30942207],\n",
       "       [-0.86889207, -1.0608821 ,  0.09210228]])"
      ]
     },
     "execution_count": 141,
     "metadata": {},
     "output_type": "execute_result"
    }
   ],
   "source": [
    "y.reshape(50, -1)"
   ]
  },
  {
   "cell_type": "code",
   "execution_count": 145,
   "id": "a66acf53",
   "metadata": {},
   "outputs": [
    {
     "data": {
      "text/plain": [
       "array([[ 6.16545278e-01, -1.18110151e-01,  1.14676807e+00,\n",
       "         2.01829394e-01, -4.42984024e-01, -1.61387929e+00,\n",
       "         6.58358242e-02, -8.00917727e-01,  9.26403461e-01,\n",
       "        -1.71065824e+00,  5.88221840e-01, -2.89708023e-02,\n",
       "         1.28742487e-01,  8.92349653e-01,  1.36953798e+00,\n",
       "         1.81857277e+00,  3.83607646e-01,  3.83627545e+00,\n",
       "         1.25593253e-01, -8.04517281e-02, -1.20351421e-01,\n",
       "        -9.63342555e-02,  9.00931070e-01,  1.60353148e-02,\n",
       "        -2.19354896e-01,  9.16441803e-01, -9.71177936e-01,\n",
       "         2.36166275e-01, -4.06126173e-01, -6.11525175e-02,\n",
       "        -1.57569178e+00,  1.28813835e+00, -2.61488244e-01,\n",
       "        -5.18418170e-01, -7.17078958e-02, -1.78419856e-01,\n",
       "        -2.51338073e-01,  2.43545682e-01,  7.32335608e-02,\n",
       "        -1.14485539e+00, -1.82537610e+00, -1.81131173e+00,\n",
       "        -5.57311403e-01, -1.69927214e+00, -1.22068941e+00,\n",
       "        -2.23377886e-01,  1.79238029e-01, -1.16190396e-01,\n",
       "         2.60800758e-02, -2.41217747e-01],\n",
       "       [ 2.13604188e-01,  8.03318934e-01, -3.41875292e-01,\n",
       "         2.76065961e+00, -2.04414879e+00, -2.08795819e+00,\n",
       "        -7.90769649e-01,  1.13715327e-01,  3.64608912e-03,\n",
       "         1.18622493e-01,  7.86342947e-03,  1.11387946e-01,\n",
       "        -3.29596511e-01,  1.25442121e+00,  9.61258020e-02,\n",
       "         2.52596813e-04, -3.92649265e-01,  4.87108737e-01,\n",
       "        -2.30147679e-02, -5.50178638e-02, -4.83868187e-01,\n",
       "        -1.02658464e-01, -2.92142843e-01, -7.63836581e-01,\n",
       "         2.25722467e+00,  1.30535646e-01,  8.36432945e-02,\n",
       "         1.11875073e-01,  2.45938009e-01,  4.26383644e-01,\n",
       "        -9.53119858e-01,  6.00796651e-01,  1.33129825e-01,\n",
       "         1.09464979e+00,  7.00521188e-01,  1.43558270e-01,\n",
       "        -3.04952711e-01,  6.72010945e-02,  2.22413857e+00,\n",
       "         8.78255382e-01, -8.27201160e-01, -1.08870676e+00,\n",
       "         8.79393763e-02, -1.21504666e+00,  1.20540117e+00,\n",
       "        -1.05808193e-01, -1.71923685e-02,  8.50647756e-01,\n",
       "         4.78986340e-03,  8.14303075e-01],\n",
       "       [-8.28407209e-01,  1.62932866e-01,  1.30968099e-01,\n",
       "         2.47795753e+00,  2.51901030e-01,  7.95872245e-01,\n",
       "         7.71656401e-01,  4.08069464e+00, -8.22044114e-01,\n",
       "         1.22128905e+00,  1.55849290e-02,  4.19688294e-01,\n",
       "        -4.58996917e-01, -2.25011939e+00,  1.78802924e+00,\n",
       "         1.34463827e+00,  1.77317804e+00,  7.00141772e-02,\n",
       "         1.69492107e+00,  5.34062870e-02,  8.45122144e-01,\n",
       "        -8.60430112e-01, -8.73042109e-01, -9.33212400e-01,\n",
       "        -5.37811377e-02, -5.06403995e-01, -3.03511770e-01,\n",
       "         4.95331973e-01,  1.40983757e-01,  7.64388990e-02,\n",
       "         2.36141929e-01,  2.22641939e+00, -7.83030419e-03,\n",
       "         4.32606337e+00, -2.08643625e+00,  1.07633124e-01,\n",
       "        -1.19821308e+00,  7.65857752e-03,  2.48536729e+00,\n",
       "        -1.44098265e+00,  2.78510583e-02, -6.75551560e-01,\n",
       "        -4.41102057e-01, -3.88395050e-01,  2.85949476e-01,\n",
       "        -1.83561248e-01,  4.16904381e-01, -9.71679244e-01,\n",
       "        -1.54847930e+00,  3.93610983e-02]])"
      ]
     },
     "execution_count": 145,
     "metadata": {},
     "output_type": "execute_result"
    }
   ],
   "source": [
    "x * y"
   ]
  },
  {
   "cell_type": "code",
   "execution_count": 149,
   "id": "0d3d1354",
   "metadata": {},
   "outputs": [
    {
     "data": {
      "text/plain": [
       "array([[-2.3870421 ,  9.34664715, 11.91593582],\n",
       "       [-3.01600682,  5.8120946 ,  3.79875307],\n",
       "       [ 0.9177062 , -1.43729562, 11.93777875]])"
      ]
     },
     "execution_count": 149,
     "metadata": {},
     "output_type": "execute_result"
    }
   ],
   "source": [
    "x @ y.T"
   ]
  },
  {
   "cell_type": "markdown",
   "id": "dc9e83f0",
   "metadata": {},
   "source": [
    "### Задание 7\n",
    "\n",
    "Создайте 2 вектора одинакового размера и найдите между ними скалярное произведение"
   ]
  },
  {
   "cell_type": "code",
   "execution_count": 99,
   "id": "593a3238",
   "metadata": {},
   "outputs": [],
   "source": [
    "import numpy as np"
   ]
  },
  {
   "cell_type": "code",
   "execution_count": 160,
   "id": "b25abc8e",
   "metadata": {},
   "outputs": [
    {
     "data": {
      "text/plain": [
       "array([31, 39, 38,  4,  8, 35, 32, 39, 19,  7, 35, 30,  4,  2, 10])"
      ]
     },
     "execution_count": 160,
     "metadata": {},
     "output_type": "execute_result"
    }
   ],
   "source": [
    "vec1 = np.random.randint(1, 50, size=15)\n",
    "vec1"
   ]
  },
  {
   "cell_type": "code",
   "execution_count": 162,
   "id": "3346334f",
   "metadata": {},
   "outputs": [
    {
     "data": {
      "text/plain": [
       "array([ 1, 23, 26, 47, 20, 43, 31,  9, 11,  9, 11, 43, 41,  5, 41])"
      ]
     },
     "execution_count": 162,
     "metadata": {},
     "output_type": "execute_result"
    }
   ],
   "source": [
    "vec2 = np.random.randint(1, 50, size=15)\n",
    "vec2"
   ]
  },
  {
   "cell_type": "code",
   "execution_count": 163,
   "id": "6269f2c9",
   "metadata": {},
   "outputs": [
    {
     "data": {
      "text/plain": [
       "7643"
      ]
     },
     "execution_count": 163,
     "metadata": {},
     "output_type": "execute_result"
    }
   ],
   "source": [
    "vec1 @ vec2"
   ]
  },
  {
   "cell_type": "code",
   "execution_count": null,
   "id": "2050a7dc",
   "metadata": {},
   "outputs": [],
   "source": []
  },
  {
   "cell_type": "code",
   "execution_count": null,
   "id": "54499d76",
   "metadata": {},
   "outputs": [],
   "source": []
  },
  {
   "cell_type": "code",
   "execution_count": null,
   "id": "2d3cc725",
   "metadata": {},
   "outputs": [],
   "source": []
  }
 ],
 "metadata": {
  "kernelspec": {
   "display_name": "artemiy",
   "language": "python",
   "name": "python3"
  },
  "language_info": {
   "codemirror_mode": {
    "name": "ipython",
    "version": 3
   },
   "file_extension": ".py",
   "mimetype": "text/x-python",
   "name": "python",
   "nbconvert_exporter": "python",
   "pygments_lexer": "ipython3",
   "version": "3.11.10"
  }
 },
 "nbformat": 4,
 "nbformat_minor": 5
}
