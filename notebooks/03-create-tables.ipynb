{
 "cells": [
  {
   "cell_type": "markdown",
   "id": "2e049cf6",
   "metadata": {},
   "source": [
    "<a target=\"_blank\" href=\"https://colab.research.google.com/github/victorlymarev/pandas/blob/main/notebooks/03-create-tables.ipynb\">\n",
    "  <img src=\"https://colab.research.google.com/assets/colab-badge.svg\" alt=\"Open In Colab\"/>\n",
    "</a>"
   ]
  },
  {
   "cell_type": "markdown",
   "id": "2022d1cc",
   "metadata": {},
   "source": [
    "# Создание таблиц\n",
    "#### [Ссылка на видео](https://youtu.be/B02VfvdXJfA)"
   ]
  },
  {
   "cell_type": "code",
   "execution_count": 1,
   "id": "d38eb4d8",
   "metadata": {},
   "outputs": [],
   "source": [
    "import pandas as pd\n",
    "import numpy as np"
   ]
  },
  {
   "cell_type": "markdown",
   "id": "54e2d350",
   "metadata": {},
   "source": [
    "## Создание объекта Series"
   ]
  },
  {
   "cell_type": "markdown",
   "id": "2c0d347c",
   "metadata": {},
   "source": [
    "### На основе одного значения"
   ]
  },
  {
   "cell_type": "code",
   "execution_count": 2,
   "id": "02b7cd2a",
   "metadata": {},
   "outputs": [
    {
     "data": {
      "text/plain": [
       "0    1\n",
       "dtype: int64"
      ]
     },
     "execution_count": 2,
     "metadata": {},
     "output_type": "execute_result"
    }
   ],
   "source": [
    "pd.Series(1)"
   ]
  },
  {
   "cell_type": "code",
   "execution_count": 3,
   "id": "17431ac3",
   "metadata": {},
   "outputs": [
    {
     "data": {
      "text/plain": [
       "0    pandas\n",
       "dtype: object"
      ]
     },
     "execution_count": 3,
     "metadata": {},
     "output_type": "execute_result"
    }
   ],
   "source": [
    "pd.Series('pandas')"
   ]
  },
  {
   "cell_type": "markdown",
   "id": "f42bcff0",
   "metadata": {},
   "source": [
    "### На основе списка"
   ]
  },
  {
   "cell_type": "code",
   "execution_count": 4,
   "id": "d153d478",
   "metadata": {},
   "outputs": [
    {
     "data": {
      "text/plain": [
       "['Аня', 'Маша', 'Вася', 'Катя', 'Аня']"
      ]
     },
     "execution_count": 4,
     "metadata": {},
     "output_type": "execute_result"
    }
   ],
   "source": [
    "['Аня', 'Маша', 'Вася', 'Катя', 'Аня']"
   ]
  },
  {
   "cell_type": "code",
   "execution_count": 5,
   "id": "626cf6cf",
   "metadata": {},
   "outputs": [
    {
     "data": {
      "text/plain": [
       "0     Аня\n",
       "1    Маша\n",
       "2    Вася\n",
       "3    Катя\n",
       "4     Аня\n",
       "dtype: object"
      ]
     },
     "execution_count": 5,
     "metadata": {},
     "output_type": "execute_result"
    }
   ],
   "source": [
    "pd.Series(['Аня', 'Маша', 'Вася', 'Катя', 'Аня'])"
   ]
  },
  {
   "cell_type": "code",
   "execution_count": 6,
   "id": "9f465a76",
   "metadata": {},
   "outputs": [
    {
     "data": {
      "text/plain": [
       "Аня     2\n",
       "Маша    1\n",
       "Вася    1\n",
       "Катя    1\n",
       "Name: count, dtype: int64"
      ]
     },
     "execution_count": 6,
     "metadata": {},
     "output_type": "execute_result"
    }
   ],
   "source": [
    "pd.Series(['Аня', 'Маша', 'Вася', 'Катя', 'Аня']).value_counts()"
   ]
  },
  {
   "cell_type": "markdown",
   "id": "8fd530df",
   "metadata": {},
   "source": [
    "### На основе словаря"
   ]
  },
  {
   "cell_type": "code",
   "execution_count": 7,
   "id": "70541e76",
   "metadata": {},
   "outputs": [
    {
     "data": {
      "text/plain": [
       "3      Катя\n",
       "9     Света\n",
       "34     Паша\n",
       "dtype: object"
      ]
     },
     "execution_count": 7,
     "metadata": {},
     "output_type": "execute_result"
    }
   ],
   "source": [
    "pd.Series({3:\"Катя\", 9:\"Света\", 34: \"Паша\"})"
   ]
  },
  {
   "cell_type": "markdown",
   "id": "9371a2a6",
   "metadata": {},
   "source": [
    "## Создание датафреймов"
   ]
  },
  {
   "cell_type": "markdown",
   "id": "8130f250",
   "metadata": {},
   "source": [
    "### На основе словаря"
   ]
  },
  {
   "cell_type": "code",
   "execution_count": 8,
   "id": "99796006",
   "metadata": {},
   "outputs": [],
   "source": [
    "people_dict = {\n",
    "    'Имя': ['Екатерина', 'Евгений', 'Андрей', 'Виктория', 'Анастасия', 'Данил'],\n",
    "    \n",
    "    'Фамилия': [pd.NA, 'Бубликов', 'Васильев', 'Леонова', 'Долгова',\n",
    "                'Новиков'],\n",
    "    \n",
    "    'Дата рождения': pd.to_datetime(['1992-06-25', '1995-09-09', '2000-02-29',\n",
    "                                     '1999-06-15', '2003-04-06', '1995-06-03']),\n",
    "    \n",
    "    'Количество детей': 0,\n",
    "    \n",
    "    'Дата увольнения': pd.Timestamp('12-06-2023')\n",
    "}"
   ]
  },
  {
   "cell_type": "code",
   "execution_count": 9,
   "id": "f166ea75",
   "metadata": {},
   "outputs": [
    {
     "data": {
      "text/html": [
       "<div>\n",
       "<style scoped>\n",
       "    .dataframe tbody tr th:only-of-type {\n",
       "        vertical-align: middle;\n",
       "    }\n",
       "\n",
       "    .dataframe tbody tr th {\n",
       "        vertical-align: top;\n",
       "    }\n",
       "\n",
       "    .dataframe thead th {\n",
       "        text-align: right;\n",
       "    }\n",
       "</style>\n",
       "<table border=\"1\" class=\"dataframe\">\n",
       "  <thead>\n",
       "    <tr style=\"text-align: right;\">\n",
       "      <th></th>\n",
       "      <th>Имя</th>\n",
       "      <th>Фамилия</th>\n",
       "      <th>Дата рождения</th>\n",
       "      <th>Количество детей</th>\n",
       "      <th>Дата увольнения</th>\n",
       "    </tr>\n",
       "  </thead>\n",
       "  <tbody>\n",
       "    <tr>\n",
       "      <th>0</th>\n",
       "      <td>Екатерина</td>\n",
       "      <td>&lt;NA&gt;</td>\n",
       "      <td>1992-06-25</td>\n",
       "      <td>0</td>\n",
       "      <td>2023-12-06</td>\n",
       "    </tr>\n",
       "    <tr>\n",
       "      <th>1</th>\n",
       "      <td>Евгений</td>\n",
       "      <td>Бубликов</td>\n",
       "      <td>1995-09-09</td>\n",
       "      <td>0</td>\n",
       "      <td>2023-12-06</td>\n",
       "    </tr>\n",
       "    <tr>\n",
       "      <th>2</th>\n",
       "      <td>Андрей</td>\n",
       "      <td>Васильев</td>\n",
       "      <td>2000-02-29</td>\n",
       "      <td>0</td>\n",
       "      <td>2023-12-06</td>\n",
       "    </tr>\n",
       "    <tr>\n",
       "      <th>3</th>\n",
       "      <td>Виктория</td>\n",
       "      <td>Леонова</td>\n",
       "      <td>1999-06-15</td>\n",
       "      <td>0</td>\n",
       "      <td>2023-12-06</td>\n",
       "    </tr>\n",
       "    <tr>\n",
       "      <th>4</th>\n",
       "      <td>Анастасия</td>\n",
       "      <td>Долгова</td>\n",
       "      <td>2003-04-06</td>\n",
       "      <td>0</td>\n",
       "      <td>2023-12-06</td>\n",
       "    </tr>\n",
       "    <tr>\n",
       "      <th>5</th>\n",
       "      <td>Данил</td>\n",
       "      <td>Новиков</td>\n",
       "      <td>1995-06-03</td>\n",
       "      <td>0</td>\n",
       "      <td>2023-12-06</td>\n",
       "    </tr>\n",
       "  </tbody>\n",
       "</table>\n",
       "</div>"
      ],
      "text/plain": [
       "         Имя   Фамилия Дата рождения  Количество детей Дата увольнения\n",
       "0  Екатерина      <NA>    1992-06-25                 0      2023-12-06\n",
       "1    Евгений  Бубликов    1995-09-09                 0      2023-12-06\n",
       "2     Андрей  Васильев    2000-02-29                 0      2023-12-06\n",
       "3   Виктория   Леонова    1999-06-15                 0      2023-12-06\n",
       "4  Анастасия   Долгова    2003-04-06                 0      2023-12-06\n",
       "5      Данил   Новиков    1995-06-03                 0      2023-12-06"
      ]
     },
     "execution_count": 9,
     "metadata": {},
     "output_type": "execute_result"
    }
   ],
   "source": [
    "pd.DataFrame(people_dict)"
   ]
  },
  {
   "cell_type": "markdown",
   "id": "36af597a",
   "metadata": {},
   "source": [
    "## Функции для создания периодических чисел или дат"
   ]
  },
  {
   "cell_type": "markdown",
   "id": "1ff0f7d7",
   "metadata": {},
   "source": [
    "### np.arange\n",
    "\n",
    "Генерирует целые числа\n",
    "\n",
    "#### Синтаксис\n",
    "\n",
    "1. np.arange(первое число в массиве, последнее число в массиве невключительно, шаг (по умолчанию равен 1))\n",
    "2. np.arange(последнее число в массиве невключительно)"
   ]
  },
  {
   "cell_type": "code",
   "execution_count": 10,
   "id": "c03f530c",
   "metadata": {},
   "outputs": [
    {
     "data": {
      "text/plain": [
       "array([0, 1, 2, 3, 4])"
      ]
     },
     "execution_count": 10,
     "metadata": {},
     "output_type": "execute_result"
    }
   ],
   "source": [
    "np.arange(5)"
   ]
  },
  {
   "cell_type": "code",
   "execution_count": 11,
   "id": "03177851",
   "metadata": {},
   "outputs": [
    {
     "data": {
      "text/plain": [
       "array([2, 3, 4])"
      ]
     },
     "execution_count": 11,
     "metadata": {},
     "output_type": "execute_result"
    }
   ],
   "source": [
    "np.arange(2, 5)"
   ]
  },
  {
   "cell_type": "code",
   "execution_count": 12,
   "id": "529f32ef",
   "metadata": {},
   "outputs": [
    {
     "data": {
      "text/plain": [
       "array([2, 4, 6, 8])"
      ]
     },
     "execution_count": 12,
     "metadata": {},
     "output_type": "execute_result"
    }
   ],
   "source": [
    "np.arange(2, 10, 2)"
   ]
  },
  {
   "cell_type": "code",
   "execution_count": 13,
   "id": "2be456f9",
   "metadata": {},
   "outputs": [
    {
     "data": {
      "text/plain": [
       "array([-50. , -48.5, -47. , -45.5, -44. , -42.5, -41. , -39.5, -38. ,\n",
       "       -36.5, -35. , -33.5, -32. , -30.5, -29. , -27.5, -26. , -24.5,\n",
       "       -23. , -21.5, -20. , -18.5, -17. , -15.5, -14. , -12.5, -11. ,\n",
       "        -9.5,  -8. ,  -6.5,  -5. ,  -3.5,  -2. ,  -0.5,   1. ,   2.5,\n",
       "         4. ,   5.5,   7. ,   8.5])"
      ]
     },
     "execution_count": 13,
     "metadata": {},
     "output_type": "execute_result"
    }
   ],
   "source": [
    "np.arange(-50, 10, 1.5)"
   ]
  },
  {
   "cell_type": "code",
   "execution_count": 14,
   "id": "b903f756",
   "metadata": {},
   "outputs": [],
   "source": [
    "from random import randint"
   ]
  },
  {
   "cell_type": "code",
   "execution_count": 15,
   "id": "0a2c76d3",
   "metadata": {},
   "outputs": [
    {
     "data": {
      "text/plain": [
       "array([0, 1, 2, 3, 4, 5, 6])"
      ]
     },
     "execution_count": 15,
     "metadata": {},
     "output_type": "execute_result"
    }
   ],
   "source": [
    "np.arange(randint(1, 10))"
   ]
  },
  {
   "cell_type": "code",
   "execution_count": 16,
   "id": "e6390721",
   "metadata": {},
   "outputs": [
    {
     "data": {
      "text/plain": [
       "array([100,  99,  98,  97,  96,  95,  94,  93,  92,  91,  90,  89,  88,\n",
       "        87,  86,  85,  84,  83,  82,  81,  80,  79,  78,  77,  76,  75,\n",
       "        74,  73,  72,  71,  70,  69,  68,  67,  66,  65,  64,  63,  62,\n",
       "        61,  60,  59,  58,  57,  56,  55,  54,  53,  52,  51,  50,  49,\n",
       "        48,  47,  46,  45,  44,  43,  42,  41,  40,  39,  38,  37,  36,\n",
       "        35,  34,  33,  32,  31,  30,  29,  28,  27,  26,  25,  24,  23,\n",
       "        22,  21,  20,  19,  18,  17,  16,  15,  14,  13,  12,  11,  10,\n",
       "         9,   8,   7,   6,   5,   4,   3,   2,   1])"
      ]
     },
     "execution_count": 16,
     "metadata": {},
     "output_type": "execute_result"
    }
   ],
   "source": [
    "np.arange(100, 0, -1)"
   ]
  },
  {
   "cell_type": "markdown",
   "id": "8d05ec19",
   "metadata": {},
   "source": [
    "### np.linspace\n",
    "\n",
    "Делит отрезок на равные части\n",
    "\n",
    "#### Синтаксис:\n",
    "\n",
    "np.linspace(нначало отрезка, конц отрезка, число точек на отрезке)"
   ]
  },
  {
   "cell_type": "code",
   "execution_count": 17,
   "id": "a0535590",
   "metadata": {},
   "outputs": [
    {
     "data": {
      "text/plain": [
       "array([ 0.,  1.,  2.,  3.,  4.,  5.,  6.,  7.,  8.,  9., 10.])"
      ]
     },
     "execution_count": 17,
     "metadata": {},
     "output_type": "execute_result"
    }
   ],
   "source": [
    "np.linspace(0, 10, 11)"
   ]
  },
  {
   "cell_type": "code",
   "execution_count": 18,
   "id": "3991d127",
   "metadata": {},
   "outputs": [
    {
     "data": {
      "text/plain": [
       "array([5.        , 5.14285714, 5.28571429, 5.42857143, 5.57142857,\n",
       "       5.71428571, 5.85714286, 6.        ])"
      ]
     },
     "execution_count": 18,
     "metadata": {},
     "output_type": "execute_result"
    }
   ],
   "source": [
    "np.linspace(5, 6, 8)"
   ]
  },
  {
   "cell_type": "code",
   "execution_count": null,
   "id": "761e0110",
   "metadata": {},
   "outputs": [],
   "source": []
  },
  {
   "cell_type": "markdown",
   "id": "cb6c12db",
   "metadata": {},
   "source": [
    "### pd.date_range(start, end, periods, freq)\n",
    "\n",
    "__start__ - начало периода генерации дат\n",
    "\n",
    "__end__ - конец периода генерации дат\n",
    "\n",
    "__periods__ - количество дат для генерации\n",
    "\n",
    "__freq__ - период, с которым даты будут генерироваться"
   ]
  },
  {
   "cell_type": "code",
   "execution_count": 19,
   "id": "62f6b0c1",
   "metadata": {},
   "outputs": [
    {
     "data": {
      "text/plain": [
       "DatetimeIndex([          '2020-09-06 00:00:00',\n",
       "               '2020-11-15 06:51:25.714285714',\n",
       "               '2021-01-24 13:42:51.428571428',\n",
       "               '2021-04-04 20:34:17.142857144',\n",
       "               '2021-06-14 03:25:42.857142856',\n",
       "               '2021-08-23 10:17:08.571428568',\n",
       "               '2021-11-01 17:08:34.285714288',\n",
       "                         '2022-01-11 00:00:00',\n",
       "               '2022-03-22 06:51:25.714285712',\n",
       "               '2022-05-31 13:42:51.428571424',\n",
       "               '2022-08-09 20:34:17.142857136',\n",
       "               '2022-10-19 03:25:42.857142856',\n",
       "               '2022-12-28 10:17:08.571428576',\n",
       "               '2023-03-08 17:08:34.285714288',\n",
       "                         '2023-05-18 00:00:00'],\n",
       "              dtype='datetime64[ns]', freq=None)"
      ]
     },
     "execution_count": 19,
     "metadata": {},
     "output_type": "execute_result"
    }
   ],
   "source": [
    "pd.date_range('2020-09-06', '2023-05-18', periods=15)"
   ]
  },
  {
   "cell_type": "code",
   "execution_count": 20,
   "id": "db9b3ea3",
   "metadata": {},
   "outputs": [
    {
     "data": {
      "text/plain": [
       "DatetimeIndex(['2020-09-06', '2020-11-15', '2021-01-24', '2021-04-04',\n",
       "               '2021-06-14', '2021-08-23', '2021-11-01', '2022-01-11',\n",
       "               '2022-03-22', '2022-05-31', '2022-08-09', '2022-10-19',\n",
       "               '2022-12-28', '2023-03-08', '2023-05-18'],\n",
       "              dtype='datetime64[ns]', freq=None)"
      ]
     },
     "execution_count": 20,
     "metadata": {},
     "output_type": "execute_result"
    }
   ],
   "source": [
    "pd.date_range('2020-09-06', '2023-05-18', periods=15).normalize()"
   ]
  },
  {
   "cell_type": "code",
   "execution_count": 21,
   "id": "d22d47e1",
   "metadata": {},
   "outputs": [
    {
     "data": {
      "text/plain": [
       "DatetimeIndex(['2020-09-06 15:00:00', '2020-09-08 21:00:00',\n",
       "               '2020-09-11 03:00:00', '2020-09-13 09:00:00',\n",
       "               '2020-09-15 15:00:00', '2020-09-17 21:00:00',\n",
       "               '2020-09-20 03:00:00', '2020-09-22 09:00:00',\n",
       "               '2020-09-24 15:00:00', '2020-09-26 21:00:00',\n",
       "               ...\n",
       "               '2023-04-27 15:00:00', '2023-04-29 21:00:00',\n",
       "               '2023-05-02 03:00:00', '2023-05-04 09:00:00',\n",
       "               '2023-05-06 15:00:00', '2023-05-08 21:00:00',\n",
       "               '2023-05-11 03:00:00', '2023-05-13 09:00:00',\n",
       "               '2023-05-15 15:00:00', '2023-05-17 21:00:00'],\n",
       "              dtype='datetime64[ns]', length=438, freq='54h')"
      ]
     },
     "execution_count": 21,
     "metadata": {},
     "output_type": "execute_result"
    }
   ],
   "source": [
    "pd.date_range('2020-09-06 15:00', '2023-05-18', freq='2d 6h')"
   ]
  },
  {
   "cell_type": "code",
   "execution_count": 22,
   "id": "9bb428b1",
   "metadata": {},
   "outputs": [
    {
     "data": {
      "text/plain": [
       "DatetimeIndex(['2020-09-06 15:00:00', '2020-09-08 21:00:00',\n",
       "               '2020-09-11 03:00:00', '2020-09-13 09:00:00',\n",
       "               '2020-09-15 15:00:00', '2020-09-17 21:00:00',\n",
       "               '2020-09-20 03:00:00', '2020-09-22 09:00:00',\n",
       "               '2020-09-24 15:00:00', '2020-09-26 21:00:00',\n",
       "               '2020-09-29 03:00:00', '2020-10-01 09:00:00',\n",
       "               '2020-10-03 15:00:00', '2020-10-05 21:00:00',\n",
       "               '2020-10-08 03:00:00'],\n",
       "              dtype='datetime64[ns]', freq='54h')"
      ]
     },
     "execution_count": 22,
     "metadata": {},
     "output_type": "execute_result"
    }
   ],
   "source": [
    "pd.date_range('2020-09-06 15:00', freq='2d 6h', periods=15)"
   ]
  },
  {
   "cell_type": "code",
   "execution_count": null,
   "id": "907789f9",
   "metadata": {},
   "outputs": [],
   "source": []
  },
  {
   "cell_type": "markdown",
   "id": "cb3a0182",
   "metadata": {},
   "source": [
    "### Список всех сокращений (регистр их записи не важен)"
   ]
  },
  {
   "cell_type": "markdown",
   "id": "36d1c5d9",
   "metadata": {},
   "source": [
    "| Сокращение   | Расшифровка                              | Сокращение   | Расшифровка                    |\n",
    "|:-------------|:-----------------------------------------|:-------------|:-------------------------------|\n",
    "| B            | Последний рабочий день в неделе          | QS           | Начало квартала                |\n",
    "| C            | Пользовательский последний день в неделе | BQS          | Первый рабочий день квартала   |\n",
    "| D            | День                                     | A, Y         | Конец года                     |\n",
    "| W            | Неделя                                   | BA, BY       | Последний рабочий день в году  |\n",
    "| M            | Конец месяца                             | AS, YS       | Начало года                    |\n",
    "| SM           | 15 число месяца                          | BAS, BYS     | Первый рабочий день в году     |\n",
    "| BM           | Последний рабочий день в месяце          | BH           | Рабочий час (от 9:00 до 17:00) |\n",
    "| CBM          | Пользовательский конец месяца            | H            | Час                            |\n",
    "| MS           | Первое число месяца                      | T, min       | Минута                         |\n",
    "| SMS          | 1 и 15 число месяца                      | S            | Секунда                        |\n",
    "| BMS          | Первый рабочий день месяца               | L, ms        | Миллисекунда                   |\n",
    "| CBMS         | Пользовательский первый день месяца      | U, us        | Микросекунда                   |\n",
    "| Q            | Конец квартала                           | N            | Наносекунда                    |\n",
    "| BQ           | Последний рабочий день квартала          "
   ]
  },
  {
   "cell_type": "code",
   "execution_count": 23,
   "id": "c0340d7b",
   "metadata": {},
   "outputs": [
    {
     "name": "stderr",
     "output_type": "stream",
     "text": [
      "/tmp/ipykernel_6675/587386093.py:1: FutureWarning: 'M' is deprecated and will be removed in a future version, please use 'ME' instead.\n",
      "  pd.date_range('2020-08-06 15:00', '2023-05-18', freq='M')\n"
     ]
    },
    {
     "data": {
      "text/plain": [
       "DatetimeIndex(['2020-08-31 15:00:00', '2020-09-30 15:00:00',\n",
       "               '2020-10-31 15:00:00', '2020-11-30 15:00:00',\n",
       "               '2020-12-31 15:00:00', '2021-01-31 15:00:00',\n",
       "               '2021-02-28 15:00:00', '2021-03-31 15:00:00',\n",
       "               '2021-04-30 15:00:00', '2021-05-31 15:00:00',\n",
       "               '2021-06-30 15:00:00', '2021-07-31 15:00:00',\n",
       "               '2021-08-31 15:00:00', '2021-09-30 15:00:00',\n",
       "               '2021-10-31 15:00:00', '2021-11-30 15:00:00',\n",
       "               '2021-12-31 15:00:00', '2022-01-31 15:00:00',\n",
       "               '2022-02-28 15:00:00', '2022-03-31 15:00:00',\n",
       "               '2022-04-30 15:00:00', '2022-05-31 15:00:00',\n",
       "               '2022-06-30 15:00:00', '2022-07-31 15:00:00',\n",
       "               '2022-08-31 15:00:00', '2022-09-30 15:00:00',\n",
       "               '2022-10-31 15:00:00', '2022-11-30 15:00:00',\n",
       "               '2022-12-31 15:00:00', '2023-01-31 15:00:00',\n",
       "               '2023-02-28 15:00:00', '2023-03-31 15:00:00',\n",
       "               '2023-04-30 15:00:00'],\n",
       "              dtype='datetime64[ns]', freq='ME')"
      ]
     },
     "execution_count": 23,
     "metadata": {},
     "output_type": "execute_result"
    }
   ],
   "source": [
    "pd.date_range('2020-08-06 15:00', '2023-05-18', freq='M')"
   ]
  },
  {
   "cell_type": "code",
   "execution_count": 24,
   "id": "cbd918c3",
   "metadata": {},
   "outputs": [
    {
     "data": {
      "text/plain": [
       "DatetimeIndex(['2020-09-01 15:00:00', '2020-10-01 15:00:00',\n",
       "               '2020-11-01 15:00:00', '2020-12-01 15:00:00',\n",
       "               '2021-01-01 15:00:00', '2021-02-01 15:00:00',\n",
       "               '2021-03-01 15:00:00', '2021-04-01 15:00:00',\n",
       "               '2021-05-01 15:00:00', '2021-06-01 15:00:00',\n",
       "               '2021-07-01 15:00:00', '2021-08-01 15:00:00',\n",
       "               '2021-09-01 15:00:00', '2021-10-01 15:00:00',\n",
       "               '2021-11-01 15:00:00', '2021-12-01 15:00:00',\n",
       "               '2022-01-01 15:00:00', '2022-02-01 15:00:00',\n",
       "               '2022-03-01 15:00:00', '2022-04-01 15:00:00',\n",
       "               '2022-05-01 15:00:00', '2022-06-01 15:00:00',\n",
       "               '2022-07-01 15:00:00', '2022-08-01 15:00:00',\n",
       "               '2022-09-01 15:00:00', '2022-10-01 15:00:00',\n",
       "               '2022-11-01 15:00:00', '2022-12-01 15:00:00',\n",
       "               '2023-01-01 15:00:00', '2023-02-01 15:00:00',\n",
       "               '2023-03-01 15:00:00', '2023-04-01 15:00:00',\n",
       "               '2023-05-01 15:00:00'],\n",
       "              dtype='datetime64[ns]', freq='MS')"
      ]
     },
     "execution_count": 24,
     "metadata": {},
     "output_type": "execute_result"
    }
   ],
   "source": [
    "pd.date_range('2020-08-06 15:00', '2023-05-18', freq='MS')"
   ]
  },
  {
   "cell_type": "code",
   "execution_count": null,
   "id": "95e3f899",
   "metadata": {},
   "outputs": [],
   "source": []
  },
  {
   "cell_type": "markdown",
   "id": "8b76627f",
   "metadata": {},
   "source": [
    "### Метод shift"
   ]
  },
  {
   "cell_type": "code",
   "execution_count": 25,
   "id": "c80d56ca",
   "metadata": {},
   "outputs": [
    {
     "data": {
      "text/plain": [
       "DatetimeIndex(['2020-09-06 15:00:00', '2020-10-06 15:00:00',\n",
       "               '2020-11-06 15:00:00', '2020-12-06 15:00:00',\n",
       "               '2021-01-06 15:00:00', '2021-02-06 15:00:00',\n",
       "               '2021-03-06 15:00:00', '2021-04-06 15:00:00',\n",
       "               '2021-05-06 15:00:00', '2021-06-06 15:00:00',\n",
       "               '2021-07-06 15:00:00', '2021-08-06 15:00:00',\n",
       "               '2021-09-06 15:00:00', '2021-10-06 15:00:00',\n",
       "               '2021-11-06 15:00:00', '2021-12-06 15:00:00',\n",
       "               '2022-01-06 15:00:00', '2022-02-06 15:00:00',\n",
       "               '2022-03-06 15:00:00', '2022-04-06 15:00:00',\n",
       "               '2022-05-06 15:00:00', '2022-06-06 15:00:00',\n",
       "               '2022-07-06 15:00:00', '2022-08-06 15:00:00',\n",
       "               '2022-09-06 15:00:00', '2022-10-06 15:00:00',\n",
       "               '2022-11-06 15:00:00', '2022-12-06 15:00:00',\n",
       "               '2023-01-06 15:00:00', '2023-02-06 15:00:00',\n",
       "               '2023-03-06 15:00:00', '2023-04-06 15:00:00',\n",
       "               '2023-05-06 15:00:00'],\n",
       "              dtype='datetime64[ns]', freq=None)"
      ]
     },
     "execution_count": 25,
     "metadata": {},
     "output_type": "execute_result"
    }
   ],
   "source": [
    "pd.date_range('2020-08-06 15:00', '2023-05-18', freq='MS').shift(5, 'd')"
   ]
  },
  {
   "cell_type": "code",
   "execution_count": 26,
   "id": "fce05fef",
   "metadata": {},
   "outputs": [
    {
     "name": "stderr",
     "output_type": "stream",
     "text": [
      "/tmp/ipykernel_6675/3862665698.py:1: FutureWarning: 'Y' is deprecated and will be removed in a future version, please use 'YE' instead.\n",
      "  (pd.date_range('2020-08-06 15:00', '2023-05-18', freq='Y')\n",
      "/tmp/ipykernel_6675/3862665698.py:2: FutureWarning: 'M' is deprecated and will be removed in a future version, please use 'ME' instead.\n",
      "  .shift(5, 'M')\n"
     ]
    },
    {
     "data": {
      "text/plain": [
       "DatetimeIndex(['2021-05-31 13:00:00', '2022-05-31 13:00:00',\n",
       "               '2023-05-31 13:00:00'],\n",
       "              dtype='datetime64[ns]', freq=None)"
      ]
     },
     "execution_count": 26,
     "metadata": {},
     "output_type": "execute_result"
    }
   ],
   "source": [
    "(pd.date_range('2020-08-06 15:00', '2023-05-18', freq='Y')\n",
    "    .shift(5, 'M')\n",
    "    .shift(-2, 'h')\n",
    ")"
   ]
  },
  {
   "cell_type": "code",
   "execution_count": null,
   "id": "adac46ba",
   "metadata": {},
   "outputs": [],
   "source": []
  },
  {
   "cell_type": "code",
   "execution_count": null,
   "id": "1aa22405",
   "metadata": {},
   "outputs": [],
   "source": []
  },
  {
   "cell_type": "markdown",
   "id": "2fec535e",
   "metadata": {},
   "source": [
    "###  Атрибут shape"
   ]
  },
  {
   "cell_type": "code",
   "execution_count": 27,
   "id": "0ad11ac0",
   "metadata": {},
   "outputs": [
    {
     "data": {
      "text/html": [
       "<div>\n",
       "<style scoped>\n",
       "    .dataframe tbody tr th:only-of-type {\n",
       "        vertical-align: middle;\n",
       "    }\n",
       "\n",
       "    .dataframe tbody tr th {\n",
       "        vertical-align: top;\n",
       "    }\n",
       "\n",
       "    .dataframe thead th {\n",
       "        text-align: right;\n",
       "    }\n",
       "</style>\n",
       "<table border=\"1\" class=\"dataframe\">\n",
       "  <thead>\n",
       "    <tr style=\"text-align: right;\">\n",
       "      <th></th>\n",
       "      <th>Имя</th>\n",
       "      <th>Фамилия</th>\n",
       "      <th>Дата рождения</th>\n",
       "      <th>Количество детей</th>\n",
       "      <th>Дата увольнения</th>\n",
       "    </tr>\n",
       "  </thead>\n",
       "  <tbody>\n",
       "    <tr>\n",
       "      <th>0</th>\n",
       "      <td>Екатерина</td>\n",
       "      <td>&lt;NA&gt;</td>\n",
       "      <td>1992-06-25</td>\n",
       "      <td>0</td>\n",
       "      <td>2023-12-06</td>\n",
       "    </tr>\n",
       "    <tr>\n",
       "      <th>1</th>\n",
       "      <td>Евгений</td>\n",
       "      <td>Бубликов</td>\n",
       "      <td>1995-09-09</td>\n",
       "      <td>0</td>\n",
       "      <td>2023-12-06</td>\n",
       "    </tr>\n",
       "    <tr>\n",
       "      <th>2</th>\n",
       "      <td>Андрей</td>\n",
       "      <td>Васильев</td>\n",
       "      <td>2000-02-29</td>\n",
       "      <td>0</td>\n",
       "      <td>2023-12-06</td>\n",
       "    </tr>\n",
       "    <tr>\n",
       "      <th>3</th>\n",
       "      <td>Виктория</td>\n",
       "      <td>Леонова</td>\n",
       "      <td>1999-06-15</td>\n",
       "      <td>0</td>\n",
       "      <td>2023-12-06</td>\n",
       "    </tr>\n",
       "    <tr>\n",
       "      <th>4</th>\n",
       "      <td>Анастасия</td>\n",
       "      <td>Долгова</td>\n",
       "      <td>2003-04-06</td>\n",
       "      <td>0</td>\n",
       "      <td>2023-12-06</td>\n",
       "    </tr>\n",
       "    <tr>\n",
       "      <th>5</th>\n",
       "      <td>Данил</td>\n",
       "      <td>Новиков</td>\n",
       "      <td>1995-06-03</td>\n",
       "      <td>0</td>\n",
       "      <td>2023-12-06</td>\n",
       "    </tr>\n",
       "  </tbody>\n",
       "</table>\n",
       "</div>"
      ],
      "text/plain": [
       "         Имя   Фамилия Дата рождения  Количество детей Дата увольнения\n",
       "0  Екатерина      <NA>    1992-06-25                 0      2023-12-06\n",
       "1    Евгений  Бубликов    1995-09-09                 0      2023-12-06\n",
       "2     Андрей  Васильев    2000-02-29                 0      2023-12-06\n",
       "3   Виктория   Леонова    1999-06-15                 0      2023-12-06\n",
       "4  Анастасия   Долгова    2003-04-06                 0      2023-12-06\n",
       "5      Данил   Новиков    1995-06-03                 0      2023-12-06"
      ]
     },
     "execution_count": 27,
     "metadata": {},
     "output_type": "execute_result"
    }
   ],
   "source": [
    "pd.DataFrame(people_dict)"
   ]
  },
  {
   "cell_type": "code",
   "execution_count": 28,
   "id": "ad7022dc",
   "metadata": {},
   "outputs": [
    {
     "data": {
      "text/plain": [
       "(6, 5)"
      ]
     },
     "execution_count": 28,
     "metadata": {},
     "output_type": "execute_result"
    }
   ],
   "source": [
    "pd.DataFrame(people_dict).shape"
   ]
  },
  {
   "cell_type": "code",
   "execution_count": 29,
   "id": "c98da6cb",
   "metadata": {},
   "outputs": [
    {
     "data": {
      "text/plain": [
       "6"
      ]
     },
     "execution_count": 29,
     "metadata": {},
     "output_type": "execute_result"
    }
   ],
   "source": [
    "pd.DataFrame(people_dict).shape[0]"
   ]
  },
  {
   "cell_type": "code",
   "execution_count": 30,
   "id": "71305821",
   "metadata": {},
   "outputs": [
    {
     "data": {
      "text/plain": [
       "6"
      ]
     },
     "execution_count": 30,
     "metadata": {},
     "output_type": "execute_result"
    }
   ],
   "source": [
    "len(pd.DataFrame(people_dict))"
   ]
  },
  {
   "cell_type": "code",
   "execution_count": null,
   "id": "a56a3352",
   "metadata": {},
   "outputs": [],
   "source": []
  },
  {
   "cell_type": "code",
   "execution_count": null,
   "id": "1d27aaf0",
   "metadata": {},
   "outputs": [],
   "source": []
  },
  {
   "cell_type": "code",
   "execution_count": null,
   "id": "4d9e4314",
   "metadata": {},
   "outputs": [],
   "source": []
  },
  {
   "cell_type": "code",
   "execution_count": null,
   "id": "dd498990",
   "metadata": {},
   "outputs": [],
   "source": []
  },
  {
   "cell_type": "code",
   "execution_count": null,
   "id": "2942e067",
   "metadata": {},
   "outputs": [],
   "source": []
  },
  {
   "cell_type": "code",
   "execution_count": null,
   "id": "546c30a3",
   "metadata": {},
   "outputs": [],
   "source": []
  },
  {
   "cell_type": "code",
   "execution_count": null,
   "id": "3f78c3bb",
   "metadata": {},
   "outputs": [],
   "source": []
  },
  {
   "cell_type": "code",
   "execution_count": null,
   "id": "96d68388",
   "metadata": {},
   "outputs": [],
   "source": []
  },
  {
   "cell_type": "code",
   "execution_count": null,
   "id": "5dcba503",
   "metadata": {},
   "outputs": [],
   "source": []
  },
  {
   "cell_type": "code",
   "execution_count": null,
   "id": "02b6681d",
   "metadata": {},
   "outputs": [],
   "source": []
  },
  {
   "cell_type": "code",
   "execution_count": null,
   "id": "5e92a622",
   "metadata": {},
   "outputs": [],
   "source": []
  },
  {
   "cell_type": "code",
   "execution_count": null,
   "id": "adc3a9a4",
   "metadata": {},
   "outputs": [],
   "source": []
  },
  {
   "cell_type": "code",
   "execution_count": null,
   "id": "4315f415",
   "metadata": {},
   "outputs": [],
   "source": []
  },
  {
   "cell_type": "code",
   "execution_count": null,
   "id": "54b08b08",
   "metadata": {},
   "outputs": [],
   "source": []
  },
  {
   "cell_type": "code",
   "execution_count": null,
   "id": "e9463b69",
   "metadata": {},
   "outputs": [],
   "source": []
  },
  {
   "cell_type": "code",
   "execution_count": null,
   "id": "d48c5217",
   "metadata": {},
   "outputs": [],
   "source": []
  },
  {
   "cell_type": "code",
   "execution_count": null,
   "id": "169911c6",
   "metadata": {},
   "outputs": [],
   "source": []
  },
  {
   "cell_type": "code",
   "execution_count": null,
   "id": "ba52aa89",
   "metadata": {},
   "outputs": [],
   "source": []
  },
  {
   "cell_type": "markdown",
   "id": "7df91db9",
   "metadata": {},
   "source": [
    "# Задания"
   ]
  },
  {
   "cell_type": "markdown",
   "id": "6c624a26",
   "metadata": {},
   "source": [
    "#### Описание таблиц лежит [здесь](https://github.com/victorlymarev/pandas/tree/main/tables#%D0%BE%D0%BF%D0%B8%D1%81%D0%B0%D0%BD%D0%B8%D0%B5-%D1%82%D0%B0%D0%B1%D0%BB%D0%B8%D1%86)"
   ]
  },
  {
   "cell_type": "markdown",
   "id": "93b65b91",
   "metadata": {},
   "source": [
    "Некоторые таблицы занимают много памяти, поэтому каждые 5-10 заданий лучше перезапускайте ноутбук.\n",
    "\n",
    "В формулировке некоторых заданий может содержаться вариативность. Если у вас есть сомнения, что требуется в задании, попробуйте решить несколько вариантов. Если вы не понимаете задание, можете написать об этом в комментариях под видео.\n",
    "\n",
    "В большинстве случаев внешний вид итоговой таблицы не определен. Выведите на экран наиболее адекватный вариант. То есть таблицу, из которой можно будет сделать выводы.\n",
    "\n",
    "Курс пока находится в разработке. Вы можете помочь другим людям добавив свое решение [сюда](https://docs.google.com/forms/d/1HYTBz_KfssY3Jps2dC3n0YnEqa6WBb5OIhLo1d32Xzw/edit).\n",
    "\n",
    "Посмотреть решения других людей можно [здесь](https://docs.google.com/spreadsheets/d/1pMDYO-9UneLbPPnEuQ2shig0TOJdQTU-zipifyAnZMk/edit?resourcekey#gid=1998648012)"
   ]
  },
  {
   "cell_type": "markdown",
   "id": "a05f43ae",
   "metadata": {},
   "source": [
    "### Задание 1\n",
    "Создайте объект Series, в котором будут лежать последовательно имена Аня, Наташа, Таня, Оля, Настя"
   ]
  },
  {
   "cell_type": "code",
   "execution_count": 31,
   "id": "d7bee1cb",
   "metadata": {},
   "outputs": [
    {
     "data": {
      "text/plain": [
       "0       Аня\n",
       "1    Наташа\n",
       "2      Таня\n",
       "3       Оля\n",
       "4     Настя\n",
       "dtype: object"
      ]
     },
     "execution_count": 31,
     "metadata": {},
     "output_type": "execute_result"
    }
   ],
   "source": [
    "import pandas as pd\n",
    "\n",
    "pd.Series(['Аня', 'Наташа', 'Таня', 'Оля', 'Настя'])"
   ]
  },
  {
   "cell_type": "markdown",
   "id": "86a8066c",
   "metadata": {},
   "source": [
    "### Задание 2\n",
    "Создавать объекты Series можно на основе словарей. В этом случае ключ пойдет в индекс, а значение в тело колонки."
   ]
  },
  {
   "cell_type": "code",
   "execution_count": 32,
   "id": "9b6629ef",
   "metadata": {},
   "outputs": [
    {
     "data": {
      "text/plain": [
       "Кирилл     178\n",
       "Андрей     189\n",
       "Тимур      159\n",
       "Ярослав    190\n",
       "dtype: int64"
      ]
     },
     "execution_count": 32,
     "metadata": {},
     "output_type": "execute_result"
    }
   ],
   "source": [
    "import pandas as pd\n",
    "\n",
    "height = {'Кирилл': 178, 'Андрей': 189, 'Тимур': 159, 'Ярослав': 190}\n",
    "pd.Series(height)"
   ]
  },
  {
   "cell_type": "markdown",
   "id": "e3de43d2",
   "metadata": {},
   "source": [
    "Создайте на основе словаря объект Series. В индексе словаря пусть лежат имена Никита, Артур, Паша, а в значениях колонки номера телефонов 123456, 654321, 123321. "
   ]
  },
  {
   "cell_type": "code",
   "execution_count": 33,
   "id": "9283ad64",
   "metadata": {},
   "outputs": [
    {
     "data": {
      "text/plain": [
       "Никита    123456\n",
       "Артур     654321\n",
       "Вася      123321\n",
       "dtype: int64"
      ]
     },
     "execution_count": 33,
     "metadata": {},
     "output_type": "execute_result"
    }
   ],
   "source": [
    "pd.Series({'Никита':123456, \"Артур\":654321, \"Вася\":123321})"
   ]
  },
  {
   "cell_type": "markdown",
   "id": "c03029bf",
   "metadata": {},
   "source": [
    "### Задание 3\n",
    "Создайте таблицу, состоящую из двух колонок. В перовой колонке должны быть имена Саша, Маша, Лера, Руслан. Во второй колонке пусть лежат фамилии Сидоров, Петрова, Иванова, Уткин"
   ]
  },
  {
   "cell_type": "code",
   "execution_count": 34,
   "id": "5bfff9ed",
   "metadata": {},
   "outputs": [
    {
     "data": {
      "text/html": [
       "<div>\n",
       "<style scoped>\n",
       "    .dataframe tbody tr th:only-of-type {\n",
       "        vertical-align: middle;\n",
       "    }\n",
       "\n",
       "    .dataframe tbody tr th {\n",
       "        vertical-align: top;\n",
       "    }\n",
       "\n",
       "    .dataframe thead th {\n",
       "        text-align: right;\n",
       "    }\n",
       "</style>\n",
       "<table border=\"1\" class=\"dataframe\">\n",
       "  <thead>\n",
       "    <tr style=\"text-align: right;\">\n",
       "      <th></th>\n",
       "      <th>Имя</th>\n",
       "      <th>Фамилии</th>\n",
       "    </tr>\n",
       "  </thead>\n",
       "  <tbody>\n",
       "    <tr>\n",
       "      <th>0</th>\n",
       "      <td>Саша</td>\n",
       "      <td>Сидоров</td>\n",
       "    </tr>\n",
       "    <tr>\n",
       "      <th>1</th>\n",
       "      <td>Маша</td>\n",
       "      <td>Петрова</td>\n",
       "    </tr>\n",
       "    <tr>\n",
       "      <th>2</th>\n",
       "      <td>Лера</td>\n",
       "      <td>Иванова</td>\n",
       "    </tr>\n",
       "    <tr>\n",
       "      <th>3</th>\n",
       "      <td>Руслан</td>\n",
       "      <td>Уткин</td>\n",
       "    </tr>\n",
       "  </tbody>\n",
       "</table>\n",
       "</div>"
      ],
      "text/plain": [
       "      Имя  Фамилии\n",
       "0    Саша  Сидоров\n",
       "1    Маша  Петрова\n",
       "2    Лера  Иванова\n",
       "3  Руслан    Уткин"
      ]
     },
     "execution_count": 34,
     "metadata": {},
     "output_type": "execute_result"
    }
   ],
   "source": [
    "import pandas as pd\n",
    "\n",
    "pd.DataFrame(\n",
    "    {\n",
    "        \"Имя\": [\"Саша\", \"Маша\", \"Лера\", \"Руслан\"],\n",
    "        \"Фамилии\": [\"Сидоров\", \"Петрова\", \"Иванова\", \"Уткин\"],\n",
    "    }\n",
    ")"
   ]
  },
  {
   "cell_type": "markdown",
   "id": "15bbffcc",
   "metadata": {},
   "source": [
    "### Задание 4\n",
    "\n",
    "В таблице marks_6d лежат оценки школьников в классе 6Д. Какое количество школьников в классе?"
   ]
  },
  {
   "cell_type": "code",
   "execution_count": 35,
   "id": "45485ec3",
   "metadata": {},
   "outputs": [
    {
     "data": {
      "text/html": [
       "<div>\n",
       "<style scoped>\n",
       "    .dataframe tbody tr th:only-of-type {\n",
       "        vertical-align: middle;\n",
       "    }\n",
       "\n",
       "    .dataframe tbody tr th {\n",
       "        vertical-align: top;\n",
       "    }\n",
       "\n",
       "    .dataframe thead th {\n",
       "        text-align: right;\n",
       "    }\n",
       "</style>\n",
       "<table border=\"1\" class=\"dataframe\">\n",
       "  <thead>\n",
       "    <tr style=\"text-align: right;\">\n",
       "      <th></th>\n",
       "      <th>ФИО</th>\n",
       "      <th>Пол</th>\n",
       "      <th>Математика</th>\n",
       "      <th>Русский язык</th>\n",
       "      <th>Литература</th>\n",
       "      <th>Физика</th>\n",
       "      <th>История</th>\n",
       "      <th>Физическая культура</th>\n",
       "    </tr>\n",
       "  </thead>\n",
       "  <tbody>\n",
       "    <tr>\n",
       "      <th>0</th>\n",
       "      <td>Большакова Ольга Захаровна</td>\n",
       "      <td>женский</td>\n",
       "      <td>4</td>\n",
       "      <td>5</td>\n",
       "      <td>5</td>\n",
       "      <td>4</td>\n",
       "      <td>5</td>\n",
       "      <td>5</td>\n",
       "    </tr>\n",
       "    <tr>\n",
       "      <th>1</th>\n",
       "      <td>Михайлов Артем Артемович</td>\n",
       "      <td>мужской</td>\n",
       "      <td>5</td>\n",
       "      <td>5</td>\n",
       "      <td>5</td>\n",
       "      <td>4</td>\n",
       "      <td>4</td>\n",
       "      <td>4</td>\n",
       "    </tr>\n",
       "    <tr>\n",
       "      <th>2</th>\n",
       "      <td>Афанасьев Леонид Артурович</td>\n",
       "      <td>мужской</td>\n",
       "      <td>4</td>\n",
       "      <td>4</td>\n",
       "      <td>3</td>\n",
       "      <td>4</td>\n",
       "      <td>3</td>\n",
       "      <td>5</td>\n",
       "    </tr>\n",
       "    <tr>\n",
       "      <th>3</th>\n",
       "      <td>Козлов Николай Артёмович</td>\n",
       "      <td>мужской</td>\n",
       "      <td>3</td>\n",
       "      <td>4</td>\n",
       "      <td>4</td>\n",
       "      <td>4</td>\n",
       "      <td>3</td>\n",
       "      <td>5</td>\n",
       "    </tr>\n",
       "    <tr>\n",
       "      <th>4</th>\n",
       "      <td>Крылова Марина Сергеевна</td>\n",
       "      <td>женский</td>\n",
       "      <td>5</td>\n",
       "      <td>5</td>\n",
       "      <td>4</td>\n",
       "      <td>4</td>\n",
       "      <td>4</td>\n",
       "      <td>5</td>\n",
       "    </tr>\n",
       "    <tr>\n",
       "      <th>5</th>\n",
       "      <td>Елизаров Денис Кириллович</td>\n",
       "      <td>мужской</td>\n",
       "      <td>3</td>\n",
       "      <td>3</td>\n",
       "      <td>3</td>\n",
       "      <td>3</td>\n",
       "      <td>3</td>\n",
       "      <td>5</td>\n",
       "    </tr>\n",
       "    <tr>\n",
       "      <th>6</th>\n",
       "      <td>Рыбаков Андрей Захарович</td>\n",
       "      <td>мужской</td>\n",
       "      <td>4</td>\n",
       "      <td>5</td>\n",
       "      <td>5</td>\n",
       "      <td>3</td>\n",
       "      <td>5</td>\n",
       "      <td>5</td>\n",
       "    </tr>\n",
       "    <tr>\n",
       "      <th>7</th>\n",
       "      <td>Мартынова Елизаваета Фёдоровна</td>\n",
       "      <td>женский</td>\n",
       "      <td>3</td>\n",
       "      <td>3</td>\n",
       "      <td>3</td>\n",
       "      <td>4</td>\n",
       "      <td>3</td>\n",
       "      <td>4</td>\n",
       "    </tr>\n",
       "    <tr>\n",
       "      <th>8</th>\n",
       "      <td>Лазарева Мария Артемовна</td>\n",
       "      <td>женский</td>\n",
       "      <td>5</td>\n",
       "      <td>5</td>\n",
       "      <td>4</td>\n",
       "      <td>5</td>\n",
       "      <td>5</td>\n",
       "      <td>5</td>\n",
       "    </tr>\n",
       "    <tr>\n",
       "      <th>9</th>\n",
       "      <td>Фадеева Анна Руслановна</td>\n",
       "      <td>женский</td>\n",
       "      <td>4</td>\n",
       "      <td>5</td>\n",
       "      <td>4</td>\n",
       "      <td>5</td>\n",
       "      <td>5</td>\n",
       "      <td>3</td>\n",
       "    </tr>\n",
       "    <tr>\n",
       "      <th>10</th>\n",
       "      <td>Фомина Мария Александровна</td>\n",
       "      <td>женский</td>\n",
       "      <td>3</td>\n",
       "      <td>3</td>\n",
       "      <td>3</td>\n",
       "      <td>4</td>\n",
       "      <td>4</td>\n",
       "      <td>5</td>\n",
       "    </tr>\n",
       "    <tr>\n",
       "      <th>11</th>\n",
       "      <td>Постников Фёдор Артёмович</td>\n",
       "      <td>мужской</td>\n",
       "      <td>3</td>\n",
       "      <td>3</td>\n",
       "      <td>3</td>\n",
       "      <td>3</td>\n",
       "      <td>3</td>\n",
       "      <td>5</td>\n",
       "    </tr>\n",
       "    <tr>\n",
       "      <th>12</th>\n",
       "      <td>Самойлова Надежда Антоновна</td>\n",
       "      <td>женский</td>\n",
       "      <td>4</td>\n",
       "      <td>3</td>\n",
       "      <td>4</td>\n",
       "      <td>4</td>\n",
       "      <td>3</td>\n",
       "      <td>5</td>\n",
       "    </tr>\n",
       "    <tr>\n",
       "      <th>13</th>\n",
       "      <td>Гаврилов Александр Борисович</td>\n",
       "      <td>мужской</td>\n",
       "      <td>4</td>\n",
       "      <td>3</td>\n",
       "      <td>4</td>\n",
       "      <td>3</td>\n",
       "      <td>3</td>\n",
       "      <td>5</td>\n",
       "    </tr>\n",
       "    <tr>\n",
       "      <th>14</th>\n",
       "      <td>Постников Родион Владимирович</td>\n",
       "      <td>мужской</td>\n",
       "      <td>5</td>\n",
       "      <td>3</td>\n",
       "      <td>3</td>\n",
       "      <td>5</td>\n",
       "      <td>3</td>\n",
       "      <td>5</td>\n",
       "    </tr>\n",
       "    <tr>\n",
       "      <th>15</th>\n",
       "      <td>Бычкова Александра Борисовна</td>\n",
       "      <td>женский</td>\n",
       "      <td>5</td>\n",
       "      <td>4</td>\n",
       "      <td>3</td>\n",
       "      <td>5</td>\n",
       "      <td>3</td>\n",
       "      <td>5</td>\n",
       "    </tr>\n",
       "    <tr>\n",
       "      <th>16</th>\n",
       "      <td>Кулешов Семен Богданович</td>\n",
       "      <td>мужской</td>\n",
       "      <td>4</td>\n",
       "      <td>4</td>\n",
       "      <td>4</td>\n",
       "      <td>4</td>\n",
       "      <td>4</td>\n",
       "      <td>4</td>\n",
       "    </tr>\n",
       "    <tr>\n",
       "      <th>17</th>\n",
       "      <td>Павловскиая Алена Данииловна</td>\n",
       "      <td>женский</td>\n",
       "      <td>3</td>\n",
       "      <td>4</td>\n",
       "      <td>5</td>\n",
       "      <td>4</td>\n",
       "      <td>3</td>\n",
       "      <td>5</td>\n",
       "    </tr>\n",
       "    <tr>\n",
       "      <th>18</th>\n",
       "      <td>Лапин Юрий Тимурович</td>\n",
       "      <td>мужской</td>\n",
       "      <td>4</td>\n",
       "      <td>4</td>\n",
       "      <td>4</td>\n",
       "      <td>5</td>\n",
       "      <td>3</td>\n",
       "      <td>5</td>\n",
       "    </tr>\n",
       "    <tr>\n",
       "      <th>19</th>\n",
       "      <td>Курочкин Андрей Семенович</td>\n",
       "      <td>мужской</td>\n",
       "      <td>4</td>\n",
       "      <td>5</td>\n",
       "      <td>5</td>\n",
       "      <td>4</td>\n",
       "      <td>5</td>\n",
       "      <td>5</td>\n",
       "    </tr>\n",
       "  </tbody>\n",
       "</table>\n",
       "</div>"
      ],
      "text/plain": [
       "                               ФИО      Пол  Математика  Русский язык  \\\n",
       "0       Большакова Ольга Захаровна  женский           4             5   \n",
       "1         Михайлов Артем Артемович  мужской           5             5   \n",
       "2       Афанасьев Леонид Артурович  мужской           4             4   \n",
       "3         Козлов Николай Артёмович  мужской           3             4   \n",
       "4         Крылова Марина Сергеевна  женский           5             5   \n",
       "5        Елизаров Денис Кириллович  мужской           3             3   \n",
       "6         Рыбаков Андрей Захарович  мужской           4             5   \n",
       "7   Мартынова Елизаваета Фёдоровна  женский           3             3   \n",
       "8         Лазарева Мария Артемовна  женский           5             5   \n",
       "9          Фадеева Анна Руслановна  женский           4             5   \n",
       "10      Фомина Мария Александровна  женский           3             3   \n",
       "11       Постников Фёдор Артёмович  мужской           3             3   \n",
       "12     Самойлова Надежда Антоновна  женский           4             3   \n",
       "13    Гаврилов Александр Борисович  мужской           4             3   \n",
       "14   Постников Родион Владимирович  мужской           5             3   \n",
       "15    Бычкова Александра Борисовна  женский           5             4   \n",
       "16        Кулешов Семен Богданович  мужской           4             4   \n",
       "17    Павловскиая Алена Данииловна  женский           3             4   \n",
       "18            Лапин Юрий Тимурович  мужской           4             4   \n",
       "19       Курочкин Андрей Семенович  мужской           4             5   \n",
       "\n",
       "    Литература  Физика  История  Физическая культура  \n",
       "0            5       4        5                    5  \n",
       "1            5       4        4                    4  \n",
       "2            3       4        3                    5  \n",
       "3            4       4        3                    5  \n",
       "4            4       4        4                    5  \n",
       "5            3       3        3                    5  \n",
       "6            5       3        5                    5  \n",
       "7            3       4        3                    4  \n",
       "8            4       5        5                    5  \n",
       "9            4       5        5                    3  \n",
       "10           3       4        4                    5  \n",
       "11           3       3        3                    5  \n",
       "12           4       4        3                    5  \n",
       "13           4       3        3                    5  \n",
       "14           3       5        3                    5  \n",
       "15           3       5        3                    5  \n",
       "16           4       4        4                    4  \n",
       "17           5       4        3                    5  \n",
       "18           4       5        3                    5  \n",
       "19           5       4        5                    5  "
      ]
     },
     "execution_count": 35,
     "metadata": {},
     "output_type": "execute_result"
    }
   ],
   "source": [
    "import os\n",
    "import pandas as pd\n",
    "path_marks_6d = '../tables/оценки 6Д.csv' if os.path.exists('../tables/оценки 6Д.csv') else 'https://drive.google.com/uc?id=1aMvwur2zrISbVPRo86qWgbHPEpw5km0n'\n",
    "marks_6d = pd.read_csv(path_marks_6d)\n",
    "marks_6d"
   ]
  },
  {
   "cell_type": "code",
   "execution_count": 45,
   "id": "59edbbbe",
   "metadata": {},
   "outputs": [
    {
     "data": {
      "text/plain": [
       "20"
      ]
     },
     "execution_count": 45,
     "metadata": {},
     "output_type": "execute_result"
    }
   ],
   "source": [
    "marks_6d['ФИО'].nunique()"
   ]
  },
  {
   "cell_type": "markdown",
   "id": "1a5a51ca",
   "metadata": {},
   "source": [
    "### Задание 5\n",
    "\n",
    "Создайте набор точек от 1 до 150 с интервалом 2"
   ]
  },
  {
   "cell_type": "code",
   "execution_count": 46,
   "id": "d2147900",
   "metadata": {},
   "outputs": [
    {
     "data": {
      "text/plain": [
       "array([  1,   3,   5,   7,   9,  11,  13,  15,  17,  19,  21,  23,  25,\n",
       "        27,  29,  31,  33,  35,  37,  39,  41,  43,  45,  47,  49,  51,\n",
       "        53,  55,  57,  59,  61,  63,  65,  67,  69,  71,  73,  75,  77,\n",
       "        79,  81,  83,  85,  87,  89,  91,  93,  95,  97,  99, 101, 103,\n",
       "       105, 107, 109, 111, 113, 115, 117, 119, 121, 123, 125, 127, 129,\n",
       "       131, 133, 135, 137, 139, 141, 143, 145, 147, 149])"
      ]
     },
     "execution_count": 46,
     "metadata": {},
     "output_type": "execute_result"
    }
   ],
   "source": [
    "import numpy as np\n",
    "\n",
    "np.arange(1, 150, 2)"
   ]
  },
  {
   "cell_type": "markdown",
   "id": "5f671064",
   "metadata": {},
   "source": [
    "### Задание 6\n",
    "\n",
    "Создайте набор точек от 0 до 15 включительно с интервалом 1.5"
   ]
  },
  {
   "cell_type": "code",
   "execution_count": 47,
   "id": "35f9c528",
   "metadata": {},
   "outputs": [
    {
     "data": {
      "text/plain": [
       "array([ 0. ,  1.5,  3. ,  4.5,  6. ,  7.5,  9. , 10.5, 12. , 13.5])"
      ]
     },
     "execution_count": 47,
     "metadata": {},
     "output_type": "execute_result"
    }
   ],
   "source": [
    "import numpy as np\n",
    "\n",
    "np.arange(0, 15, 1.5)"
   ]
  },
  {
   "cell_type": "markdown",
   "id": "839a87f0",
   "metadata": {},
   "source": [
    "### Задание 7\n",
    "\n",
    "На отрезке от 100 до 150 создайте 80 равноудаленных друг от друга точек"
   ]
  },
  {
   "cell_type": "code",
   "execution_count": 48,
   "id": "8b3f96ef",
   "metadata": {},
   "outputs": [
    {
     "data": {
      "text/plain": [
       "array([100.        , 100.63291139, 101.26582278, 101.89873418,\n",
       "       102.53164557, 103.16455696, 103.79746835, 104.43037975,\n",
       "       105.06329114, 105.69620253, 106.32911392, 106.96202532,\n",
       "       107.59493671, 108.2278481 , 108.86075949, 109.49367089,\n",
       "       110.12658228, 110.75949367, 111.39240506, 112.02531646,\n",
       "       112.65822785, 113.29113924, 113.92405063, 114.55696203,\n",
       "       115.18987342, 115.82278481, 116.4556962 , 117.08860759,\n",
       "       117.72151899, 118.35443038, 118.98734177, 119.62025316,\n",
       "       120.25316456, 120.88607595, 121.51898734, 122.15189873,\n",
       "       122.78481013, 123.41772152, 124.05063291, 124.6835443 ,\n",
       "       125.3164557 , 125.94936709, 126.58227848, 127.21518987,\n",
       "       127.84810127, 128.48101266, 129.11392405, 129.74683544,\n",
       "       130.37974684, 131.01265823, 131.64556962, 132.27848101,\n",
       "       132.91139241, 133.5443038 , 134.17721519, 134.81012658,\n",
       "       135.44303797, 136.07594937, 136.70886076, 137.34177215,\n",
       "       137.97468354, 138.60759494, 139.24050633, 139.87341772,\n",
       "       140.50632911, 141.13924051, 141.7721519 , 142.40506329,\n",
       "       143.03797468, 143.67088608, 144.30379747, 144.93670886,\n",
       "       145.56962025, 146.20253165, 146.83544304, 147.46835443,\n",
       "       148.10126582, 148.73417722, 149.36708861, 150.        ])"
      ]
     },
     "execution_count": 48,
     "metadata": {},
     "output_type": "execute_result"
    }
   ],
   "source": [
    "import numpy as np\n",
    "\n",
    "np.linspace(100, 150, 80)"
   ]
  },
  {
   "cell_type": "markdown",
   "id": "b776f346",
   "metadata": {},
   "source": [
    "### Задание 8\n",
    "\n",
    "Создайте набор дат с 18 марта 1999 года до 28 февраля 2021 года с частотой в 1 день"
   ]
  },
  {
   "cell_type": "code",
   "execution_count": 49,
   "id": "4a0bcba0",
   "metadata": {},
   "outputs": [],
   "source": [
    "import pandas as pd"
   ]
  },
  {
   "cell_type": "code",
   "execution_count": 51,
   "id": "7b8a5ce9",
   "metadata": {},
   "outputs": [
    {
     "data": {
      "text/plain": [
       "DatetimeIndex(['1999-03-18', '1999-03-19', '1999-03-20', '1999-03-21',\n",
       "               '1999-03-22', '1999-03-23', '1999-03-24', '1999-03-25',\n",
       "               '1999-03-26', '1999-03-27',\n",
       "               ...\n",
       "               '2021-02-19', '2021-02-20', '2021-02-21', '2021-02-22',\n",
       "               '2021-02-23', '2021-02-24', '2021-02-25', '2021-02-26',\n",
       "               '2021-02-27', '2021-02-28'],\n",
       "              dtype='datetime64[ns]', length=8019, freq='D')"
      ]
     },
     "execution_count": 51,
     "metadata": {},
     "output_type": "execute_result"
    }
   ],
   "source": [
    "pd.date_range('18.03.1999', '28.02.2021', freq='D')"
   ]
  },
  {
   "cell_type": "markdown",
   "id": "52031e14",
   "metadata": {},
   "source": [
    "### Задание 9\n",
    "\n",
    "Создайте набор дат с даты вашего рождения и до сегодняшнего дня с частотой в 1 день. При помощи функции len посчитайте длинну массива"
   ]
  },
  {
   "cell_type": "code",
   "execution_count": 52,
   "id": "b528ddfb",
   "metadata": {},
   "outputs": [
    {
     "data": {
      "text/plain": [
       "DatetimeIndex(['1996-07-26', '1996-07-27', '1996-07-28', '1996-07-29',\n",
       "               '1996-07-30', '1996-07-31', '1996-08-01', '1996-08-02',\n",
       "               '1996-08-03', '1996-08-04',\n",
       "               ...\n",
       "               '2024-10-24', '2024-10-25', '2024-10-26', '2024-10-27',\n",
       "               '2024-10-28', '2024-10-29', '2024-10-30', '2024-10-31',\n",
       "               '2024-11-01', '2024-11-02'],\n",
       "              dtype='datetime64[ns]', length=10327, freq='D')"
      ]
     },
     "execution_count": 52,
     "metadata": {},
     "output_type": "execute_result"
    }
   ],
   "source": [
    "import pandas as pd\n"
   ]
  },
  {
   "cell_type": "markdown",
   "id": "b721a6bb",
   "metadata": {},
   "source": [
    "### Задание 10\n",
    "\n",
    "Создайте набор дат с 18 марта 2009 года до 28 февраля 2021 года с частотой в 4 дня 19 часов"
   ]
  },
  {
   "cell_type": "code",
   "execution_count": 54,
   "id": "4d5d84e1",
   "metadata": {},
   "outputs": [
    {
     "data": {
      "text/plain": [
       "DatetimeIndex(['2009-03-18 00:00:00', '2009-03-22 19:00:00',\n",
       "               '2009-03-27 14:00:00', '2009-04-01 09:00:00',\n",
       "               '2009-04-06 04:00:00', '2009-04-10 23:00:00',\n",
       "               '2009-04-15 18:00:00', '2009-04-20 13:00:00',\n",
       "               '2009-04-25 08:00:00', '2009-04-30 03:00:00',\n",
       "               ...\n",
       "               '2021-01-11 07:00:00', '2021-01-16 02:00:00',\n",
       "               '2021-01-20 21:00:00', '2021-01-25 16:00:00',\n",
       "               '2021-01-30 11:00:00', '2021-02-04 06:00:00',\n",
       "               '2021-02-09 01:00:00', '2021-02-13 20:00:00',\n",
       "               '2021-02-18 15:00:00', '2021-02-23 10:00:00'],\n",
       "              dtype='datetime64[ns]', length=911, freq='115h')"
      ]
     },
     "execution_count": 54,
     "metadata": {},
     "output_type": "execute_result"
    }
   ],
   "source": [
    "import pandas as pd\n",
    "pd.date_range('18.03.2009', '28.02.2021', freq='4d 19h')"
   ]
  },
  {
   "cell_type": "markdown",
   "id": "a2b48c29",
   "metadata": {},
   "source": [
    "### Задание 11\n",
    "\n",
    "Создайте набор дат с 18 марта 2009 года до 18 февраля 2021 года с частотой в 1 месяц"
   ]
  },
  {
   "cell_type": "code",
   "execution_count": 61,
   "id": "fe97f1c1",
   "metadata": {},
   "outputs": [
    {
     "data": {
      "text/plain": [
       "DatetimeIndex(['2009-04-19', '2009-05-19', '2009-06-19', '2009-07-19',\n",
       "               '2009-08-19', '2009-09-19', '2009-10-19', '2009-11-19',\n",
       "               '2009-12-19', '2010-01-19',\n",
       "               ...\n",
       "               '2020-06-19', '2020-07-19', '2020-08-19', '2020-09-19',\n",
       "               '2020-10-19', '2020-11-19', '2020-12-19', '2021-01-19',\n",
       "               '2021-02-19', '2021-03-19'],\n",
       "              dtype='datetime64[ns]', length=144, freq=None)"
      ]
     },
     "execution_count": 61,
     "metadata": {},
     "output_type": "execute_result"
    }
   ],
   "source": [
    "import pandas as pd\n",
    "\n",
    "pd.date_range('18.03.2009','18.03.2021', freq='MS').shift(18, 'd')"
   ]
  },
  {
   "cell_type": "markdown",
   "id": "bce7f17a",
   "metadata": {},
   "source": [
    "### Задание 12\n",
    "\n",
    "Создайте 8 дат с частотой в 3 часа начиная от 9 часов утра 21 декабря 1999 года"
   ]
  },
  {
   "cell_type": "code",
   "execution_count": 63,
   "id": "ff496c23",
   "metadata": {},
   "outputs": [
    {
     "data": {
      "text/plain": [
       "DatetimeIndex(['1999-12-21 09:00:00', '1999-12-21 12:00:00',\n",
       "               '1999-12-21 15:00:00', '1999-12-21 18:00:00',\n",
       "               '1999-12-21 21:00:00', '1999-12-22 00:00:00',\n",
       "               '1999-12-22 03:00:00', '1999-12-22 06:00:00'],\n",
       "              dtype='datetime64[ns]', freq='3h')"
      ]
     },
     "execution_count": 63,
     "metadata": {},
     "output_type": "execute_result"
    }
   ],
   "source": [
    "import pandas as pd\n",
    "\n",
    "pd.date_range('21.12.1999', freq='3 h', periods=8).shift(9, 'h')"
   ]
  },
  {
   "cell_type": "code",
   "execution_count": null,
   "id": "00f61a09",
   "metadata": {},
   "outputs": [],
   "source": []
  }
 ],
 "metadata": {
  "kernelspec": {
   "display_name": "artemiy",
   "language": "python",
   "name": "python3"
  },
  "language_info": {
   "codemirror_mode": {
    "name": "ipython",
    "version": 3
   },
   "file_extension": ".py",
   "mimetype": "text/x-python",
   "name": "python",
   "nbconvert_exporter": "python",
   "pygments_lexer": "ipython3",
   "version": "3.11.10"
  }
 },
 "nbformat": 4,
 "nbformat_minor": 5
}
